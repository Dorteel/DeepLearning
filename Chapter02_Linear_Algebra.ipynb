{
  "nbformat": 4,
  "nbformat_minor": 0,
  "metadata": {
    "colab": {
      "name": "Chapter02_Linear_Algebra.ipynb",
      "provenance": [],
      "collapsed_sections": [],
      "toc_visible": true,
      "authorship_tag": "ABX9TyNtSYDhBBDE7STTUy8p1WVE",
      "include_colab_link": true
    },
    "kernelspec": {
      "name": "python3",
      "display_name": "Python 3"
    }
  },
  "cells": [
    {
      "cell_type": "markdown",
      "metadata": {
        "id": "view-in-github",
        "colab_type": "text"
      },
      "source": [
        "<a href=\"https://colab.research.google.com/github/tae898/DeepLearning/blob/master/Chapter02_Linear_Algebra.ipynb\" target=\"_parent\"><img src=\"https://colab.research.google.com/assets/colab-badge.svg\" alt=\"Open In Colab\"/></a>"
      ]
    },
    {
      "cell_type": "markdown",
      "metadata": {
        "id": "tTVRlcJ6ga-H",
        "colab_type": "text"
      },
      "source": [
        "# 2.1 Scalars, Vectors, Matrices and Tensors\n"
      ]
    },
    {
      "cell_type": "markdown",
      "metadata": {
        "id": "Rc_LviNiT8bJ",
        "colab_type": "text"
      },
      "source": [
        "numpy package has a lot of useful stuffs for linear algebra. "
      ]
    },
    {
      "cell_type": "code",
      "metadata": {
        "id": "FfYxqw6nK-XJ",
        "colab_type": "code",
        "colab": {}
      },
      "source": [
        "import numpy as np"
      ],
      "execution_count": null,
      "outputs": []
    },
    {
      "cell_type": "markdown",
      "metadata": {
        "id": "qZnpmO0wUFwZ",
        "colab_type": "text"
      },
      "source": [
        "A scalar is a single number."
      ]
    },
    {
      "cell_type": "code",
      "metadata": {
        "id": "pd_mo0-IbcfH",
        "colab_type": "code",
        "colab": {}
      },
      "source": [
        "x = 1"
      ],
      "execution_count": null,
      "outputs": []
    },
    {
      "cell_type": "code",
      "metadata": {
        "id": "EBSuq72jUOvH",
        "colab_type": "code",
        "colab": {
          "base_uri": "https://localhost:8080/",
          "height": 35
        },
        "outputId": "374747bf-fd76-43b8-e777-0804f1483a0f"
      },
      "source": [
        "x"
      ],
      "execution_count": null,
      "outputs": [
        {
          "output_type": "execute_result",
          "data": {
            "text/plain": [
              "1"
            ]
          },
          "metadata": {
            "tags": []
          },
          "execution_count": 3
        }
      ]
    },
    {
      "cell_type": "markdown",
      "metadata": {
        "id": "Q63v1daNUVAF",
        "colab_type": "text"
      },
      "source": [
        "A vector is an array of numbers. \n",
        "\n",
        "In Python, we can represent them as a list of numbers."
      ]
    },
    {
      "cell_type": "code",
      "metadata": {
        "id": "bnQpC0ekb8G2",
        "colab_type": "code",
        "colab": {}
      },
      "source": [
        "x = [1, 2, 3, 4, 5, 6, 7, 8]"
      ],
      "execution_count": null,
      "outputs": []
    },
    {
      "cell_type": "code",
      "metadata": {
        "id": "5WOq4lAwUjwz",
        "colab_type": "code",
        "colab": {
          "base_uri": "https://localhost:8080/",
          "height": 35
        },
        "outputId": "2c051b29-f34c-41ed-d189-f25794d36cec"
      },
      "source": [
        "x"
      ],
      "execution_count": null,
      "outputs": [
        {
          "output_type": "execute_result",
          "data": {
            "text/plain": [
              "[1, 2, 3, 4, 5, 6, 7, 8]"
            ]
          },
          "metadata": {
            "tags": []
          },
          "execution_count": 5
        }
      ]
    },
    {
      "cell_type": "markdown",
      "metadata": {
        "id": "3Mhx8wpLUlxG",
        "colab_type": "text"
      },
      "source": [
        "Its length (dimension) is the number of elements "
      ]
    },
    {
      "cell_type": "code",
      "metadata": {
        "id": "RuQvmbAmcZlI",
        "colab_type": "code",
        "colab": {
          "base_uri": "https://localhost:8080/",
          "height": 35
        },
        "outputId": "cba65958-56cd-473e-bf79-b2c4570614ba"
      },
      "source": [
        "len(x)"
      ],
      "execution_count": null,
      "outputs": [
        {
          "output_type": "execute_result",
          "data": {
            "text/plain": [
              "8"
            ]
          },
          "metadata": {
            "tags": []
          },
          "execution_count": 6
        }
      ]
    },
    {
      "cell_type": "markdown",
      "metadata": {
        "id": "dJnopEIiUsVb",
        "colab_type": "text"
      },
      "source": [
        "However in Python, it's more common and easier to represent a vector in a numpy array format."
      ]
    },
    {
      "cell_type": "code",
      "metadata": {
        "id": "1heeAQamUyZ8",
        "colab_type": "code",
        "colab": {}
      },
      "source": [
        "x = np.array([1, 2, 3, 4, 5, 6, 7, 8, 9])"
      ],
      "execution_count": null,
      "outputs": []
    },
    {
      "cell_type": "code",
      "metadata": {
        "id": "hCXmJigAchQf",
        "colab_type": "code",
        "colab": {
          "base_uri": "https://localhost:8080/",
          "height": 35
        },
        "outputId": "cb8f62e5-34f5-4d33-c993-28c7d6511b2f"
      },
      "source": [
        "x"
      ],
      "execution_count": null,
      "outputs": [
        {
          "output_type": "execute_result",
          "data": {
            "text/plain": [
              "array([1, 2, 3, 4, 5, 6, 7, 8, 9])"
            ]
          },
          "metadata": {
            "tags": []
          },
          "execution_count": 8
        }
      ]
    },
    {
      "cell_type": "markdown",
      "metadata": {
        "id": "72eKIraAU2Ph",
        "colab_type": "text"
      },
      "source": [
        "We can access its elements with square brackets. \n",
        "\n",
        "Note that Python uses zero-based indexing (i.e. its first element is at index 0, not 1)"
      ]
    },
    {
      "cell_type": "code",
      "metadata": {
        "id": "Qxa4BJAxdR3a",
        "colab_type": "code",
        "colab": {
          "base_uri": "https://localhost:8080/",
          "height": 35
        },
        "outputId": "efa3dfed-36bf-40d2-b11e-bde3e47633b3"
      },
      "source": [
        "x[4]"
      ],
      "execution_count": null,
      "outputs": [
        {
          "output_type": "execute_result",
          "data": {
            "text/plain": [
              "5"
            ]
          },
          "metadata": {
            "tags": []
          },
          "execution_count": 9
        }
      ]
    },
    {
      "cell_type": "markdown",
      "metadata": {
        "id": "LiV8jccMVDEV",
        "colab_type": "text"
      },
      "source": [
        "A matrix is a 2-D array of numbers. \n",
        "\n",
        "Below cell will create a matrix whose height is 3 and width is 4"
      ]
    },
    {
      "cell_type": "code",
      "metadata": {
        "id": "w_zljPridhW-",
        "colab_type": "code",
        "colab": {}
      },
      "source": [
        "X = np.array([[1, 2, 3, 4], [2, 3, 4, 5], [4, 3, 2, 1]])"
      ],
      "execution_count": null,
      "outputs": []
    },
    {
      "cell_type": "code",
      "metadata": {
        "id": "PQWk_YTmVKJz",
        "colab_type": "code",
        "colab": {
          "base_uri": "https://localhost:8080/",
          "height": 72
        },
        "outputId": "3188bfd9-c336-4d0c-e1c6-1bc0f72add76"
      },
      "source": [
        "X"
      ],
      "execution_count": null,
      "outputs": [
        {
          "output_type": "execute_result",
          "data": {
            "text/plain": [
              "array([[1, 2, 3, 4],\n",
              "       [2, 3, 4, 5],\n",
              "       [4, 3, 2, 1]])"
            ]
          },
          "metadata": {
            "tags": []
          },
          "execution_count": 11
        }
      ]
    },
    {
      "cell_type": "markdown",
      "metadata": {
        "id": "UO_H8X_EVOlZ",
        "colab_type": "text"
      },
      "source": [
        "We can check its height and width with its (numpy array) attribute called shape. We use the terms \"number of rows\" and \"number of columns\" interchangeably with height and width, respectively."
      ]
    },
    {
      "cell_type": "code",
      "metadata": {
        "id": "iEP4HFFVeQYh",
        "colab_type": "code",
        "colab": {
          "base_uri": "https://localhost:8080/",
          "height": 35
        },
        "outputId": "efc4d243-49e6-4aa2-d865-75c8c85b3b7f"
      },
      "source": [
        "X.shape"
      ],
      "execution_count": null,
      "outputs": [
        {
          "output_type": "execute_result",
          "data": {
            "text/plain": [
              "(3, 4)"
            ]
          },
          "metadata": {
            "tags": []
          },
          "execution_count": 12
        }
      ]
    },
    {
      "cell_type": "markdown",
      "metadata": {
        "id": "Yu7NCttuVtNw",
        "colab_type": "text"
      },
      "source": [
        "Indexing a matrix is similar to that of a vector. We index row first and then column. Below will access the element at 1st row and 2nd column. Keep in mind again that python uses zero-based indexing."
      ]
    },
    {
      "cell_type": "code",
      "metadata": {
        "id": "SunEAD6Ceufg",
        "colab_type": "code",
        "colab": {
          "base_uri": "https://localhost:8080/",
          "height": 35
        },
        "outputId": "4988fbfc-cdfa-44cf-8535-a112f7b4c4e9"
      },
      "source": [
        "X[1,2]"
      ],
      "execution_count": null,
      "outputs": [
        {
          "output_type": "execute_result",
          "data": {
            "text/plain": [
              "4"
            ]
          },
          "metadata": {
            "tags": []
          },
          "execution_count": 13
        }
      ]
    },
    {
      "cell_type": "markdown",
      "metadata": {
        "id": "Mo__mx_yWILX",
        "colab_type": "text"
      },
      "source": [
        "Using `:`, we can access row vectors and column vectors.\n",
        "\n",
        "Below cells will print the 1st row vector and its length"
      ]
    },
    {
      "cell_type": "code",
      "metadata": {
        "id": "zZ4Lp0x6fnOX",
        "colab_type": "code",
        "colab": {
          "base_uri": "https://localhost:8080/",
          "height": 35
        },
        "outputId": "b61a92a1-7214-43fd-db0a-909c84af43a5"
      },
      "source": [
        "X[1,:]"
      ],
      "execution_count": null,
      "outputs": [
        {
          "output_type": "execute_result",
          "data": {
            "text/plain": [
              "array([2, 3, 4, 5])"
            ]
          },
          "metadata": {
            "tags": []
          },
          "execution_count": 14
        }
      ]
    },
    {
      "cell_type": "code",
      "metadata": {
        "id": "ynDZ9WhTZ_Bi",
        "colab_type": "code",
        "colab": {
          "base_uri": "https://localhost:8080/",
          "height": 35
        },
        "outputId": "2e5cfc64-2a69-4456-b613-75cb532db298"
      },
      "source": [
        "len(X[1,:])"
      ],
      "execution_count": null,
      "outputs": [
        {
          "output_type": "execute_result",
          "data": {
            "text/plain": [
              "4"
            ]
          },
          "metadata": {
            "tags": []
          },
          "execution_count": 15
        }
      ]
    },
    {
      "cell_type": "markdown",
      "metadata": {
        "id": "aAcu93IwWwsP",
        "colab_type": "text"
      },
      "source": [
        "Below cells will print the 2nd column vector and its length"
      ]
    },
    {
      "cell_type": "code",
      "metadata": {
        "id": "t6wt8Bb-Wxob",
        "colab_type": "code",
        "colab": {
          "base_uri": "https://localhost:8080/",
          "height": 35
        },
        "outputId": "8f268be9-6a14-4706-a86a-68da3020bc76"
      },
      "source": [
        "X[:,2]"
      ],
      "execution_count": null,
      "outputs": [
        {
          "output_type": "execute_result",
          "data": {
            "text/plain": [
              "array([3, 4, 2])"
            ]
          },
          "metadata": {
            "tags": []
          },
          "execution_count": 16
        }
      ]
    },
    {
      "cell_type": "code",
      "metadata": {
        "id": "jO5nydMsaCD1",
        "colab_type": "code",
        "colab": {
          "base_uri": "https://localhost:8080/",
          "height": 35
        },
        "outputId": "529543f4-543f-4fe3-aad4-29438f9b7abd"
      },
      "source": [
        "len(X[:,2])"
      ],
      "execution_count": null,
      "outputs": [
        {
          "output_type": "execute_result",
          "data": {
            "text/plain": [
              "3"
            ]
          },
          "metadata": {
            "tags": []
          },
          "execution_count": 17
        }
      ]
    },
    {
      "cell_type": "markdown",
      "metadata": {
        "id": "vHNwcF3mWnit",
        "colab_type": "text"
      },
      "source": [
        "Tensors described in the book are simply just called multi-dimensional arrays. They can be created the same way as we create matrices.\n",
        "\n",
        "Below line will create a \"tensor\" with 3 axes (dimensions)."
      ]
    },
    {
      "cell_type": "code",
      "metadata": {
        "id": "U6GffeUsggy9",
        "colab_type": "code",
        "colab": {}
      },
      "source": [
        "X = np.array( [[[1, 2], [2, 3], [3, 4]],\n",
        "              [[-1, -2], [-2, 8], [-8, 5]]])"
      ],
      "execution_count": null,
      "outputs": []
    },
    {
      "cell_type": "code",
      "metadata": {
        "id": "5Kkus4pJXGQl",
        "colab_type": "code",
        "colab": {
          "base_uri": "https://localhost:8080/",
          "height": 145
        },
        "outputId": "daf16e7c-c015-4680-f1a4-74604a3a9158"
      },
      "source": [
        "X"
      ],
      "execution_count": null,
      "outputs": [
        {
          "output_type": "execute_result",
          "data": {
            "text/plain": [
              "array([[[ 1,  2],\n",
              "        [ 2,  3],\n",
              "        [ 3,  4]],\n",
              "\n",
              "       [[-1, -2],\n",
              "        [-2,  8],\n",
              "        [-8,  5]]])"
            ]
          },
          "metadata": {
            "tags": []
          },
          "execution_count": 19
        }
      ]
    },
    {
      "cell_type": "markdown",
      "metadata": {
        "id": "mTFqz8oTXYyg",
        "colab_type": "text"
      },
      "source": [
        "Take a guess what the below lines will print to the console."
      ]
    },
    {
      "cell_type": "code",
      "metadata": {
        "id": "m1jnqWeXXcL1",
        "colab_type": "code",
        "colab": {
          "base_uri": "https://localhost:8080/",
          "height": 35
        },
        "outputId": "5537db48-c8c0-45b0-9a97-7dc0afa776ff"
      },
      "source": [
        "X.shape"
      ],
      "execution_count": null,
      "outputs": [
        {
          "output_type": "execute_result",
          "data": {
            "text/plain": [
              "(2, 3, 2)"
            ]
          },
          "metadata": {
            "tags": []
          },
          "execution_count": 20
        }
      ]
    },
    {
      "cell_type": "code",
      "metadata": {
        "id": "EOGPb3hGXdaW",
        "colab_type": "code",
        "colab": {
          "base_uri": "https://localhost:8080/",
          "height": 35
        },
        "outputId": "2afacfc2-0887-491b-a667-a7d8ff198343"
      },
      "source": [
        "X[0, 0, 0]"
      ],
      "execution_count": null,
      "outputs": [
        {
          "output_type": "execute_result",
          "data": {
            "text/plain": [
              "1"
            ]
          },
          "metadata": {
            "tags": []
          },
          "execution_count": 21
        }
      ]
    },
    {
      "cell_type": "code",
      "metadata": {
        "id": "io6_mrsJXezP",
        "colab_type": "code",
        "colab": {
          "base_uri": "https://localhost:8080/",
          "height": 72
        },
        "outputId": "01b8bf0c-b643-4aef-ee4d-67c5729716b8"
      },
      "source": [
        "X[1, :, :]"
      ],
      "execution_count": null,
      "outputs": [
        {
          "output_type": "execute_result",
          "data": {
            "text/plain": [
              "array([[-1, -2],\n",
              "       [-2,  8],\n",
              "       [-8,  5]])"
            ]
          },
          "metadata": {
            "tags": []
          },
          "execution_count": 22
        }
      ]
    },
    {
      "cell_type": "markdown",
      "metadata": {
        "id": "4JARC0nJYqUL",
        "colab_type": "text"
      },
      "source": [
        "Let's create a simple 2D array again for an example."
      ]
    },
    {
      "cell_type": "code",
      "metadata": {
        "id": "TQQhUb7gYmj7",
        "colab_type": "code",
        "colab": {}
      },
      "source": [
        "X = np.array([[1, 2, 3, 4], \n",
        "              [2, 3, 4, 5], \n",
        "              [4, 3, 2, 1]])"
      ],
      "execution_count": null,
      "outputs": []
    },
    {
      "cell_type": "code",
      "metadata": {
        "id": "zPu-WRoVYu_N",
        "colab_type": "code",
        "colab": {
          "base_uri": "https://localhost:8080/",
          "height": 35
        },
        "outputId": "5b12bf9f-6f34-4156-d5b7-a7422d375220"
      },
      "source": [
        "X.shape"
      ],
      "execution_count": null,
      "outputs": [
        {
          "output_type": "execute_result",
          "data": {
            "text/plain": [
              "(3, 4)"
            ]
          },
          "metadata": {
            "tags": []
          },
          "execution_count": 24
        }
      ]
    },
    {
      "cell_type": "markdown",
      "metadata": {
        "id": "KHaGinjfYyyB",
        "colab_type": "text"
      },
      "source": [
        "Transpose of a matrix can be done by calling the numpy function `transpose()`"
      ]
    },
    {
      "cell_type": "code",
      "metadata": {
        "id": "1lMzeQp3Y6Z0",
        "colab_type": "code",
        "colab": {}
      },
      "source": [
        "X_transposed = np.transpose(X)"
      ],
      "execution_count": null,
      "outputs": []
    },
    {
      "cell_type": "code",
      "metadata": {
        "id": "qz4OsqDKY7Xn",
        "colab_type": "code",
        "colab": {
          "base_uri": "https://localhost:8080/",
          "height": 90
        },
        "outputId": "d50cf1c7-8cf6-427e-df5d-b80d8452d804"
      },
      "source": [
        "X_transposed"
      ],
      "execution_count": null,
      "outputs": [
        {
          "output_type": "execute_result",
          "data": {
            "text/plain": [
              "array([[1, 2, 4],\n",
              "       [2, 3, 3],\n",
              "       [3, 4, 2],\n",
              "       [4, 5, 1]])"
            ]
          },
          "metadata": {
            "tags": []
          },
          "execution_count": 26
        }
      ]
    },
    {
      "cell_type": "code",
      "metadata": {
        "id": "-2c-1qBgY90A",
        "colab_type": "code",
        "colab": {
          "base_uri": "https://localhost:8080/",
          "height": 35
        },
        "outputId": "f16e3804-ddeb-4b42-a562-78dddce4de2b"
      },
      "source": [
        "X_transposed.shape"
      ],
      "execution_count": null,
      "outputs": [
        {
          "output_type": "execute_result",
          "data": {
            "text/plain": [
              "(4, 3)"
            ]
          },
          "metadata": {
            "tags": []
          },
          "execution_count": 27
        }
      ]
    },
    {
      "cell_type": "markdown",
      "metadata": {
        "id": "wYTklacbZCFk",
        "colab_type": "text"
      },
      "source": [
        "But Python is a highly objective-oriented langauge. Its instantiated objects normally have many attributes and methods that are very handy. \n",
        "\n",
        "numpy objects have a lot of them too and one of them is `.T`. It gives you the transposed matrix."
      ]
    },
    {
      "cell_type": "code",
      "metadata": {
        "id": "k89WHx5PZK5w",
        "colab_type": "code",
        "colab": {}
      },
      "source": [
        "X_transposed = X.T"
      ],
      "execution_count": null,
      "outputs": []
    },
    {
      "cell_type": "code",
      "metadata": {
        "id": "hQ7Q9cFjZL90",
        "colab_type": "code",
        "colab": {
          "base_uri": "https://localhost:8080/",
          "height": 90
        },
        "outputId": "1f1a908b-6dfa-4580-9e73-cc5a181e584c"
      },
      "source": [
        "X_transposed"
      ],
      "execution_count": null,
      "outputs": [
        {
          "output_type": "execute_result",
          "data": {
            "text/plain": [
              "array([[1, 2, 4],\n",
              "       [2, 3, 3],\n",
              "       [3, 4, 2],\n",
              "       [4, 5, 1]])"
            ]
          },
          "metadata": {
            "tags": []
          },
          "execution_count": 29
        }
      ]
    },
    {
      "cell_type": "code",
      "metadata": {
        "id": "VY2brrE9ZQ_z",
        "colab_type": "code",
        "colab": {
          "base_uri": "https://localhost:8080/",
          "height": 35
        },
        "outputId": "7f800643-6225-48dc-870f-27e939c91902"
      },
      "source": [
        "X_transposed.shape"
      ],
      "execution_count": null,
      "outputs": [
        {
          "output_type": "execute_result",
          "data": {
            "text/plain": [
              "(4, 3)"
            ]
          },
          "metadata": {
            "tags": []
          },
          "execution_count": 30
        }
      ]
    },
    {
      "cell_type": "markdown",
      "metadata": {
        "id": "9gILIqHqZV7z",
        "colab_type": "text"
      },
      "source": [
        "When you create a numpy vector like below, the vector normally does't really have a shape. It's more like a list of numbers."
      ]
    },
    {
      "cell_type": "code",
      "metadata": {
        "id": "mCM_VsJCZZPE",
        "colab_type": "code",
        "colab": {}
      },
      "source": [
        "x = np.array([1,2,3])"
      ],
      "execution_count": null,
      "outputs": []
    },
    {
      "cell_type": "code",
      "metadata": {
        "id": "96B1x4WOZaN3",
        "colab_type": "code",
        "colab": {
          "base_uri": "https://localhost:8080/",
          "height": 35
        },
        "outputId": "20cb5896-4dbb-4e75-b90a-870c3d6ba120"
      },
      "source": [
        "x.shape"
      ],
      "execution_count": null,
      "outputs": [
        {
          "output_type": "execute_result",
          "data": {
            "text/plain": [
              "(3,)"
            ]
          },
          "metadata": {
            "tags": []
          },
          "execution_count": 32
        }
      ]
    },
    {
      "cell_type": "markdown",
      "metadata": {
        "id": "kDID87GVZhZ9",
        "colab_type": "text"
      },
      "source": [
        "We can use the numpy method `reshape()` to convert it to a row or a column vector."
      ]
    },
    {
      "cell_type": "code",
      "metadata": {
        "id": "mgl9DDzTZx9c",
        "colab_type": "code",
        "colab": {}
      },
      "source": [
        "x_row = np.array([1,2,3]).reshape(1,3)"
      ],
      "execution_count": null,
      "outputs": []
    },
    {
      "cell_type": "code",
      "metadata": {
        "id": "NZfzP3UYZzGD",
        "colab_type": "code",
        "colab": {
          "base_uri": "https://localhost:8080/",
          "height": 35
        },
        "outputId": "47871406-1c22-43d0-a334-43aafb4d15b3"
      },
      "source": [
        "x_row"
      ],
      "execution_count": null,
      "outputs": [
        {
          "output_type": "execute_result",
          "data": {
            "text/plain": [
              "array([[1, 2, 3]])"
            ]
          },
          "metadata": {
            "tags": []
          },
          "execution_count": 34
        }
      ]
    },
    {
      "cell_type": "code",
      "metadata": {
        "id": "vmhIFJdRZ0Zz",
        "colab_type": "code",
        "colab": {
          "base_uri": "https://localhost:8080/",
          "height": 35
        },
        "outputId": "013e18f9-074f-49a6-e75c-a30ff4dd6468"
      },
      "source": [
        "x_row.shape"
      ],
      "execution_count": null,
      "outputs": [
        {
          "output_type": "execute_result",
          "data": {
            "text/plain": [
              "(1, 3)"
            ]
          },
          "metadata": {
            "tags": []
          },
          "execution_count": 35
        }
      ]
    },
    {
      "cell_type": "code",
      "metadata": {
        "id": "7KkGn3KyZ3gG",
        "colab_type": "code",
        "colab": {}
      },
      "source": [
        "x_col = np.array([1,2,3]).reshape(3,1)"
      ],
      "execution_count": null,
      "outputs": []
    },
    {
      "cell_type": "code",
      "metadata": {
        "id": "LIDdSkABZ4br",
        "colab_type": "code",
        "colab": {
          "base_uri": "https://localhost:8080/",
          "height": 72
        },
        "outputId": "1d217a9e-e47f-4cc8-b0c9-077763e29f27"
      },
      "source": [
        "x_col"
      ],
      "execution_count": null,
      "outputs": [
        {
          "output_type": "execute_result",
          "data": {
            "text/plain": [
              "array([[1],\n",
              "       [2],\n",
              "       [3]])"
            ]
          },
          "metadata": {
            "tags": []
          },
          "execution_count": 37
        }
      ]
    },
    {
      "cell_type": "code",
      "metadata": {
        "id": "1KecKjuWZ5ow",
        "colab_type": "code",
        "colab": {
          "base_uri": "https://localhost:8080/",
          "height": 35
        },
        "outputId": "dfccbfd7-1103-49b1-95ae-d2ca02aa25d5"
      },
      "source": [
        "x_col.shape"
      ],
      "execution_count": null,
      "outputs": [
        {
          "output_type": "execute_result",
          "data": {
            "text/plain": [
              "(3, 1)"
            ]
          },
          "metadata": {
            "tags": []
          },
          "execution_count": 38
        }
      ]
    },
    {
      "cell_type": "markdown",
      "metadata": {
        "id": "4lY8U7osaKil",
        "colab_type": "text"
      },
      "source": [
        "`reshape()` also allows you to use -1, if you don't want to specify the dimension of that axis. It will figure out itself to find the length of that dimension. This is pretty handy."
      ]
    },
    {
      "cell_type": "code",
      "metadata": {
        "id": "4O1ngZO1aVvF",
        "colab_type": "code",
        "colab": {}
      },
      "source": [
        "x = np.array([1,2,3]).reshape(-1, 1)"
      ],
      "execution_count": null,
      "outputs": []
    },
    {
      "cell_type": "code",
      "metadata": {
        "id": "972h87lKaXpe",
        "colab_type": "code",
        "colab": {
          "base_uri": "https://localhost:8080/",
          "height": 72
        },
        "outputId": "622b4b0f-4c89-4d3e-e59d-8128048f4c8d"
      },
      "source": [
        "x"
      ],
      "execution_count": null,
      "outputs": [
        {
          "output_type": "execute_result",
          "data": {
            "text/plain": [
              "array([[1],\n",
              "       [2],\n",
              "       [3]])"
            ]
          },
          "metadata": {
            "tags": []
          },
          "execution_count": 40
        }
      ]
    },
    {
      "cell_type": "code",
      "metadata": {
        "id": "hwp0ua0maYl0",
        "colab_type": "code",
        "colab": {
          "base_uri": "https://localhost:8080/",
          "height": 35
        },
        "outputId": "5af0c14e-3ee7-45ec-982f-32615c496134"
      },
      "source": [
        "x.shape"
      ],
      "execution_count": null,
      "outputs": [
        {
          "output_type": "execute_result",
          "data": {
            "text/plain": [
              "(3, 1)"
            ]
          },
          "metadata": {
            "tags": []
          },
          "execution_count": 41
        }
      ]
    },
    {
      "cell_type": "markdown",
      "metadata": {
        "id": "yMFyIJclabwW",
        "colab_type": "text"
      },
      "source": [
        "Transposing a column vector will give you a row vector."
      ]
    },
    {
      "cell_type": "code",
      "metadata": {
        "id": "-3CJyXzqadYm",
        "colab_type": "code",
        "colab": {}
      },
      "source": [
        "x_transposed = x.T"
      ],
      "execution_count": null,
      "outputs": []
    },
    {
      "cell_type": "code",
      "metadata": {
        "id": "z4w8u9fzaea4",
        "colab_type": "code",
        "colab": {
          "base_uri": "https://localhost:8080/",
          "height": 35
        },
        "outputId": "5bbdd637-8877-4d19-9d01-65f5afa7cf2f"
      },
      "source": [
        "x_transposed"
      ],
      "execution_count": null,
      "outputs": [
        {
          "output_type": "execute_result",
          "data": {
            "text/plain": [
              "array([[1, 2, 3]])"
            ]
          },
          "metadata": {
            "tags": []
          },
          "execution_count": 43
        }
      ]
    },
    {
      "cell_type": "code",
      "metadata": {
        "id": "NwOvUCNcagS3",
        "colab_type": "code",
        "colab": {
          "base_uri": "https://localhost:8080/",
          "height": 35
        },
        "outputId": "04151756-da45-435b-f79e-8486a8226671"
      },
      "source": [
        "x_transposed.shape"
      ],
      "execution_count": null,
      "outputs": [
        {
          "output_type": "execute_result",
          "data": {
            "text/plain": [
              "(1, 3)"
            ]
          },
          "metadata": {
            "tags": []
          },
          "execution_count": 44
        }
      ]
    },
    {
      "cell_type": "markdown",
      "metadata": {
        "id": "tgSvDo_Sah21",
        "colab_type": "text"
      },
      "source": [
        "FYI, in mathematics, it's more common to use column vectors than row vectors.\n",
        "> In the mathematic books, you'll see things like $\\pmb{x} = [1, 2, 3]^T$, way more often than $\\pmb{x} = [1, 2, 3]$"
      ]
    },
    {
      "cell_type": "markdown",
      "metadata": {
        "id": "-QIPMVElbd5c",
        "colab_type": "text"
      },
      "source": [
        "In Python, matrix addition can be done easily with the plus arithmetic operator."
      ]
    },
    {
      "cell_type": "code",
      "metadata": {
        "id": "cj8ZqONSbiCb",
        "colab_type": "code",
        "colab": {
          "base_uri": "https://localhost:8080/",
          "height": 72
        },
        "outputId": "2dede033-4c2c-4e87-c42f-7217525bba06"
      },
      "source": [
        "A = np.array([[1, 2, 3, 4], [2, 3, 4, 5], [4, 3, 2, 1]])\n",
        "A"
      ],
      "execution_count": null,
      "outputs": [
        {
          "output_type": "execute_result",
          "data": {
            "text/plain": [
              "array([[1, 2, 3, 4],\n",
              "       [2, 3, 4, 5],\n",
              "       [4, 3, 2, 1]])"
            ]
          },
          "metadata": {
            "tags": []
          },
          "execution_count": 45
        }
      ]
    },
    {
      "cell_type": "code",
      "metadata": {
        "id": "l-AbKNk4bkeX",
        "colab_type": "code",
        "colab": {
          "base_uri": "https://localhost:8080/",
          "height": 72
        },
        "outputId": "53aefce5-7275-4c02-dec1-10f35b28e0af"
      },
      "source": [
        "B = np.array([[-1, 2, 3, -4], [3, 3, 2, -5], [-1, -3, -2, -3]])\n",
        "B"
      ],
      "execution_count": null,
      "outputs": [
        {
          "output_type": "execute_result",
          "data": {
            "text/plain": [
              "array([[-1,  2,  3, -4],\n",
              "       [ 3,  3,  2, -5],\n",
              "       [-1, -3, -2, -3]])"
            ]
          },
          "metadata": {
            "tags": []
          },
          "execution_count": 46
        }
      ]
    },
    {
      "cell_type": "code",
      "metadata": {
        "id": "m0FbEdXZbnNG",
        "colab_type": "code",
        "colab": {
          "base_uri": "https://localhost:8080/",
          "height": 72
        },
        "outputId": "9494d7fe-6d90-4119-972d-d6c9a4db6597"
      },
      "source": [
        "C = A + B\n",
        "C"
      ],
      "execution_count": null,
      "outputs": [
        {
          "output_type": "execute_result",
          "data": {
            "text/plain": [
              "array([[ 0,  4,  6,  0],\n",
              "       [ 5,  6,  6,  0],\n",
              "       [ 3,  0,  0, -2]])"
            ]
          },
          "metadata": {
            "tags": []
          },
          "execution_count": 47
        }
      ]
    },
    {
      "cell_type": "markdown",
      "metadata": {
        "id": "6YGKxfoobz4-",
        "colab_type": "text"
      },
      "source": [
        "Obviously matrix addition only works when the two matrices are of the same shape. Otherwise Python interpretor will throw you an error!"
      ]
    },
    {
      "cell_type": "code",
      "metadata": {
        "id": "hqEU2iQAQxXJ",
        "colab_type": "code",
        "colab": {
          "base_uri": "https://localhost:8080/",
          "height": 209
        },
        "outputId": "51bb644a-7c7b-4a2c-9024-4cc3fa20a0bd"
      },
      "source": [
        "A = np.array([[1, 2, 3, 4], \n",
        "              [2, 3, 4, 5], \n",
        "              [4, 3, 2, 1]])\n",
        "\n",
        "B = np.array([[-1, 2, 3, -4], \n",
        "              [3, 3, 2, -5], \n",
        "              [-1, -3, -2, -3]])\n",
        "\n",
        "B_transposed = B.T\n",
        "C = A + B_transposed"
      ],
      "execution_count": null,
      "outputs": [
        {
          "output_type": "error",
          "ename": "ValueError",
          "evalue": "ignored",
          "traceback": [
            "\u001b[0;31m---------------------------------------------------------------------------\u001b[0m",
            "\u001b[0;31mValueError\u001b[0m                                Traceback (most recent call last)",
            "\u001b[0;32m<ipython-input-48-bc0ee6319e5c>\u001b[0m in \u001b[0;36m<module>\u001b[0;34m()\u001b[0m\n\u001b[1;32m      8\u001b[0m \u001b[0;34m\u001b[0m\u001b[0m\n\u001b[1;32m      9\u001b[0m \u001b[0mB_transposed\u001b[0m \u001b[0;34m=\u001b[0m \u001b[0mB\u001b[0m\u001b[0;34m.\u001b[0m\u001b[0mT\u001b[0m\u001b[0;34m\u001b[0m\u001b[0;34m\u001b[0m\u001b[0m\n\u001b[0;32m---> 10\u001b[0;31m \u001b[0mC\u001b[0m \u001b[0;34m=\u001b[0m \u001b[0mA\u001b[0m \u001b[0;34m+\u001b[0m \u001b[0mB_transposed\u001b[0m\u001b[0;34m\u001b[0m\u001b[0;34m\u001b[0m\u001b[0m\n\u001b[0m",
            "\u001b[0;31mValueError\u001b[0m: operands could not be broadcast together with shapes (3,4) (4,3) "
          ]
        }
      ]
    },
    {
      "cell_type": "markdown",
      "metadata": {
        "id": "Qw5DMfGLb8mW",
        "colab_type": "text"
      },
      "source": [
        "Adding a scalar to a matrix or multiply a matrix by a scalar is done in a very straightforward way in Python."
      ]
    },
    {
      "cell_type": "code",
      "metadata": {
        "id": "geoKbeKMcA4s",
        "colab_type": "code",
        "colab": {}
      },
      "source": [
        "a = 2\n",
        "B = np.array([[-1, 2, 3, -4], [3, 3, 2, -5], [-1, -3, -2, -3]])\n",
        "c = -1\n",
        "# The addition of c will be broadcasted.\n",
        "D = a*B + c"
      ],
      "execution_count": null,
      "outputs": []
    },
    {
      "cell_type": "code",
      "metadata": {
        "id": "BdShIrggcDZs",
        "colab_type": "code",
        "colab": {}
      },
      "source": [
        "D"
      ],
      "execution_count": null,
      "outputs": []
    },
    {
      "cell_type": "markdown",
      "metadata": {
        "id": "b30FL_eAcr-C",
        "colab_type": "text"
      },
      "source": [
        "Broadcasting in Python is very straightforward as well. The only thing you have to worry about is if the shapes match or not."
      ]
    },
    {
      "cell_type": "code",
      "metadata": {
        "id": "UMht5IF9cv6y",
        "colab_type": "code",
        "colab": {}
      },
      "source": [
        "A = np.array([[1, 2, 3, 4], [2, 3, 4, 5], [4, 3, 2, 1]])\n",
        "A"
      ],
      "execution_count": null,
      "outputs": []
    },
    {
      "cell_type": "code",
      "metadata": {
        "id": "mhRHVnvUcytd",
        "colab_type": "code",
        "colab": {}
      },
      "source": [
        "# row vector\n",
        "row = np.array([4, 3, 2, 1]).reshape(1, -1)\n",
        "row"
      ],
      "execution_count": null,
      "outputs": []
    },
    {
      "cell_type": "code",
      "metadata": {
        "id": "kJvAEt9dc2ye",
        "colab_type": "code",
        "colab": {}
      },
      "source": [
        "# column vector\n",
        "col = np.array([4, 3, 2]).reshape(-1, 1)\n",
        "col"
      ],
      "execution_count": null,
      "outputs": []
    },
    {
      "cell_type": "code",
      "metadata": {
        "id": "IbAGsHIdc_EM",
        "colab_type": "code",
        "colab": {}
      },
      "source": [
        "C = A + row\n",
        "C"
      ],
      "execution_count": null,
      "outputs": []
    },
    {
      "cell_type": "code",
      "metadata": {
        "id": "uVMxU0PJSTNp",
        "colab_type": "code",
        "colab": {}
      },
      "source": [
        "C = A + col\n",
        "C"
      ],
      "execution_count": null,
      "outputs": []
    },
    {
      "cell_type": "markdown",
      "metadata": {
        "id": "j0_R2G2QXbEd",
        "colab_type": "text"
      },
      "source": [
        "# 2.2 Multiplying Matrices and Vectors"
      ]
    },
    {
      "cell_type": "code",
      "metadata": {
        "id": "bRzR4jvkLjSx",
        "colab_type": "code",
        "colab": {}
      },
      "source": [
        "import numpy as np"
      ],
      "execution_count": null,
      "outputs": []
    },
    {
      "cell_type": "markdown",
      "metadata": {
        "id": "2UotQZJqdGT1",
        "colab_type": "text"
      },
      "source": [
        "The matrix product of two matrices can be done using the arithmetic operator\n",
        "`@` (from python 3.5). You can also use the numpy function such as `np.matmul()` or `np.dot()`"
      ]
    },
    {
      "cell_type": "code",
      "metadata": {
        "id": "b8z7tTdrdUve",
        "colab_type": "code",
        "colab": {}
      },
      "source": [
        "A = np.array([[1, 2, 3, 4], [2, 3, 4, 5], [4, 3, 2, 1]])\n",
        "A"
      ],
      "execution_count": null,
      "outputs": []
    },
    {
      "cell_type": "code",
      "metadata": {
        "id": "MnZwnzfMdWi8",
        "colab_type": "code",
        "colab": {}
      },
      "source": [
        "B = np.array([[-1, 2, 3, -4], [3, 3, 2, -5], [-1, -3, -2, -3]]).T\n",
        "B"
      ],
      "execution_count": null,
      "outputs": []
    },
    {
      "cell_type": "code",
      "metadata": {
        "id": "pARur53idZlZ",
        "colab_type": "code",
        "colab": {
          "base_uri": "https://localhost:8080/",
          "height": 173
        },
        "outputId": "cfc4dae3-7da9-4d11-9747-e55c73e777cf"
      },
      "source": [
        "A @ B"
      ],
      "execution_count": null,
      "outputs": [
        {
          "output_type": "error",
          "ename": "ValueError",
          "evalue": "ignored",
          "traceback": [
            "\u001b[0;31m---------------------------------------------------------------------------\u001b[0m",
            "\u001b[0;31mValueError\u001b[0m                                Traceback (most recent call last)",
            "\u001b[0;32m<ipython-input-49-455d622f3b50>\u001b[0m in \u001b[0;36m<module>\u001b[0;34m()\u001b[0m\n\u001b[0;32m----> 1\u001b[0;31m \u001b[0mA\u001b[0m \u001b[0;34m@\u001b[0m \u001b[0mB\u001b[0m\u001b[0;34m\u001b[0m\u001b[0;34m\u001b[0m\u001b[0m\n\u001b[0m",
            "\u001b[0;31mValueError\u001b[0m: matmul: Input operand 1 has a mismatch in its core dimension 0, with gufunc signature (n?,k),(k,m?)->(n?,m?) (size 3 is different from 4)"
          ]
        }
      ]
    },
    {
      "cell_type": "code",
      "metadata": {
        "id": "R9AiFBH3dm2p",
        "colab_type": "code",
        "colab": {}
      },
      "source": [
        "np.matmul(A, B)"
      ],
      "execution_count": null,
      "outputs": []
    },
    {
      "cell_type": "code",
      "metadata": {
        "id": "Pne_-UH9dpJM",
        "colab_type": "code",
        "colab": {}
      },
      "source": [
        "np.dot(A, B)"
      ],
      "execution_count": null,
      "outputs": []
    },
    {
      "cell_type": "markdown",
      "metadata": {
        "id": "G9rQqaQcduwq",
        "colab_type": "text"
      },
      "source": [
        "The element-wise product of two matrices can be done using the arithmetic operator `*`. You can also use the numpy function such as `np.multiply()`"
      ]
    },
    {
      "cell_type": "code",
      "metadata": {
        "id": "gIJL7SEGd2IU",
        "colab_type": "code",
        "colab": {}
      },
      "source": [
        "A = np.array([[1, 2, 3, 4], [2, 3, 4, 5], [4, 3, 2, 1]])\n",
        "A"
      ],
      "execution_count": null,
      "outputs": []
    },
    {
      "cell_type": "code",
      "metadata": {
        "id": "3k5Tjbdjd3Ga",
        "colab_type": "code",
        "colab": {}
      },
      "source": [
        "B = np.array([[-1, 2, 3, -4], [3, 3, 2, -5], [-1, -3, -2, -3]])\n",
        "B"
      ],
      "execution_count": null,
      "outputs": []
    },
    {
      "cell_type": "code",
      "metadata": {
        "id": "Ah_exPzRd5K3",
        "colab_type": "code",
        "colab": {
          "base_uri": "https://localhost:8080/",
          "height": 72
        },
        "outputId": "10bdb2b2-7a06-47cb-9b29-105a772f4c03"
      },
      "source": [
        "A * B"
      ],
      "execution_count": null,
      "outputs": [
        {
          "output_type": "execute_result",
          "data": {
            "text/plain": [
              "array([[ -1,   4,   9, -16],\n",
              "       [  6,   9,   8, -25],\n",
              "       [ -4,  -9,  -4,  -3]])"
            ]
          },
          "metadata": {
            "tags": []
          },
          "execution_count": 50
        }
      ]
    },
    {
      "cell_type": "code",
      "metadata": {
        "id": "PQJADopNeC3j",
        "colab_type": "code",
        "colab": {
          "base_uri": "https://localhost:8080/",
          "height": 72
        },
        "outputId": "f27557c8-7133-4c20-d98f-192affe63351"
      },
      "source": [
        "np.multiply(A, B)"
      ],
      "execution_count": null,
      "outputs": [
        {
          "output_type": "execute_result",
          "data": {
            "text/plain": [
              "array([[ -1,   4,   9, -16],\n",
              "       [  6,   9,   8, -25],\n",
              "       [ -4,  -9,  -4,  -3]])"
            ]
          },
          "metadata": {
            "tags": []
          },
          "execution_count": 51
        }
      ]
    },
    {
      "cell_type": "markdown",
      "metadata": {
        "id": "ASy2GavLeIs8",
        "colab_type": "text"
      },
      "source": [
        "Each of the below cells create a 3 by 3 matrix with random values."
      ]
    },
    {
      "cell_type": "code",
      "metadata": {
        "id": "x4kPG2ayeZk7",
        "colab_type": "code",
        "colab": {
          "base_uri": "https://localhost:8080/",
          "height": 72
        },
        "outputId": "84ed8911-7d0f-41c4-f273-27c0d9121112"
      },
      "source": [
        "A = np.random.randint(low=0, high=10, size=(3, 3))\n",
        "A"
      ],
      "execution_count": null,
      "outputs": [
        {
          "output_type": "execute_result",
          "data": {
            "text/plain": [
              "array([[8, 7, 6],\n",
              "       [2, 1, 9],\n",
              "       [0, 9, 0]])"
            ]
          },
          "metadata": {
            "tags": []
          },
          "execution_count": 52
        }
      ]
    },
    {
      "cell_type": "code",
      "metadata": {
        "id": "4aCtcOIfeahV",
        "colab_type": "code",
        "colab": {
          "base_uri": "https://localhost:8080/",
          "height": 72
        },
        "outputId": "117e965a-985d-4fff-9892-12f2f7200c96"
      },
      "source": [
        "B = np.random.randint(low=0, high=10, size=(3, 3))\n",
        "B"
      ],
      "execution_count": null,
      "outputs": [
        {
          "output_type": "execute_result",
          "data": {
            "text/plain": [
              "array([[7, 4, 2],\n",
              "       [2, 6, 7],\n",
              "       [7, 6, 1]])"
            ]
          },
          "metadata": {
            "tags": []
          },
          "execution_count": 53
        }
      ]
    },
    {
      "cell_type": "code",
      "metadata": {
        "id": "XxLINXyneNZx",
        "colab_type": "code",
        "colab": {
          "base_uri": "https://localhost:8080/",
          "height": 72
        },
        "outputId": "cd60f2e2-669b-4d9d-d3e4-5533a65c3249"
      },
      "source": [
        "C = np.random.randint(low=0, high=10, size=(3, 3))\n",
        "C"
      ],
      "execution_count": null,
      "outputs": [
        {
          "output_type": "execute_result",
          "data": {
            "text/plain": [
              "array([[2, 1, 1],\n",
              "       [8, 6, 3],\n",
              "       [2, 0, 7]])"
            ]
          },
          "metadata": {
            "tags": []
          },
          "execution_count": 54
        }
      ]
    },
    {
      "cell_type": "markdown",
      "metadata": {
        "id": "0Yw7-EnTejYh",
        "colab_type": "text"
      },
      "source": [
        "Matrix multiplication is distributive"
      ]
    },
    {
      "cell_type": "code",
      "metadata": {
        "id": "yuT2oYWcemuX",
        "colab_type": "code",
        "colab": {
          "base_uri": "https://localhost:8080/",
          "height": 72
        },
        "outputId": "0552664c-8c74-4c8b-c7b4-f5782b0d8930"
      },
      "source": [
        "A@(B+C)"
      ],
      "execution_count": null,
      "outputs": [
        {
          "output_type": "execute_result",
          "data": {
            "text/plain": [
              "array([[196, 160, 142],\n",
              "       [109,  76,  88],\n",
              "       [ 90, 108,  90]])"
            ]
          },
          "metadata": {
            "tags": []
          },
          "execution_count": 55
        }
      ]
    },
    {
      "cell_type": "code",
      "metadata": {
        "id": "J-Tj0jzceo20",
        "colab_type": "code",
        "colab": {
          "base_uri": "https://localhost:8080/",
          "height": 72
        },
        "outputId": "25e8b8ee-e4b3-4823-94a3-f6b7d97bbd09"
      },
      "source": [
        "A@B + A@C"
      ],
      "execution_count": null,
      "outputs": [
        {
          "output_type": "execute_result",
          "data": {
            "text/plain": [
              "array([[196, 160, 142],\n",
              "       [109,  76,  88],\n",
              "       [ 90, 108,  90]])"
            ]
          },
          "metadata": {
            "tags": []
          },
          "execution_count": 56
        }
      ]
    },
    {
      "cell_type": "markdown",
      "metadata": {
        "id": "VTIHmdW9eyI9",
        "colab_type": "text"
      },
      "source": [
        "Matrix multiplication is associative"
      ]
    },
    {
      "cell_type": "code",
      "metadata": {
        "id": "8r3vCUdee1kT",
        "colab_type": "code",
        "colab": {
          "base_uri": "https://localhost:8080/",
          "height": 72
        },
        "outputId": "cdcb2310-7d2c-457b-e16b-82e4ead44eb4"
      },
      "source": [
        "A@(B@C)"
      ],
      "execution_count": null,
      "outputs": [
        {
          "output_type": "execute_result",
          "data": {
            "text/plain": [
              "array([[1246,  772,  939],\n",
              "       [ 742,  487,  423],\n",
              "       [ 594,  342,  621]])"
            ]
          },
          "metadata": {
            "tags": []
          },
          "execution_count": 57
        }
      ]
    },
    {
      "cell_type": "code",
      "metadata": {
        "id": "ZNOV3hrme33E",
        "colab_type": "code",
        "colab": {
          "base_uri": "https://localhost:8080/",
          "height": 72
        },
        "outputId": "258d8afd-efee-43d4-ab4f-3fdd5c8171c5"
      },
      "source": [
        "(A@B)@C"
      ],
      "execution_count": null,
      "outputs": [
        {
          "output_type": "execute_result",
          "data": {
            "text/plain": [
              "array([[1246,  772,  939],\n",
              "       [ 742,  487,  423],\n",
              "       [ 594,  342,  621]])"
            ]
          },
          "metadata": {
            "tags": []
          },
          "execution_count": 58
        }
      ]
    },
    {
      "cell_type": "markdown",
      "metadata": {
        "id": "o9W7yVtMe6OQ",
        "colab_type": "text"
      },
      "source": [
        "Matrix multiplication is **not** commutative"
      ]
    },
    {
      "cell_type": "code",
      "metadata": {
        "id": "c5vyleCZe-MQ",
        "colab_type": "code",
        "colab": {
          "base_uri": "https://localhost:8080/",
          "height": 72
        },
        "outputId": "058e3362-ecd4-4e9b-e420-6cd2443cc495"
      },
      "source": [
        "A@B"
      ],
      "execution_count": null,
      "outputs": [
        {
          "output_type": "execute_result",
          "data": {
            "text/plain": [
              "array([[112, 110,  71],\n",
              "       [ 79,  68,  20],\n",
              "       [ 18,  54,  63]])"
            ]
          },
          "metadata": {
            "tags": []
          },
          "execution_count": 59
        }
      ]
    },
    {
      "cell_type": "code",
      "metadata": {
        "id": "oJqUp2X8e_vS",
        "colab_type": "code",
        "colab": {
          "base_uri": "https://localhost:8080/",
          "height": 72
        },
        "outputId": "d93a9d02-b43b-4e07-dc26-6ce16fd3ecd8"
      },
      "source": [
        "B@A"
      ],
      "execution_count": null,
      "outputs": [
        {
          "output_type": "execute_result",
          "data": {
            "text/plain": [
              "array([[64, 71, 78],\n",
              "       [28, 83, 66],\n",
              "       [68, 64, 96]])"
            ]
          },
          "metadata": {
            "tags": []
          },
          "execution_count": 60
        }
      ]
    },
    {
      "cell_type": "markdown",
      "metadata": {
        "id": "y-L8Mh-JfCyJ",
        "colab_type": "text"
      },
      "source": [
        "The transpose of a matrix product has a simple form"
      ]
    },
    {
      "cell_type": "code",
      "metadata": {
        "id": "ASs2Kwo2fLff",
        "colab_type": "code",
        "colab": {
          "base_uri": "https://localhost:8080/",
          "height": 72
        },
        "outputId": "ae33a0f1-f32e-45f2-ff78-e907834c339c"
      },
      "source": [
        "(A@B).T"
      ],
      "execution_count": null,
      "outputs": [
        {
          "output_type": "execute_result",
          "data": {
            "text/plain": [
              "array([[112,  79,  18],\n",
              "       [110,  68,  54],\n",
              "       [ 71,  20,  63]])"
            ]
          },
          "metadata": {
            "tags": []
          },
          "execution_count": 61
        }
      ]
    },
    {
      "cell_type": "code",
      "metadata": {
        "id": "Oq3cx70NfOc4",
        "colab_type": "code",
        "colab": {
          "base_uri": "https://localhost:8080/",
          "height": 72
        },
        "outputId": "faa8cffb-ea25-420f-c958-fe3274065827"
      },
      "source": [
        "(B.T)@(A.T)"
      ],
      "execution_count": null,
      "outputs": [
        {
          "output_type": "execute_result",
          "data": {
            "text/plain": [
              "array([[112,  79,  18],\n",
              "       [110,  68,  54],\n",
              "       [ 71,  20,  63]])"
            ]
          },
          "metadata": {
            "tags": []
          },
          "execution_count": 62
        }
      ]
    },
    {
      "cell_type": "markdown",
      "metadata": {
        "id": "dSLtU1A9fTbU",
        "colab_type": "text"
      },
      "source": [
        "numpy is very powerful. It can also solve the system of linear equations quite easily.\n",
        "\n",
        "Below code is from [scipy](https://docs.scipy.org/doc/numpy/reference/generated/numpy.linalg.solve.html) "
      ]
    },
    {
      "cell_type": "markdown",
      "metadata": {
        "id": "MCjTlyOZfh2E",
        "colab_type": "text"
      },
      "source": [
        "Solve the following system of equations\n",
        "\n",
        "> $\\begin{pmatrix}3 & 1 \\\\ 1 & 2\\end{pmatrix} \n",
        "\\begin{pmatrix}x_1 \\\\ x_2\\end{pmatrix} \n",
        "= \\begin{pmatrix}9 \\\\ 8\\end{pmatrix}$"
      ]
    },
    {
      "cell_type": "code",
      "metadata": {
        "id": "7v0zbK0Df-hi",
        "colab_type": "code",
        "colab": {
          "base_uri": "https://localhost:8080/",
          "height": 35
        },
        "outputId": "d4d6453e-bf94-46a9-edf4-0cfa15790ab3"
      },
      "source": [
        "A = np.array([[3,1], [1,2]])\n",
        "b = np.array([9,8])\n",
        "x = np.linalg.solve(A, b)\n",
        "x"
      ],
      "execution_count": null,
      "outputs": [
        {
          "output_type": "execute_result",
          "data": {
            "text/plain": [
              "array([2., 3.])"
            ]
          },
          "metadata": {
            "tags": []
          },
          "execution_count": 63
        }
      ]
    },
    {
      "cell_type": "markdown",
      "metadata": {
        "id": "vpoFsoQu4Of2",
        "colab_type": "text"
      },
      "source": [
        "# 2.3 Identity and Inverse Matrices\n"
      ]
    },
    {
      "cell_type": "code",
      "metadata": {
        "id": "aOEarG2A4QQG",
        "colab_type": "code",
        "colab": {}
      },
      "source": [
        "import numpy as np"
      ],
      "execution_count": null,
      "outputs": []
    },
    {
      "cell_type": "markdown",
      "metadata": {
        "id": "Jgj_lo0in8n1",
        "colab_type": "text"
      },
      "source": [
        "numpy has the funciton `identity()` to make identity matrices. Its usage is very straightforward"
      ]
    },
    {
      "cell_type": "code",
      "metadata": {
        "id": "LqqJcG8poBPU",
        "colab_type": "code",
        "colab": {
          "base_uri": "https://localhost:8080/",
          "height": 72
        },
        "outputId": "06036bfc-eb44-4712-a550-a66c07542d3b"
      },
      "source": [
        "I3 = np.identity(3)\n",
        "I3"
      ],
      "execution_count": null,
      "outputs": [
        {
          "output_type": "execute_result",
          "data": {
            "text/plain": [
              "array([[1., 0., 0.],\n",
              "       [0., 1., 0.],\n",
              "       [0., 0., 1.]])"
            ]
          },
          "metadata": {
            "tags": []
          },
          "execution_count": 65
        }
      ]
    },
    {
      "cell_type": "code",
      "metadata": {
        "id": "qJL02JrNoC0j",
        "colab_type": "code",
        "colab": {
          "base_uri": "https://localhost:8080/",
          "height": 108
        },
        "outputId": "ac08607b-9dc1-484a-a1e0-2426e8d6d225"
      },
      "source": [
        "I5 = np.identity(5)\n",
        "I5"
      ],
      "execution_count": null,
      "outputs": [
        {
          "output_type": "execute_result",
          "data": {
            "text/plain": [
              "array([[1., 0., 0., 0., 0.],\n",
              "       [0., 1., 0., 0., 0.],\n",
              "       [0., 0., 1., 0., 0.],\n",
              "       [0., 0., 0., 1., 0.],\n",
              "       [0., 0., 0., 0., 1.]])"
            ]
          },
          "metadata": {
            "tags": []
          },
          "execution_count": 66
        }
      ]
    },
    {
      "cell_type": "markdown",
      "metadata": {
        "id": "2s23rYtioFuH",
        "colab_type": "text"
      },
      "source": [
        "Multiplying an identity matrix with a vector will result in the same vector. Of course the number of columns of the identity matrix has to be the same as that of the elements in the vector."
      ]
    },
    {
      "cell_type": "code",
      "metadata": {
        "id": "UGEzxn8goPNj",
        "colab_type": "code",
        "colab": {
          "base_uri": "https://localhost:8080/",
          "height": 72
        },
        "outputId": "cd6e4b49-16df-4143-8c75-95fa1e6d73c7"
      },
      "source": [
        "x = np.random.randint(low=0, high=10, size=(3, 1))\n",
        "x"
      ],
      "execution_count": null,
      "outputs": [
        {
          "output_type": "execute_result",
          "data": {
            "text/plain": [
              "array([[5],\n",
              "       [6],\n",
              "       [6]])"
            ]
          },
          "metadata": {
            "tags": []
          },
          "execution_count": 67
        }
      ]
    },
    {
      "cell_type": "code",
      "metadata": {
        "id": "yQCcEAhmoVX0",
        "colab_type": "code",
        "colab": {
          "base_uri": "https://localhost:8080/",
          "height": 72
        },
        "outputId": "ecf5914e-d2bc-4a40-a845-a6843e392f71"
      },
      "source": [
        "I3@x"
      ],
      "execution_count": null,
      "outputs": [
        {
          "output_type": "execute_result",
          "data": {
            "text/plain": [
              "array([[5.],\n",
              "       [6.],\n",
              "       [6.]])"
            ]
          },
          "metadata": {
            "tags": []
          },
          "execution_count": 68
        }
      ]
    },
    {
      "cell_type": "markdown",
      "metadata": {
        "id": "rCWPalgsoaNv",
        "colab_type": "text"
      },
      "source": [
        "As said in the book, obtaining an inverse matrix is not always easy. I'll take a toy example here, where the the shape of the matrix is 2 by 2."
      ]
    },
    {
      "cell_type": "code",
      "metadata": {
        "id": "eRF6xa5FodtC",
        "colab_type": "code",
        "colab": {}
      },
      "source": [
        "A = np.array([[3,1], \n",
        "              [1,2]])"
      ],
      "execution_count": null,
      "outputs": []
    },
    {
      "cell_type": "markdown",
      "metadata": {
        "id": "XMDyadXMog5d",
        "colab_type": "text"
      },
      "source": [
        "We can use the below function to get the inverse matrix of $\\pmb{A}$. The shape of the inverse matrix has to be the same as the original matrix."
      ]
    },
    {
      "cell_type": "code",
      "metadata": {
        "id": "R-99h2-Jolwi",
        "colab_type": "code",
        "colab": {
          "base_uri": "https://localhost:8080/",
          "height": 54
        },
        "outputId": "32de9a98-3947-4376-dd81-dc60e95b9c0c"
      },
      "source": [
        "A_inv = np.linalg.inv(A)\n",
        "A_inv"
      ],
      "execution_count": null,
      "outputs": [
        {
          "output_type": "execute_result",
          "data": {
            "text/plain": [
              "array([[ 0.4, -0.2],\n",
              "       [-0.2,  0.6]])"
            ]
          },
          "metadata": {
            "tags": []
          },
          "execution_count": 70
        }
      ]
    },
    {
      "cell_type": "markdown",
      "metadata": {
        "id": "higkpWuRoqwo",
        "colab_type": "text"
      },
      "source": [
        "A matrix multipled with its inverse matrix will give you an identitiy matrix In this special case, the matrix multiplication is actually commutative!"
      ]
    },
    {
      "cell_type": "code",
      "metadata": {
        "id": "L1uhDcZfouiG",
        "colab_type": "code",
        "colab": {
          "base_uri": "https://localhost:8080/",
          "height": 54
        },
        "outputId": "9c9044ab-9602-42fe-b934-ed807f426d05"
      },
      "source": [
        "A @ A_inv"
      ],
      "execution_count": null,
      "outputs": [
        {
          "output_type": "execute_result",
          "data": {
            "text/plain": [
              "array([[1., 0.],\n",
              "       [0., 1.]])"
            ]
          },
          "metadata": {
            "tags": []
          },
          "execution_count": 71
        }
      ]
    },
    {
      "cell_type": "code",
      "metadata": {
        "id": "gk3xWzdMoyAx",
        "colab_type": "code",
        "colab": {
          "base_uri": "https://localhost:8080/",
          "height": 54
        },
        "outputId": "e73dcf17-81e3-4926-e59c-fc593a7b8258"
      },
      "source": [
        "A_inv @ A"
      ],
      "execution_count": null,
      "outputs": [
        {
          "output_type": "execute_result",
          "data": {
            "text/plain": [
              "array([[1., 0.],\n",
              "       [0., 1.]])"
            ]
          },
          "metadata": {
            "tags": []
          },
          "execution_count": 72
        }
      ]
    },
    {
      "cell_type": "markdown",
      "metadata": {
        "id": "kerfgbeAo198",
        "colab_type": "text"
      },
      "source": [
        "Inverse matrices can be used to solve a system of linear equations. As said in the book, this is more of a theoretical tool."
      ]
    },
    {
      "cell_type": "markdown",
      "metadata": {
        "id": "ChZ38OfcpBuE",
        "colab_type": "text"
      },
      "source": [
        "Solving the below linear equation can be achieved by using an inverse matrix. \n",
        "\n",
        "$\\begin{pmatrix}3 & 1 \\\\ 1 & 2\\end{pmatrix} \n",
        "\\begin{pmatrix}x_1 \\\\ x_2\\end{pmatrix} \n",
        "= \\begin{pmatrix}9 \\\\ 8\\end{pmatrix}$\n",
        "\n",
        "> $\\begin{pmatrix}x_1 \\\\ x_2\\end{pmatrix} \n",
        "= \\begin{pmatrix}3 & 1 \\\\ 1 & 2\\end{pmatrix}^{-1}\n",
        "\\begin{pmatrix}9 \\\\ 8\\end{pmatrix}$"
      ]
    },
    {
      "cell_type": "code",
      "metadata": {
        "id": "lN9iR4mIPQj3",
        "colab_type": "code",
        "colab": {
          "base_uri": "https://localhost:8080/",
          "height": 54
        },
        "outputId": "d69f5c93-6a92-4722-a140-370a42173d08"
      },
      "source": [
        "A = np.array([[3,1], [1,2]])\n",
        "b = np.array([9,8]).reshape(-1, 1)\n",
        "\n",
        "np.linalg.inv(A) @ b"
      ],
      "execution_count": null,
      "outputs": [
        {
          "output_type": "execute_result",
          "data": {
            "text/plain": [
              "array([[2.],\n",
              "       [3.]])"
            ]
          },
          "metadata": {
            "tags": []
          },
          "execution_count": 73
        }
      ]
    },
    {
      "cell_type": "markdown",
      "metadata": {
        "id": "HZhOjnUPQpFF",
        "colab_type": "text"
      },
      "source": [
        "# 2.4 Linear Dependence and Span\n"
      ]
    },
    {
      "cell_type": "code",
      "metadata": {
        "id": "L8baFwV2y8cs",
        "colab_type": "code",
        "colab": {}
      },
      "source": [
        "import numpy as np"
      ],
      "execution_count": null,
      "outputs": []
    },
    {
      "cell_type": "markdown",
      "metadata": {
        "id": "8VSP3NErqf_i",
        "colab_type": "text"
      },
      "source": [
        "$\\pmb{Ax}$, matrix $\\pmb{A}$ multipled by vector $\\pmb{x}$ can be seen as a linear combination."
      ]
    },
    {
      "cell_type": "code",
      "metadata": {
        "id": "kfD7t0rfvdR2",
        "colab_type": "code",
        "colab": {
          "base_uri": "https://localhost:8080/",
          "height": 72
        },
        "outputId": "3a8d9fc8-7b18-4a56-9013-e1de586156d4"
      },
      "source": [
        "A = np.array([[1, 2, 3, 4], [2, 3, 4, 5], [4, 3, 2, 1]])\n",
        "A"
      ],
      "execution_count": null,
      "outputs": [
        {
          "output_type": "execute_result",
          "data": {
            "text/plain": [
              "array([[1, 2, 3, 4],\n",
              "       [2, 3, 4, 5],\n",
              "       [4, 3, 2, 1]])"
            ]
          },
          "metadata": {
            "tags": []
          },
          "execution_count": 75
        }
      ]
    },
    {
      "cell_type": "code",
      "metadata": {
        "id": "wK54GqjdvguC",
        "colab_type": "code",
        "colab": {
          "base_uri": "https://localhost:8080/",
          "height": 90
        },
        "outputId": "4973ba33-096a-420b-e071-e58553526aa0"
      },
      "source": [
        "x = np.array([[0.1, 0.5, 0.2, 0.2]]).T\n",
        "x"
      ],
      "execution_count": null,
      "outputs": [
        {
          "output_type": "execute_result",
          "data": {
            "text/plain": [
              "array([[0.1],\n",
              "       [0.5],\n",
              "       [0.2],\n",
              "       [0.2]])"
            ]
          },
          "metadata": {
            "tags": []
          },
          "execution_count": 76
        }
      ]
    },
    {
      "cell_type": "markdown",
      "metadata": {
        "id": "R6kutWxEvjzz",
        "colab_type": "text"
      },
      "source": [
        "Try to think why below two cells output the same values."
      ]
    },
    {
      "cell_type": "code",
      "metadata": {
        "id": "sEilBpT1voqm",
        "colab_type": "code",
        "colab": {
          "base_uri": "https://localhost:8080/",
          "height": 72
        },
        "outputId": "45f4cad6-8956-45de-d244-4a8a7d9c52cb"
      },
      "source": [
        "A@x"
      ],
      "execution_count": null,
      "outputs": [
        {
          "output_type": "execute_result",
          "data": {
            "text/plain": [
              "array([[2.5],\n",
              "       [3.5],\n",
              "       [2.5]])"
            ]
          },
          "metadata": {
            "tags": []
          },
          "execution_count": 77
        }
      ]
    },
    {
      "cell_type": "code",
      "metadata": {
        "id": "e4R96KQzvwAZ",
        "colab_type": "code",
        "colab": {
          "base_uri": "https://localhost:8080/",
          "height": 72
        },
        "outputId": "1ad3083c-1be7-48de-f2fb-07144d1ba51f"
      },
      "source": [
        "np.sum([A[:, i].reshape(-1, 1) * x[i] for i in range(A.shape[1])], axis=0)"
      ],
      "execution_count": null,
      "outputs": [
        {
          "output_type": "execute_result",
          "data": {
            "text/plain": [
              "array([[2.5],\n",
              "       [3.5],\n",
              "       [2.5]])"
            ]
          },
          "metadata": {
            "tags": []
          },
          "execution_count": 78
        }
      ]
    },
    {
      "cell_type": "markdown",
      "metadata": {
        "id": "cK9jC9-wtdmC",
        "colab_type": "text"
      },
      "source": [
        "# 2.5 Norms\n"
      ]
    },
    {
      "cell_type": "code",
      "metadata": {
        "id": "NELehKAJte94",
        "colab_type": "code",
        "colab": {}
      },
      "source": [
        "import numpy as np"
      ],
      "execution_count": null,
      "outputs": []
    },
    {
      "cell_type": "markdown",
      "metadata": {
        "id": "4Q3hUp93wJc8",
        "colab_type": "text"
      },
      "source": [
        "[The link](https://numpy.org/doc/stable/reference/generated/numpy.linalg.norm.html) shows the norm functions implemented by numpy."
      ]
    },
    {
      "cell_type": "code",
      "metadata": {
        "id": "i0RLT9UutrEM",
        "colab_type": "code",
        "colab": {
          "base_uri": "https://localhost:8080/",
          "height": 35
        },
        "outputId": "956459ee-3873-43d2-d8aa-243ec4b1e83e"
      },
      "source": [
        "x = np.array([0, 1, -1, 2, 3, -4])\n",
        "l2_x = np.linalg.norm(x, 2)\n",
        "l2_x"
      ],
      "execution_count": null,
      "outputs": [
        {
          "output_type": "execute_result",
          "data": {
            "text/plain": [
              "5.5677643628300215"
            ]
          },
          "metadata": {
            "tags": []
          },
          "execution_count": 80
        }
      ]
    },
    {
      "cell_type": "markdown",
      "metadata": {
        "id": "mnLb_zkxwaa3",
        "colab_type": "text"
      },
      "source": [
        "Let's confirm it with our calculation.`**` in python allows you to write superscript with which you can specify the exponent. It's equivalent to `^` in some other mathematical languages. "
      ]
    },
    {
      "cell_type": "code",
      "metadata": {
        "id": "uSihrh99wXTj",
        "colab_type": "code",
        "colab": {
          "base_uri": "https://localhost:8080/",
          "height": 35
        },
        "outputId": "f99a94b4-d544-4c8a-ad96-8816bd83c92e"
      },
      "source": [
        "l2_x_ = (x @ x) **(1/2)\n",
        "l2_x"
      ],
      "execution_count": null,
      "outputs": [
        {
          "output_type": "execute_result",
          "data": {
            "text/plain": [
              "5.5677643628300215"
            ]
          },
          "metadata": {
            "tags": []
          },
          "execution_count": 81
        }
      ]
    },
    {
      "cell_type": "markdown",
      "metadata": {
        "id": "rcuv9rgjwkyH",
        "colab_type": "text"
      },
      "source": [
        "Let's test $L^1$ norm"
      ]
    },
    {
      "cell_type": "code",
      "metadata": {
        "id": "tCP124Dwwm_W",
        "colab_type": "code",
        "colab": {
          "base_uri": "https://localhost:8080/",
          "height": 35
        },
        "outputId": "e4136e40-4134-4a99-dfcb-5912235b9a1c"
      },
      "source": [
        "np.linalg.norm(x, 1)"
      ],
      "execution_count": null,
      "outputs": [
        {
          "output_type": "execute_result",
          "data": {
            "text/plain": [
              "11.0"
            ]
          },
          "metadata": {
            "tags": []
          },
          "execution_count": 82
        }
      ]
    },
    {
      "cell_type": "code",
      "metadata": {
        "id": "-AWQBeZ5w1za",
        "colab_type": "code",
        "colab": {
          "base_uri": "https://localhost:8080/",
          "height": 35
        },
        "outputId": "56955451-c183-43ef-ece1-fb7f3f377d0d"
      },
      "source": [
        "np.abs(x).sum()"
      ],
      "execution_count": null,
      "outputs": [
        {
          "output_type": "execute_result",
          "data": {
            "text/plain": [
              "11"
            ]
          },
          "metadata": {
            "tags": []
          },
          "execution_count": 83
        }
      ]
    },
    {
      "cell_type": "markdown",
      "metadata": {
        "id": "Be43n2ezw3jy",
        "colab_type": "text"
      },
      "source": [
        "Let's test $L^0$ norm"
      ]
    },
    {
      "cell_type": "code",
      "metadata": {
        "id": "Ale30fMMw8r7",
        "colab_type": "code",
        "colab": {
          "base_uri": "https://localhost:8080/",
          "height": 35
        },
        "outputId": "6e468afd-023f-4daa-98a5-ad1f98bd3302"
      },
      "source": [
        "np.linalg.norm(x, 0)"
      ],
      "execution_count": null,
      "outputs": [
        {
          "output_type": "execute_result",
          "data": {
            "text/plain": [
              "5.0"
            ]
          },
          "metadata": {
            "tags": []
          },
          "execution_count": 84
        }
      ]
    },
    {
      "cell_type": "code",
      "metadata": {
        "id": "zcim8d5Gw9eb",
        "colab_type": "code",
        "colab": {
          "base_uri": "https://localhost:8080/",
          "height": 35
        },
        "outputId": "0040b2fd-6fb9-4566-fcdc-297f65706413"
      },
      "source": [
        "len(x[x != 0])"
      ],
      "execution_count": null,
      "outputs": [
        {
          "output_type": "execute_result",
          "data": {
            "text/plain": [
              "5"
            ]
          },
          "metadata": {
            "tags": []
          },
          "execution_count": 85
        }
      ]
    },
    {
      "cell_type": "markdown",
      "metadata": {
        "id": "gJFN23GcxBDQ",
        "colab_type": "text"
      },
      "source": [
        "Let's test Frobenius norm"
      ]
    },
    {
      "cell_type": "code",
      "metadata": {
        "id": "b4x-pgskwIyy",
        "colab_type": "code",
        "colab": {}
      },
      "source": [
        "X = np.array([[0, 1, -2], [-1, 0, 2], [2, 3, 0]])"
      ],
      "execution_count": null,
      "outputs": []
    },
    {
      "cell_type": "code",
      "metadata": {
        "id": "owMOwZjVxJkl",
        "colab_type": "code",
        "colab": {
          "base_uri": "https://localhost:8080/",
          "height": 35
        },
        "outputId": "3c29c061-ba45-4759-bfc4-bcfeb4dbddf7"
      },
      "source": [
        "np.linalg.norm(X, 'fro')"
      ],
      "execution_count": null,
      "outputs": [
        {
          "output_type": "execute_result",
          "data": {
            "text/plain": [
              "4.795831523312719"
            ]
          },
          "metadata": {
            "tags": []
          },
          "execution_count": 87
        }
      ]
    },
    {
      "cell_type": "code",
      "metadata": {
        "id": "1KIxPvMRxLMv",
        "colab_type": "code",
        "colab": {
          "base_uri": "https://localhost:8080/",
          "height": 35
        },
        "outputId": "a9f26005-ba45-4c67-bd8f-d9980ecdeca8"
      },
      "source": [
        "(X * X).sum()**(1/2)"
      ],
      "execution_count": null,
      "outputs": [
        {
          "output_type": "execute_result",
          "data": {
            "text/plain": [
              "4.795831523312719"
            ]
          },
          "metadata": {
            "tags": []
          },
          "execution_count": 88
        }
      ]
    },
    {
      "cell_type": "markdown",
      "metadata": {
        "id": "wxI_7ZFAyGP7",
        "colab_type": "text"
      },
      "source": [
        "# 2.6 Special Kinds of Matrices and Vectors\n"
      ]
    },
    {
      "cell_type": "code",
      "metadata": {
        "id": "sA0J8mhbyIUG",
        "colab_type": "code",
        "colab": {}
      },
      "source": [
        "import numpy as np"
      ],
      "execution_count": null,
      "outputs": []
    },
    {
      "cell_type": "markdown",
      "metadata": {
        "id": "-jG5u5k6xR4o",
        "colab_type": "text"
      },
      "source": [
        "The simplest diagonal matrices are identity matrices."
      ]
    },
    {
      "cell_type": "code",
      "metadata": {
        "id": "ZM6jY1o4yK5m",
        "colab_type": "code",
        "colab": {
          "base_uri": "https://localhost:8080/",
          "height": 72
        },
        "outputId": "beaf761f-a5c4-4655-860e-a865b99d1d7d"
      },
      "source": [
        "np.identity(3)"
      ],
      "execution_count": null,
      "outputs": [
        {
          "output_type": "execute_result",
          "data": {
            "text/plain": [
              "array([[1., 0., 0.],\n",
              "       [0., 1., 0.],\n",
              "       [0., 0., 1.]])"
            ]
          },
          "metadata": {
            "tags": []
          },
          "execution_count": 90
        }
      ]
    },
    {
      "cell_type": "markdown",
      "metadata": {
        "id": "zcEbM_n8xXNA",
        "colab_type": "text"
      },
      "source": [
        "The `diag()` function converts a vector into a diagonal matrix."
      ]
    },
    {
      "cell_type": "code",
      "metadata": {
        "id": "9MKUjSTPyhiv",
        "colab_type": "code",
        "colab": {
          "base_uri": "https://localhost:8080/",
          "height": 72
        },
        "outputId": "43ca1dc3-446d-4707-bd51-a798b20f328e"
      },
      "source": [
        "np.diag([1,2,3])"
      ],
      "execution_count": null,
      "outputs": [
        {
          "output_type": "execute_result",
          "data": {
            "text/plain": [
              "array([[1, 0, 0],\n",
              "       [0, 2, 0],\n",
              "       [0, 0, 3]])"
            ]
          },
          "metadata": {
            "tags": []
          },
          "execution_count": 91
        }
      ]
    },
    {
      "cell_type": "markdown",
      "metadata": {
        "id": "6k5c0Wl_xdGr",
        "colab_type": "text"
      },
      "source": [
        "If a matrix is given as an input instead of a vector, then it outputs a vector whose elements are the diagonal of the matrix."
      ]
    },
    {
      "cell_type": "code",
      "metadata": {
        "id": "a7XnEpuxH4VK",
        "colab_type": "code",
        "colab": {
          "base_uri": "https://localhost:8080/",
          "height": 72
        },
        "outputId": "a45c5b38-7b5d-4e9f-e5dc-2ca93409e768"
      },
      "source": [
        "A = np.random.randint(low=0, high=10, size=(3, 3))\n",
        "A"
      ],
      "execution_count": null,
      "outputs": [
        {
          "output_type": "execute_result",
          "data": {
            "text/plain": [
              "array([[1, 2, 9],\n",
              "       [4, 9, 0],\n",
              "       [6, 8, 9]])"
            ]
          },
          "metadata": {
            "tags": []
          },
          "execution_count": 92
        }
      ]
    },
    {
      "cell_type": "code",
      "metadata": {
        "id": "ApzOifNsxiJv",
        "colab_type": "code",
        "colab": {
          "base_uri": "https://localhost:8080/",
          "height": 35
        },
        "outputId": "e13e53b8-1568-4e58-a362-ba32be314c49"
      },
      "source": [
        "np.diag(A)"
      ],
      "execution_count": null,
      "outputs": [
        {
          "output_type": "execute_result",
          "data": {
            "text/plain": [
              "array([1, 9, 9])"
            ]
          },
          "metadata": {
            "tags": []
          },
          "execution_count": 93
        }
      ]
    },
    {
      "cell_type": "markdown",
      "metadata": {
        "id": "OMX8xVIqxl_7",
        "colab_type": "text"
      },
      "source": [
        "Let's see how diagonal matrix product can save computation time. Ipython (Jupyter) has some nice magic commands. One of them is called timeit, which can be used to measure cell execution time. "
      ]
    },
    {
      "cell_type": "code",
      "metadata": {
        "id": "R7PbAeojDAbW",
        "colab_type": "code",
        "colab": {}
      },
      "source": [
        "a = np.random.randint(low=-5, high=5, size=100)\n",
        "A = np.diag(a)\n",
        "x = np.random.randint(low=-5, high=5, size=100)"
      ],
      "execution_count": null,
      "outputs": []
    },
    {
      "cell_type": "code",
      "metadata": {
        "id": "6gR2G5dPCh58",
        "colab_type": "code",
        "colab": {
          "base_uri": "https://localhost:8080/",
          "height": 35
        },
        "outputId": "5121e864-2629-450a-98b3-cb6c26dc3405"
      },
      "source": [
        "%%timeit -n 100 -r 10\n",
        "A @ x"
      ],
      "execution_count": null,
      "outputs": [
        {
          "output_type": "stream",
          "text": [
            "100 loops, best of 10: 12.1 µs per loop\n"
          ],
          "name": "stdout"
        }
      ]
    },
    {
      "cell_type": "code",
      "metadata": {
        "id": "aAUzRD7WErPT",
        "colab_type": "code",
        "colab": {
          "base_uri": "https://localhost:8080/",
          "height": 35
        },
        "outputId": "c538cb01-cbcd-4240-8168-395aca6032b5"
      },
      "source": [
        "%%timeit -n 100 -r 10\n",
        "a @ x"
      ],
      "execution_count": null,
      "outputs": [
        {
          "output_type": "stream",
          "text": [
            "100 loops, best of 10: 2.11 µs per loop\n"
          ],
          "name": "stdout"
        }
      ]
    },
    {
      "cell_type": "markdown",
      "metadata": {
        "id": "ROP-tUmdxydo",
        "colab_type": "text"
      },
      "source": [
        "The cell below still takes less time to execute although it includes converting a matrix into a diagonal vector."
      ]
    },
    {
      "cell_type": "code",
      "metadata": {
        "id": "GtI7hUVqDgin",
        "colab_type": "code",
        "colab": {
          "base_uri": "https://localhost:8080/",
          "height": 35
        },
        "outputId": "8a460aa6-99b5-4e52-8cd6-2e01a4e9d347"
      },
      "source": [
        "%%timeit -n 100 -r 10\n",
        "np.diag(A) @ x"
      ],
      "execution_count": null,
      "outputs": [
        {
          "output_type": "stream",
          "text": [
            "100 loops, best of 10: 4.31 µs per loop\n"
          ],
          "name": "stdout"
        }
      ]
    },
    {
      "cell_type": "markdown",
      "metadata": {
        "id": "0Hc5d5OGyDHg",
        "colab_type": "text"
      },
      "source": [
        "A square diagonal matrix can its inverse only if every diagonal entry is nonzero"
      ]
    },
    {
      "cell_type": "code",
      "metadata": {
        "id": "H7z-CBeYE0eb",
        "colab_type": "code",
        "colab": {
          "base_uri": "https://localhost:8080/",
          "height": 72
        },
        "outputId": "850fdab8-68e6-43c1-b924-dc84ceaf3fc9"
      },
      "source": [
        "A = np.array([[1, 0, 0], [0, -2, 0], [0, 0, 3]])\n",
        "np.linalg.inv(A)"
      ],
      "execution_count": null,
      "outputs": [
        {
          "output_type": "execute_result",
          "data": {
            "text/plain": [
              "array([[ 1.        ,  0.        ,  0.        ],\n",
              "       [-0.        , -0.5       , -0.        ],\n",
              "       [ 0.        ,  0.        ,  0.33333333]])"
            ]
          },
          "metadata": {
            "tags": []
          },
          "execution_count": 98
        }
      ]
    },
    {
      "cell_type": "code",
      "metadata": {
        "id": "LrH5VTSOyPFb",
        "colab_type": "code",
        "colab": {
          "base_uri": "https://localhost:8080/",
          "height": 378
        },
        "outputId": "6a1753df-eaa6-4371-8dda-c21ce19d2608"
      },
      "source": [
        "A = np.array([[1, 0, 0], [0, 0, 0], [0, 0, 3]])\n",
        "np.linalg.inv(A)"
      ],
      "execution_count": null,
      "outputs": [
        {
          "output_type": "error",
          "ename": "LinAlgError",
          "evalue": "ignored",
          "traceback": [
            "\u001b[0;31m---------------------------------------------------------------------------\u001b[0m",
            "\u001b[0;31mLinAlgError\u001b[0m                               Traceback (most recent call last)",
            "\u001b[0;32m<ipython-input-99-21616184d4fc>\u001b[0m in \u001b[0;36m<module>\u001b[0;34m()\u001b[0m\n\u001b[1;32m      1\u001b[0m \u001b[0mA\u001b[0m \u001b[0;34m=\u001b[0m \u001b[0mnp\u001b[0m\u001b[0;34m.\u001b[0m\u001b[0marray\u001b[0m\u001b[0;34m(\u001b[0m\u001b[0;34m[\u001b[0m\u001b[0;34m[\u001b[0m\u001b[0;36m1\u001b[0m\u001b[0;34m,\u001b[0m \u001b[0;36m0\u001b[0m\u001b[0;34m,\u001b[0m \u001b[0;36m0\u001b[0m\u001b[0;34m]\u001b[0m\u001b[0;34m,\u001b[0m \u001b[0;34m[\u001b[0m\u001b[0;36m0\u001b[0m\u001b[0;34m,\u001b[0m \u001b[0;36m0\u001b[0m\u001b[0;34m,\u001b[0m \u001b[0;36m0\u001b[0m\u001b[0;34m]\u001b[0m\u001b[0;34m,\u001b[0m \u001b[0;34m[\u001b[0m\u001b[0;36m0\u001b[0m\u001b[0;34m,\u001b[0m \u001b[0;36m0\u001b[0m\u001b[0;34m,\u001b[0m \u001b[0;36m3\u001b[0m\u001b[0;34m]\u001b[0m\u001b[0;34m]\u001b[0m\u001b[0;34m)\u001b[0m\u001b[0;34m\u001b[0m\u001b[0;34m\u001b[0m\u001b[0m\n\u001b[0;32m----> 2\u001b[0;31m \u001b[0mnp\u001b[0m\u001b[0;34m.\u001b[0m\u001b[0mlinalg\u001b[0m\u001b[0;34m.\u001b[0m\u001b[0minv\u001b[0m\u001b[0;34m(\u001b[0m\u001b[0mA\u001b[0m\u001b[0;34m)\u001b[0m\u001b[0;34m\u001b[0m\u001b[0;34m\u001b[0m\u001b[0m\n\u001b[0m",
            "\u001b[0;32m<__array_function__ internals>\u001b[0m in \u001b[0;36minv\u001b[0;34m(*args, **kwargs)\u001b[0m\n",
            "\u001b[0;32m/usr/local/lib/python3.6/dist-packages/numpy/linalg/linalg.py\u001b[0m in \u001b[0;36minv\u001b[0;34m(a)\u001b[0m\n\u001b[1;32m    545\u001b[0m     \u001b[0msignature\u001b[0m \u001b[0;34m=\u001b[0m \u001b[0;34m'D->D'\u001b[0m \u001b[0;32mif\u001b[0m \u001b[0misComplexType\u001b[0m\u001b[0;34m(\u001b[0m\u001b[0mt\u001b[0m\u001b[0;34m)\u001b[0m \u001b[0;32melse\u001b[0m \u001b[0;34m'd->d'\u001b[0m\u001b[0;34m\u001b[0m\u001b[0;34m\u001b[0m\u001b[0m\n\u001b[1;32m    546\u001b[0m     \u001b[0mextobj\u001b[0m \u001b[0;34m=\u001b[0m \u001b[0mget_linalg_error_extobj\u001b[0m\u001b[0;34m(\u001b[0m\u001b[0m_raise_linalgerror_singular\u001b[0m\u001b[0;34m)\u001b[0m\u001b[0;34m\u001b[0m\u001b[0;34m\u001b[0m\u001b[0m\n\u001b[0;32m--> 547\u001b[0;31m     \u001b[0mainv\u001b[0m \u001b[0;34m=\u001b[0m \u001b[0m_umath_linalg\u001b[0m\u001b[0;34m.\u001b[0m\u001b[0minv\u001b[0m\u001b[0;34m(\u001b[0m\u001b[0ma\u001b[0m\u001b[0;34m,\u001b[0m \u001b[0msignature\u001b[0m\u001b[0;34m=\u001b[0m\u001b[0msignature\u001b[0m\u001b[0;34m,\u001b[0m \u001b[0mextobj\u001b[0m\u001b[0;34m=\u001b[0m\u001b[0mextobj\u001b[0m\u001b[0;34m)\u001b[0m\u001b[0;34m\u001b[0m\u001b[0;34m\u001b[0m\u001b[0m\n\u001b[0m\u001b[1;32m    548\u001b[0m     \u001b[0;32mreturn\u001b[0m \u001b[0mwrap\u001b[0m\u001b[0;34m(\u001b[0m\u001b[0mainv\u001b[0m\u001b[0;34m.\u001b[0m\u001b[0mastype\u001b[0m\u001b[0;34m(\u001b[0m\u001b[0mresult_t\u001b[0m\u001b[0;34m,\u001b[0m \u001b[0mcopy\u001b[0m\u001b[0;34m=\u001b[0m\u001b[0;32mFalse\u001b[0m\u001b[0;34m)\u001b[0m\u001b[0;34m)\u001b[0m\u001b[0;34m\u001b[0m\u001b[0;34m\u001b[0m\u001b[0m\n\u001b[1;32m    549\u001b[0m \u001b[0;34m\u001b[0m\u001b[0m\n",
            "\u001b[0;32m/usr/local/lib/python3.6/dist-packages/numpy/linalg/linalg.py\u001b[0m in \u001b[0;36m_raise_linalgerror_singular\u001b[0;34m(err, flag)\u001b[0m\n\u001b[1;32m     95\u001b[0m \u001b[0;34m\u001b[0m\u001b[0m\n\u001b[1;32m     96\u001b[0m \u001b[0;32mdef\u001b[0m \u001b[0m_raise_linalgerror_singular\u001b[0m\u001b[0;34m(\u001b[0m\u001b[0merr\u001b[0m\u001b[0;34m,\u001b[0m \u001b[0mflag\u001b[0m\u001b[0;34m)\u001b[0m\u001b[0;34m:\u001b[0m\u001b[0;34m\u001b[0m\u001b[0;34m\u001b[0m\u001b[0m\n\u001b[0;32m---> 97\u001b[0;31m     \u001b[0;32mraise\u001b[0m \u001b[0mLinAlgError\u001b[0m\u001b[0;34m(\u001b[0m\u001b[0;34m\"Singular matrix\"\u001b[0m\u001b[0;34m)\u001b[0m\u001b[0;34m\u001b[0m\u001b[0;34m\u001b[0m\u001b[0m\n\u001b[0m\u001b[1;32m     98\u001b[0m \u001b[0;34m\u001b[0m\u001b[0m\n\u001b[1;32m     99\u001b[0m \u001b[0;32mdef\u001b[0m \u001b[0m_raise_linalgerror_nonposdef\u001b[0m\u001b[0;34m(\u001b[0m\u001b[0merr\u001b[0m\u001b[0;34m,\u001b[0m \u001b[0mflag\u001b[0m\u001b[0;34m)\u001b[0m\u001b[0;34m:\u001b[0m\u001b[0;34m\u001b[0m\u001b[0;34m\u001b[0m\u001b[0m\n",
            "\u001b[0;31mLinAlgError\u001b[0m: Singular matrix"
          ]
        }
      ]
    },
    {
      "cell_type": "markdown",
      "metadata": {
        "id": "7Io8W9igzHER",
        "colab_type": "text"
      },
      "source": [
        "Let's create a symmetric matrix using a simple function.\n",
        "\n",
        "Let's say that $\\pmb{x}$ is a vector whose element is the location from the origin (1D)"
      ]
    },
    {
      "cell_type": "code",
      "metadata": {
        "id": "l1nOfNVKFtTl",
        "colab_type": "code",
        "colab": {}
      },
      "source": [
        "x = np.random.randint(low=-5, high=5, size=3)\n",
        "x"
      ],
      "execution_count": null,
      "outputs": []
    },
    {
      "cell_type": "markdown",
      "metadata": {
        "id": "21XZN95xzgNA",
        "colab_type": "text"
      },
      "source": [
        "We'll create a zero matrix $\\pmb{A}$, and fill in the numbers."
      ]
    },
    {
      "cell_type": "code",
      "metadata": {
        "id": "6OsQWLCgzhLU",
        "colab_type": "code",
        "colab": {}
      },
      "source": [
        "A = np.zeros(shape=(3,3))\n",
        "\n",
        "# We'll loop over the rows and columns of the matrix.\n",
        "for i in range(3):\n",
        "    for j in range(3):\n",
        "        A[i, j] = np.abs(x[i] - x[j])"
      ],
      "execution_count": null,
      "outputs": []
    },
    {
      "cell_type": "code",
      "metadata": {
        "id": "nGbeK1hZIWJ4",
        "colab_type": "code",
        "colab": {
          "base_uri": "https://localhost:8080/",
          "height": 72
        },
        "outputId": "74133398-c758-4658-fa5e-110517297bf4"
      },
      "source": [
        "A"
      ],
      "execution_count": null,
      "outputs": [
        {
          "output_type": "execute_result",
          "data": {
            "text/plain": [
              "array([[0., 4., 6.],\n",
              "       [4., 0., 2.],\n",
              "       [6., 2., 0.]])"
            ]
          },
          "metadata": {
            "tags": []
          },
          "execution_count": 101
        }
      ]
    },
    {
      "cell_type": "code",
      "metadata": {
        "id": "09NGfe-yzp60",
        "colab_type": "code",
        "colab": {
          "base_uri": "https://localhost:8080/",
          "height": 72
        },
        "outputId": "6effdf83-77c3-4107-9e74-d198b1ba1d35"
      },
      "source": [
        "A.T"
      ],
      "execution_count": null,
      "outputs": [
        {
          "output_type": "execute_result",
          "data": {
            "text/plain": [
              "array([[0., 4., 6.],\n",
              "       [4., 0., 2.],\n",
              "       [6., 2., 0.]])"
            ]
          },
          "metadata": {
            "tags": []
          },
          "execution_count": 102
        }
      ]
    },
    {
      "cell_type": "markdown",
      "metadata": {
        "id": "mr8oweRWztZW",
        "colab_type": "text"
      },
      "source": [
        "Any vector can be converted into a unit vector by dividing every element by the $L^2$ norm of the vector."
      ]
    },
    {
      "cell_type": "code",
      "metadata": {
        "id": "Q7eGI5V0zy60",
        "colab_type": "code",
        "colab": {
          "base_uri": "https://localhost:8080/",
          "height": 54
        },
        "outputId": "28dc8224-5027-4215-fb93-7f887365bb48"
      },
      "source": [
        "x = np.random.standard_normal(size=10)\n",
        "x"
      ],
      "execution_count": null,
      "outputs": [
        {
          "output_type": "execute_result",
          "data": {
            "text/plain": [
              "array([-0.83892832,  0.00888568,  1.21317747, -0.67044737,  0.7630957 ,\n",
              "       -0.87055279, -0.55126293, -1.10477588, -2.43383497,  2.7534908 ])"
            ]
          },
          "metadata": {
            "tags": []
          },
          "execution_count": 103
        }
      ]
    },
    {
      "cell_type": "code",
      "metadata": {
        "id": "7HBc9_ajz0kB",
        "colab_type": "code",
        "colab": {
          "base_uri": "https://localhost:8080/",
          "height": 35
        },
        "outputId": "0f25e5b4-48c5-41da-d8ba-e5e0dcf1aa2a"
      },
      "source": [
        "l2 = np.linalg.norm(x, 2)\n",
        "l2"
      ],
      "execution_count": null,
      "outputs": [
        {
          "output_type": "execute_result",
          "data": {
            "text/plain": [
              "4.358330069757581"
            ]
          },
          "metadata": {
            "tags": []
          },
          "execution_count": 104
        }
      ]
    },
    {
      "cell_type": "code",
      "metadata": {
        "id": "QlniCk2Pz228",
        "colab_type": "code",
        "colab": {
          "base_uri": "https://localhost:8080/",
          "height": 54
        },
        "outputId": "de8c3a3a-c255-4b70-8f28-d3138a12640a"
      },
      "source": [
        "x = x / l2\n",
        "x"
      ],
      "execution_count": null,
      "outputs": [
        {
          "output_type": "execute_result",
          "data": {
            "text/plain": [
              "array([-0.19248848,  0.00203878,  0.27835833, -0.15383125,  0.17508901,\n",
              "       -0.19974458, -0.1264849 , -0.25348605, -0.55843292,  0.63177657])"
            ]
          },
          "metadata": {
            "tags": []
          },
          "execution_count": 105
        }
      ]
    },
    {
      "cell_type": "code",
      "metadata": {
        "id": "J8e6rWzoz47P",
        "colab_type": "code",
        "colab": {
          "base_uri": "https://localhost:8080/",
          "height": 35
        },
        "outputId": "f7c1876f-6cd2-4561-806c-ea76976a7533"
      },
      "source": [
        "np.linalg.norm(x, 2)"
      ],
      "execution_count": null,
      "outputs": [
        {
          "output_type": "execute_result",
          "data": {
            "text/plain": [
              "0.9999999999999999"
            ]
          },
          "metadata": {
            "tags": []
          },
          "execution_count": 106
        }
      ]
    },
    {
      "cell_type": "markdown",
      "metadata": {
        "id": "rXqP0qVc0Hds",
        "colab_type": "text"
      },
      "source": [
        "Orthogonality can be easily explained by plotting vectors in the vector space We need python package `matplotlib` for plotting.\n",
        "\n",
        "One of the amazing things about Jupyter notebooks is that it can handle GUI backends very nicely without you having to worry about them. I mean it's running on a web browser after all..."
      ]
    },
    {
      "cell_type": "code",
      "metadata": {
        "id": "nvw0SXFo0QCB",
        "colab_type": "code",
        "colab": {}
      },
      "source": [
        "import matplotlib.pyplot as plt"
      ],
      "execution_count": null,
      "outputs": []
    },
    {
      "cell_type": "markdown",
      "metadata": {
        "id": "fY41R0WU0Ub8",
        "colab_type": "text"
      },
      "source": [
        "Vector $\\pmb{a}$ (red) and vector $\\pmb{b}$ (blue) are orthogonal since they are at a 90 degree angle to eachother."
      ]
    },
    {
      "cell_type": "code",
      "metadata": {
        "id": "--d1kR-CImhA",
        "colab_type": "code",
        "colab": {
          "base_uri": "https://localhost:8080/",
          "height": 324
        },
        "outputId": "8b1f35f3-fc30-4cba-fa7a-f5aa1ca02ca9"
      },
      "source": [
        "a = 0.8*np.array([1/np.sqrt(2), 1/np.sqrt(2)])\n",
        "b = 1.3*np.array([1/-np.sqrt(2), 1/np.sqrt(2)])\n",
        "\n",
        "plt.figure(figsize=(5,5));\n",
        "\n",
        "plt.ylim(-1, 1);\n",
        "plt.xlim(-1, 1);\n",
        "\n",
        "plt.plot([0, a[0]], [0, a[1]], 'r-');\n",
        "plt.plot([0, b[0]], [0, b[1]], 'b-');"
      ],
      "execution_count": null,
      "outputs": [
        {
          "output_type": "display_data",
          "data": {
            "image/png": "[encoded data removed]",
            "text/plain": [
              "<Figure size 360x360 with 1 Axes>"
            ]
          },
          "metadata": {
            "tags": [],
            "needs_background": "light"
          }
        }
      ]
    },
    {
      "cell_type": "markdown",
      "metadata": {
        "id": "tloZx4lb0pJY",
        "colab_type": "text"
      },
      "source": [
        "Also becuase their dot product is zero"
      ]
    },
    {
      "cell_type": "code",
      "metadata": {
        "id": "gWhfR6D-Ivms",
        "colab_type": "code",
        "colab": {
          "base_uri": "https://localhost:8080/",
          "height": 35
        },
        "outputId": "ada58b33-24de-4863-c909-1d8437a3a2a2"
      },
      "source": [
        "a @ b"
      ],
      "execution_count": null,
      "outputs": [
        {
          "output_type": "execute_result",
          "data": {
            "text/plain": [
              "0.0"
            ]
          },
          "metadata": {
            "tags": []
          },
          "execution_count": 109
        }
      ]
    },
    {
      "cell_type": "markdown",
      "metadata": {
        "id": "haURswol0t5x",
        "colab_type": "text"
      },
      "source": [
        "If the vectors not only are orthogonal but also have unit norm, we call them orthonormal."
      ]
    },
    {
      "cell_type": "code",
      "metadata": {
        "id": "URS-79AnXCrT",
        "colab_type": "code",
        "colab": {
          "base_uri": "https://localhost:8080/",
          "height": 324
        },
        "outputId": "5403a80a-3eb1-49ff-d156-e6413979ea12"
      },
      "source": [
        "a = np.array([1/np.sqrt(2), 1/np.sqrt(2)])\n",
        "b = np.array([1/-np.sqrt(2), 1/np.sqrt(2)])\n",
        "\n",
        "plt.figure(figsize=(5,5));\n",
        "\n",
        "plt.ylim(-1, 1);\n",
        "plt.xlim(-1, 1);\n",
        "\n",
        "plt.plot([0, a[0]], [0, a[1]], 'r-');\n",
        "plt.plot([0, b[0]], [0, b[1]], 'b-');"
      ],
      "execution_count": null,
      "outputs": [
        {
          "output_type": "display_data",
          "data": {
            "image/png": "[encoded data removed]",
            "text/plain": [
              "<Figure size 360x360 with 1 Axes>"
            ]
          },
          "metadata": {
            "tags": [],
            "needs_background": "light"
          }
        }
      ]
    },
    {
      "cell_type": "code",
      "metadata": {
        "id": "35a8mnWm0xev",
        "colab_type": "code",
        "colab": {
          "base_uri": "https://localhost:8080/",
          "height": 35
        },
        "outputId": "9a80d906-98a9-45cd-b5f2-4d4a1509f2ee"
      },
      "source": [
        "np.linalg.norm(a, 2)"
      ],
      "execution_count": null,
      "outputs": [
        {
          "output_type": "execute_result",
          "data": {
            "text/plain": [
              "0.9999999999999999"
            ]
          },
          "metadata": {
            "tags": []
          },
          "execution_count": 111
        }
      ]
    },
    {
      "cell_type": "code",
      "metadata": {
        "id": "prXu-Tlw00EU",
        "colab_type": "code",
        "colab": {
          "base_uri": "https://localhost:8080/",
          "height": 35
        },
        "outputId": "e63c41f6-0431-4deb-a4c4-bc75631b65ae"
      },
      "source": [
        "np.linalg.norm(b, 2)"
      ],
      "execution_count": null,
      "outputs": [
        {
          "output_type": "execute_result",
          "data": {
            "text/plain": [
              "0.9999999999999999"
            ]
          },
          "metadata": {
            "tags": []
          },
          "execution_count": 112
        }
      ]
    },
    {
      "cell_type": "code",
      "metadata": {
        "id": "TB1SqF_a02OV",
        "colab_type": "code",
        "colab": {
          "base_uri": "https://localhost:8080/",
          "height": 35
        },
        "outputId": "1e63c302-aedc-4b78-e001-637f8661ec1d"
      },
      "source": [
        "a@b"
      ],
      "execution_count": null,
      "outputs": [
        {
          "output_type": "execute_result",
          "data": {
            "text/plain": [
              "0.0"
            ]
          },
          "metadata": {
            "tags": []
          },
          "execution_count": 113
        }
      ]
    },
    {
      "cell_type": "markdown",
      "metadata": {
        "id": "JhYK6oC005gh",
        "colab_type": "text"
      },
      "source": [
        "Here's a sample orthogonal matrix. If you remember the definition, it's not that difficult to create one."
      ]
    },
    {
      "cell_type": "code",
      "metadata": {
        "id": "rBmxFr-HXYg4",
        "colab_type": "code",
        "colab": {
          "base_uri": "https://localhost:8080/",
          "height": 72
        },
        "outputId": "d34dcc4c-f471-475a-913c-328e6c792974"
      },
      "source": [
        "A = np.array([[0, 1, 0], [-1, 0, 0], [0, 0, -1]])\n",
        "A"
      ],
      "execution_count": null,
      "outputs": [
        {
          "output_type": "execute_result",
          "data": {
            "text/plain": [
              "array([[ 0,  1,  0],\n",
              "       [-1,  0,  0],\n",
              "       [ 0,  0, -1]])"
            ]
          },
          "metadata": {
            "tags": []
          },
          "execution_count": 114
        }
      ]
    },
    {
      "cell_type": "code",
      "metadata": {
        "id": "rzpLpwMH0-t8",
        "colab_type": "code",
        "colab": {
          "base_uri": "https://localhost:8080/",
          "height": 72
        },
        "outputId": "49bebabc-315f-47df-92e3-7b0e2d7e17be"
      },
      "source": [
        "A @ A.T"
      ],
      "execution_count": null,
      "outputs": [
        {
          "output_type": "execute_result",
          "data": {
            "text/plain": [
              "array([[1, 0, 0],\n",
              "       [0, 1, 0],\n",
              "       [0, 0, 1]])"
            ]
          },
          "metadata": {
            "tags": []
          },
          "execution_count": 115
        }
      ]
    },
    {
      "cell_type": "code",
      "metadata": {
        "id": "7kevKMum1DEX",
        "colab_type": "code",
        "colab": {
          "base_uri": "https://localhost:8080/",
          "height": 72
        },
        "outputId": "f2b5d208-af65-46bf-d23e-46efe42965f0"
      },
      "source": [
        "A.T @ A"
      ],
      "execution_count": null,
      "outputs": [
        {
          "output_type": "execute_result",
          "data": {
            "text/plain": [
              "array([[1, 0, 0],\n",
              "       [0, 1, 0],\n",
              "       [0, 0, 1]])"
            ]
          },
          "metadata": {
            "tags": []
          },
          "execution_count": 116
        }
      ]
    },
    {
      "cell_type": "code",
      "metadata": {
        "id": "Sw3YDsr01Hmj",
        "colab_type": "code",
        "colab": {
          "base_uri": "https://localhost:8080/",
          "height": 72
        },
        "outputId": "7d06524c-2585-455e-cf6d-bf75976ea62e"
      },
      "source": [
        "np.linalg.inv(A)"
      ],
      "execution_count": null,
      "outputs": [
        {
          "output_type": "execute_result",
          "data": {
            "text/plain": [
              "array([[-0., -1., -0.],\n",
              "       [ 1.,  0.,  0.],\n",
              "       [-0., -0., -1.]])"
            ]
          },
          "metadata": {
            "tags": []
          },
          "execution_count": 117
        }
      ]
    },
    {
      "cell_type": "code",
      "metadata": {
        "id": "EXxRIpPs1KIY",
        "colab_type": "code",
        "colab": {
          "base_uri": "https://localhost:8080/",
          "height": 72
        },
        "outputId": "e0b78b52-ea9a-41e1-82aa-5f2b411e5f55"
      },
      "source": [
        "A.T"
      ],
      "execution_count": null,
      "outputs": [
        {
          "output_type": "execute_result",
          "data": {
            "text/plain": [
              "array([[ 0, -1,  0],\n",
              "       [ 1,  0,  0],\n",
              "       [ 0,  0, -1]])"
            ]
          },
          "metadata": {
            "tags": []
          },
          "execution_count": 118
        }
      ]
    },
    {
      "cell_type": "markdown",
      "metadata": {
        "id": "HfbRKG_KZSbj",
        "colab_type": "text"
      },
      "source": [
        "# 2.7 Eigendecomposition"
      ]
    },
    {
      "cell_type": "code",
      "metadata": {
        "id": "ZKI-UoW3fYrA",
        "colab_type": "code",
        "colab": {}
      },
      "source": [
        "import numpy as np\n",
        "import matplotlib.pyplot as plt"
      ],
      "execution_count": null,
      "outputs": []
    },
    {
      "cell_type": "markdown",
      "metadata": {
        "id": "QVZcTDBG1V9B",
        "colab_type": "text"
      },
      "source": [
        "We will create eigendecomposition with the below example."
      ]
    },
    {
      "cell_type": "code",
      "metadata": {
        "id": "SXF1bOmPfZze",
        "colab_type": "code",
        "colab": {
          "base_uri": "https://localhost:8080/",
          "height": 371
        },
        "outputId": "2d8996a5-ea83-4b91-d4e5-9553eb7e18d2"
      },
      "source": [
        "v1 = np.array([1/np.sqrt(2), 1/np.sqrt(2)])\n",
        "v2 = np.array([1/np.sqrt(2), -1/np.sqrt(2)])\n",
        "\n",
        "fig, (ax1, ax2) = plt.subplots(1, 2, figsize=(10, 5));\n",
        "fig.suptitle('Effect of eigenvectors and eigenvalues')\n",
        "\n",
        "ax1.set_title('Before multiplication');\n",
        "ax1.axis(xmin=-2, xmax=2, ymin=-2, ymax=2);\n",
        "ax1.plot([0, v1[0]], [0, v1[1]], 'k-');\n",
        "ax1.plot([0, v2[0]], [0, v2[1]], 'k-');\n",
        "ax1.set(xlabel='x_0', ylabel='x_1');\n",
        "\n",
        "ld1 = 2.5\n",
        "ld2 = 0.5\n",
        "\n",
        "v1_ = ld1 * v1\n",
        "v2_ = ld2 * v2\n",
        "\n",
        "ax2.set_title('After multiplication');\n",
        "ax2.axis(xmin=-2, xmax=2, ymin=-2, ymax=2);\n",
        "ax2.plot([0, v1_[0]], [0, v1_[1]], 'k-');\n",
        "ax2.plot([0, v2_[0]], [0, v2_[1]], 'k-');\n",
        "ax2.set(xlabel='x_0', ylabel='x_1');\n"
      ],
      "execution_count": null,
      "outputs": [
        {
          "output_type": "display_data",
          "data": {
            "image/png": "[encoded data removed]",
            "text/plain": [
              "<Figure size 720x360 with 2 Axes>"
            ]
          },
          "metadata": {
            "tags": [],
            "needs_background": "light"
          }
        }
      ]
    },
    {
      "cell_type": "code",
      "metadata": {
        "id": "W8A23jh912-f",
        "colab_type": "code",
        "colab": {
          "base_uri": "https://localhost:8080/",
          "height": 35
        },
        "outputId": "abf2e9e8-7470-46af-a599-d033cccd5979"
      },
      "source": [
        "ld1, ld2"
      ],
      "execution_count": null,
      "outputs": [
        {
          "output_type": "execute_result",
          "data": {
            "text/plain": [
              "(2.5, 0.5)"
            ]
          },
          "metadata": {
            "tags": []
          },
          "execution_count": 121
        }
      ]
    },
    {
      "cell_type": "code",
      "metadata": {
        "id": "Jn98TFy_nGyb",
        "colab_type": "code",
        "colab": {
          "base_uri": "https://localhost:8080/",
          "height": 54
        },
        "outputId": "48060ef7-71f4-4cf3-d546-a0a179d5c252"
      },
      "source": [
        "V = np.stack([v1, v2], axis=1)\n",
        "V"
      ],
      "execution_count": null,
      "outputs": [
        {
          "output_type": "execute_result",
          "data": {
            "text/plain": [
              "array([[ 0.70710678,  0.70710678],\n",
              "       [ 0.70710678, -0.70710678]])"
            ]
          },
          "metadata": {
            "tags": []
          },
          "execution_count": 122
        }
      ]
    },
    {
      "cell_type": "code",
      "metadata": {
        "id": "lVksLAid1tiK",
        "colab_type": "code",
        "colab": {
          "base_uri": "https://localhost:8080/",
          "height": 54
        },
        "outputId": "eed26595-de2d-4130-c8e3-521878011a9c"
      },
      "source": [
        "A = V @ np.diag([ld1, ld2]) @ V.T\n",
        "A"
      ],
      "execution_count": null,
      "outputs": [
        {
          "output_type": "execute_result",
          "data": {
            "text/plain": [
              "array([[1.5, 1. ],\n",
              "       [1. , 1.5]])"
            ]
          },
          "metadata": {
            "tags": []
          },
          "execution_count": 123
        }
      ]
    },
    {
      "cell_type": "markdown",
      "metadata": {
        "id": "b1Ny7iC218Hv",
        "colab_type": "text"
      },
      "source": [
        "numpy has a built in function that does eigendecomposition."
      ]
    },
    {
      "cell_type": "code",
      "metadata": {
        "id": "b-vPrWQY1-dp",
        "colab_type": "code",
        "colab": {}
      },
      "source": [
        "(ld1_, ld2_), V_ = np.linalg.eig(A)"
      ],
      "execution_count": null,
      "outputs": []
    },
    {
      "cell_type": "markdown",
      "metadata": {
        "id": "xo-V4PrT2A9a",
        "colab_type": "text"
      },
      "source": [
        "Let's see if the eigenvalues and the eigenvectors correspond to what we started with."
      ]
    },
    {
      "cell_type": "code",
      "metadata": {
        "id": "2eDlec8S2DwU",
        "colab_type": "code",
        "colab": {
          "base_uri": "https://localhost:8080/",
          "height": 35
        },
        "outputId": "e159d02b-194a-4022-ef16-392d61ff9f1e"
      },
      "source": [
        "ld1_, ld2_"
      ],
      "execution_count": null,
      "outputs": [
        {
          "output_type": "execute_result",
          "data": {
            "text/plain": [
              "(2.4999999999999996, 0.5)"
            ]
          },
          "metadata": {
            "tags": []
          },
          "execution_count": 125
        }
      ]
    },
    {
      "cell_type": "code",
      "metadata": {
        "id": "nt3PenWJ2GJq",
        "colab_type": "code",
        "colab": {
          "base_uri": "https://localhost:8080/",
          "height": 54
        },
        "outputId": "b330e525-554e-4ca3-cedc-0df1f727479f"
      },
      "source": [
        "V_"
      ],
      "execution_count": null,
      "outputs": [
        {
          "output_type": "execute_result",
          "data": {
            "text/plain": [
              "array([[ 0.70710678, -0.70710678],\n",
              "       [ 0.70710678,  0.70710678]])"
            ]
          },
          "metadata": {
            "tags": []
          },
          "execution_count": 126
        }
      ]
    },
    {
      "cell_type": "markdown",
      "metadata": {
        "id": "10svNI5Z2JhB",
        "colab_type": "text"
      },
      "source": [
        "[Note that floating point numbers can not be represented exactly in computers.](https://en.wikipedia.org/wiki/IEEE_754)\n"
      ]
    },
    {
      "cell_type": "markdown",
      "metadata": {
        "id": "Ct12K8rspbnF",
        "colab_type": "text"
      },
      "source": [
        "# 2.8 Singular Value Decomposition\n"
      ]
    },
    {
      "cell_type": "code",
      "metadata": {
        "id": "PG9NKRYApcgy",
        "colab_type": "code",
        "colab": {}
      },
      "source": [
        "import numpy as np"
      ],
      "execution_count": null,
      "outputs": []
    },
    {
      "cell_type": "markdown",
      "metadata": {
        "id": "H_kpCH2H2ZKp",
        "colab_type": "text"
      },
      "source": [
        "Below is the example from [the wikipedia page](https://en.wikipedia.org/wiki/Singular_value_decomposition)"
      ]
    },
    {
      "cell_type": "code",
      "metadata": {
        "id": "YFnBM0kDtx63",
        "colab_type": "code",
        "colab": {}
      },
      "source": [
        "M = np.array([[1, 0, 0, 0, 2],\n",
        "              [0, 0, 3, 0, 0],\n",
        "              [0, 0, 0, 0, 0],\n",
        "              [0, 2, 0, 0, 0]])\n",
        "\n",
        "U, S, V_transposed = np.linalg.svd(M)\n",
        "V = V_transposed.T"
      ],
      "execution_count": null,
      "outputs": []
    },
    {
      "cell_type": "code",
      "metadata": {
        "id": "lcYOS-WZ2l7C",
        "colab_type": "code",
        "colab": {
          "base_uri": "https://localhost:8080/",
          "height": 90
        },
        "outputId": "4f42e34d-dbd3-4ad8-9d1d-c95a266ee31e"
      },
      "source": [
        "U"
      ],
      "execution_count": null,
      "outputs": [
        {
          "output_type": "execute_result",
          "data": {
            "text/plain": [
              "array([[ 0.,  1.,  0.,  0.],\n",
              "       [ 1.,  0.,  0.,  0.],\n",
              "       [ 0.,  0.,  0., -1.],\n",
              "       [ 0.,  0.,  1.,  0.]])"
            ]
          },
          "metadata": {
            "tags": []
          },
          "execution_count": 129
        }
      ]
    },
    {
      "cell_type": "code",
      "metadata": {
        "id": "qtn7PLNC2nCp",
        "colab_type": "code",
        "colab": {
          "base_uri": "https://localhost:8080/",
          "height": 35
        },
        "outputId": "b6cf333d-0ce6-490b-9a46-e5a23ff4d703"
      },
      "source": [
        "S"
      ],
      "execution_count": null,
      "outputs": [
        {
          "output_type": "execute_result",
          "data": {
            "text/plain": [
              "array([3.        , 2.23606798, 2.        , 0.        ])"
            ]
          },
          "metadata": {
            "tags": []
          },
          "execution_count": 130
        }
      ]
    },
    {
      "cell_type": "code",
      "metadata": {
        "id": "d31FvBm32ngJ",
        "colab_type": "code",
        "colab": {
          "base_uri": "https://localhost:8080/",
          "height": 108
        },
        "outputId": "5f39649c-5e29-4fde-9562-c0a871c37939"
      },
      "source": [
        "V"
      ],
      "execution_count": null,
      "outputs": [
        {
          "output_type": "execute_result",
          "data": {
            "text/plain": [
              "array([[-0.        ,  0.4472136 , -0.        ,  0.        , -0.89442719],\n",
              "       [ 0.        ,  0.        ,  1.        ,  0.        ,  0.        ],\n",
              "       [ 1.        ,  0.        ,  0.        ,  0.        ,  0.        ],\n",
              "       [-0.        ,  0.        , -0.        ,  1.        ,  0.        ],\n",
              "       [ 0.        ,  0.89442719,  0.        ,  0.        ,  0.4472136 ]])"
            ]
          },
          "metadata": {
            "tags": []
          },
          "execution_count": 131
        }
      ]
    },
    {
      "cell_type": "markdown",
      "metadata": {
        "id": "qQgMUWtX2rT3",
        "colab_type": "text"
      },
      "source": [
        "Check if U is an orthogonal matrix."
      ]
    },
    {
      "cell_type": "code",
      "metadata": {
        "id": "G5qdzENj2uR1",
        "colab_type": "code",
        "colab": {
          "base_uri": "https://localhost:8080/",
          "height": 90
        },
        "outputId": "f99beae2-d058-40ee-d99f-37abc4871cc7"
      },
      "source": [
        "U@U.T"
      ],
      "execution_count": null,
      "outputs": [
        {
          "output_type": "execute_result",
          "data": {
            "text/plain": [
              "array([[1., 0., 0., 0.],\n",
              "       [0., 1., 0., 0.],\n",
              "       [0., 0., 1., 0.],\n",
              "       [0., 0., 0., 1.]])"
            ]
          },
          "metadata": {
            "tags": []
          },
          "execution_count": 132
        }
      ]
    },
    {
      "cell_type": "code",
      "metadata": {
        "id": "h-Xt1owe20lX",
        "colab_type": "code",
        "colab": {
          "base_uri": "https://localhost:8080/",
          "height": 90
        },
        "outputId": "b2e3a209-2263-433b-9daf-c84adb8aadf3"
      },
      "source": [
        "U.T@U"
      ],
      "execution_count": null,
      "outputs": [
        {
          "output_type": "execute_result",
          "data": {
            "text/plain": [
              "array([[1., 0., 0., 0.],\n",
              "       [0., 1., 0., 0.],\n",
              "       [0., 0., 1., 0.],\n",
              "       [0., 0., 0., 1.]])"
            ]
          },
          "metadata": {
            "tags": []
          },
          "execution_count": 133
        }
      ]
    },
    {
      "cell_type": "markdown",
      "metadata": {
        "id": "DSarlK2j23Q5",
        "colab_type": "text"
      },
      "source": [
        "Check if V is an orthogonal matrix."
      ]
    },
    {
      "cell_type": "code",
      "metadata": {
        "id": "fESCR-IH259B",
        "colab_type": "code",
        "colab": {
          "base_uri": "https://localhost:8080/",
          "height": 108
        },
        "outputId": "5598e824-e6e2-4eb6-f1b7-33333098dcf0"
      },
      "source": [
        "(V@V.T).round(10)"
      ],
      "execution_count": null,
      "outputs": [
        {
          "output_type": "execute_result",
          "data": {
            "text/plain": [
              "array([[ 1.,  0.,  0.,  0., -0.],\n",
              "       [ 0.,  1.,  0.,  0.,  0.],\n",
              "       [ 0.,  0.,  1.,  0.,  0.],\n",
              "       [ 0.,  0.,  0.,  1.,  0.],\n",
              "       [-0.,  0.,  0.,  0.,  1.]])"
            ]
          },
          "metadata": {
            "tags": []
          },
          "execution_count": 134
        }
      ]
    },
    {
      "cell_type": "code",
      "metadata": {
        "id": "dIAMnxfZ2-JD",
        "colab_type": "code",
        "colab": {
          "base_uri": "https://localhost:8080/",
          "height": 108
        },
        "outputId": "22b61730-2b50-4feb-f3a3-6edddcd6154b"
      },
      "source": [
        "(V.T@V).round(10)"
      ],
      "execution_count": null,
      "outputs": [
        {
          "output_type": "execute_result",
          "data": {
            "text/plain": [
              "array([[1., 0., 0., 0., 0.],\n",
              "       [0., 1., 0., 0., 0.],\n",
              "       [0., 0., 1., 0., 0.],\n",
              "       [0., 0., 0., 1., 0.],\n",
              "       [0., 0., 0., 0., 1.]])"
            ]
          },
          "metadata": {
            "tags": []
          },
          "execution_count": 135
        }
      ]
    },
    {
      "cell_type": "markdown",
      "metadata": {
        "id": "anE8xXcUvqL3",
        "colab_type": "text"
      },
      "source": [
        "# 2.9 The Moore-Penrose Pseudoinverse\n"
      ]
    },
    {
      "cell_type": "code",
      "metadata": {
        "id": "6x-NC9xavrNY",
        "colab_type": "code",
        "colab": {}
      },
      "source": [
        "import numpy as np"
      ],
      "execution_count": null,
      "outputs": []
    },
    {
      "cell_type": "markdown",
      "metadata": {
        "id": "ZzBb4fshB5MW",
        "colab_type": "text"
      },
      "source": [
        "numpy.linalg package has the function `pinv()` to compute Moore-Penrose Psuedoinverse.\n",
        "\n",
        "In the cell below, we will solve the linear equation $\\pmb{Ax} = \\pmb{b}$ for $\\pmb{x}$, when the matrix $\\pmb{A}$ has more columns than rows."
      ]
    },
    {
      "cell_type": "code",
      "metadata": {
        "id": "fhSCWVHmrs8o",
        "colab_type": "code",
        "colab": {
          "base_uri": "https://localhost:8080/",
          "height": 35
        },
        "outputId": "382036d5-1156-43fe-b338-37a0a59de19e"
      },
      "source": [
        "A = np.array([[1, -1, 2], \n",
        "              [1, 2, 1]])\n",
        "\n",
        "b = np.array([2, -1])\n",
        "\n",
        "A_pinv = np.linalg.pinv(A)\n",
        "\n",
        "x = A_pinv @ b\n",
        "\n",
        "x"
      ],
      "execution_count": null,
      "outputs": [
        {
          "output_type": "execute_result",
          "data": {
            "text/plain": [
              "array([ 0.14285714, -0.82857143,  0.51428571])"
            ]
          },
          "metadata": {
            "tags": []
          },
          "execution_count": 137
        }
      ]
    },
    {
      "cell_type": "markdown",
      "metadata": {
        "id": "akXbUc1wCaDj",
        "colab_type": "text"
      },
      "source": [
        "Let's check that $\\pmb{x}$ found by the psuedoinverse satisfies $\\pmb{Ax} = \\pmb{b}$ "
      ]
    },
    {
      "cell_type": "code",
      "metadata": {
        "id": "XNe1sa1ACdxS",
        "colab_type": "code",
        "colab": {
          "base_uri": "https://localhost:8080/",
          "height": 35
        },
        "outputId": "6e0c51eb-2241-4158-c87c-57d79224a1f9"
      },
      "source": [
        "A@x"
      ],
      "execution_count": null,
      "outputs": [
        {
          "output_type": "execute_result",
          "data": {
            "text/plain": [
              "array([ 2., -1.])"
            ]
          },
          "metadata": {
            "tags": []
          },
          "execution_count": 138
        }
      ]
    },
    {
      "cell_type": "markdown",
      "metadata": {
        "id": "eXHHWN0zCzoN",
        "colab_type": "text"
      },
      "source": [
        "Note that $\\tilde{\\pmb{x}}$ below also satisfies the equation."
      ]
    },
    {
      "cell_type": "code",
      "metadata": {
        "id": "ziRK7AfIDAuS",
        "colab_type": "code",
        "colab": {
          "base_uri": "https://localhost:8080/",
          "height": 35
        },
        "outputId": "1a3e5118-5bf1-4335-b1a0-4a6b48565249"
      },
      "source": [
        "x_tilde = np.array([1, -1, 0])\n",
        "A @ x_tilde"
      ],
      "execution_count": null,
      "outputs": [
        {
          "output_type": "execute_result",
          "data": {
            "text/plain": [
              "array([ 2, -1])"
            ]
          },
          "metadata": {
            "tags": []
          },
          "execution_count": 139
        }
      ]
    },
    {
      "cell_type": "markdown",
      "metadata": {
        "id": "-p1ewpvCDEfM",
        "colab_type": "text"
      },
      "source": [
        "However this has the biggger $L^2$ norm value than that of $\\pmb{x}$ found by SVD. "
      ]
    },
    {
      "cell_type": "code",
      "metadata": {
        "id": "gI0OzQGADMZS",
        "colab_type": "code",
        "colab": {
          "base_uri": "https://localhost:8080/",
          "height": 35
        },
        "outputId": "c0a02e07-ee1b-4a30-c5d8-89d877bace08"
      },
      "source": [
        "np.linalg.norm(x, 2), np.linalg.norm(x_tilde, 2)"
      ],
      "execution_count": null,
      "outputs": [
        {
          "output_type": "execute_result",
          "data": {
            "text/plain": [
              "(0.9856107606091625, 1.4142135623730951)"
            ]
          },
          "metadata": {
            "tags": []
          },
          "execution_count": 140
        }
      ]
    },
    {
      "cell_type": "markdown",
      "metadata": {
        "id": "21ZLuw2UDc9a",
        "colab_type": "text"
      },
      "source": [
        "Below cell is a case where the matrix $\\pmb{A}$ has more columns than rows. But all of the columns of $\\pmb{A}$ are linearly dependent."
      ]
    },
    {
      "cell_type": "code",
      "metadata": {
        "id": "uu7mYPiPwpgw",
        "colab_type": "code",
        "colab": {
          "base_uri": "https://localhost:8080/",
          "height": 35
        },
        "outputId": "ab5a2f95-8b9e-404f-8efe-d01290a24adc"
      },
      "source": [
        "A = np.array([[1, 3, -1], \n",
        "              [1, 3, -1]])\n",
        "\n",
        "b = np.array([2, -1])\n",
        "\n",
        "A_pinv = np.linalg.pinv(A)\n",
        "\n",
        "x = A_pinv @ b\n",
        "x"
      ],
      "execution_count": null,
      "outputs": [
        {
          "output_type": "execute_result",
          "data": {
            "text/plain": [
              "array([ 0.04545455,  0.13636364, -0.04545455])"
            ]
          },
          "metadata": {
            "tags": []
          },
          "execution_count": 141
        }
      ]
    },
    {
      "cell_type": "markdown",
      "metadata": {
        "id": "kNlooXP8Dpqw",
        "colab_type": "text"
      },
      "source": [
        "See that x found by the psuedoinverse does **NOT** satisfies $\\pmb{Ax} = \\pmb{b}$ "
      ]
    },
    {
      "cell_type": "code",
      "metadata": {
        "id": "mC45fQsgD35m",
        "colab_type": "code",
        "colab": {
          "base_uri": "https://localhost:8080/",
          "height": 35
        },
        "outputId": "0d32ffad-a0e7-4206-9b9d-4f8600233c4f"
      },
      "source": [
        "A@x"
      ],
      "execution_count": null,
      "outputs": [
        {
          "output_type": "execute_result",
          "data": {
            "text/plain": [
              "array([0.5, 0.5])"
            ]
          },
          "metadata": {
            "tags": []
          },
          "execution_count": 142
        }
      ]
    },
    {
      "cell_type": "code",
      "metadata": {
        "id": "tZ0I_xS7D8n8",
        "colab_type": "code",
        "colab": {
          "base_uri": "https://localhost:8080/",
          "height": 35
        },
        "outputId": "70679c5f-c538-49bb-c064-31e768006849"
      },
      "source": [
        "b"
      ],
      "execution_count": null,
      "outputs": [
        {
          "output_type": "execute_result",
          "data": {
            "text/plain": [
              "array([ 2, -1])"
            ]
          },
          "metadata": {
            "tags": []
          },
          "execution_count": 143
        }
      ]
    },
    {
      "cell_type": "markdown",
      "metadata": {
        "id": "7ZiEuzufD_pV",
        "colab_type": "text"
      },
      "source": [
        "This is becuase the linear sum of the columns of $\\pmb{A}$ cannot make $\\pmb{b}$. Unless $\\pmb{b}$ happens to be in the same line"
      ]
    },
    {
      "cell_type": "markdown",
      "metadata": {
        "id": "DaUIVq4BE7dZ",
        "colab_type": "text"
      },
      "source": [
        "Below cell is a case where the matrix $\\pmb{A}$ has more rows than columns. But all of the columns of $\\pmb{A}$ are linearly independent."
      ]
    },
    {
      "cell_type": "code",
      "metadata": {
        "id": "zzzX-9Ntuq6D",
        "colab_type": "code",
        "colab": {
          "base_uri": "https://localhost:8080/",
          "height": 35
        },
        "outputId": "d8e1252e-f287-4181-a2f3-9836a4a6744b"
      },
      "source": [
        "A = np.array([[1, 3], \n",
        "              [1, 3],\n",
        "              [1, -1]])\n",
        "\n",
        "b = np.array([2, -1, 3])\n",
        "\n",
        "A_pinv = np.linalg.pinv(A)\n",
        "\n",
        "x = A_pinv @ b\n",
        "x"
      ],
      "execution_count": null,
      "outputs": [
        {
          "output_type": "execute_result",
          "data": {
            "text/plain": [
              "array([ 2.375, -0.625])"
            ]
          },
          "metadata": {
            "tags": []
          },
          "execution_count": 144
        }
      ]
    },
    {
      "cell_type": "markdown",
      "metadata": {
        "id": "fdVsgTGEFvV-",
        "colab_type": "text"
      },
      "source": [
        "See that $\\mathbf{x}$ found by the psuedoinverse does **NOT** satisfies $\\pmb{Ax} = \\pmb{b}$ "
      ]
    },
    {
      "cell_type": "code",
      "metadata": {
        "id": "dha1DzPPFvEV",
        "colab_type": "code",
        "colab": {
          "base_uri": "https://localhost:8080/",
          "height": 35
        },
        "outputId": "b2396f58-d5e4-4a50-ab5a-446bf3b2ef22"
      },
      "source": [
        "A @ x"
      ],
      "execution_count": null,
      "outputs": [
        {
          "output_type": "execute_result",
          "data": {
            "text/plain": [
              "array([0.5, 0.5, 3. ])"
            ]
          },
          "metadata": {
            "tags": []
          },
          "execution_count": 145
        }
      ]
    },
    {
      "cell_type": "code",
      "metadata": {
        "id": "8CqFoTYOGGjR",
        "colab_type": "code",
        "colab": {
          "base_uri": "https://localhost:8080/",
          "height": 35
        },
        "outputId": "a953c978-8da9-4117-f611-316f4f013366"
      },
      "source": [
        "b"
      ],
      "execution_count": null,
      "outputs": [
        {
          "output_type": "execute_result",
          "data": {
            "text/plain": [
              "array([ 2, -1,  3])"
            ]
          },
          "metadata": {
            "tags": []
          },
          "execution_count": 146
        }
      ]
    },
    {
      "cell_type": "markdown",
      "metadata": {
        "id": "MIiPUqgiGJaq",
        "colab_type": "text"
      },
      "source": [
        "This is becuase the linear sum of the columns of $\\pmb{A}$ cannot make $\\pmb{b}$. In this case, using the pseudoinverse gives us the $\\pmb{x}$ for which $\\pmb{Ax}$ is as close as possible to $\\pmb{b}$ in terms of Euclidean norm $\\left\\Vert \\pmb{Ax}-\\pmb{b}\\right\\Vert^2$"
      ]
    },
    {
      "cell_type": "markdown",
      "metadata": {
        "id": "msPl1Iwqzhxi",
        "colab_type": "text"
      },
      "source": [
        "# 2.10 The Trace Operator\n"
      ]
    },
    {
      "cell_type": "code",
      "metadata": {
        "id": "wSGHn69eziwf",
        "colab_type": "code",
        "colab": {}
      },
      "source": [
        "import numpy as np"
      ],
      "execution_count": null,
      "outputs": []
    },
    {
      "cell_type": "markdown",
      "metadata": {
        "id": "o27T6jAEIB96",
        "colab_type": "text"
      },
      "source": [
        "Let's create a random matrix."
      ]
    },
    {
      "cell_type": "code",
      "metadata": {
        "id": "xY11iPtQID4b",
        "colab_type": "code",
        "colab": {
          "base_uri": "https://localhost:8080/",
          "height": 72
        },
        "outputId": "507d5abc-8ff0-44af-977f-f1e558c158fb"
      },
      "source": [
        "A = np.random.randint(low=0, high=10, size=(3, 4))\n",
        "A"
      ],
      "execution_count": null,
      "outputs": [
        {
          "output_type": "execute_result",
          "data": {
            "text/plain": [
              "array([[7, 5, 8, 8],\n",
              "       [0, 3, 7, 0],\n",
              "       [1, 1, 7, 4]])"
            ]
          },
          "metadata": {
            "tags": []
          },
          "execution_count": 148
        }
      ]
    },
    {
      "cell_type": "markdown",
      "metadata": {
        "id": "qqfCrc-FIGMn",
        "colab_type": "text"
      },
      "source": [
        "numpy has a `trace()` function."
      ]
    },
    {
      "cell_type": "code",
      "metadata": {
        "id": "I0Ub2kEZl1ta",
        "colab_type": "code",
        "colab": {
          "base_uri": "https://localhost:8080/",
          "height": 35
        },
        "outputId": "f6db5710-4b04-44aa-b05f-5df29ad0dc5b"
      },
      "source": [
        "np.trace(A)"
      ],
      "execution_count": null,
      "outputs": [
        {
          "output_type": "execute_result",
          "data": {
            "text/plain": [
              "17"
            ]
          },
          "metadata": {
            "tags": []
          },
          "execution_count": 149
        }
      ]
    },
    {
      "cell_type": "markdown",
      "metadata": {
        "id": "I6oZ4N4uIL2H",
        "colab_type": "text"
      },
      "source": [
        "The traceoperator is invariant to the transposed"
      ]
    },
    {
      "cell_type": "code",
      "metadata": {
        "id": "OPWnEoPIpN2I",
        "colab_type": "code",
        "colab": {
          "base_uri": "https://localhost:8080/",
          "height": 35
        },
        "outputId": "41a4759b-8238-48d4-fc82-a4284acf9179"
      },
      "source": [
        "np.trace(A), np.trace(A.T)"
      ],
      "execution_count": null,
      "outputs": [
        {
          "output_type": "execute_result",
          "data": {
            "text/plain": [
              "(17, 17)"
            ]
          },
          "metadata": {
            "tags": []
          },
          "execution_count": 150
        }
      ]
    },
    {
      "cell_type": "markdown",
      "metadata": {
        "id": "JUfou__MIRlq",
        "colab_type": "text"
      },
      "source": [
        "Frobenius norm of a matrix is the square root of the trace of $\\pmb{A} \\pmb{A}^T$"
      ]
    },
    {
      "cell_type": "code",
      "metadata": {
        "id": "fmJggRFOInap",
        "colab_type": "code",
        "colab": {
          "base_uri": "https://localhost:8080/",
          "height": 35
        },
        "outputId": "7e51c92f-b8b6-45a5-e613-f11a2e09a33b"
      },
      "source": [
        "np.linalg.norm(A, 'fro')"
      ],
      "execution_count": null,
      "outputs": [
        {
          "output_type": "execute_result",
          "data": {
            "text/plain": [
              "18.083141320025124"
            ]
          },
          "metadata": {
            "tags": []
          },
          "execution_count": 151
        }
      ]
    },
    {
      "cell_type": "code",
      "metadata": {
        "id": "hhg-_KGTIqIL",
        "colab_type": "code",
        "colab": {
          "base_uri": "https://localhost:8080/",
          "height": 35
        },
        "outputId": "23c76a31-8bea-4ca6-abf9-c5cd1c511117"
      },
      "source": [
        "np.sqrt(np.trace(A @ A.T))"
      ],
      "execution_count": null,
      "outputs": [
        {
          "output_type": "execute_result",
          "data": {
            "text/plain": [
              "18.083141320025124"
            ]
          },
          "metadata": {
            "tags": []
          },
          "execution_count": 152
        }
      ]
    },
    {
      "cell_type": "code",
      "metadata": {
        "id": "wICu6sFeIse2",
        "colab_type": "code",
        "colab": {
          "base_uri": "https://localhost:8080/",
          "height": 35
        },
        "outputId": "15994aad-aab7-4c8f-f360-4de776e75b24"
      },
      "source": [
        "np.sqrt(np.trace(A.T @ A))"
      ],
      "execution_count": null,
      "outputs": [
        {
          "output_type": "execute_result",
          "data": {
            "text/plain": [
              "18.083141320025124"
            ]
          },
          "metadata": {
            "tags": []
          },
          "execution_count": 153
        }
      ]
    },
    {
      "cell_type": "markdown",
      "metadata": {
        "id": "TwntxrSkIwkU",
        "colab_type": "text"
      },
      "source": [
        "The trace of a square matrix composed of many factors is also invariant to moving the last factor into the ﬁrst position"
      ]
    },
    {
      "cell_type": "code",
      "metadata": {
        "id": "fyMpaQOKpWwG",
        "colab_type": "code",
        "colab": {}
      },
      "source": [
        "A = np.random.standard_normal(size=(3,4))\n",
        "B = np.random.standard_normal(size=(4,5))\n",
        "C = np.random.standard_normal(size=(5,3))"
      ],
      "execution_count": null,
      "outputs": []
    },
    {
      "cell_type": "code",
      "metadata": {
        "id": "ZNDILr2XI4Pq",
        "colab_type": "code",
        "colab": {
          "base_uri": "https://localhost:8080/",
          "height": 35
        },
        "outputId": "9b3171a9-cb63-4409-bb88-29eae5f363bb"
      },
      "source": [
        "np.trace(A@B@C)"
      ],
      "execution_count": null,
      "outputs": [
        {
          "output_type": "execute_result",
          "data": {
            "text/plain": [
              "8.390594003412149"
            ]
          },
          "metadata": {
            "tags": []
          },
          "execution_count": 155
        }
      ]
    },
    {
      "cell_type": "code",
      "metadata": {
        "id": "MS8ylZTsI7DY",
        "colab_type": "code",
        "colab": {
          "base_uri": "https://localhost:8080/",
          "height": 35
        },
        "outputId": "4e39fad5-08ff-455e-cec3-76fc93abe56a"
      },
      "source": [
        "np.trace(C@A@B)"
      ],
      "execution_count": null,
      "outputs": [
        {
          "output_type": "execute_result",
          "data": {
            "text/plain": [
              "8.390594003412149"
            ]
          },
          "metadata": {
            "tags": []
          },
          "execution_count": 156
        }
      ]
    },
    {
      "cell_type": "code",
      "metadata": {
        "id": "q-FmtR2JI-F0",
        "colab_type": "code",
        "colab": {
          "base_uri": "https://localhost:8080/",
          "height": 35
        },
        "outputId": "4227e26c-f8d7-49a1-9dcf-9a06139a6aee"
      },
      "source": [
        "np.trace(B@C@A)"
      ],
      "execution_count": null,
      "outputs": [
        {
          "output_type": "execute_result",
          "data": {
            "text/plain": [
              "8.390594003412147"
            ]
          },
          "metadata": {
            "tags": []
          },
          "execution_count": 157
        }
      ]
    },
    {
      "cell_type": "markdown",
      "metadata": {
        "id": "dtkuqXQ-q3Ux",
        "colab_type": "text"
      },
      "source": [
        "# 2.11 The Determinant"
      ]
    },
    {
      "cell_type": "code",
      "metadata": {
        "id": "JD3rs5hcrrbG",
        "colab_type": "code",
        "colab": {}
      },
      "source": [
        "import numpy as np"
      ],
      "execution_count": null,
      "outputs": []
    },
    {
      "cell_type": "markdown",
      "metadata": {
        "id": "brtnhdhGJCYf",
        "colab_type": "text"
      },
      "source": [
        "Determinant of a matrix is only defined when the matrix is square."
      ]
    },
    {
      "cell_type": "code",
      "metadata": {
        "id": "ua8Z5_TlJFIB",
        "colab_type": "code",
        "colab": {
          "base_uri": "https://localhost:8080/",
          "height": 35
        },
        "outputId": "e8b8cb73-5e59-49e6-b4eb-06b87e980c70"
      },
      "source": [
        "A = np.random.standard_normal(size=(3,3))\n",
        "np.linalg.det(A)"
      ],
      "execution_count": null,
      "outputs": [
        {
          "output_type": "execute_result",
          "data": {
            "text/plain": [
              "0.21048185142428597"
            ]
          },
          "metadata": {
            "tags": []
          },
          "execution_count": 159
        }
      ]
    },
    {
      "cell_type": "markdown",
      "metadata": {
        "id": "DeTuALhTJI8i",
        "colab_type": "text"
      },
      "source": [
        "Otherwise numpy will throw a warning"
      ]
    },
    {
      "cell_type": "code",
      "metadata": {
        "id": "J_K9friOrHWm",
        "colab_type": "code",
        "colab": {
          "base_uri": "https://localhost:8080/",
          "height": 378
        },
        "outputId": "4daaf6e1-8df1-4b85-96d0-e6611947364c"
      },
      "source": [
        "A = np.random.standard_normal(size=(3,4))\n",
        "np.linalg.det(A)"
      ],
      "execution_count": null,
      "outputs": [
        {
          "output_type": "error",
          "ename": "LinAlgError",
          "evalue": "ignored",
          "traceback": [
            "\u001b[0;31m---------------------------------------------------------------------------\u001b[0m",
            "\u001b[0;31mLinAlgError\u001b[0m                               Traceback (most recent call last)",
            "\u001b[0;32m<ipython-input-160-ef648a7ccba3>\u001b[0m in \u001b[0;36m<module>\u001b[0;34m()\u001b[0m\n\u001b[1;32m      1\u001b[0m \u001b[0mA\u001b[0m \u001b[0;34m=\u001b[0m \u001b[0mnp\u001b[0m\u001b[0;34m.\u001b[0m\u001b[0mrandom\u001b[0m\u001b[0;34m.\u001b[0m\u001b[0mstandard_normal\u001b[0m\u001b[0;34m(\u001b[0m\u001b[0msize\u001b[0m\u001b[0;34m=\u001b[0m\u001b[0;34m(\u001b[0m\u001b[0;36m3\u001b[0m\u001b[0;34m,\u001b[0m\u001b[0;36m4\u001b[0m\u001b[0;34m)\u001b[0m\u001b[0;34m)\u001b[0m\u001b[0;34m\u001b[0m\u001b[0;34m\u001b[0m\u001b[0m\n\u001b[0;32m----> 2\u001b[0;31m \u001b[0mnp\u001b[0m\u001b[0;34m.\u001b[0m\u001b[0mlinalg\u001b[0m\u001b[0;34m.\u001b[0m\u001b[0mdet\u001b[0m\u001b[0;34m(\u001b[0m\u001b[0mA\u001b[0m\u001b[0;34m)\u001b[0m\u001b[0;34m\u001b[0m\u001b[0;34m\u001b[0m\u001b[0m\n\u001b[0m",
            "\u001b[0;32m<__array_function__ internals>\u001b[0m in \u001b[0;36mdet\u001b[0;34m(*args, **kwargs)\u001b[0m\n",
            "\u001b[0;32m/usr/local/lib/python3.6/dist-packages/numpy/linalg/linalg.py\u001b[0m in \u001b[0;36mdet\u001b[0;34m(a)\u001b[0m\n\u001b[1;32m   2111\u001b[0m     \u001b[0ma\u001b[0m \u001b[0;34m=\u001b[0m \u001b[0masarray\u001b[0m\u001b[0;34m(\u001b[0m\u001b[0ma\u001b[0m\u001b[0;34m)\u001b[0m\u001b[0;34m\u001b[0m\u001b[0;34m\u001b[0m\u001b[0m\n\u001b[1;32m   2112\u001b[0m     \u001b[0m_assert_stacked_2d\u001b[0m\u001b[0;34m(\u001b[0m\u001b[0ma\u001b[0m\u001b[0;34m)\u001b[0m\u001b[0;34m\u001b[0m\u001b[0;34m\u001b[0m\u001b[0m\n\u001b[0;32m-> 2113\u001b[0;31m     \u001b[0m_assert_stacked_square\u001b[0m\u001b[0;34m(\u001b[0m\u001b[0ma\u001b[0m\u001b[0;34m)\u001b[0m\u001b[0;34m\u001b[0m\u001b[0;34m\u001b[0m\u001b[0m\n\u001b[0m\u001b[1;32m   2114\u001b[0m     \u001b[0mt\u001b[0m\u001b[0;34m,\u001b[0m \u001b[0mresult_t\u001b[0m \u001b[0;34m=\u001b[0m \u001b[0m_commonType\u001b[0m\u001b[0;34m(\u001b[0m\u001b[0ma\u001b[0m\u001b[0;34m)\u001b[0m\u001b[0;34m\u001b[0m\u001b[0;34m\u001b[0m\u001b[0m\n\u001b[1;32m   2115\u001b[0m     \u001b[0msignature\u001b[0m \u001b[0;34m=\u001b[0m \u001b[0;34m'D->D'\u001b[0m \u001b[0;32mif\u001b[0m \u001b[0misComplexType\u001b[0m\u001b[0;34m(\u001b[0m\u001b[0mt\u001b[0m\u001b[0;34m)\u001b[0m \u001b[0;32melse\u001b[0m \u001b[0;34m'd->d'\u001b[0m\u001b[0;34m\u001b[0m\u001b[0;34m\u001b[0m\u001b[0m\n",
            "\u001b[0;32m/usr/local/lib/python3.6/dist-packages/numpy/linalg/linalg.py\u001b[0m in \u001b[0;36m_assert_stacked_square\u001b[0;34m(*arrays)\u001b[0m\n\u001b[1;32m    211\u001b[0m         \u001b[0mm\u001b[0m\u001b[0;34m,\u001b[0m \u001b[0mn\u001b[0m \u001b[0;34m=\u001b[0m \u001b[0ma\u001b[0m\u001b[0;34m.\u001b[0m\u001b[0mshape\u001b[0m\u001b[0;34m[\u001b[0m\u001b[0;34m-\u001b[0m\u001b[0;36m2\u001b[0m\u001b[0;34m:\u001b[0m\u001b[0;34m]\u001b[0m\u001b[0;34m\u001b[0m\u001b[0;34m\u001b[0m\u001b[0m\n\u001b[1;32m    212\u001b[0m         \u001b[0;32mif\u001b[0m \u001b[0mm\u001b[0m \u001b[0;34m!=\u001b[0m \u001b[0mn\u001b[0m\u001b[0;34m:\u001b[0m\u001b[0;34m\u001b[0m\u001b[0;34m\u001b[0m\u001b[0m\n\u001b[0;32m--> 213\u001b[0;31m             \u001b[0;32mraise\u001b[0m \u001b[0mLinAlgError\u001b[0m\u001b[0;34m(\u001b[0m\u001b[0;34m'Last 2 dimensions of the array must be square'\u001b[0m\u001b[0;34m)\u001b[0m\u001b[0;34m\u001b[0m\u001b[0;34m\u001b[0m\u001b[0m\n\u001b[0m\u001b[1;32m    214\u001b[0m \u001b[0;34m\u001b[0m\u001b[0m\n\u001b[1;32m    215\u001b[0m \u001b[0;32mdef\u001b[0m \u001b[0m_assert_finite\u001b[0m\u001b[0;34m(\u001b[0m\u001b[0;34m*\u001b[0m\u001b[0marrays\u001b[0m\u001b[0;34m)\u001b[0m\u001b[0;34m:\u001b[0m\u001b[0;34m\u001b[0m\u001b[0;34m\u001b[0m\u001b[0m\n",
            "\u001b[0;31mLinAlgError\u001b[0m: Last 2 dimensions of the array must be square"
          ]
        }
      ]
    },
    {
      "cell_type": "markdown",
      "metadata": {
        "id": "g6bPw6_bJMjD",
        "colab_type": "text"
      },
      "source": [
        "The determinant of a matrix is equal to the product of all the eigen values of the matrix.\n"
      ]
    },
    {
      "cell_type": "code",
      "metadata": {
        "id": "oS2YgyilrLOp",
        "colab_type": "code",
        "colab": {}
      },
      "source": [
        "A = np.random.standard_normal(size=(5,5))\n",
        "\n",
        "w, V = np.linalg.eig(A)"
      ],
      "execution_count": null,
      "outputs": []
    },
    {
      "cell_type": "code",
      "metadata": {
        "id": "VDET1hgrJrWI",
        "colab_type": "code",
        "colab": {
          "base_uri": "https://localhost:8080/",
          "height": 35
        },
        "outputId": "db6f15d2-49db-4d2a-f3e5-05c40f064efc"
      },
      "source": [
        "np.linalg.det(A)"
      ],
      "execution_count": null,
      "outputs": [
        {
          "output_type": "execute_result",
          "data": {
            "text/plain": [
              "-1.0739681286024387"
            ]
          },
          "metadata": {
            "tags": []
          },
          "execution_count": 162
        }
      ]
    },
    {
      "cell_type": "code",
      "metadata": {
        "id": "LoKOmRGSJtaR",
        "colab_type": "code",
        "colab": {
          "base_uri": "https://localhost:8080/",
          "height": 35
        },
        "outputId": "a02f34c3-aa7f-4dd5-bbe8-6c0955361894"
      },
      "source": [
        "np.prod(w)"
      ],
      "execution_count": null,
      "outputs": [
        {
          "output_type": "execute_result",
          "data": {
            "text/plain": [
              "(-1.0739681286024398+0j)"
            ]
          },
          "metadata": {
            "tags": []
          },
          "execution_count": 163
        }
      ]
    },
    {
      "cell_type": "markdown",
      "metadata": {
        "id": "RjpLaDEItUF4",
        "colab_type": "text"
      },
      "source": [
        "# 2.12 Example: Principal Components Analysis\n",
        "\n",
        "The mathematical derviation of PCA is not that easy (especially the reason why we use SVD or eigendecomposition on the covariance matrix, although the intuition behind it and getting their values are pretty easy. [This](https://www.youtube.com/watch?v=rng04VJxUt4) is a great explanation of PCA by Andrew Ng."
      ]
    },
    {
      "cell_type": "code",
      "metadata": {
        "id": "illEifzLqHjr",
        "colab_type": "code",
        "colab": {}
      },
      "source": [
        "import numpy as np"
      ],
      "execution_count": null,
      "outputs": []
    },
    {
      "cell_type": "markdown",
      "metadata": {
        "id": "HgRBWCEtKTjp",
        "colab_type": "text"
      },
      "source": [
        "We'll use boston house-prices dataset as a toy example."
      ]
    },
    {
      "cell_type": "code",
      "metadata": {
        "id": "sgmtnEkEKVg5",
        "colab_type": "code",
        "colab": {}
      },
      "source": [
        "import matplotlib.pyplot as plt\n",
        "from sklearn.datasets import load_boston\n",
        "X_original = load_boston()['data']"
      ],
      "execution_count": null,
      "outputs": []
    },
    {
      "cell_type": "markdown",
      "metadata": {
        "id": "UG2LZLZSKXH5",
        "colab_type": "text"
      },
      "source": [
        "The data has 506 samples and each sample has 13 features. In machine learning, we call this type of data \"structured\" data, where every data sample has a fixed dimensionaltiy (e.g. 13) and the features are somewhat self-explanatory."
      ]
    },
    {
      "cell_type": "code",
      "metadata": {
        "id": "KxoyAgE7cIuQ",
        "colab_type": "code",
        "colab": {
          "base_uri": "https://localhost:8080/",
          "height": 35
        },
        "outputId": "575705e9-3126-4e3e-d2ab-4ce31104e523"
      },
      "source": [
        "X_original.shape"
      ],
      "execution_count": null,
      "outputs": [
        {
          "output_type": "execute_result",
          "data": {
            "text/plain": [
              "(506, 13)"
            ]
          },
          "metadata": {
            "tags": []
          },
          "execution_count": 166
        }
      ]
    },
    {
      "cell_type": "markdown",
      "metadata": {
        "id": "vmmAaErVKdSW",
        "colab_type": "text"
      },
      "source": [
        "Let's try reducing the original number of dimensions (13) to something smaller, using with PCA\n",
        "\n",
        "First step for PCA is to have every feature dimension be zero-mean and optionally feature scaling can be done. I normally do feature scaling too, to avoid some features from dominating the variance."
      ]
    },
    {
      "cell_type": "code",
      "metadata": {
        "id": "cEogLFIert6W",
        "colab_type": "code",
        "colab": {}
      },
      "source": [
        "mean = X_original.mean(axis=0)\n",
        "sigma = X_original.std(axis=0)\n",
        "\n",
        "# z-scaling\n",
        "X = (X_original -mean) / sigma          "
      ],
      "execution_count": null,
      "outputs": []
    },
    {
      "cell_type": "code",
      "metadata": {
        "id": "aPHsJGX2Koet",
        "colab_type": "code",
        "colab": {
          "base_uri": "https://localhost:8080/",
          "height": 90
        },
        "outputId": "05e73c9a-5d21-4ad9-c92b-5c11a01d55c6"
      },
      "source": [
        "X.mean(axis=0)"
      ],
      "execution_count": null,
      "outputs": [
        {
          "output_type": "execute_result",
          "data": {
            "text/plain": [
              "array([-8.78743718e-17, -6.34319123e-16, -2.68291099e-15,  4.70199198e-16,\n",
              "        2.49032240e-15, -1.14523016e-14, -1.40785495e-15,  9.21090169e-16,\n",
              "        5.44140929e-16, -8.86861950e-16, -9.20563581e-15,  8.16310129e-15,\n",
              "       -3.37016317e-16])"
            ]
          },
          "metadata": {
            "tags": []
          },
          "execution_count": 168
        }
      ]
    },
    {
      "cell_type": "code",
      "metadata": {
        "id": "THvhGeTRKrPR",
        "colab_type": "code",
        "colab": {
          "base_uri": "https://localhost:8080/",
          "height": 35
        },
        "outputId": "93484676-8495-4704-e875-b01a95e44750"
      },
      "source": [
        "X.std(axis=0)"
      ],
      "execution_count": null,
      "outputs": [
        {
          "output_type": "execute_result",
          "data": {
            "text/plain": [
              "array([1., 1., 1., 1., 1., 1., 1., 1., 1., 1., 1., 1., 1.])"
            ]
          },
          "metadata": {
            "tags": []
          },
          "execution_count": 169
        }
      ]
    },
    {
      "cell_type": "code",
      "metadata": {
        "id": "HsoHPsm7kpNl",
        "colab_type": "code",
        "colab": {
          "base_uri": "https://localhost:8080/",
          "height": 35
        },
        "outputId": "cd0eca9f-ed85-4a93-df16-a2db1815f661"
      },
      "source": [
        "X_original.shape, mean.shape, sigma.shape"
      ],
      "execution_count": null,
      "outputs": [
        {
          "output_type": "execute_result",
          "data": {
            "text/plain": [
              "((506, 13), (13,), (13,))"
            ]
          },
          "metadata": {
            "tags": []
          },
          "execution_count": 170
        }
      ]
    },
    {
      "cell_type": "markdown",
      "metadata": {
        "id": "1g9YmKOcKwOB",
        "colab_type": "text"
      },
      "source": [
        "When the mean value of each feature is 0, the covariance matrix is nothing but the matrix product of its transposed and itself. Actually the real covariance matrix should include scaling too (dividing by the number of observations), but we don't have to do that here."
      ]
    },
    {
      "cell_type": "code",
      "metadata": {
        "id": "KaB1KKiTsgfO",
        "colab_type": "code",
        "colab": {
          "base_uri": "https://localhost:8080/",
          "height": 490
        },
        "outputId": "3ca0b8cc-0d3c-40cb-fd65-45f22ae0d04c"
      },
      "source": [
        "cov_X = (X.T @ X)\n",
        "cov_X.round()"
      ],
      "execution_count": null,
      "outputs": [
        {
          "output_type": "execute_result",
          "data": {
            "text/plain": [
              "array([[ 506., -101.,  206.,  -28.,  213., -111.,  178., -192.,  317.,\n",
              "         295.,  147., -195.,  231.],\n",
              "       [-101.,  506., -270.,  -22., -261.,  158., -288.,  336., -158.,\n",
              "        -159., -198.,   89., -209.],\n",
              "       [ 206., -270.,  506.,   32.,  386., -198.,  326., -358.,  301.,\n",
              "         365.,  194., -181.,  306.],\n",
              "       [ -28.,  -22.,   32.,  506.,   46.,   46.,   44.,  -50.,   -4.,\n",
              "         -18.,  -61.,   25.,  -27.],\n",
              "       [ 213., -261.,  386.,   46.,  506., -153.,  370., -389.,  309.,\n",
              "         338.,   96., -192.,  299.],\n",
              "       [-111.,  158., -198.,   46., -153.,  506., -122.,  104., -106.,\n",
              "        -148., -180.,   65., -311.],\n",
              "       [ 178., -288.,  326.,   44.,  370., -122.,  506., -378.,  231.,\n",
              "         256.,  132., -138.,  305.],\n",
              "       [-192.,  336., -358.,  -50., -389.,  104., -378.,  506., -250.,\n",
              "        -270., -118.,  148., -251.],\n",
              "       [ 317., -158.,  301.,   -4.,  309., -106.,  231., -250.,  506.,\n",
              "         461.,  235., -225.,  247.],\n",
              "       [ 295., -159.,  365.,  -18.,  338., -148.,  256., -270.,  461.,\n",
              "         506.,  233., -224.,  275.],\n",
              "       [ 147., -198.,  194.,  -61.,   96., -180.,  132., -118.,  235.,\n",
              "         233.,  506.,  -90.,  189.],\n",
              "       [-195.,   89., -181.,   25., -192.,   65., -138.,  148., -225.,\n",
              "        -224.,  -90.,  506., -185.],\n",
              "       [ 231., -209.,  306.,  -27.,  299., -311.,  305., -251.,  247.,\n",
              "         275.,  189., -185.,  506.]])"
            ]
          },
          "metadata": {
            "tags": []
          },
          "execution_count": 171
        }
      ]
    },
    {
      "cell_type": "code",
      "metadata": {
        "id": "9egvhlBmLmnT",
        "colab_type": "code",
        "colab": {
          "base_uri": "https://localhost:8080/",
          "height": 35
        },
        "outputId": "41366bcc-e0de-4105-b717-22a2acce1570"
      },
      "source": [
        "cov_X.shape"
      ],
      "execution_count": null,
      "outputs": [
        {
          "output_type": "execute_result",
          "data": {
            "text/plain": [
              "(13, 13)"
            ]
          },
          "metadata": {
            "tags": []
          },
          "execution_count": 172
        }
      ]
    },
    {
      "cell_type": "markdown",
      "metadata": {
        "id": "0wFyVodmLp9R",
        "colab_type": "text"
      },
      "source": [
        "The principal components can be found by computing the eigenvectors of the covariance matrix. You can use both eigendecomposition and SVD to achieve this. In the below example, we'll use SVD.\n",
        "\n",
        "Let's say that the SVD of $\\pmb{X}$ gives us $\\pmb{UDV^{T}}$. Then the SVD of the covariance matrix, $\\pmb{X^{T} X}$, will give us $\\pmb{X^T X = V D^T D V^T}$. This looks a lot like the eigenvalue decomposition. We can now consider $\\pmb{V}$ and $\\pmb{D^{2}}$ as the the eigenvectors and squared eigenvalues corresopnding to their eigenvectors. \n",
        "\n",
        "The proportion of the variance that each eigenvector represents can be calculated by dividing the eigenvalue corresponding to that eigenvector by the sum of all eigenvalues."
      ]
    },
    {
      "cell_type": "code",
      "metadata": {
        "id": "MzkvneY_s8Hr",
        "colab_type": "code",
        "colab": {}
      },
      "source": [
        "V, D_squared, V_transposed = np.linalg.svd(cov_X)"
      ],
      "execution_count": null,
      "outputs": []
    },
    {
      "cell_type": "markdown",
      "metadata": {
        "id": "Ov3VD1cX1uyR",
        "colab_type": "text"
      },
      "source": [
        "We can plot $\\pmb{D}^{2}$ to get the eigenvalues, which explains the variance."
      ]
    },
    {
      "cell_type": "code",
      "metadata": {
        "id": "ExhZn2f6lo3G",
        "colab_type": "code",
        "colab": {}
      },
      "source": [
        "eigenvalues = D_squared"
      ],
      "execution_count": null,
      "outputs": []
    },
    {
      "cell_type": "code",
      "metadata": {
        "id": "1LpN-8GA132D",
        "colab_type": "code",
        "colab": {
          "base_uri": "https://localhost:8080/",
          "height": 72
        },
        "outputId": "e450e520-900f-4799-ad8a-bf62c9257ac2"
      },
      "source": [
        "eigenvalues / eigenvalues.sum()"
      ],
      "execution_count": null,
      "outputs": [
        {
          "output_type": "execute_result",
          "data": {
            "text/plain": [
              "array([0.47129606, 0.11025193, 0.0955859 , 0.06596732, 0.06421661,\n",
              "       0.05056978, 0.04118124, 0.03046902, 0.02130333, 0.01694137,\n",
              "       0.0143088 , 0.01302331, 0.00488533])"
            ]
          },
          "metadata": {
            "tags": []
          },
          "execution_count": 175
        }
      ]
    },
    {
      "cell_type": "code",
      "metadata": {
        "id": "rQIm1EYI16px",
        "colab_type": "code",
        "colab": {
          "base_uri": "https://localhost:8080/",
          "height": 265
        },
        "outputId": "3e5e5b99-1bd4-4487-a453-2b3e4c181ea6"
      },
      "source": [
        "plt.plot(eigenvalues / eigenvalues.sum());"
      ],
      "execution_count": null,
      "outputs": [
        {
          "output_type": "display_data",
          "data": {
            "image/png": "[encoded data removed]",
            "text/plain": [
              "<Figure size 432x288 with 1 Axes>"
            ]
          },
          "metadata": {
            "tags": [],
            "needs_background": "light"
          }
        }
      ]
    },
    {
      "cell_type": "markdown",
      "metadata": {
        "id": "IQa_jiTY1_MM",
        "colab_type": "text"
      },
      "source": [
        "This means that first the new axis can already explain about 47% of the variance. As an exercise, when normalizing the original data, try removing the feature scaling and see what happens when we plot the eigenvalues. "
      ]
    },
    {
      "cell_type": "markdown",
      "metadata": {
        "id": "uKWuKxOJ2Glv",
        "colab_type": "text"
      },
      "source": [
        "The \"*encoding*\" of the original data can be simply done by matrix multiplication. We can create the encoder by taking the column vectors (eigenvectors of the covariance matrix). Below encoder will take the first 5 columns, which explains about 80% of the variances."
      ]
    },
    {
      "cell_type": "code",
      "metadata": {
        "id": "jBMg4snmmX9R",
        "colab_type": "code",
        "colab": {}
      },
      "source": [
        "num_features = 5\n",
        "\n",
        "Encoder = V[:, :num_features]"
      ],
      "execution_count": null,
      "outputs": []
    },
    {
      "cell_type": "code",
      "metadata": {
        "id": "eb4x5_9x2U39",
        "colab_type": "code",
        "colab": {
          "base_uri": "https://localhost:8080/",
          "height": 35
        },
        "outputId": "fd114d14-70ff-4128-b03a-eb1a4376dbfe"
      },
      "source": [
        "(eigenvalues / eigenvalues.sum())[:num_features].sum()"
      ],
      "execution_count": null,
      "outputs": [
        {
          "output_type": "execute_result",
          "data": {
            "text/plain": [
              "0.8073178205045908"
            ]
          },
          "metadata": {
            "tags": []
          },
          "execution_count": 178
        }
      ]
    },
    {
      "cell_type": "code",
      "metadata": {
        "id": "7RdqTlyJ2XSB",
        "colab_type": "code",
        "colab": {
          "base_uri": "https://localhost:8080/",
          "height": 35
        },
        "outputId": "9e03f4b0-c823-4173-8a23-6684bd6477da"
      },
      "source": [
        "Encoder.shape"
      ],
      "execution_count": null,
      "outputs": [
        {
          "output_type": "execute_result",
          "data": {
            "text/plain": [
              "(13, 5)"
            ]
          },
          "metadata": {
            "tags": []
          },
          "execution_count": 179
        }
      ]
    },
    {
      "cell_type": "markdown",
      "metadata": {
        "id": "cMppdtz72b2-",
        "colab_type": "text"
      },
      "source": [
        "Below line will encode the data so that the number of features is reduced to 5. This means that every 13 dimensional data point will now have 5 dimensions (Each one of them is projected to a lower dimensional space) \n"
      ]
    },
    {
      "cell_type": "code",
      "metadata": {
        "id": "xoaaUULLnuzR",
        "colab_type": "code",
        "colab": {}
      },
      "source": [
        "X_encoded = X @ Encoder"
      ],
      "execution_count": null,
      "outputs": []
    },
    {
      "cell_type": "code",
      "metadata": {
        "id": "dMiIqyMc2rN0",
        "colab_type": "code",
        "colab": {
          "base_uri": "https://localhost:8080/",
          "height": 35
        },
        "outputId": "af7523ac-2a76-4e59-f82b-bc0f52159e56"
      },
      "source": [
        "X_encoded.shape"
      ],
      "execution_count": null,
      "outputs": [
        {
          "output_type": "execute_result",
          "data": {
            "text/plain": [
              "(506, 5)"
            ]
          },
          "metadata": {
            "tags": []
          },
          "execution_count": 181
        }
      ]
    },
    {
      "cell_type": "markdown",
      "metadata": {
        "id": "XFZ3g3-Q2tJP",
        "colab_type": "text"
      },
      "source": [
        "Reconstruction (decoding) can be done by below line."
      ]
    },
    {
      "cell_type": "code",
      "metadata": {
        "id": "VnmKssG9qHFS",
        "colab_type": "code",
        "colab": {}
      },
      "source": [
        "Decoder = Encoder.T\n",
        "X_decoded = X_encoded @ Decoder"
      ],
      "execution_count": null,
      "outputs": []
    },
    {
      "cell_type": "code",
      "metadata": {
        "id": "mOAqKEEG2whv",
        "colab_type": "code",
        "colab": {
          "base_uri": "https://localhost:8080/",
          "height": 35
        },
        "outputId": "78a6d7fd-d9b2-4574-8d51-d8865252daf1"
      },
      "source": [
        "X_decoded.shape"
      ],
      "execution_count": null,
      "outputs": [
        {
          "output_type": "execute_result",
          "data": {
            "text/plain": [
              "(506, 13)"
            ]
          },
          "metadata": {
            "tags": []
          },
          "execution_count": 183
        }
      ]
    },
    {
      "cell_type": "markdown",
      "metadata": {
        "id": "5ccYf4qy21qj",
        "colab_type": "text"
      },
      "source": [
        "Since the encoding is lossy, the decoding cannot 100% reconstruct the original data. See and compare.\n",
        "\n",
        "FYI, just because we did a dimensionality reduction of the data, it doesn't always mean that the encoding is lossy. There are many other encoding schemes where a dimensionality reduction is loseless. And of course, this can also depend on data."
      ]
    },
    {
      "cell_type": "code",
      "metadata": {
        "id": "j_x1Z8CG3maQ",
        "colab_type": "code",
        "colab": {
          "base_uri": "https://localhost:8080/",
          "height": 72
        },
        "outputId": "0aa312dd-6048-4a46-ce0f-ea6674863924"
      },
      "source": [
        "X_decoded[0, :]"
      ],
      "execution_count": null,
      "outputs": [
        {
          "output_type": "execute_result",
          "data": {
            "text/plain": [
              "array([-0.70606548,  0.410191  , -0.66451474, -0.25059474, -0.33627395,\n",
              "        0.78730855, -0.25973608,  0.23735887, -0.98681299, -0.96697646,\n",
              "       -1.27655518,  0.21091877, -0.69396824])"
            ]
          },
          "metadata": {
            "tags": []
          },
          "execution_count": 184
        }
      ]
    },
    {
      "cell_type": "code",
      "metadata": {
        "id": "xvVZMb-W3owp",
        "colab_type": "code",
        "colab": {
          "base_uri": "https://localhost:8080/",
          "height": 72
        },
        "outputId": "ea2e6445-a2be-40d6-a022-c6a8d1fc05c5"
      },
      "source": [
        "X[0, :]"
      ],
      "execution_count": null,
      "outputs": [
        {
          "output_type": "execute_result",
          "data": {
            "text/plain": [
              "array([-0.41978194,  0.28482986, -1.2879095 , -0.27259857, -0.14421743,\n",
              "        0.41367189, -0.12001342,  0.1402136 , -0.98284286, -0.66660821,\n",
              "       -1.45900038,  0.44105193, -1.0755623 ])"
            ]
          },
          "metadata": {
            "tags": []
          },
          "execution_count": 185
        }
      ]
    },
    {
      "cell_type": "markdown",
      "metadata": {
        "id": "8bcWx0Rl3tb7",
        "colab_type": "text"
      },
      "source": [
        "Try changing the num_features to 13 and see what happens to the reconstruction."
      ]
    },
    {
      "cell_type": "markdown",
      "metadata": {
        "id": "e_hHgOzu3xNN",
        "colab_type": "text"
      },
      "source": [
        "PCA is very simple yet important concept in machine learning. It might not be as powerful as other encoder-decoders since it's only a linear transformation.\n",
        "But the core concept and the reason why we do it already tells us a lot what and why we do machine learning. "
      ]
    },
    {
      "cell_type": "markdown",
      "metadata": {
        "id": "jICQoeaR4UBE",
        "colab_type": "text"
      },
      "source": [
        "PCA is already well implemented in many machine learning libraries. I'll show you how simple it is by using scikit-learn. The below codes are from [here](https://scikit-learn.org/stable/modules/generated/sklearn.preprocessing.StandardScaler.html) and [here](https://scikit-learn.org/stable/modules/generated/sklearn.decomposition.PCA.html)"
      ]
    },
    {
      "cell_type": "markdown",
      "metadata": {
        "id": "-dw-dVZT4QP5",
        "colab_type": "text"
      },
      "source": [
        "We'll use boston house-prices dataset as a toy example."
      ]
    },
    {
      "cell_type": "code",
      "metadata": {
        "id": "s9lOk6Z6sKU9",
        "colab_type": "code",
        "colab": {}
      },
      "source": [
        "from sklearn.datasets import load_boston\n",
        "X_original = load_boston()['data']"
      ],
      "execution_count": null,
      "outputs": []
    },
    {
      "cell_type": "code",
      "metadata": {
        "id": "e34x4_1y4bA8",
        "colab_type": "code",
        "colab": {}
      },
      "source": [
        "# z-scaling\n",
        "from sklearn.preprocessing import StandardScaler\n",
        "scaler = StandardScaler()\n",
        "scaler.fit(X_original)\n",
        "X = scaler.transform(X_original)"
      ],
      "execution_count": null,
      "outputs": []
    },
    {
      "cell_type": "code",
      "metadata": {
        "id": "516aanZv4c7L",
        "colab_type": "code",
        "colab": {
          "base_uri": "https://localhost:8080/",
          "height": 90
        },
        "outputId": "93c60293-a7ce-48ef-fb45-29addbbf504d"
      },
      "source": [
        "X.mean(axis=0)"
      ],
      "execution_count": null,
      "outputs": [
        {
          "output_type": "execute_result",
          "data": {
            "text/plain": [
              "array([-8.78743718e-17, -6.34319123e-16, -2.68291099e-15,  4.70199198e-16,\n",
              "        2.49032240e-15, -1.14523016e-14, -1.40785495e-15,  9.21090169e-16,\n",
              "        5.44140929e-16, -8.86861950e-16, -9.20563581e-15,  8.16310129e-15,\n",
              "       -3.37016317e-16])"
            ]
          },
          "metadata": {
            "tags": []
          },
          "execution_count": 188
        }
      ]
    },
    {
      "cell_type": "code",
      "metadata": {
        "id": "6-HR_xVk4fSN",
        "colab_type": "code",
        "colab": {
          "base_uri": "https://localhost:8080/",
          "height": 35
        },
        "outputId": "d0c9feaa-9969-4b3d-9e39-c0255d12f1a4"
      },
      "source": [
        "X.std(axis=0)"
      ],
      "execution_count": null,
      "outputs": [
        {
          "output_type": "execute_result",
          "data": {
            "text/plain": [
              "array([1., 1., 1., 1., 1., 1., 1., 1., 1., 1., 1., 1., 1.])"
            ]
          },
          "metadata": {
            "tags": []
          },
          "execution_count": 189
        }
      ]
    },
    {
      "cell_type": "code",
      "metadata": {
        "id": "fArcV6yi4hGP",
        "colab_type": "code",
        "colab": {
          "base_uri": "https://localhost:8080/",
          "height": 35
        },
        "outputId": "25e88d5b-31cc-4cc5-c10d-9463d55cca23"
      },
      "source": [
        "# PCA\n",
        "from sklearn.decomposition import PCA\n",
        "num_features = 5\n",
        "pca = PCA(n_components=num_features)\n",
        "pca.fit(X)\n",
        "pca.explained_variance_ratio_.sum()"
      ],
      "execution_count": null,
      "outputs": [
        {
          "output_type": "execute_result",
          "data": {
            "text/plain": [
              "0.8073178205045914"
            ]
          },
          "metadata": {
            "tags": []
          },
          "execution_count": 190
        }
      ]
    }
  ]
}