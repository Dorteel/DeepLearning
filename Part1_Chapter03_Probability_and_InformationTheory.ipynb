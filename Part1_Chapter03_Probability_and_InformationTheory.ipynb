{
  "nbformat": 4,
  "nbformat_minor": 0,
  "metadata": {
    "colab": {
      "name": "Part1_Chapter03_Probability_and_InformationTheory.ipynb",
      "provenance": [],
      "authorship_tag": "ABX9TyN2xYg1BaoG8xp+f+HhX2Rq",
      "include_colab_link": true
    },
    "kernelspec": {
      "name": "python3",
      "display_name": "Python 3"
    }
  },
  "cells": [
    {
      "cell_type": "markdown",
      "metadata": {
        "id": "view-in-github",
        "colab_type": "text"
      },
      "source": [
        "<a href=\"https://colab.research.google.com/github/tae898/DeepLearning/blob/master/Part1_Chapter03_Probability_and_InformationTheory.ipynb\" target=\"_parent\"><img src=\"https://colab.research.google.com/assets/colab-badge.svg\" alt=\"Open In Colab\"/></a>"
      ]
    },
    {
      "cell_type": "markdown",
      "metadata": {
        "id": "zWAtLV4y-gd0",
        "colab_type": "text"
      },
      "source": [
        "# 3.1 Why Probability?"
      ]
    },
    {
      "cell_type": "code",
      "metadata": {
        "id": "Zsji-5Ea-iYZ",
        "colab_type": "code",
        "colab": {}
      },
      "source": [
        ""
      ],
      "execution_count": 0,
      "outputs": []
    }
  ]
}