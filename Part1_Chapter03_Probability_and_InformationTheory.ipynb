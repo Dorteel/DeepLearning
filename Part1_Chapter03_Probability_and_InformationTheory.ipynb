{
  "nbformat": 4,
  "nbformat_minor": 0,
  "metadata": {
    "colab": {
      "name": "Part1_Chapter03_Probability_and_InformationTheory.ipynb",
      "provenance": [],
      "collapsed_sections": [],
      "authorship_tag": "ABX9TyPXgtnhl+vpXZ4LI8TYZpU2",
      "include_colab_link": true
    },
    "kernelspec": {
      "name": "python3",
      "display_name": "Python 3"
    }
  },
  "cells": [
    {
      "cell_type": "markdown",
      "metadata": {
        "id": "view-in-github",
        "colab_type": "text"
      },
      "source": [
        "<a href=\"https://colab.research.google.com/github/tae898/DeepLearning/blob/master/Part1_Chapter03_Probability_and_InformationTheory.ipynb\" target=\"_parent\"><img src=\"https://colab.research.google.com/assets/colab-badge.svg\" alt=\"Open In Colab\"/></a>"
      ]
    },
    {
      "cell_type": "markdown",
      "metadata": {
        "id": "zWAtLV4y-gd0",
        "colab_type": "text"
      },
      "source": [
        "# 3.1 Why Probability?"
      ]
    },
    {
      "cell_type": "code",
      "metadata": {
        "id": "LAqxDE8cYcUl",
        "colab_type": "code",
        "colab": {}
      },
      "source": [
        "import numpy as np"
      ],
      "execution_count": 0,
      "outputs": []
    },
    {
      "cell_type": "code",
      "metadata": {
        "id": "MXuVpJyPYpIB",
        "colab_type": "code",
        "outputId": "ea1927fa-b632-403d-f732-6ecb6ca98a9b",
        "colab": {
          "base_uri": "https://localhost:8080/",
          "height": 107
        }
      },
      "source": [
        "# Let's test frequentist probability!\n",
        "\n",
        "def toss_coin():\n",
        "    \"\"\"Toss a coin which either gives you the heads (True) or tails (False).\"\"\"\n",
        "    if np.random.random_sample() < 0.5:\n",
        "        return True\n",
        "    else:\n",
        "        return False\n",
        "\n",
        "# Below lines of code show you that if we repeated the experiment \n",
        "# (e.g., tossing a coin) inﬁnitely many times, then a proportion of \n",
        "# the repetitions would result in that outcome.\n",
        "\n",
        "results = [toss_coin() for i in range(10)]\n",
        "print(sum(results)/ len(results))\n",
        "\n",
        "results = [toss_coin() for i in range(100)]\n",
        "print(sum(results)/ len(results))\n",
        "\n",
        "results = [toss_coin() for i in range(1000)]\n",
        "print(sum(results)/ len(results))\n",
        "\n",
        "results = [toss_coin() for i in range(10000)]\n",
        "print(sum(results)/ len(results))\n",
        "\n",
        "results = [toss_coin() for i in range(100000)]\n",
        "print(sum(results)/ len(results))"
      ],
      "execution_count": 0,
      "outputs": [
        {
          "output_type": "stream",
          "text": [
            "0.6\n",
            "0.45\n",
            "0.508\n",
            "0.5078\n",
            "0.49991\n"
          ],
          "name": "stdout"
        }
      ]
    },
    {
      "cell_type": "code",
      "metadata": {
        "id": "_xWeLq-SYmpv",
        "colab_type": "code",
        "colab": {}
      },
      "source": [
        "# The most important thing to remember in this section is the following setnence.\n",
        "# If we list several properties that we expect common sense reasoning about uncertainty \n",
        "# to have, then the only way to satisfy those properties is to treat Bayesian \n",
        "# probabilities as behaving exactly the same as frequentist probabilities."
      ],
      "execution_count": 0,
      "outputs": []
    },
    {
      "cell_type": "markdown",
      "metadata": {
        "id": "JxtbfFRs2nUB",
        "colab_type": "text"
      },
      "source": [
        "# 3.2 Random Variables"
      ]
    },
    {
      "cell_type": "code",
      "metadata": {
        "id": "VqcGZfx2_OIO",
        "colab_type": "code",
        "colab": {}
      },
      "source": [
        "import numpy as np"
      ],
      "execution_count": 0,
      "outputs": []
    },
    {
      "cell_type": "code",
      "metadata": {
        "id": "7g7yI5Y7234g",
        "colab_type": "code",
        "colab": {}
      },
      "source": [
        "# Let's create a simple discrete random variable x.\n",
        "# x can take -0.1, 0, 2, and 10.2. \n",
        "# Their probabilities are 0.1, 0.5, 0.25, and 0.15, respectively.\n",
        "\n",
        "def sample_simple_discrete():\n",
        "    randnum = np.random.random_sample()\n",
        "\n",
        "    if randnum < 0.1:\n",
        "        return -0.1\n",
        "    elif randnum < 0.1 + 0.5:\n",
        "        return 0\n",
        "    elif randnum < 0.1 + 0.5 + 0.25:\n",
        "        return 2\n",
        "    else:\n",
        "        return 10.2"
      ],
      "execution_count": 0,
      "outputs": []
    },
    {
      "cell_type": "code",
      "metadata": {
        "id": "dmVCBYJZ_QPp",
        "colab_type": "code",
        "outputId": "40f147df-4bb8-4ae1-c0a2-e66d3830c83e",
        "colab": {
          "base_uri": "https://localhost:8080/",
          "height": 34
        }
      },
      "source": [
        "# Now the function we have defined above will sample a value from the \n",
        "# discrete random variable x\n",
        "\n",
        "print(sample_simple_discrete())"
      ],
      "execution_count": 0,
      "outputs": [
        {
          "output_type": "stream",
          "text": [
            "10.2\n"
          ],
          "name": "stdout"
        }
      ]
    },
    {
      "cell_type": "code",
      "metadata": {
        "id": "dC4JxedR_1CI",
        "colab_type": "code",
        "outputId": "59cfe7c0-7d67-4b28-95e0-2679cb328635",
        "colab": {
          "base_uri": "https://localhost:8080/",
          "height": 136
        }
      },
      "source": [
        "# Let's see if repeating the sampling actually shows that it's sampling from\n",
        "# the distribution that we've defined.\n",
        "\n",
        "def get_probs(num_sampling):\n",
        "    sampled = [sample_simple_discrete() for i in range(num_sampling)]\n",
        "\n",
        "    probs = [sampled.count(x_) / len(sampled) for x_ in [-0.1, 0, 2, 10.2]]\n",
        "\n",
        "    return probs\n",
        "\n",
        "print(get_probs(10))\n",
        "print()\n",
        "print(get_probs(100))\n",
        "print()\n",
        "print(get_probs(1000))\n",
        "print()\n",
        "print(get_probs(10000))"
      ],
      "execution_count": 0,
      "outputs": [
        {
          "output_type": "stream",
          "text": [
            "[0.1, 0.6, 0.3, 0.0]\n",
            "\n",
            "[0.11, 0.5, 0.3, 0.09]\n",
            "\n",
            "[0.092, 0.508, 0.257, 0.143]\n",
            "\n",
            "[0.1016, 0.5035, 0.2479, 0.147]\n"
          ],
          "name": "stdout"
        }
      ]
    },
    {
      "cell_type": "code",
      "metadata": {
        "id": "trH99DdwBrAg",
        "colab_type": "code",
        "colab": {}
      },
      "source": [
        "# Note that this was just a toy example. No one does such a thing."
      ],
      "execution_count": 0,
      "outputs": []
    },
    {
      "cell_type": "markdown",
      "metadata": {
        "id": "yfMULOppBu4Q",
        "colab_type": "text"
      },
      "source": [
        "# 3.3 Probability Distributions"
      ]
    },
    {
      "cell_type": "code",
      "metadata": {
        "id": "oeApjyJxDJvU",
        "colab_type": "code",
        "colab": {}
      },
      "source": [
        "import numpy as np"
      ],
      "execution_count": 0,
      "outputs": []
    },
    {
      "cell_type": "code",
      "metadata": {
        "id": "1wc40McDBubi",
        "colab_type": "code",
        "colab": {
          "base_uri": "https://localhost:8080/",
          "height": 35
        },
        "outputId": "23e3ac07-b3b0-40fe-aaa0-5bbef00ab2fa"
      },
      "source": [
        "# There are a lot of useful probability distributions that we use in machine \n",
        "# learning. One of the most used and most easy is uniform probability \n",
        "# distribution, which I have used a lot in above sections.\n",
        "\n",
        "# Below is a function that samples values from the uniform distribution where \n",
        "# the domain of the variable is [0, 1) \n",
        "\n",
        "x_sampled = np.random.random_sample()\n",
        "print(x_sampled)"
      ],
      "execution_count": 6,
      "outputs": [
        {
          "output_type": "stream",
          "text": [
            "0.7117598462318168\n"
          ],
          "name": "stdout"
        }
      ]
    },
    {
      "cell_type": "code",
      "metadata": {
        "id": "RSoaCJYmErkn",
        "colab_type": "code",
        "colab": {
          "base_uri": "https://localhost:8080/",
          "height": 89
        },
        "outputId": "a61528ab-916e-4085-f279-b03de1726ac6"
      },
      "source": [
        "# You can also sample multiple times at once \n",
        "\n",
        "x_sampled = np.random.random_sample(size=10)\n",
        "print(x_sampled)\n",
        "print()\n",
        "print(x_sampled.shape)"
      ],
      "execution_count": 14,
      "outputs": [
        {
          "output_type": "stream",
          "text": [
            "[0.0991155  0.831724   0.21530881 0.62673147 0.42045109 0.17110283\n",
            " 0.76597715 0.45986281 0.66073051 0.85745544]\n",
            "\n",
            "(10,)\n"
          ],
          "name": "stdout"
        }
      ]
    },
    {
      "cell_type": "code",
      "metadata": {
        "id": "r3NyXCtAE27e",
        "colab_type": "code",
        "colab": {
          "base_uri": "https://localhost:8080/",
          "height": 35
        },
        "outputId": "6ebb483f-e8aa-4c71-addb-23b16cc7ce9a"
      },
      "source": [
        "# You can sample from the uniform distribution whose domain interval is [a, b),\n",
        "# by simply multiplying (b - a) with the sampled value and adding +a to it.\n",
        "\n",
        "# e.g., a=1, b=3\n",
        "a = 1\n",
        "b = 3\n",
        "\n",
        "x_sampled = (b - a) * np.random.random_sample() + a\n",
        "print(x_sampled)"
      ],
      "execution_count": 13,
      "outputs": [
        {
          "output_type": "stream",
          "text": [
            "2.4971577269413143\n"
          ],
          "name": "stdout"
        }
      ]
    },
    {
      "cell_type": "code",
      "metadata": {
        "id": "jHEQHoT4HGIF",
        "colab_type": "code",
        "colab": {
          "base_uri": "https://localhost:8080/",
          "height": 1000
        },
        "outputId": "1d57146a-a05d-44b9-9303-6f345dc40da0"
      },
      "source": [
        "# Let's sample many times and plot the histogram to see if the source \n",
        "# distribution is indeed the uniform distribution that we expected.\n",
        "\n",
        "import matplotlib.pyplot as plt\n",
        "\n",
        "for size in [10, 100, 1000, 10000, 100000]:\n",
        "    x_sampled = np.random.random_sample(size=size)\n",
        "    plt.figure()\n",
        "    plt.hist(x_sampled, density=True)"
      ],
      "execution_count": 23,
      "outputs": [
        {
          "output_type": "display_data",
          "data": {
            "image/png": "[encoded data removed]",
            "text/plain": [
              "<Figure size 432x288 with 1 Axes>"
            ]
          },
          "metadata": {
            "tags": [],
            "needs_background": "light"
          }
        },
        {
          "output_type": "display_data",
          "data": {
            "image/png": "[encoded data removed]",
            "text/plain": [
              "<Figure size 432x288 with 1 Axes>"
            ]
          },
          "metadata": {
            "tags": [],
            "needs_background": "light"
          }
        },
        {
          "output_type": "display_data",
          "data": {
            "image/png": "[encoded data removed]",
            "text/plain": [
              "<Figure size 432x288 with 1 Axes>"
            ]
          },
          "metadata": {
            "tags": [],
            "needs_background": "light"
          }
        },
        {
          "output_type": "display_data",
          "data": {
            "image/png": "[encoded data removed]",
            "text/plain": [
              "<Figure size 432x288 with 1 Axes>"
            ]
          },
          "metadata": {
            "tags": [],
            "needs_background": "light"
          }
        },
        {
          "output_type": "display_data",
          "data": {
            "image/png": "[encoded data removed]",
            "text/plain": [
              "<Figure size 432x288 with 1 Axes>"
            ]
          },
          "metadata": {
            "tags": [],
            "needs_background": "light"
          }
        }
      ]
    },
    {
      "cell_type": "markdown",
      "metadata": {
        "id": "kk67XWG-IWFy",
        "colab_type": "text"
      },
      "source": [
        "# 3.4 Marginal Probability"
      ]
    },
    {
      "cell_type": "code",
      "metadata": {
        "id": "5b0yvQk_Sl-5",
        "colab_type": "code",
        "colab": {}
      },
      "source": [
        "# I was trying to make a good python example for this section but I can't \n",
        "# really do it cuz we normally explain the concept of marginal probability \n",
        "# analytically with a pen and paper."
      ],
      "execution_count": 0,
      "outputs": []
    },
    {
      "cell_type": "markdown",
      "metadata": {
        "id": "XYq6cF8wVwtY",
        "colab_type": "text"
      },
      "source": [
        "# 3.5 Conditional Probability"
      ]
    },
    {
      "cell_type": "code",
      "metadata": {
        "id": "nQ99nqhaVxuG",
        "colab_type": "code",
        "colab": {}
      },
      "source": [
        "# I was trying to make a good python example for this section but I can't \n",
        "# really do it cuz we normally explain the concept of marginal probability \n",
        "# analytically with a pen and paper."
      ],
      "execution_count": 0,
      "outputs": []
    },
    {
      "cell_type": "markdown",
      "metadata": {
        "id": "Lo7XR0ruWaL5",
        "colab_type": "text"
      },
      "source": [
        "# 3.6 The Chain Rule of Conditional Probabilities"
      ]
    },
    {
      "cell_type": "code",
      "metadata": {
        "id": "i9_ooVg9WazZ",
        "colab_type": "code",
        "colab": {}
      },
      "source": [
        "# I was trying to make a good python example for this section but I can't \n",
        "# really do it cuz we normally explain the concept of marginal probability \n",
        "# analytically with a pen and paper."
      ],
      "execution_count": 0,
      "outputs": []
    },
    {
      "cell_type": "markdown",
      "metadata": {
        "id": "wve3rD1oXVBp",
        "colab_type": "text"
      },
      "source": [
        "# 3.7 Independence and Conditional Independence"
      ]
    },
    {
      "cell_type": "code",
      "metadata": {
        "id": "ePfKWadDWbTk",
        "colab_type": "code",
        "colab": {}
      },
      "source": [
        "# I was trying to make a good python example for this section but I can't \n",
        "# really do it cuz we normally explain the concept of marginal probability \n",
        "# analytically with a pen and paper."
      ],
      "execution_count": 0,
      "outputs": []
    },
    {
      "cell_type": "markdown",
      "metadata": {
        "id": "1hbzcV9zXWwY",
        "colab_type": "text"
      },
      "source": [
        "# 3.8 Expectation, Variance and Covariance"
      ]
    },
    {
      "cell_type": "code",
      "metadata": {
        "id": "UQ4k1t3WaTlm",
        "colab_type": "code",
        "colab": {}
      },
      "source": [
        "import numpy as np"
      ],
      "execution_count": 0,
      "outputs": []
    },
    {
      "cell_type": "code",
      "metadata": {
        "id": "Pj5Af9JdXg6H",
        "colab_type": "code",
        "colab": {
          "base_uri": "https://localhost:8080/",
          "height": 35
        },
        "outputId": "6c95ba86-e44f-419b-8f4a-431f8df630f3"
      },
      "source": [
        "# The reason why I keep saying that it's not so easy to make good python \n",
        "# examples of this chapter is that often times we prove and show analytically\n",
        "# how probability and statistics work. \n",
        "\n",
        "# With a pen and paper, I can just write down any probability distribution, and\n",
        "# from them I can prove and show stuffs. The thing with computers is that we \n",
        "# can only sample from such distributions and play with the sampled values.\n",
        "\n",
        "# For example, let's take the uniform distribution again where the domain of the\n",
        "# random variable x is [0, 1). Obviously the expectation of x is 0.5, if you \n",
        "# integrate P(x)*x*dx over the domain of x [0, 1).\n",
        "\n",
        "# This gets tricky with computers since as I said we can only deal with the\n",
        "# samples values from it.\n",
        "\n",
        "x_sampled = np.random.random_sample(10000)\n",
        "mean_x = x_sampled.mean()\n",
        "print(mean_x)\n",
        "\n",
        "# And of course the mean value of the sampled values is never exactly 0.5, \n",
        "# since it's not the analytical expectation but the mean of the sampled values. \n",
        "\n",
        "# This doesn't mean that this is a problem. With enough sampling, the stats we \n",
        "# get from them get very close to the analytical ones anyways."
      ],
      "execution_count": 120,
      "outputs": [
        {
          "output_type": "stream",
          "text": [
            "0.49678200200361244\n"
          ],
          "name": "stdout"
        }
      ]
    },
    {
      "cell_type": "code",
      "metadata": {
        "id": "qwej7_1IcVbU",
        "colab_type": "code",
        "colab": {
          "base_uri": "https://localhost:8080/",
          "height": 35
        },
        "outputId": "282c835a-6f09-48da-ad8a-91684ecdf8be"
      },
      "source": [
        "# Let's try getting the expectation of x squared. The analytical value obtained \n",
        "# with integral will give you 1/3\n",
        "\n",
        "x_sampled_squared = x_sampled ** 2\n",
        "print(x_sampled_squared.mean())"
      ],
      "execution_count": 121,
      "outputs": [
        {
          "output_type": "stream",
          "text": [
            "0.32974398934052723\n"
          ],
          "name": "stdout"
        }
      ]
    },
    {
      "cell_type": "code",
      "metadata": {
        "id": "nqFoArKTdFKU",
        "colab_type": "code",
        "colab": {
          "base_uri": "https://localhost:8080/",
          "height": 53
        },
        "outputId": "6b643470-7892-4a55-c73c-68941d9c225c"
      },
      "source": [
        "# The variance of x can be computed using the equation\n",
        "\n",
        "var_x = ((x_sampled - mean_x)**2).mean()\n",
        "print(var_x)\n",
        "\n",
        "# or numpy's built in function.\n",
        "var_x = x_sampled.var()\n",
        "print(var_x)"
      ],
      "execution_count": 125,
      "outputs": [
        {
          "output_type": "stream",
          "text": [
            "0.08295163182581015\n",
            "0.08295163182581015\n"
          ],
          "name": "stdout"
        }
      ]
    },
    {
      "cell_type": "code",
      "metadata": {
        "id": "y21A0h9llP7l",
        "colab_type": "code",
        "colab": {
          "base_uri": "https://localhost:8080/",
          "height": 53
        },
        "outputId": "70db532f-5e02-4998-ec57-5adf70b022ec"
      },
      "source": [
        "# The std of x can be computed using the equation\n",
        "\n",
        "std_x = np.sqrt(((x_sampled - mean_x)**2).mean())\n",
        "print(std_x)\n",
        "\n",
        "# or numpy's built in function.\n",
        "var_x = x_sampled.var()\n",
        "std_x = np.sqrt(var_x)\n",
        "print(std_x)"
      ],
      "execution_count": 127,
      "outputs": [
        {
          "output_type": "stream",
          "text": [
            "0.2915595970488372\n",
            "0.29154132620107215\n"
          ],
          "name": "stdout"
        }
      ]
    },
    {
      "cell_type": "code",
      "metadata": {
        "id": "k88-Vs1JvJqd",
        "colab_type": "code",
        "colab": {
          "base_uri": "https://localhost:8080/",
          "height": 89
        },
        "outputId": "2755dc90-583b-486d-ecd7-be565dbc5388"
      },
      "source": [
        "# Let's see if the expectation of two variables is indeed an linear operation.\n",
        "\n",
        "x_sampled = np.random.random_sample(10000)\n",
        "y_sampled = (3 - 1) * np.random.random_sample(10000) + 1\n",
        "\n",
        "alpha = -1\n",
        "beta = 5.1\n",
        "\n",
        "# Below two equations should result in the same value.\n",
        "print(np.mean(alpha * x_sampled + beta * y_sampled))\n",
        "print()\n",
        "print(alpha * np.mean(x_sampled) + beta * np.mean(y_sampled))\n",
        "print()"
      ],
      "execution_count": 151,
      "outputs": [
        {
          "output_type": "stream",
          "text": [
            "9.672019193412424\n",
            "\n",
            "9.672019193412426\n",
            "\n"
          ],
          "name": "stdout"
        }
      ]
    },
    {
      "cell_type": "code",
      "metadata": {
        "id": "WXVu8_7AomBe",
        "colab_type": "code",
        "colab": {
          "base_uri": "https://localhost:8080/",
          "height": 161
        },
        "outputId": "219299f2-e976-478c-90fb-a665d9c4a364"
      },
      "source": [
        "# If we just sample x and y as below, then we are sampling from two independent\n",
        "# distributions. Then of course the covariance will be 0.\n",
        "\n",
        "x_sampled = np.random.random_sample(10000)\n",
        "y_sampled = (3 - 1) * np.random.random_sample(10000) + 1\n",
        "\n",
        "# variance of x and y\n",
        "print(x_sampled.var())\n",
        "print()\n",
        "print(y_sampled.var())\n",
        "print()\n",
        "\n",
        "# Calculating the covariance of x and y:\n",
        "cov_xy = ((x_sampled - x_sampled.mean()) * (y_sampled - y_sampled.mean())).mean()\n",
        "print(cov_xy)\n",
        "print()\n",
        "\n",
        "# Or just use the built-in numpy function.\n",
        "# The docstring of numpy.cov() says that the data should be arranged as\n",
        "# A 1-D or 2-D array containing multiple variables and observations. \n",
        "# Each row of m represents a variable, and each column a single observation \n",
        "# of all those variables \n",
        "\n",
        "# Since we have two variables, x and y, and we sampled 10,000 times, the data \n",
        "# should be of shape (2, 10000)\n",
        "\n",
        "# np.cov() actually computes the covariance matrix. Check if the elements of \n",
        "# this matrix corresponds to the values we have computed above\n",
        "\n",
        "data = np.stack([x_sampled, y_sampled])\n",
        "Cov_xy = np.cov(data)\n",
        "print(Cov_xy)"
      ],
      "execution_count": 166,
      "outputs": [
        {
          "output_type": "stream",
          "text": [
            "0.08326479194690903\n",
            "\n",
            "0.3309108388640739\n",
            "\n",
            "0.00023013955534849595\n",
            "\n",
            "[[8.32731193e-02 2.30162572e-04]\n",
            " [2.30162572e-04 3.30943933e-01]]\n"
          ],
          "name": "stdout"
        }
      ]
    },
    {
      "cell_type": "code",
      "metadata": {
        "id": "7tvWqKhbqY_P",
        "colab_type": "code",
        "colab": {
          "base_uri": "https://localhost:8080/",
          "height": 89
        },
        "outputId": "ee650018-b781-4149-9585-80b2c5bc59f8"
      },
      "source": [
        "# This time let's compute correlation. When we talk about correlation,\n",
        "# we normally mean Pearson correlation coefficient.\n",
        "\n",
        "corr_xy = ((x_sampled - x_sampled.mean()) * (y_sampled - y_sampled.mean())).mean() / (x_sampled.std() * y_sampled.std())\n",
        "print(corr_xy)\n",
        "print()\n",
        "\n",
        "# Or we can just get the correlation matrix using the numpy builtin function.\n",
        "# Note that the correlation of a random variable and itself is always 1, since\n",
        "# it's calculated as the variance divided by the square of the standard deviation.\n",
        "print(np.corrcoef(data))"
      ],
      "execution_count": 167,
      "outputs": [
        {
          "output_type": "stream",
          "text": [
            "0.0013864527476620966\n",
            "\n",
            "[[1.         0.00138645]\n",
            " [0.00138645 1.        ]]\n"
          ],
          "name": "stdout"
        }
      ]
    },
    {
      "cell_type": "code",
      "metadata": {
        "id": "GokgsOnVu01_",
        "colab_type": "code",
        "colab": {
          "base_uri": "https://localhost:8080/",
          "height": 35
        },
        "outputId": "852eb3f3-8ab0-497d-e039-6e983c2994d6"
      },
      "source": [
        "# Covariance and correlation are simple but very powerful tools. Although they \n",
        "# only tell us the linear relationship between two variables, not non-linear,\n",
        "# they are powerful and simple enough to do things like PCA or define \n",
        "# multivariate (higher than one dimensional) probability distributions.\n",
        "\n",
        "# Let's take the boston house price as an example again that we used in Chapter2\n",
        "\n",
        "from sklearn.datasets import load_boston\n",
        "X_original = load_boston()['data']\n",
        "\n",
        "# X_original has 506 obervations with 13 features (13 variables)\n",
        "print(X_original.shape)"
      ],
      "execution_count": 155,
      "outputs": [
        {
          "output_type": "stream",
          "text": [
            "(506, 13)\n"
          ],
          "name": "stdout"
        }
      ]
    },
    {
      "cell_type": "code",
      "metadata": {
        "id": "y7VHKZN7wr_L",
        "colab_type": "code",
        "colab": {}
      },
      "source": [
        "# If we want to compute the correlation matrix of this data using numpy, we need \n",
        "# to transpose it first, since it expects the data to have the rows as variables\n",
        "# and the columns as observations.\n",
        "\n",
        "Corr_X = np.corrcoef(X_original.T)"
      ],
      "execution_count": 0,
      "outputs": []
    },
    {
      "cell_type": "code",
      "metadata": {
        "id": "Tr2QLIXXxXcq",
        "colab_type": "code",
        "colab": {
          "base_uri": "https://localhost:8080/",
          "height": 485
        },
        "outputId": "288a0a58-9a66-4060-e7d3-ce066493712e"
      },
      "source": [
        "# The correlation between the variables show the linear relationship between \n",
        "# them. Remember that the diagonal values are always 1.\n",
        "print(Corr_X.round(3))"
      ],
      "execution_count": 170,
      "outputs": [
        {
          "output_type": "stream",
          "text": [
            "[[ 1.    -0.2    0.407 -0.056  0.421 -0.219  0.353 -0.38   0.626  0.583\n",
            "   0.29  -0.385  0.456]\n",
            " [-0.2    1.    -0.534 -0.043 -0.517  0.312 -0.57   0.664 -0.312 -0.315\n",
            "  -0.392  0.176 -0.413]\n",
            " [ 0.407 -0.534  1.     0.063  0.764 -0.392  0.645 -0.708  0.595  0.721\n",
            "   0.383 -0.357  0.604]\n",
            " [-0.056 -0.043  0.063  1.     0.091  0.091  0.087 -0.099 -0.007 -0.036\n",
            "  -0.122  0.049 -0.054]\n",
            " [ 0.421 -0.517  0.764  0.091  1.    -0.302  0.731 -0.769  0.611  0.668\n",
            "   0.189 -0.38   0.591]\n",
            " [-0.219  0.312 -0.392  0.091 -0.302  1.    -0.24   0.205 -0.21  -0.292\n",
            "  -0.356  0.128 -0.614]\n",
            " [ 0.353 -0.57   0.645  0.087  0.731 -0.24   1.    -0.748  0.456  0.506\n",
            "   0.262 -0.274  0.602]\n",
            " [-0.38   0.664 -0.708 -0.099 -0.769  0.205 -0.748  1.    -0.495 -0.534\n",
            "  -0.232  0.292 -0.497]\n",
            " [ 0.626 -0.312  0.595 -0.007  0.611 -0.21   0.456 -0.495  1.     0.91\n",
            "   0.465 -0.444  0.489]\n",
            " [ 0.583 -0.315  0.721 -0.036  0.668 -0.292  0.506 -0.534  0.91   1.\n",
            "   0.461 -0.442  0.544]\n",
            " [ 0.29  -0.392  0.383 -0.122  0.189 -0.356  0.262 -0.232  0.465  0.461\n",
            "   1.    -0.177  0.374]\n",
            " [-0.385  0.176 -0.357  0.049 -0.38   0.128 -0.274  0.292 -0.444 -0.442\n",
            "  -0.177  1.    -0.366]\n",
            " [ 0.456 -0.413  0.604 -0.054  0.591 -0.614  0.602 -0.497  0.489  0.544\n",
            "   0.374 -0.366  1.   ]]\n"
          ],
          "name": "stdout"
        }
      ]
    },
    {
      "cell_type": "code",
      "metadata": {
        "id": "mIb5xmQPyEkd",
        "colab_type": "code",
        "colab": {
          "base_uri": "https://localhost:8080/",
          "height": 283
        },
        "outputId": "243ea972-9003-4b91-f377-c24a2fd5b2a9"
      },
      "source": [
        "# Sometimes we also like to plot them as an image to have a better visualized\n",
        "# overview.\n",
        "import matplotlib.pyplot as plt\n",
        "plt.imshow(Corr_X)"
      ],
      "execution_count": 176,
      "outputs": [
        {
          "output_type": "execute_result",
          "data": {
            "text/plain": [
              "<matplotlib.image.AxesImage at 0x7f513acab6d8>"
            ]
          },
          "metadata": {
            "tags": []
          },
          "execution_count": 176
        },
        {
          "output_type": "display_data",
          "data": {
            "image/png": "[encoded data removed]",
            "text/plain": [
              "<Figure size 432x288 with 1 Axes>"
            ]
          },
          "metadata": {
            "tags": [],
            "needs_background": "light"
          }
        }
      ]
    },
    {
      "cell_type": "markdown",
      "metadata": {
        "id": "hYXwb5iEy3Db",
        "colab_type": "text"
      },
      "source": [
        "# 3.9 Common Probability Distributions"
      ]
    },
    {
      "cell_type": "code",
      "metadata": {
        "id": "9re99nPHy4LU",
        "colab_type": "code",
        "colab": {}
      },
      "source": [
        ""
      ],
      "execution_count": 0,
      "outputs": []
    }
  ]
}