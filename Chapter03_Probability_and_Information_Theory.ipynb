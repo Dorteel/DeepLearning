{
  "nbformat": 4,
  "nbformat_minor": 0,
  "metadata": {
    "colab": {
      "name": "Chapter03_Probability_and_Information_Theory.ipynb",
      "provenance": [],
      "collapsed_sections": [],
      "toc_visible": true,
      "authorship_tag": "ABX9TyNZfZZ0l0oCGBi2FzHf6KLE",
      "include_colab_link": true
    },
    "kernelspec": {
      "name": "python3",
      "display_name": "Python 3"
    }
  },
  "cells": [
    {
      "cell_type": "markdown",
      "metadata": {
        "id": "view-in-github",
        "colab_type": "text"
      },
      "source": [
        "<a href=\"https://colab.research.google.com/github/tae898/DeepLearning/blob/master/Chapter03_Probability_and_Information_Theory.ipynb\" target=\"_parent\"><img src=\"https://colab.research.google.com/assets/colab-badge.svg\" alt=\"Open In Colab\"/></a>"
      ]
    },
    {
      "cell_type": "markdown",
      "metadata": {
        "id": "zWAtLV4y-gd0",
        "colab_type": "text"
      },
      "source": [
        "# 3.1 Why Probability?"
      ]
    },
    {
      "cell_type": "code",
      "metadata": {
        "id": "LAqxDE8cYcUl",
        "colab_type": "code",
        "colab": {}
      },
      "source": [
        "import numpy as np"
      ],
      "execution_count": null,
      "outputs": []
    },
    {
      "cell_type": "markdown",
      "metadata": {
        "id": "IAqJAV2U_kbo",
        "colab_type": "text"
      },
      "source": [
        "Let's test frequentist probability!"
      ]
    },
    {
      "cell_type": "code",
      "metadata": {
        "id": "MXuVpJyPYpIB",
        "colab_type": "code",
        "colab": {}
      },
      "source": [
        "def toss_coin():\n",
        "    \"\"\"Toss a coin which either gives you the heads (True) or tails (False).\"\"\"\n",
        "    if np.random.random_sample() < 0.5:\n",
        "        return True\n",
        "    else:\n",
        "        return False"
      ],
      "execution_count": null,
      "outputs": []
    },
    {
      "cell_type": "markdown",
      "metadata": {
        "id": "6pw1whv6_od1",
        "colab_type": "text"
      },
      "source": [
        "Below lines of code show you that if we repeated the experiment (e.g., tossing a coin) inﬁnitely many times, then a proportion of the repetitions would result in that outcome."
      ]
    },
    {
      "cell_type": "code",
      "metadata": {
        "id": "LV3uyB2l_s-m",
        "colab_type": "code",
        "colab": {
          "base_uri": "https://localhost:8080/",
          "height": 35
        },
        "outputId": "7b6097d3-966e-448c-c13a-027a01260e05"
      },
      "source": [
        "results = [toss_coin() for i in range(10)]\n",
        "sum(results)/ len(results)"
      ],
      "execution_count": null,
      "outputs": [
        {
          "output_type": "execute_result",
          "data": {
            "text/plain": [
              "0.6"
            ]
          },
          "metadata": {
            "tags": []
          },
          "execution_count": 5
        }
      ]
    },
    {
      "cell_type": "code",
      "metadata": {
        "id": "HkwmjANF_zNs",
        "colab_type": "code",
        "colab": {
          "base_uri": "https://localhost:8080/",
          "height": 35
        },
        "outputId": "6082231f-3ca9-4ba7-e7d3-93a04d0c36de"
      },
      "source": [
        "results = [toss_coin() for i in range(100)]\n",
        "sum(results)/ len(results)"
      ],
      "execution_count": null,
      "outputs": [
        {
          "output_type": "execute_result",
          "data": {
            "text/plain": [
              "0.47"
            ]
          },
          "metadata": {
            "tags": []
          },
          "execution_count": 6
        }
      ]
    },
    {
      "cell_type": "code",
      "metadata": {
        "id": "FGDYqX5N_1-2",
        "colab_type": "code",
        "colab": {
          "base_uri": "https://localhost:8080/",
          "height": 35
        },
        "outputId": "489a0f58-a33e-422b-92ae-403aeaa0b061"
      },
      "source": [
        "results = [toss_coin() for i in range(1000)]\n",
        "sum(results)/ len(results)"
      ],
      "execution_count": null,
      "outputs": [
        {
          "output_type": "execute_result",
          "data": {
            "text/plain": [
              "0.499"
            ]
          },
          "metadata": {
            "tags": []
          },
          "execution_count": 7
        }
      ]
    },
    {
      "cell_type": "code",
      "metadata": {
        "id": "ItGlJdaB_36v",
        "colab_type": "code",
        "colab": {
          "base_uri": "https://localhost:8080/",
          "height": 35
        },
        "outputId": "62f67a92-dbda-4467-efc7-ba3d939ef37f"
      },
      "source": [
        "results = [toss_coin() for i in range(10000)]\n",
        "sum(results)/ len(results)"
      ],
      "execution_count": null,
      "outputs": [
        {
          "output_type": "execute_result",
          "data": {
            "text/plain": [
              "0.5049"
            ]
          },
          "metadata": {
            "tags": []
          },
          "execution_count": 8
        }
      ]
    },
    {
      "cell_type": "code",
      "metadata": {
        "id": "r0bcP2my_6T2",
        "colab_type": "code",
        "colab": {
          "base_uri": "https://localhost:8080/",
          "height": 35
        },
        "outputId": "9436db78-e282-4c6d-ac85-0f90d7dd8163"
      },
      "source": [
        "results = [toss_coin() for i in range(100000)]\n",
        "sum(results)/ len(results)"
      ],
      "execution_count": null,
      "outputs": [
        {
          "output_type": "execute_result",
          "data": {
            "text/plain": [
              "0.49819"
            ]
          },
          "metadata": {
            "tags": []
          },
          "execution_count": 9
        }
      ]
    },
    {
      "cell_type": "markdown",
      "metadata": {
        "id": "f4jwEmH9_-2m",
        "colab_type": "text"
      },
      "source": [
        "The most important thing to remember in this section is the following setnence from the book.\n",
        "\n",
        "> *If we list several properties that we expect common sense reasoning about uncertainty to have, then the only way to satisfy those properties is to treat Bayesian probabilities as behaving exactly the same as frequentist probabilities.*\n",
        "\n"
      ]
    },
    {
      "cell_type": "markdown",
      "metadata": {
        "id": "JxtbfFRs2nUB",
        "colab_type": "text"
      },
      "source": [
        "# 3.2 Random Variables"
      ]
    },
    {
      "cell_type": "code",
      "metadata": {
        "id": "VqcGZfx2_OIO",
        "colab_type": "code",
        "colab": {}
      },
      "source": [
        "import numpy as np"
      ],
      "execution_count": 1,
      "outputs": []
    },
    {
      "cell_type": "markdown",
      "metadata": {
        "id": "tT6pwsweAPG4",
        "colab_type": "text"
      },
      "source": [
        "Let's create a simple discrete random variable $\\mathrm{x}$. $\\mathrm{x}$ can take $-0.1, 0, 2,$ and $10.2$. Their probabilities are $0.1, 0.5, 0.25$, and $0.15$, respectively."
      ]
    },
    {
      "cell_type": "code",
      "metadata": {
        "id": "7g7yI5Y7234g",
        "colab_type": "code",
        "colab": {}
      },
      "source": [
        "def sample_simple_discrete():\n",
        "    randnum = np.random.random_sample()\n",
        "\n",
        "    if randnum < 0.1:\n",
        "        return -0.1\n",
        "    elif randnum < 0.1 + 0.5:\n",
        "        return 0\n",
        "    elif randnum < 0.1 + 0.5 + 0.25:\n",
        "        return 2\n",
        "    else:\n",
        "        return 10.2"
      ],
      "execution_count": 2,
      "outputs": []
    },
    {
      "cell_type": "markdown",
      "metadata": {
        "id": "lauUHYrRA3uF",
        "colab_type": "text"
      },
      "source": [
        "Now the function we have defined above will sample a value from the discrete random variable $\\mathrm{x}$\n"
      ]
    },
    {
      "cell_type": "code",
      "metadata": {
        "id": "dmVCBYJZ_QPp",
        "colab_type": "code",
        "colab": {
          "base_uri": "https://localhost:8080/",
          "height": 35
        },
        "outputId": "462e5dab-4d57-4f56-8814-7ade39d6e6ab"
      },
      "source": [
        "sample_simple_discrete()"
      ],
      "execution_count": 3,
      "outputs": [
        {
          "output_type": "execute_result",
          "data": {
            "text/plain": [
              "2"
            ]
          },
          "metadata": {
            "tags": []
          },
          "execution_count": 3
        }
      ]
    },
    {
      "cell_type": "markdown",
      "metadata": {
        "id": "YtQZfDNPBA-7",
        "colab_type": "text"
      },
      "source": [
        "Let's see if repeating the sampling actually shows that it's sampling from the distribution that we've defined."
      ]
    },
    {
      "cell_type": "code",
      "metadata": {
        "id": "dC4JxedR_1CI",
        "colab_type": "code",
        "colab": {}
      },
      "source": [
        "def get_probs(num_sampling):\n",
        "    sampled = [sample_simple_discrete() for i in range(num_sampling)]\n",
        "\n",
        "    probs = [sampled.count(x_) / len(sampled) for x_ in [-0.1, 0, 2, 10.2]]\n",
        "\n",
        "    return probs"
      ],
      "execution_count": 4,
      "outputs": []
    },
    {
      "cell_type": "code",
      "metadata": {
        "id": "KxMOKqeGBJvG",
        "colab_type": "code",
        "colab": {
          "base_uri": "https://localhost:8080/",
          "height": 35
        },
        "outputId": "3968bd5c-3dea-471a-b42f-0b0837ac5223"
      },
      "source": [
        "get_probs(10)"
      ],
      "execution_count": 5,
      "outputs": [
        {
          "output_type": "execute_result",
          "data": {
            "text/plain": [
              "[0.1, 0.3, 0.4, 0.2]"
            ]
          },
          "metadata": {
            "tags": []
          },
          "execution_count": 5
        }
      ]
    },
    {
      "cell_type": "code",
      "metadata": {
        "id": "WkzXGiJLBMOH",
        "colab_type": "code",
        "colab": {
          "base_uri": "https://localhost:8080/",
          "height": 35
        },
        "outputId": "cc920dcf-7d85-4f8f-eeb0-f825193961f9"
      },
      "source": [
        "get_probs(100)"
      ],
      "execution_count": 6,
      "outputs": [
        {
          "output_type": "execute_result",
          "data": {
            "text/plain": [
              "[0.06, 0.53, 0.27, 0.14]"
            ]
          },
          "metadata": {
            "tags": []
          },
          "execution_count": 6
        }
      ]
    },
    {
      "cell_type": "code",
      "metadata": {
        "id": "J7-981UWBPec",
        "colab_type": "code",
        "colab": {
          "base_uri": "https://localhost:8080/",
          "height": 35
        },
        "outputId": "839cc5d8-f235-49f6-94f2-41e9f2cd71a3"
      },
      "source": [
        "get_probs(1000)"
      ],
      "execution_count": 7,
      "outputs": [
        {
          "output_type": "execute_result",
          "data": {
            "text/plain": [
              "[0.083, 0.498, 0.247, 0.172]"
            ]
          },
          "metadata": {
            "tags": []
          },
          "execution_count": 7
        }
      ]
    },
    {
      "cell_type": "code",
      "metadata": {
        "id": "LzjIhg_pBRWK",
        "colab_type": "code",
        "colab": {
          "base_uri": "https://localhost:8080/",
          "height": 35
        },
        "outputId": "589d7be0-90d3-4f87-b0f7-114c0b4ecc0d"
      },
      "source": [
        "get_probs(10000)"
      ],
      "execution_count": 8,
      "outputs": [
        {
          "output_type": "execute_result",
          "data": {
            "text/plain": [
              "[0.0958, 0.5062, 0.2481, 0.1499]"
            ]
          },
          "metadata": {
            "tags": []
          },
          "execution_count": 8
        }
      ]
    },
    {
      "cell_type": "markdown",
      "metadata": {
        "id": "jPm5FSiVBWgz",
        "colab_type": "text"
      },
      "source": [
        "Note that this was just a toy example. No one does such a thing."
      ]
    },
    {
      "cell_type": "markdown",
      "metadata": {
        "id": "yfMULOppBu4Q",
        "colab_type": "text"
      },
      "source": [
        "# 3.3 Probability Distributions"
      ]
    },
    {
      "cell_type": "code",
      "metadata": {
        "id": "oeApjyJxDJvU",
        "colab_type": "code",
        "colab": {}
      },
      "source": [
        "import numpy as np"
      ],
      "execution_count": 9,
      "outputs": []
    },
    {
      "cell_type": "markdown",
      "metadata": {
        "id": "eSbO6rVYBa2Y",
        "colab_type": "text"
      },
      "source": [
        "There are several useful probability distributions that we use in machine learning. One of the most used and most easy is uniform probability distribution, which I have used a lot in above sections.\n",
        "\n",
        "Below is a function that samples values from the uniform distribution where the domain of the variable is $[0, 1)$ "
      ]
    },
    {
      "cell_type": "code",
      "metadata": {
        "id": "1wc40McDBubi",
        "colab_type": "code",
        "colab": {
          "base_uri": "https://localhost:8080/",
          "height": 35
        },
        "outputId": "0d2a2d5a-9fe9-4fe0-ead0-aa184d224d8f"
      },
      "source": [
        "x_sampled = np.random.random_sample()\n",
        "x_sampled"
      ],
      "execution_count": 10,
      "outputs": [
        {
          "output_type": "execute_result",
          "data": {
            "text/plain": [
              "0.8241459369168749"
            ]
          },
          "metadata": {
            "tags": []
          },
          "execution_count": 10
        }
      ]
    },
    {
      "cell_type": "markdown",
      "metadata": {
        "id": "IkrRnJvjBpUg",
        "colab_type": "text"
      },
      "source": [
        "You can also sample multiple times at once "
      ]
    },
    {
      "cell_type": "code",
      "metadata": {
        "id": "RSoaCJYmErkn",
        "colab_type": "code",
        "colab": {
          "base_uri": "https://localhost:8080/",
          "height": 54
        },
        "outputId": "35562ee2-9716-4ebf-e5d0-0f732ac2dd04"
      },
      "source": [
        "x_sampled = np.random.random_sample(size=10)\n",
        "x_sampled"
      ],
      "execution_count": 11,
      "outputs": [
        {
          "output_type": "execute_result",
          "data": {
            "text/plain": [
              "array([0.54700592, 0.53498258, 0.4264905 , 0.10551716, 0.26612071,\n",
              "       0.81966571, 0.97319834, 0.79167363, 0.80519333, 0.81828559])"
            ]
          },
          "metadata": {
            "tags": []
          },
          "execution_count": 11
        }
      ]
    },
    {
      "cell_type": "markdown",
      "metadata": {
        "id": "0U4zGhHxBvJa",
        "colab_type": "text"
      },
      "source": [
        "You can sample from the uniform distribution whose domain interval is $[a, b)$, by simply multiplying $(b - a)$ with the sampled value and adding $a$ to it.\n"
      ]
    },
    {
      "cell_type": "code",
      "metadata": {
        "id": "r3NyXCtAE27e",
        "colab_type": "code",
        "colab": {
          "base_uri": "https://localhost:8080/",
          "height": 35
        },
        "outputId": "11073ff3-73d1-4b36-c9bf-62a943830958"
      },
      "source": [
        "# e.g., a=1, b=3\n",
        "a = 1\n",
        "b = 3\n",
        "\n",
        "x_sampled = (b - a) * np.random.random_sample() + a\n",
        "x_sampled"
      ],
      "execution_count": 12,
      "outputs": [
        {
          "output_type": "execute_result",
          "data": {
            "text/plain": [
              "1.8888090116586211"
            ]
          },
          "metadata": {
            "tags": []
          },
          "execution_count": 12
        }
      ]
    },
    {
      "cell_type": "markdown",
      "metadata": {
        "id": "f4AHS40eB32i",
        "colab_type": "text"
      },
      "source": [
        "Let's sample many times and plot the histogram to see if the source distribution is indeed the uniform distribution that we expected."
      ]
    },
    {
      "cell_type": "code",
      "metadata": {
        "id": "jHEQHoT4HGIF",
        "colab_type": "code",
        "colab": {
          "base_uri": "https://localhost:8080/",
          "height": 211
        },
        "outputId": "8c0f5999-871d-46de-fe40-4a05d14076cc"
      },
      "source": [
        "import matplotlib.pyplot as plt\n",
        "\n",
        "fig, axs = plt.subplots(1, 5, figsize=(15, 3))\n",
        "for idx, size in enumerate([10, 100, 1000, 10000, 100000]):\n",
        "    x_sampled = np.random.random_sample(size=size)\n",
        "    axs[idx].hist(x_sampled, density=True);"
      ],
      "execution_count": 13,
      "outputs": [
        {
          "output_type": "display_data",
          "data": {
            "image/png": "[encoded data removed]",
            "text/plain": [
              "<Figure size 1080x216 with 5 Axes>"
            ]
          },
          "metadata": {
            "tags": [],
            "needs_background": "light"
          }
        }
      ]
    },
    {
      "cell_type": "markdown",
      "metadata": {
        "id": "kk67XWG-IWFy",
        "colab_type": "text"
      },
      "source": [
        "# 3.4 Marginal Probability"
      ]
    },
    {
      "cell_type": "markdown",
      "metadata": {
        "id": "zjaYObSwB8iI",
        "colab_type": "text"
      },
      "source": [
        "I was trying to make a good python example for this section but I can't really do it cuz we normally explain the concept of marginal probability analytically with a pen and paper."
      ]
    },
    {
      "cell_type": "markdown",
      "metadata": {
        "id": "XYq6cF8wVwtY",
        "colab_type": "text"
      },
      "source": [
        "# 3.5 Conditional Probability"
      ]
    },
    {
      "cell_type": "markdown",
      "metadata": {
        "id": "5ujyzK-B5_dr",
        "colab_type": "text"
      },
      "source": [
        "I was trying to make a good python example for this section but I can't really do it cuz we normally explain the concept of marginal probability analytically with a pen and paper."
      ]
    },
    {
      "cell_type": "markdown",
      "metadata": {
        "id": "Lo7XR0ruWaL5",
        "colab_type": "text"
      },
      "source": [
        "# 3.6 The Chain Rule of Conditional Probabilities"
      ]
    },
    {
      "cell_type": "markdown",
      "metadata": {
        "id": "gHcu-Ttp6E1s",
        "colab_type": "text"
      },
      "source": [
        "I was trying to make a good python example for this section but I can't really do it cuz we normally explain the concept of marginal probability analytically with a pen and paper."
      ]
    },
    {
      "cell_type": "markdown",
      "metadata": {
        "id": "wve3rD1oXVBp",
        "colab_type": "text"
      },
      "source": [
        "# 3.7 Independence and Conditional Independence"
      ]
    },
    {
      "cell_type": "markdown",
      "metadata": {
        "id": "ng9cMilU6F71",
        "colab_type": "text"
      },
      "source": [
        "I was trying to make a good python example for this section but I can't really do it cuz we normally explain the concept of marginal probability analytically with a pen and paper."
      ]
    },
    {
      "cell_type": "markdown",
      "metadata": {
        "id": "1hbzcV9zXWwY",
        "colab_type": "text"
      },
      "source": [
        "# 3.8 Expectation, Variance and Covariance"
      ]
    },
    {
      "cell_type": "code",
      "metadata": {
        "id": "UQ4k1t3WaTlm",
        "colab_type": "code",
        "colab": {}
      },
      "source": [
        "import numpy as np"
      ],
      "execution_count": 14,
      "outputs": []
    },
    {
      "cell_type": "markdown",
      "metadata": {
        "id": "tyw7e7pc6IsI",
        "colab_type": "text"
      },
      "source": [
        "The reason why I keep saying that it's not so easy to make good python examples of this chapter is that often times we prove and show analytically how probability and statistics work. \n",
        "\n",
        "With a pen and paper, I can just write down any probability distribution, and from them I can prove and show how stuffs work. The thing with computers is that we can only sample from such distributions and play with the sampled values.\n",
        "\n",
        "For example, let's take the uniform distribution again where the domain of the\n",
        "random variable $\\mathrm{x} $is $[0, 1)$. Obviously $\\mathrm{E}[\\mathrm{x}]$ is $0.5$, since $\\int_0^1f_X(x)xdx$ equals $0.5$.\n",
        "\n",
        "This gets tricky with computers since as I said we can only deal with the \n",
        "sampled values from it.\n"
      ]
    },
    {
      "cell_type": "code",
      "metadata": {
        "id": "eKwqvFOV7XAR",
        "colab_type": "code",
        "colab": {
          "base_uri": "https://localhost:8080/",
          "height": 35
        },
        "outputId": "fbde86f3-635a-420c-f500-ecfcb7c22a57"
      },
      "source": [
        "x_sampled = np.random.random_sample(10000)\n",
        "x_sampled.mean()"
      ],
      "execution_count": 15,
      "outputs": [
        {
          "output_type": "execute_result",
          "data": {
            "text/plain": [
              "0.5050376234813162"
            ]
          },
          "metadata": {
            "tags": []
          },
          "execution_count": 15
        }
      ]
    },
    {
      "cell_type": "markdown",
      "metadata": {
        "id": "oV3olyUQ7Wnq",
        "colab_type": "text"
      },
      "source": [
        "As you see from the above cell, the mean value of the sampled values is never exactly 0.5, since it's not the analytical expectation but the mean of the sampled values, which is empirical. \n",
        "\n",
        "This doesn't mean that this is a problem. With enough sampling, the stats we get from them get very close to the analytical ones anyways."
      ]
    },
    {
      "cell_type": "markdown",
      "metadata": {
        "id": "dUPvw18k7ovk",
        "colab_type": "text"
      },
      "source": [
        "Let's try getting the expectation of $\\mathrm{x}^2$. The analytical value obtained with integral will give you $1/3$"
      ]
    },
    {
      "cell_type": "code",
      "metadata": {
        "id": "qwej7_1IcVbU",
        "colab_type": "code",
        "colab": {
          "base_uri": "https://localhost:8080/",
          "height": 35
        },
        "outputId": "a6843de0-f441-402a-b72a-cc64606b5b13"
      },
      "source": [
        "x_sampled_squared = x_sampled ** 2\n",
        "x_sampled_squared.mean()"
      ],
      "execution_count": 16,
      "outputs": [
        {
          "output_type": "execute_result",
          "data": {
            "text/plain": [
              "0.3378629246873562"
            ]
          },
          "metadata": {
            "tags": []
          },
          "execution_count": 16
        }
      ]
    },
    {
      "cell_type": "markdown",
      "metadata": {
        "id": "TWCzJQiN7zkk",
        "colab_type": "text"
      },
      "source": [
        "$\\mathrm{Var}[\\mathrm{x}]$ can be computed using the equation"
      ]
    },
    {
      "cell_type": "code",
      "metadata": {
        "id": "nqFoArKTdFKU",
        "colab_type": "code",
        "colab": {
          "base_uri": "https://localhost:8080/",
          "height": 35
        },
        "outputId": "fbad2d7a-0654-4090-9bfe-1b453dcfe554"
      },
      "source": [
        "var_x = ((x_sampled - x_sampled.mean())**2).mean()\n",
        "var_x"
      ],
      "execution_count": 21,
      "outputs": [
        {
          "output_type": "execute_result",
          "data": {
            "text/plain": [
              "0.08279992355570037"
            ]
          },
          "metadata": {
            "tags": []
          },
          "execution_count": 21
        }
      ]
    },
    {
      "cell_type": "markdown",
      "metadata": {
        "id": "FE7MRwbT7-qv",
        "colab_type": "text"
      },
      "source": [
        "Or numpy's built in function."
      ]
    },
    {
      "cell_type": "code",
      "metadata": {
        "id": "r2pf4zfL77Fd",
        "colab_type": "code",
        "colab": {
          "base_uri": "https://localhost:8080/",
          "height": 35
        },
        "outputId": "fba163e5-10ef-4232-bfec-b09b89c983c4"
      },
      "source": [
        "var_x = x_sampled.var()\n",
        "var_x"
      ],
      "execution_count": 22,
      "outputs": [
        {
          "output_type": "execute_result",
          "data": {
            "text/plain": [
              "0.08279992355570037"
            ]
          },
          "metadata": {
            "tags": []
          },
          "execution_count": 22
        }
      ]
    },
    {
      "cell_type": "markdown",
      "metadata": {
        "id": "t2OCuIIs8Iwt",
        "colab_type": "text"
      },
      "source": [
        "The standard deviation of $\\mathrm{x}$, which is $\\sqrt{\\mathrm{Var}[\\mathrm{x}]}$, can be computed using the equation"
      ]
    },
    {
      "cell_type": "code",
      "metadata": {
        "id": "y21A0h9llP7l",
        "colab_type": "code",
        "colab": {
          "base_uri": "https://localhost:8080/",
          "height": 35
        },
        "outputId": "2cb75405-46eb-4b96-c7e4-3359ffc1060b"
      },
      "source": [
        "std_x = np.sqrt(((x_sampled - x_sampled.mean())**2).mean())\n",
        "std_x"
      ],
      "execution_count": 25,
      "outputs": [
        {
          "output_type": "execute_result",
          "data": {
            "text/plain": [
              "0.2877497585675796"
            ]
          },
          "metadata": {
            "tags": []
          },
          "execution_count": 25
        }
      ]
    },
    {
      "cell_type": "markdown",
      "metadata": {
        "id": "cXLWvh9G8SeQ",
        "colab_type": "text"
      },
      "source": [
        "Or numpy's built in function."
      ]
    },
    {
      "cell_type": "code",
      "metadata": {
        "id": "1Zoup7xr8RR3",
        "colab_type": "code",
        "colab": {
          "base_uri": "https://localhost:8080/",
          "height": 35
        },
        "outputId": "f85cd9d8-c70e-4728-b63f-91943f6b2235"
      },
      "source": [
        "var_x = x_sampled.var()\n",
        "std_x = np.sqrt(var_x)\n",
        "std_x"
      ],
      "execution_count": 26,
      "outputs": [
        {
          "output_type": "execute_result",
          "data": {
            "text/plain": [
              "0.2877497585675796"
            ]
          },
          "metadata": {
            "tags": []
          },
          "execution_count": 26
        }
      ]
    },
    {
      "cell_type": "markdown",
      "metadata": {
        "id": "ulgK53CAAt86",
        "colab_type": "text"
      },
      "source": [
        "Let's see if the expectation of two variables is indeed an linear operation."
      ]
    },
    {
      "cell_type": "code",
      "metadata": {
        "id": "k88-Vs1JvJqd",
        "colab_type": "code",
        "colab": {}
      },
      "source": [
        "x_sampled = np.random.random_sample(10000)\n",
        "y_sampled = (3 - 1) * np.random.random_sample(10000) + 1\n",
        "\n",
        "alpha = -1\n",
        "beta = 5.1"
      ],
      "execution_count": 27,
      "outputs": []
    },
    {
      "cell_type": "markdown",
      "metadata": {
        "id": "cXAyZtSZAzTx",
        "colab_type": "text"
      },
      "source": [
        "Below two equations should result in the same value."
      ]
    },
    {
      "cell_type": "code",
      "metadata": {
        "id": "HGppycvUA1Co",
        "colab_type": "code",
        "colab": {
          "base_uri": "https://localhost:8080/",
          "height": 35
        },
        "outputId": "3dd140c9-bdd2-4709-cadf-bfa5661202e6"
      },
      "source": [
        "np.mean(alpha * x_sampled + beta * y_sampled), \\\n",
        "alpha * np.mean(x_sampled) + beta * np.mean(y_sampled)"
      ],
      "execution_count": 28,
      "outputs": [
        {
          "output_type": "execute_result",
          "data": {
            "text/plain": [
              "(9.657759352599205, 9.657759352599204)"
            ]
          },
          "metadata": {
            "tags": []
          },
          "execution_count": 28
        }
      ]
    },
    {
      "cell_type": "markdown",
      "metadata": {
        "id": "U5fppdN1A77D",
        "colab_type": "text"
      },
      "source": [
        "If we just sample from $\\mathrm{x}$ and $\\mathrm{y}$ as below, then we are sampling from two independent distributions. Then of course the covariance will be $0$."
      ]
    },
    {
      "cell_type": "code",
      "metadata": {
        "id": "WXVu8_7AomBe",
        "colab_type": "code",
        "colab": {}
      },
      "source": [
        "x_sampled = np.random.random_sample(10000)\n",
        "y_sampled = (3 - 1) * np.random.random_sample(10000) + 1"
      ],
      "execution_count": 29,
      "outputs": []
    },
    {
      "cell_type": "markdown",
      "metadata": {
        "id": "50Z7okFTBF6F",
        "colab_type": "text"
      },
      "source": [
        "$\\mathrm{Var}[\\mathrm{x}]$ and $\\mathrm{Var}[\\mathrm{y}]$"
      ]
    },
    {
      "cell_type": "code",
      "metadata": {
        "id": "1BrrTvzkBJGc",
        "colab_type": "code",
        "colab": {
          "base_uri": "https://localhost:8080/",
          "height": 35
        },
        "outputId": "c3e17e32-c045-4815-9d7f-4ca47d48d6d0"
      },
      "source": [
        "x_sampled.var(), y_sampled.var()"
      ],
      "execution_count": 31,
      "outputs": [
        {
          "output_type": "execute_result",
          "data": {
            "text/plain": [
              "(0.08367313862385113, 0.3314877103332269)"
            ]
          },
          "metadata": {
            "tags": []
          },
          "execution_count": 31
        }
      ]
    },
    {
      "cell_type": "markdown",
      "metadata": {
        "id": "QdwaiTtDBl2W",
        "colab_type": "text"
      },
      "source": [
        "$\\mathrm{Cov}[\\mathrm{x}]$ and $\\mathrm{Cov}[\\mathrm{y}]$"
      ]
    },
    {
      "cell_type": "code",
      "metadata": {
        "id": "Wx7faanUBjVT",
        "colab_type": "code",
        "colab": {
          "base_uri": "https://localhost:8080/",
          "height": 35
        },
        "outputId": "18e2e8fd-3b34-49f4-8c76-8c5e6c440a83"
      },
      "source": [
        "cov_xy = ((x_sampled - x_sampled.mean()) * (y_sampled - y_sampled.mean())).mean()\n",
        "cov_xy"
      ],
      "execution_count": 33,
      "outputs": [
        {
          "output_type": "execute_result",
          "data": {
            "text/plain": [
              "-0.0014878685403607627"
            ]
          },
          "metadata": {
            "tags": []
          },
          "execution_count": 33
        }
      ]
    },
    {
      "cell_type": "markdown",
      "metadata": {
        "id": "qgtMDL89B5fi",
        "colab_type": "text"
      },
      "source": [
        "Or just use the built-in numpy function. The docstring of `numpy.cov()` says that the data should be arranged as A 1-D or 2-D array containing multiple variables and observations. Each row of m represents a variable, and each column a single observation of all those variables.\n",
        "\n",
        "\n",
        "Since we have two variables, x and y, and we sampled 10,000 times, the data should be of shape (2, 10000)\n",
        "\n",
        "`np.cov()` actually computes the covariance matrix. Check if the elements of this matrix corresponds to the values we have computed above"
      ]
    },
    {
      "cell_type": "code",
      "metadata": {
        "id": "OUReign7B4hn",
        "colab_type": "code",
        "colab": {
          "base_uri": "https://localhost:8080/",
          "height": 54
        },
        "outputId": "96b722f7-6a62-4466-f247-3945953c4c3b"
      },
      "source": [
        "data = np.stack([x_sampled, y_sampled])\n",
        "Cov_xy = np.cov(data)\n",
        "Cov_xy"
      ],
      "execution_count": 34,
      "outputs": [
        {
          "output_type": "execute_result",
          "data": {
            "text/plain": [
              "array([[ 0.08368151, -0.00148802],\n",
              "       [-0.00148802,  0.33152086]])"
            ]
          },
          "metadata": {
            "tags": []
          },
          "execution_count": 34
        }
      ]
    },
    {
      "cell_type": "markdown",
      "metadata": {
        "id": "orolkG2oC7wA",
        "colab_type": "text"
      },
      "source": [
        "Remember that the Covariance matrices are symmetrical.\n"
      ]
    },
    {
      "cell_type": "code",
      "metadata": {
        "id": "I75L7VGGC-UD",
        "colab_type": "code",
        "colab": {
          "base_uri": "https://localhost:8080/",
          "height": 54
        },
        "outputId": "2d74c2ee-49a0-473c-8edd-938964be7e90"
      },
      "source": [
        "Cov_xy.T"
      ],
      "execution_count": 35,
      "outputs": [
        {
          "output_type": "execute_result",
          "data": {
            "text/plain": [
              "array([[ 0.08368151, -0.00148802],\n",
              "       [-0.00148802,  0.33152086]])"
            ]
          },
          "metadata": {
            "tags": []
          },
          "execution_count": 35
        }
      ]
    },
    {
      "cell_type": "markdown",
      "metadata": {
        "id": "A0y5k4KLDOPc",
        "colab_type": "text"
      },
      "source": [
        "This time let's compute correlation. When we talk about correlation, we normally mean Pearson correlation coefficient."
      ]
    },
    {
      "cell_type": "code",
      "metadata": {
        "id": "7tvWqKhbqY_P",
        "colab_type": "code",
        "colab": {
          "base_uri": "https://localhost:8080/",
          "height": 35
        },
        "outputId": "6a092645-ebcc-4546-c68c-33db4f2ccbdf"
      },
      "source": [
        "corr_xy = ((x_sampled - x_sampled.mean()) * (y_sampled - y_sampled.mean())).mean() / (x_sampled.std() * y_sampled.std())\n",
        "corr_xy"
      ],
      "execution_count": 36,
      "outputs": [
        {
          "output_type": "execute_result",
          "data": {
            "text/plain": [
              "-0.008933832696682862"
            ]
          },
          "metadata": {
            "tags": []
          },
          "execution_count": 36
        }
      ]
    },
    {
      "cell_type": "markdown",
      "metadata": {
        "id": "rTfkJpD9DVbu",
        "colab_type": "text"
      },
      "source": [
        "Or we can just get the correlation matrix using the numpy builtin function Note that the correlation of a random variable and itself is always 1, since it's calculated as the variance divided by the square of the standard deviation."
      ]
    },
    {
      "cell_type": "code",
      "metadata": {
        "id": "rJINTlpPDcfo",
        "colab_type": "code",
        "colab": {
          "base_uri": "https://localhost:8080/",
          "height": 54
        },
        "outputId": "01dfc243-394e-4822-c22b-b679ec29f41f"
      },
      "source": [
        "np.corrcoef(data)"
      ],
      "execution_count": 37,
      "outputs": [
        {
          "output_type": "execute_result",
          "data": {
            "text/plain": [
              "array([[ 1.        , -0.00893383],\n",
              "       [-0.00893383,  1.        ]])"
            ]
          },
          "metadata": {
            "tags": []
          },
          "execution_count": 37
        }
      ]
    },
    {
      "cell_type": "markdown",
      "metadata": {
        "id": "ONns5Cukq2aG",
        "colab_type": "text"
      },
      "source": [
        "## Example 1"
      ]
    },
    {
      "cell_type": "markdown",
      "metadata": {
        "id": "W_85nNZaDkpy",
        "colab_type": "text"
      },
      "source": [
        "Covariance and correlation are simple but very powerful tools. Although they only tell us the linear relationship between two variables, not non-linear, they are powerful and simple enough to do things like PCA or define multivariate (higher than one dimensional) probability distributions."
      ]
    },
    {
      "cell_type": "markdown",
      "metadata": {
        "id": "On2cK5ffDp9k",
        "colab_type": "text"
      },
      "source": [
        "Let's take the boston house price as an example again that we used in Chapter2"
      ]
    },
    {
      "cell_type": "code",
      "metadata": {
        "id": "GokgsOnVu01_",
        "colab_type": "code",
        "colab": {}
      },
      "source": [
        "from sklearn.datasets import load_boston\n",
        "X_original = load_boston()['data']"
      ],
      "execution_count": 38,
      "outputs": []
    },
    {
      "cell_type": "markdown",
      "metadata": {
        "id": "IOcBaznADuC-",
        "colab_type": "text"
      },
      "source": [
        "X_original has 506 obervations with 13 features (13 variables)\n"
      ]
    },
    {
      "cell_type": "code",
      "metadata": {
        "id": "OWbiE9_fDv43",
        "colab_type": "code",
        "colab": {
          "base_uri": "https://localhost:8080/",
          "height": 35
        },
        "outputId": "f1c42165-7e00-4fc0-8439-498cc3fb9311"
      },
      "source": [
        "X_original.shape"
      ],
      "execution_count": 39,
      "outputs": [
        {
          "output_type": "execute_result",
          "data": {
            "text/plain": [
              "(506, 13)"
            ]
          },
          "metadata": {
            "tags": []
          },
          "execution_count": 39
        }
      ]
    },
    {
      "cell_type": "markdown",
      "metadata": {
        "id": "qYFjSjFNDx2m",
        "colab_type": "text"
      },
      "source": [
        "If we want to compute the correlation matrix of this data using numpy, we need to transpose it first, since it expects the data to have the rows as variables and the columns as observations.\n"
      ]
    },
    {
      "cell_type": "code",
      "metadata": {
        "id": "y7VHKZN7wr_L",
        "colab_type": "code",
        "colab": {}
      },
      "source": [
        "Corr_X = np.corrcoef(X_original.T)"
      ],
      "execution_count": 40,
      "outputs": []
    },
    {
      "cell_type": "markdown",
      "metadata": {
        "id": "w_G8Wu0pD9g1",
        "colab_type": "text"
      },
      "source": [
        "The correlation between the variables show the linear relationship between them. Remember that the diagonal values are always 1"
      ]
    },
    {
      "cell_type": "code",
      "metadata": {
        "id": "Tr2QLIXXxXcq",
        "colab_type": "code",
        "colab": {
          "base_uri": "https://localhost:8080/",
          "height": 490
        },
        "outputId": "854dfe94-0a1f-469a-b39a-eaa7f1039eb0"
      },
      "source": [
        "Corr_X.round(3)"
      ],
      "execution_count": 41,
      "outputs": [
        {
          "output_type": "execute_result",
          "data": {
            "text/plain": [
              "array([[ 1.   , -0.2  ,  0.407, -0.056,  0.421, -0.219,  0.353, -0.38 ,\n",
              "         0.626,  0.583,  0.29 , -0.385,  0.456],\n",
              "       [-0.2  ,  1.   , -0.534, -0.043, -0.517,  0.312, -0.57 ,  0.664,\n",
              "        -0.312, -0.315, -0.392,  0.176, -0.413],\n",
              "       [ 0.407, -0.534,  1.   ,  0.063,  0.764, -0.392,  0.645, -0.708,\n",
              "         0.595,  0.721,  0.383, -0.357,  0.604],\n",
              "       [-0.056, -0.043,  0.063,  1.   ,  0.091,  0.091,  0.087, -0.099,\n",
              "        -0.007, -0.036, -0.122,  0.049, -0.054],\n",
              "       [ 0.421, -0.517,  0.764,  0.091,  1.   , -0.302,  0.731, -0.769,\n",
              "         0.611,  0.668,  0.189, -0.38 ,  0.591],\n",
              "       [-0.219,  0.312, -0.392,  0.091, -0.302,  1.   , -0.24 ,  0.205,\n",
              "        -0.21 , -0.292, -0.356,  0.128, -0.614],\n",
              "       [ 0.353, -0.57 ,  0.645,  0.087,  0.731, -0.24 ,  1.   , -0.748,\n",
              "         0.456,  0.506,  0.262, -0.274,  0.602],\n",
              "       [-0.38 ,  0.664, -0.708, -0.099, -0.769,  0.205, -0.748,  1.   ,\n",
              "        -0.495, -0.534, -0.232,  0.292, -0.497],\n",
              "       [ 0.626, -0.312,  0.595, -0.007,  0.611, -0.21 ,  0.456, -0.495,\n",
              "         1.   ,  0.91 ,  0.465, -0.444,  0.489],\n",
              "       [ 0.583, -0.315,  0.721, -0.036,  0.668, -0.292,  0.506, -0.534,\n",
              "         0.91 ,  1.   ,  0.461, -0.442,  0.544],\n",
              "       [ 0.29 , -0.392,  0.383, -0.122,  0.189, -0.356,  0.262, -0.232,\n",
              "         0.465,  0.461,  1.   , -0.177,  0.374],\n",
              "       [-0.385,  0.176, -0.357,  0.049, -0.38 ,  0.128, -0.274,  0.292,\n",
              "        -0.444, -0.442, -0.177,  1.   , -0.366],\n",
              "       [ 0.456, -0.413,  0.604, -0.054,  0.591, -0.614,  0.602, -0.497,\n",
              "         0.489,  0.544,  0.374, -0.366,  1.   ]])"
            ]
          },
          "metadata": {
            "tags": []
          },
          "execution_count": 41
        }
      ]
    },
    {
      "cell_type": "markdown",
      "metadata": {
        "id": "yX8LQC6PEC5C",
        "colab_type": "text"
      },
      "source": [
        "Sometimes we also like to plot them as an image to have a better visualized overview."
      ]
    },
    {
      "cell_type": "code",
      "metadata": {
        "id": "mIb5xmQPyEkd",
        "colab_type": "code",
        "colab": {
          "base_uri": "https://localhost:8080/",
          "height": 265
        },
        "outputId": "8fc03c07-f56b-4866-d24e-1eb8ce605f2e"
      },
      "source": [
        "import matplotlib.pyplot as plt\n",
        "plt.imshow(Corr_X);"
      ],
      "execution_count": 42,
      "outputs": [
        {
          "output_type": "display_data",
          "data": {
            "image/png": "[encoded data removed]",
            "text/plain": [
              "<Figure size 432x288 with 1 Axes>"
            ]
          },
          "metadata": {
            "tags": [],
            "needs_background": "light"
          }
        }
      ]
    },
    {
      "cell_type": "markdown",
      "metadata": {
        "id": "P7Y-qOGWEHZe",
        "colab_type": "text"
      },
      "source": [
        "We can see that the 8th and the 9th (starting from 0th) features (variables) have high correlation."
      ]
    },
    {
      "cell_type": "code",
      "metadata": {
        "id": "Un96hr72EOCB",
        "colab_type": "code",
        "colab": {
          "base_uri": "https://localhost:8080/",
          "height": 35
        },
        "outputId": "8af1e526-2058-4659-c6a3-7dbc70b2c149"
      },
      "source": [
        "Corr_X[8, 9]"
      ],
      "execution_count": 43,
      "outputs": [
        {
          "output_type": "execute_result",
          "data": {
            "text/plain": [
              "0.9102281885331835"
            ]
          },
          "metadata": {
            "tags": []
          },
          "execution_count": 43
        }
      ]
    },
    {
      "cell_type": "markdown",
      "metadata": {
        "id": "MsqTA0CiEQoi",
        "colab_type": "text"
      },
      "source": [
        "Let's plot the their raw values and visualize them."
      ]
    },
    {
      "cell_type": "code",
      "metadata": {
        "id": "tlcX1MSQUKOk",
        "colab_type": "code",
        "colab": {
          "base_uri": "https://localhost:8080/",
          "height": 265
        },
        "outputId": "f92bc824-d1fa-4389-f615-06de3e7bbab6"
      },
      "source": [
        "var_8 = X_original[:, 8]\n",
        "var_9 = X_original[:, 9]\n",
        "\n",
        "plt.plot(var_8);\n",
        "plt.plot(var_9);"
      ],
      "execution_count": 44,
      "outputs": [
        {
          "output_type": "display_data",
          "data": {
            "image/png": "[encoded data removed]",
            "text/plain": [
              "<Figure size 432x288 with 1 Axes>"
            ]
          },
          "metadata": {
            "tags": [],
            "needs_background": "light"
          }
        }
      ]
    },
    {
      "cell_type": "markdown",
      "metadata": {
        "id": "uuiOeRihEVAd",
        "colab_type": "text"
      },
      "source": [
        "It's hard to see their correlation since their scales are very different. In this case we can z-scale them."
      ]
    },
    {
      "cell_type": "code",
      "metadata": {
        "id": "7IXvgrS3WGdl",
        "colab_type": "code",
        "colab": {
          "base_uri": "https://localhost:8080/",
          "height": 265
        },
        "outputId": "d6e68a76-8568-4c11-bd32-f2ad39062acb"
      },
      "source": [
        "var_8_ = (var_8 - var_8.mean()) / var_8.std()\n",
        "var_9_ = (var_9 - var_9.mean()) / var_9.std()\n",
        "\n",
        "plt.plot(var_8_);\n",
        "plt.plot(var_9_);"
      ],
      "execution_count": 45,
      "outputs": [
        {
          "output_type": "display_data",
          "data": {
            "image/png": "[encoded data removed]",
            "text/plain": [
              "<Figure size 432x288 with 1 Axes>"
            ]
          },
          "metadata": {
            "tags": [],
            "needs_background": "light"
          }
        }
      ]
    },
    {
      "cell_type": "markdown",
      "metadata": {
        "id": "sN8wvVC-EYkX",
        "colab_type": "text"
      },
      "source": [
        "Now we can clearly see the correlation! They actually move along similarly.\n",
        "\n",
        "Remember what was said in the book. If two variables are independent, then their covariance (correlation) is zero. If their correlation is not 0, then they are dependent. So in this example, we can say that the variable 8 and 9 are indeed dependent."
      ]
    },
    {
      "cell_type": "markdown",
      "metadata": {
        "id": "H1wvBaSyq8Uy",
        "colab_type": "text"
      },
      "source": [
        "## Example 2"
      ]
    },
    {
      "cell_type": "markdown",
      "metadata": {
        "id": "DP_xGTahEguo",
        "colab_type": "text"
      },
      "source": [
        "Often times when you collect data from the real world (e.g. sensors) many features are linearly correlated with each other and thus dependent on each other. Even RGB channels are correlated with each other. I'll open a sample image.\n",
        "\n",
        "\n",
        "![Tae](https://raw.githubusercontent.com/tae898/DeepLearning/master/data/Tae.png)\n"
      ]
    },
    {
      "cell_type": "markdown",
      "metadata": {
        "id": "A0F1tS6BE5Uz",
        "colab_type": "text"
      },
      "source": [
        "Run some unix shell commands to remove the existing images and download the image."
      ]
    },
    {
      "cell_type": "code",
      "metadata": {
        "id": "tsKn8qRYE62t",
        "colab_type": "code",
        "colab": {
          "base_uri": "https://localhost:8080/",
          "height": 217
        },
        "outputId": "cfd606bc-9c67-4c48-a0aa-06c5550a620d"
      },
      "source": [
        "!rm Tae*\n",
        "!wget https://raw.githubusercontent.com/tae898/DeepLearning/master/data/Tae.png"
      ],
      "execution_count": 49,
      "outputs": [
        {
          "output_type": "stream",
          "text": [
            "--2020-07-23 09:49:18--  https://raw.githubusercontent.com/tae898/DeepLearning/master/data/Tae.png\n",
            "Resolving raw.githubusercontent.com (raw.githubusercontent.com)... 151.101.0.133, 151.101.64.133, 151.101.128.133, ...\n",
            "Connecting to raw.githubusercontent.com (raw.githubusercontent.com)|151.101.0.133|:443... connected.\n",
            "HTTP request sent, awaiting response... 200 OK\n",
            "Length: 215413 (210K) [image/png]\n",
            "Saving to: ‘Tae.png’\n",
            "\n",
            "\rTae.png               0%[                    ]       0  --.-KB/s               \rTae.png             100%[===================>] 210.36K  --.-KB/s    in 0.03s   \n",
            "\n",
            "2020-07-23 09:49:18 (6.92 MB/s) - ‘Tae.png’ saved [215413/215413]\n",
            "\n"
          ],
          "name": "stdout"
        }
      ]
    },
    {
      "cell_type": "markdown",
      "metadata": {
        "id": "gTJ6BO8eE7uL",
        "colab_type": "text"
      },
      "source": [
        "opencv to read the image from disk"
      ]
    },
    {
      "cell_type": "code",
      "metadata": {
        "id": "KIHZ1vMCXrzI",
        "colab_type": "code",
        "colab": {}
      },
      "source": [
        "import cv2\n",
        "\n",
        "img_BGR = cv2.imread('Tae.png')\n",
        "img_RGB = cv2.cvtColor(img_BGR, cv2.COLOR_BGR2RGB)"
      ],
      "execution_count": 50,
      "outputs": []
    },
    {
      "cell_type": "markdown",
      "metadata": {
        "id": "VfT42BmXFBGH",
        "colab_type": "text"
      },
      "source": [
        "Below lines show how much of correlation there is among the channels."
      ]
    },
    {
      "cell_type": "code",
      "metadata": {
        "id": "WRgg6ei-Ysh7",
        "colab_type": "code",
        "colab": {
          "base_uri": "https://localhost:8080/",
          "height": 35
        },
        "outputId": "db77948b-db55-4a9c-93cb-11267330fb37"
      },
      "source": [
        "channel_R = img_RGB[:,:,0].flatten()\n",
        "channel_B = img_RGB[:,:,1].flatten()\n",
        "channel_C = img_RGB[:,:,2].flatten()\n",
        "\n",
        "data_RGB = np.stack([channel_R, channel_B, channel_C])\n",
        "data_RGB.shape"
      ],
      "execution_count": 53,
      "outputs": [
        {
          "output_type": "execute_result",
          "data": {
            "text/plain": [
              "(3, 172272)"
            ]
          },
          "metadata": {
            "tags": []
          },
          "execution_count": 53
        }
      ]
    },
    {
      "cell_type": "code",
      "metadata": {
        "id": "dTdImhesFGYx",
        "colab_type": "code",
        "colab": {
          "base_uri": "https://localhost:8080/",
          "height": 72
        },
        "outputId": "a79791a8-d192-43bc-c099-990445f4406a"
      },
      "source": [
        "Corr_RGB = np.corrcoef(data_RGB)\n",
        "Corr_RGB"
      ],
      "execution_count": 55,
      "outputs": [
        {
          "output_type": "execute_result",
          "data": {
            "text/plain": [
              "array([[1.        , 0.96368862, 0.91644125],\n",
              "       [0.96368862, 1.        , 0.98165787],\n",
              "       [0.91644125, 0.98165787, 1.        ]])"
            ]
          },
          "metadata": {
            "tags": []
          },
          "execution_count": 55
        }
      ]
    },
    {
      "cell_type": "markdown",
      "metadata": {
        "id": "6BYUUqgNFLso",
        "colab_type": "text"
      },
      "source": [
        "You can see that the three RGB channels are highly linearly correlated"
      ]
    },
    {
      "cell_type": "markdown",
      "metadata": {
        "id": "6sKGIfOuFOUL",
        "colab_type": "text"
      },
      "source": [
        "Linearly transforming the data from the RGB color space to the [YCoCg color space](https://en.wikipedia.org/wiki/YCoCg) can somewhat decorrelate the channels."
      ]
    },
    {
      "cell_type": "code",
      "metadata": {
        "id": "a0_keWBpbT0C",
        "colab_type": "code",
        "colab": {
          "base_uri": "https://localhost:8080/",
          "height": 72
        },
        "outputId": "8bffa546-e238-4551-b32d-f2057c4b07b4"
      },
      "source": [
        "RGB2YCoCg = np.array([[1/4,     1/2,    1/4],\n",
        "                      [1/2,     0,      -1/2],\n",
        "                      [-1/4,    1/2,    -1/4]])\n",
        "\n",
        "YCoCg2RGB = np.linalg.inv(RGB2YCoCg)\n",
        "\n",
        "data_YCoCg = RGB2YCoCg @ data_RGB\n",
        "\n",
        "Corr_YCoCg = np.corrcoef(data_YCoCg)\n",
        "Corr_YCoCg"
      ],
      "execution_count": 56,
      "outputs": [
        {
          "output_type": "execute_result",
          "data": {
            "text/plain": [
              "array([[ 1.        ,  0.53838837,  0.63563295],\n",
              "       [ 0.53838837,  1.        , -0.04898877],\n",
              "       [ 0.63563295, -0.04898877,  1.        ]])"
            ]
          },
          "metadata": {
            "tags": []
          },
          "execution_count": 56
        }
      ]
    },
    {
      "cell_type": "markdown",
      "metadata": {
        "id": "rWsmqbVUFjbv",
        "colab_type": "text"
      },
      "source": [
        "From the correlation matrix you can see that the correlation between the variables is not as high."
      ]
    },
    {
      "cell_type": "markdown",
      "metadata": {
        "id": "0BufyePHFm3Q",
        "colab_type": "text"
      },
      "source": [
        "Using this intuition, we can create an \"*encoder*\" matrix that only keeps the two channels (Y and Co)"
      ]
    },
    {
      "cell_type": "code",
      "metadata": {
        "id": "sSIN0QIKfAer",
        "colab_type": "code",
        "colab": {}
      },
      "source": [
        "Encoder = RGB2YCoCg[:2, :]\n",
        "Decoder = YCoCg2RGB[:, :2]"
      ],
      "execution_count": 57,
      "outputs": []
    },
    {
      "cell_type": "markdown",
      "metadata": {
        "id": "RvAdsZ6iFt-R",
        "colab_type": "text"
      },
      "source": [
        "Note the shapes!\n"
      ]
    },
    {
      "cell_type": "code",
      "metadata": {
        "id": "iF9MxCZ2FwwT",
        "colab_type": "code",
        "colab": {
          "base_uri": "https://localhost:8080/",
          "height": 35
        },
        "outputId": "cd768a6f-78f1-41cd-880b-85aa80705629"
      },
      "source": [
        "Encoder.shape, Decoder.shape"
      ],
      "execution_count": 58,
      "outputs": [
        {
          "output_type": "execute_result",
          "data": {
            "text/plain": [
              "((2, 3), (3, 2))"
            ]
          },
          "metadata": {
            "tags": []
          },
          "execution_count": 58
        }
      ]
    },
    {
      "cell_type": "markdown",
      "metadata": {
        "id": "7-dSm57wF17T",
        "colab_type": "text"
      },
      "source": [
        "Compress the data from 3 channels to 2."
      ]
    },
    {
      "cell_type": "code",
      "metadata": {
        "id": "AmQ9yTHFF1UE",
        "colab_type": "code",
        "colab": {
          "base_uri": "https://localhost:8080/",
          "height": 35
        },
        "outputId": "accd2a93-e389-458d-9c2f-44689ca32769"
      },
      "source": [
        "data_compressed = Encoder @ data_RGB\n",
        "data_RGB.shape, data_compressed.shape"
      ],
      "execution_count": 59,
      "outputs": [
        {
          "output_type": "execute_result",
          "data": {
            "text/plain": [
              "((3, 172272), (2, 172272))"
            ]
          },
          "metadata": {
            "tags": []
          },
          "execution_count": 59
        }
      ]
    },
    {
      "cell_type": "markdown",
      "metadata": {
        "id": "-8-llJUxF82x",
        "colab_type": "text"
      },
      "source": [
        "Now let's reconstruct the data using the Decoder!"
      ]
    },
    {
      "cell_type": "code",
      "metadata": {
        "id": "U8CPuVexF-zm",
        "colab_type": "code",
        "colab": {
          "base_uri": "https://localhost:8080/",
          "height": 35
        },
        "outputId": "0c0875a3-47a4-4205-9d24-3fa5f39485f9"
      },
      "source": [
        "data_reconstructed = Decoder @ data_compressed\n",
        "data_reconstructed.shape"
      ],
      "execution_count": 60,
      "outputs": [
        {
          "output_type": "execute_result",
          "data": {
            "text/plain": [
              "(3, 172272)"
            ]
          },
          "metadata": {
            "tags": []
          },
          "execution_count": 60
        }
      ]
    },
    {
      "cell_type": "markdown",
      "metadata": {
        "id": "Rz9VatvNGCGa",
        "colab_type": "text"
      },
      "source": [
        "We have to reshape the matrix into the original image shape."
      ]
    },
    {
      "cell_type": "code",
      "metadata": {
        "id": "EiQxUTbCilgp",
        "colab_type": "code",
        "colab": {}
      },
      "source": [
        "R_reconstructed = data_reconstructed[0, :].reshape(444, 388)\n",
        "G_reconstructed = data_reconstructed[1, :].reshape(444, 388)\n",
        "B_reconstructed = data_reconstructed[2, :].reshape(444, 388)"
      ],
      "execution_count": 62,
      "outputs": []
    },
    {
      "cell_type": "markdown",
      "metadata": {
        "id": "2yUNkIqLGHF4",
        "colab_type": "text"
      },
      "source": [
        "We also have to clip the values that are not between 0 and 255.\n"
      ]
    },
    {
      "cell_type": "code",
      "metadata": {
        "id": "5HuDKZfOGJC_",
        "colab_type": "code",
        "colab": {}
      },
      "source": [
        "R_reconstructed[R_reconstructed < 0] =0\n",
        "R_reconstructed[R_reconstructed > 255] =255\n",
        "G_reconstructed[G_reconstructed < 0] =0\n",
        "G_reconstructed[G_reconstructed > 255] =255\n",
        "B_reconstructed[B_reconstructed < 0] =0\n",
        "B_reconstructed[B_reconstructed > 255] =255\n",
        "\n",
        "img_reconstructed = np.stack([R_reconstructed, G_reconstructed, B_reconstructed], -1)"
      ],
      "execution_count": 63,
      "outputs": []
    },
    {
      "cell_type": "markdown",
      "metadata": {
        "id": "w8FClB8jGMHs",
        "colab_type": "text"
      },
      "source": [
        "We also have to convert the type from float to unsigned 8 bit integer."
      ]
    },
    {
      "cell_type": "code",
      "metadata": {
        "id": "btyl_JikGN1i",
        "colab_type": "code",
        "colab": {
          "base_uri": "https://localhost:8080/",
          "height": 540
        },
        "outputId": "e255e0fe-6a3f-4130-82df-239c6d6b9382"
      },
      "source": [
        "img_reconstructed = img_reconstructed.astype(np.uint8)\n",
        "\n",
        "fig, (ax1, ax2) = plt.subplots(1, 2, figsize=(15,8));\n",
        "\n",
        "fig.suptitle('Left is the original and the right is the reconstructed. ')\n",
        "ax1.imshow(img_RGB);\n",
        "ax2.imshow(img_reconstructed);"
      ],
      "execution_count": 64,
      "outputs": [
        {
          "output_type": "display_data",
          "data": {
            "image/png": "[encoded data removed]",
            "text/plain": [
              "<Figure size 1080x576 with 2 Axes>"
            ]
          },
          "metadata": {
            "tags": [],
            "needs_background": "light"
          }
        }
      ]
    },
    {
      "cell_type": "markdown",
      "metadata": {
        "id": "2x7FknfkGRzR",
        "colab_type": "text"
      },
      "source": [
        "This was just a toy example of encoding and decoding data using the linear algebra that we have learned so far.\n",
        "\n",
        "Of course no one does encoding-decoding this way. When you save RGB images from the memory to disc (e.g. as a jpg format), it uses a much more sophisticated algorithm to encode data (see [how JPEG is done](https://en.wikipedia.org/wiki/JPEG), for example)\n",
        "\n",
        "Later on we will even learn encoding-decoding using neural networks!\n",
        "\n",
        "What I wanted to show here is that real world data has features that are linearly correlated and simple linear transformation can encode / decode them."
      ]
    },
    {
      "cell_type": "markdown",
      "metadata": {
        "id": "hYXwb5iEy3Db",
        "colab_type": "text"
      },
      "source": [
        "# 3.9 Common Probability Distributions"
      ]
    },
    {
      "cell_type": "code",
      "metadata": {
        "id": "9re99nPHy4LU",
        "colab_type": "code",
        "colab": {}
      },
      "source": [
        "import numpy as np"
      ],
      "execution_count": 65,
      "outputs": []
    },
    {
      "cell_type": "markdown",
      "metadata": {
        "id": "uxFOsURSqd9v",
        "colab_type": "text"
      },
      "source": [
        "## 3.9.1 Bernoulli distribution"
      ]
    },
    {
      "cell_type": "markdown",
      "metadata": {
        "id": "C0A192UzGmfK",
        "colab_type": "text"
      },
      "source": [
        "I couldn't find bernoulli from numpy so I will import it from scipy."
      ]
    },
    {
      "cell_type": "code",
      "metadata": {
        "id": "kv-CjrHRQ6e3",
        "colab_type": "code",
        "colab": {}
      },
      "source": [
        "from scipy.stats import bernoulli"
      ],
      "execution_count": 66,
      "outputs": []
    },
    {
      "cell_type": "markdown",
      "metadata": {
        "id": "orS7aneSGowU",
        "colab_type": "text"
      },
      "source": [
        "Let's say $P(\\mathrm{x}=1) = p$. This is the parameter you have to specify to use bernoulli.\n"
      ]
    },
    {
      "cell_type": "code",
      "metadata": {
        "id": "s-hMfk749S9W",
        "colab_type": "code",
        "colab": {}
      },
      "source": [
        "p = 0.3"
      ],
      "execution_count": 67,
      "outputs": []
    },
    {
      "cell_type": "markdown",
      "metadata": {
        "id": "yhAqLkTFHMnY",
        "colab_type": "text"
      },
      "source": [
        "Let's sample 100000 from the distribution and see if the expectation and the variance are close to the analytical ones."
      ]
    },
    {
      "cell_type": "code",
      "metadata": {
        "id": "WadWotM4HO5H",
        "colab_type": "code",
        "colab": {}
      },
      "source": [
        "samples = bernoulli.rvs(p, size=100000)"
      ],
      "execution_count": 68,
      "outputs": []
    },
    {
      "cell_type": "markdown",
      "metadata": {
        "id": "FQl8399XHRXs",
        "colab_type": "text"
      },
      "source": [
        "The expectation should be $p = 0.3$."
      ]
    },
    {
      "cell_type": "code",
      "metadata": {
        "id": "VvC1h4HkHUdo",
        "colab_type": "code",
        "colab": {
          "base_uri": "https://localhost:8080/",
          "height": 35
        },
        "outputId": "25ffb632-490b-4bb1-b356-d0e9c1bcb860"
      },
      "source": [
        "samples.mean()"
      ],
      "execution_count": 69,
      "outputs": [
        {
          "output_type": "execute_result",
          "data": {
            "text/plain": [
              "0.29928"
            ]
          },
          "metadata": {
            "tags": []
          },
          "execution_count": 69
        }
      ]
    },
    {
      "cell_type": "markdown",
      "metadata": {
        "id": "EINQwOw3HWkB",
        "colab_type": "text"
      },
      "source": [
        "The variance should be $p(1-p) = 0.3\\times0.7 = 0.021$\n"
      ]
    },
    {
      "cell_type": "code",
      "metadata": {
        "id": "QPAtZJuZHaXA",
        "colab_type": "code",
        "colab": {
          "base_uri": "https://localhost:8080/",
          "height": 35
        },
        "outputId": "08bf4e34-66c0-481c-c415-35a388e65fcd"
      },
      "source": [
        "samples.var()"
      ],
      "execution_count": 70,
      "outputs": [
        {
          "output_type": "execute_result",
          "data": {
            "text/plain": [
              "0.20971148160000005"
            ]
          },
          "metadata": {
            "tags": []
          },
          "execution_count": 70
        }
      ]
    },
    {
      "cell_type": "markdown",
      "metadata": {
        "id": "KVmcPXx1qjbq",
        "colab_type": "text"
      },
      "source": [
        "## Binomial distribution"
      ]
    },
    {
      "cell_type": "markdown",
      "metadata": {
        "id": "OwxPAt_IHkdq",
        "colab_type": "text"
      },
      "source": [
        "I couldn't find binomial from numpy so I will import it from scipy."
      ]
    },
    {
      "cell_type": "code",
      "metadata": {
        "id": "J3qngD49HlvR",
        "colab_type": "code",
        "colab": {}
      },
      "source": [
        "from scipy.stats import binom"
      ],
      "execution_count": 71,
      "outputs": []
    },
    {
      "cell_type": "markdown",
      "metadata": {
        "id": "WDUL-4hAHnk2",
        "colab_type": "text"
      },
      "source": [
        "[A helpful explanation](https://en.wikipedia.org/wiki/Binomial_distribution#Bernoulli_distribution)\n",
        " "
      ]
    },
    {
      "cell_type": "markdown",
      "metadata": {
        "id": "bzOUH69BHyvC",
        "colab_type": "text"
      },
      "source": [
        "The Bernoulli distribution is a special case of the binomial distribution, where $n = 1$.\n",
        "\n",
        "For this distribution we have to specify two parameters $n$ and $p$. $p$ can be considered the same thing as bernoulli and $n$ is the number of bernoulli trials.\n"
      ]
    },
    {
      "cell_type": "code",
      "metadata": {
        "id": "clfliYhjH6YA",
        "colab_type": "code",
        "colab": {}
      },
      "source": [
        "n = 10\n",
        "p = 0.3"
      ],
      "execution_count": 73,
      "outputs": []
    },
    {
      "cell_type": "markdown",
      "metadata": {
        "id": "uJ7swRvkH7iR",
        "colab_type": "text"
      },
      "source": [
        "Let's sample 100000 samples from the distribution"
      ]
    },
    {
      "cell_type": "code",
      "metadata": {
        "id": "fy58b6lWPmGA",
        "colab_type": "code",
        "colab": {}
      },
      "source": [
        "samples = binom.rvs(n, p, size=100000)"
      ],
      "execution_count": 74,
      "outputs": []
    },
    {
      "cell_type": "markdown",
      "metadata": {
        "id": "1AMBnYjBICFO",
        "colab_type": "text"
      },
      "source": [
        "Below line will print the unique observations of the samples. There should be 11 unique obervations since we wet n to 10 and therefore the possible values of $k$ is $0, 1, ..., 9, 10$."
      ]
    },
    {
      "cell_type": "code",
      "metadata": {
        "id": "R0JdzA41VlEP",
        "colab_type": "code",
        "colab": {
          "base_uri": "https://localhost:8080/",
          "height": 35
        },
        "outputId": "f4bfa97d-a1f1-49b7-af7b-234621524c82"
      },
      "source": [
        "set(samples)"
      ],
      "execution_count": 75,
      "outputs": [
        {
          "output_type": "execute_result",
          "data": {
            "text/plain": [
              "{0, 1, 2, 3, 4, 5, 6, 7, 8, 9, 10}"
            ]
          },
          "metadata": {
            "tags": []
          },
          "execution_count": 75
        }
      ]
    },
    {
      "cell_type": "code",
      "metadata": {
        "id": "R6xSMoIEUWqm",
        "colab_type": "code",
        "colab": {}
      },
      "source": [
        "import matplotlib.pyplot as plt"
      ],
      "execution_count": 76,
      "outputs": []
    },
    {
      "cell_type": "markdown",
      "metadata": {
        "id": "AvdOhQXtIMtP",
        "colab_type": "text"
      },
      "source": [
        "Let's plot the histogram of the samples to see the possible values of the random variable and how many observations were realized."
      ]
    },
    {
      "cell_type": "code",
      "metadata": {
        "id": "B9dCYL0VIQYy",
        "colab_type": "code",
        "colab": {
          "base_uri": "https://localhost:8080/",
          "height": 265
        },
        "outputId": "4ace2de2-3b81-45e4-9b97-9ce193f43bc7"
      },
      "source": [
        "plt.hist(samples, bins=11);"
      ],
      "execution_count": 77,
      "outputs": [
        {
          "output_type": "display_data",
          "data": {
            "image/png": "[encoded data removed]",
            "text/plain": [
              "<Figure size 432x288 with 1 Axes>"
            ]
          },
          "metadata": {
            "tags": [],
            "needs_background": "light"
          }
        }
      ]
    },
    {
      "cell_type": "markdown",
      "metadata": {
        "id": "azYaQsoxISGG",
        "colab_type": "text"
      },
      "source": [
        "The histogram look a lot like the pdf of a Gaussian!\n",
        "\n",
        "Plotting the histogram of sampled values from a certain probability distribution is equilvalent to plotting the pdf or pmf of the distribution. As the number of samples get close to infinity, the histogram would look more like to the analytical pdf or pmf of it."
      ]
    },
    {
      "cell_type": "markdown",
      "metadata": {
        "id": "TTUgZadDIcmT",
        "colab_type": "text"
      },
      "source": [
        "Let's also check if the expectation and the variance are close to the analytical ones."
      ]
    },
    {
      "cell_type": "markdown",
      "metadata": {
        "id": "FzStru1PIgLi",
        "colab_type": "text"
      },
      "source": [
        "The expectation should be $n\\times p = 10\\times0.3 = 3$"
      ]
    },
    {
      "cell_type": "code",
      "metadata": {
        "id": "k3pEV7qHIvx9",
        "colab_type": "code",
        "colab": {
          "base_uri": "https://localhost:8080/",
          "height": 35
        },
        "outputId": "939d7b9d-bdf6-40c8-ec81-68b4e9c6de3d"
      },
      "source": [
        "samples.mean()"
      ],
      "execution_count": 78,
      "outputs": [
        {
          "output_type": "execute_result",
          "data": {
            "text/plain": [
              "2.99985"
            ]
          },
          "metadata": {
            "tags": []
          },
          "execution_count": 78
        }
      ]
    },
    {
      "cell_type": "markdown",
      "metadata": {
        "id": "EaKkYeJOIxyk",
        "colab_type": "text"
      },
      "source": [
        "The variance should be $n \\times p \\times (1-p) = 10 \\times 0.3 \\times 0.7 = 2.1$"
      ]
    },
    {
      "cell_type": "code",
      "metadata": {
        "id": "_x7PVyNoI3ZL",
        "colab_type": "code",
        "colab": {
          "base_uri": "https://localhost:8080/",
          "height": 35
        },
        "outputId": "fa8d4e30-c5ea-486a-d73f-0a8b543080dd"
      },
      "source": [
        "samples.var()"
      ],
      "execution_count": 79,
      "outputs": [
        {
          "output_type": "execute_result",
          "data": {
            "text/plain": [
              "2.0884699775"
            ]
          },
          "metadata": {
            "tags": []
          },
          "execution_count": 79
        }
      ]
    },
    {
      "cell_type": "markdown",
      "metadata": {
        "id": "2RQjfHYAqqWj",
        "colab_type": "text"
      },
      "source": [
        "## 3.9.2 Categorical distribution\n"
      ]
    },
    {
      "cell_type": "markdown",
      "metadata": {
        "id": "3IhRFz4kI5-l",
        "colab_type": "text"
      },
      "source": [
        "[Categorical distribution on Wikipedia](https://en.wikipedia.org/wiki/Categorical_distribution) \n",
        "\n",
        "Categorical distribution, generalized Bernoulli distribution, and multinoulli distribution are the same thing.\n",
        "\n",
        "The categorical distribution is the generalization of the Bernoulli distribution for a categorical random variable (i.e. for a discrete variable with more than two possible outcomes\n",
        "\n",
        "As said in the book, computing the expectation or variance of multinoulli-distributed random variables is not necessary. I will show you this as an example below.\n",
        "\n",
        "Let's say that $\\mathrm{x}$ is a scalar random variable that follows a categorical distribution. $\\mathrm{x}$ can take dog, cat, and monkey, and their probabilities are $0.2$, $0.5$, and $0.3$, respectively. \n",
        "\n",
        "For computation reasons we express \"dog\", \"cat\", and \"monkey\" into numbers, such as $0$, $1$, and $2$. "
      ]
    },
    {
      "cell_type": "code",
      "metadata": {
        "id": "5NemlO2rlF-Y",
        "colab_type": "code",
        "colab": {}
      },
      "source": [
        "px = np.array([0.2, 0.5, 0.3])\n",
        "x = np.array([0, 1, 2])"
      ],
      "execution_count": 80,
      "outputs": []
    },
    {
      "cell_type": "markdown",
      "metadata": {
        "id": "MU59dqOVRY8x",
        "colab_type": "text"
      },
      "source": [
        "In this case the expectation will be:\n"
      ]
    },
    {
      "cell_type": "code",
      "metadata": {
        "id": "V3V-SUcvRaz6",
        "colab_type": "code",
        "colab": {
          "base_uri": "https://localhost:8080/",
          "height": 35
        },
        "outputId": "d5291dee-abaa-4623-9b82-af585c2c1c39"
      },
      "source": [
        "expectation_x = (x*px).sum() \n",
        "expectation_x"
      ],
      "execution_count": 82,
      "outputs": [
        {
          "output_type": "execute_result",
          "data": {
            "text/plain": [
              "1.1"
            ]
          },
          "metadata": {
            "tags": []
          },
          "execution_count": 82
        }
      ]
    },
    {
      "cell_type": "markdown",
      "metadata": {
        "id": "LKcGJUoYRdyR",
        "colab_type": "text"
      },
      "source": [
        "and the variance will be\n"
      ]
    },
    {
      "cell_type": "code",
      "metadata": {
        "id": "C_it9-FyRfQA",
        "colab_type": "code",
        "colab": {
          "base_uri": "https://localhost:8080/",
          "height": 35
        },
        "outputId": "2256efa2-a689-4370-d1de-c88c3f3fa980"
      },
      "source": [
        "variance_x = (((x -expectation_x)**2) * px).sum() \n",
        "variance_x"
      ],
      "execution_count": 83,
      "outputs": [
        {
          "output_type": "execute_result",
          "data": {
            "text/plain": [
              "0.49"
            ]
          },
          "metadata": {
            "tags": []
          },
          "execution_count": 83
        }
      ]
    },
    {
      "cell_type": "markdown",
      "metadata": {
        "id": "cVnizOdjRjlp",
        "colab_type": "text"
      },
      "source": [
        "What if we give them different numbers, like, "
      ]
    },
    {
      "cell_type": "code",
      "metadata": {
        "id": "Ejv2iGPSRpQj",
        "colab_type": "code",
        "colab": {}
      },
      "source": [
        "x = np.array([0, 1, 10])"
      ],
      "execution_count": 84,
      "outputs": []
    },
    {
      "cell_type": "markdown",
      "metadata": {
        "id": "NH9vXaLfRqrZ",
        "colab_type": "text"
      },
      "source": [
        "just becuase I like monkeys a lot.\n",
        "\n",
        "In this case the expectation will be:"
      ]
    },
    {
      "cell_type": "code",
      "metadata": {
        "id": "vM1g3XjBRtuT",
        "colab_type": "code",
        "colab": {
          "base_uri": "https://localhost:8080/",
          "height": 35
        },
        "outputId": "10bc96b8-d83d-48e3-abb4-1d7f7c16fc95"
      },
      "source": [
        "expectation_x = (x*px).sum() \n",
        "expectation_x"
      ],
      "execution_count": 85,
      "outputs": [
        {
          "output_type": "execute_result",
          "data": {
            "text/plain": [
              "3.5"
            ]
          },
          "metadata": {
            "tags": []
          },
          "execution_count": 85
        }
      ]
    },
    {
      "cell_type": "markdown",
      "metadata": {
        "id": "g0pDvCpORvzd",
        "colab_type": "text"
      },
      "source": [
        "and the variance will be\n"
      ]
    },
    {
      "cell_type": "code",
      "metadata": {
        "id": "V_6PpvWLRxR5",
        "colab_type": "code",
        "colab": {
          "base_uri": "https://localhost:8080/",
          "height": 35
        },
        "outputId": "0018832b-3975-469a-8af4-b990c9230c60"
      },
      "source": [
        "variance_x = (((x -expectation_x)**2) * px).sum() \n",
        "variance_x"
      ],
      "execution_count": 86,
      "outputs": [
        {
          "output_type": "execute_result",
          "data": {
            "text/plain": [
              "18.25"
            ]
          },
          "metadata": {
            "tags": []
          },
          "execution_count": 86
        }
      ]
    },
    {
      "cell_type": "markdown",
      "metadata": {
        "id": "BNYCwCAmR00j",
        "colab_type": "text"
      },
      "source": [
        "Do the stats expectation and variance mean anything here? Not really, right? "
      ]
    },
    {
      "cell_type": "markdown",
      "metadata": {
        "id": "o6AwNJaTrCbA",
        "colab_type": "text"
      },
      "source": [
        "## Multinomial distribution"
      ]
    },
    {
      "cell_type": "markdown",
      "metadata": {
        "id": "wjMKUPaRR4Y0",
        "colab_type": "text"
      },
      "source": [
        "[Multinomial distribution on Wikipedia](https://en.wikipedia.org/wiki/Multinomial_distribution)\n",
        "\n",
        "I will copy the first paragraphs of the wikipedia page,  Since it sums up really well what we have learned so far.\n",
        "\n",
        "In probability theory, the multinomial distribution is a generalization of the binomial distribution. For example, it models the probability of counts for each side of a $k$-sided die rolled n times. For n independent trials each of which leads to a success for exactly one of $k$ categories, with each category having a given fixed success probability, the multinomial distribution gives the probability of any particular combination of numbers of successes for the various categories.\n",
        "\n",
        "When $k$ is 2 and $n$ is 1, the multinomial distribution is the Bernoulli\n",
        "distribution. \n",
        "\n",
        "When $k$ is 2 and $n$ is bigger than 1, it is the binomial distribution. \n",
        "\n",
        "When $k$ is bigger than 2 and $n$ is 1, it is the categorical distribution.\n",
        "\n",
        "The Bernoulli distribution models the outcome of a single Bernoulli trial. In other words, it models whether flipping a (possibly biased) coin one time will result in either a success (obtaining a head) or failure (obtaining a tail). The binomial distribution generalizes this to the number of heads from performing n independent flips (Bernoulli trials) of the same coin. The multinomial distribution models the outcome of n experiments, where the outcome of each trial has a categorical distribution, such as rolling a $k$-sided dice n times."
      ]
    },
    {
      "cell_type": "code",
      "metadata": {
        "id": "54X28fYjrBK4",
        "colab_type": "code",
        "colab": {}
      },
      "source": [
        "from scipy.stats import multinomial"
      ],
      "execution_count": 87,
      "outputs": []
    },
    {
      "cell_type": "markdown",
      "metadata": {
        "id": "si_CbzSzSgkM",
        "colab_type": "text"
      },
      "source": [
        "Below function samples from the multinomial distribution. We have to specify $n$ and $\\pmb{p}$, where $n$ is a scalar and $\\pmb{p}$ is a vector of probs. Obviously the sum of elements in $\\pmb{p}$ should be 1."
      ]
    },
    {
      "cell_type": "code",
      "metadata": {
        "id": "QvenpI3rTDls",
        "colab_type": "code",
        "colab": {}
      },
      "source": [
        "n = 10\n",
        "p = np.array([0.1, 0.2, 0.5, 0.2])\n",
        "size = 100000"
      ],
      "execution_count": 88,
      "outputs": []
    },
    {
      "cell_type": "markdown",
      "metadata": {
        "id": "BMcV7VL-TF-O",
        "colab_type": "text"
      },
      "source": [
        "The length of vector $\\pmb{p}$ is the value of $k$."
      ]
    },
    {
      "cell_type": "code",
      "metadata": {
        "id": "FYxwr40YTLhS",
        "colab_type": "code",
        "colab": {
          "base_uri": "https://localhost:8080/",
          "height": 35
        },
        "outputId": "9fed7f16-927a-41b0-c27e-37e5c8feaf5e"
      },
      "source": [
        "k = len(p)\n",
        "k"
      ],
      "execution_count": 89,
      "outputs": [
        {
          "output_type": "execute_result",
          "data": {
            "text/plain": [
              "4"
            ]
          },
          "metadata": {
            "tags": []
          },
          "execution_count": 89
        }
      ]
    },
    {
      "cell_type": "markdown",
      "metadata": {
        "id": "aXA7yqWHTOrk",
        "colab_type": "text"
      },
      "source": [
        "Let's sample 100000 from the distribution."
      ]
    },
    {
      "cell_type": "code",
      "metadata": {
        "id": "zBGiQB-bTQur",
        "colab_type": "code",
        "colab": {}
      },
      "source": [
        "samples = multinomial.rvs(n, p, size)"
      ],
      "execution_count": 90,
      "outputs": []
    },
    {
      "cell_type": "markdown",
      "metadata": {
        "id": "2OyQihOyTTOt",
        "colab_type": "text"
      },
      "source": [
        "The sample has 100000 rows (observations) and 4 columns (counts per each category)"
      ]
    },
    {
      "cell_type": "code",
      "metadata": {
        "id": "RxBVX46UTU6f",
        "colab_type": "code",
        "colab": {
          "base_uri": "https://localhost:8080/",
          "height": 35
        },
        "outputId": "5dbfd2cb-c223-4de7-81d3-c433ce501e6b"
      },
      "source": [
        "samples.shape"
      ],
      "execution_count": 91,
      "outputs": [
        {
          "output_type": "execute_result",
          "data": {
            "text/plain": [
              "(100000, 4)"
            ]
          },
          "metadata": {
            "tags": []
          },
          "execution_count": 91
        }
      ]
    },
    {
      "cell_type": "markdown",
      "metadata": {
        "id": "6yOXFNl8TYHd",
        "colab_type": "text"
      },
      "source": [
        "The expectation per category should be $np_i$, which should be"
      ]
    },
    {
      "cell_type": "code",
      "metadata": {
        "id": "qxy34mW6B4oj",
        "colab_type": "code",
        "colab": {
          "base_uri": "https://localhost:8080/",
          "height": 35
        },
        "outputId": "ff318edd-9584-4910-d741-04c2e8f439e5"
      },
      "source": [
        "expectation_x = n*p\n",
        "expectation_x"
      ],
      "execution_count": 93,
      "outputs": [
        {
          "output_type": "execute_result",
          "data": {
            "text/plain": [
              "array([1., 2., 5., 2.])"
            ]
          },
          "metadata": {
            "tags": []
          },
          "execution_count": 93
        }
      ]
    },
    {
      "cell_type": "markdown",
      "metadata": {
        "id": "L-8ep77XTlC8",
        "colab_type": "text"
      },
      "source": [
        "Let's see if they match our stats from the samples.\n"
      ]
    },
    {
      "cell_type": "code",
      "metadata": {
        "id": "N9TtyXlMTrXW",
        "colab_type": "code",
        "colab": {
          "base_uri": "https://localhost:8080/",
          "height": 35
        },
        "outputId": "83c74467-5421-44cf-b759-4fd0aff22571"
      },
      "source": [
        "expectation_x = samples.mean(axis=0)\n",
        "expectation_x"
      ],
      "execution_count": 94,
      "outputs": [
        {
          "output_type": "execute_result",
          "data": {
            "text/plain": [
              "array([0.99406, 2.00554, 4.99832, 2.00208])"
            ]
          },
          "metadata": {
            "tags": []
          },
          "execution_count": 94
        }
      ]
    },
    {
      "cell_type": "markdown",
      "metadata": {
        "id": "lTpGAP9BTu7-",
        "colab_type": "text"
      },
      "source": [
        "The variance per category should be $np_i(1-p_i)$, which should be"
      ]
    },
    {
      "cell_type": "code",
      "metadata": {
        "id": "OfNmwDbDT1JX",
        "colab_type": "code",
        "colab": {
          "base_uri": "https://localhost:8080/",
          "height": 35
        },
        "outputId": "13420297-5df5-45f5-fba1-8418c0c47078"
      },
      "source": [
        "variance_x = n * p * (1-p)\n",
        "variance_x"
      ],
      "execution_count": 95,
      "outputs": [
        {
          "output_type": "execute_result",
          "data": {
            "text/plain": [
              "array([0.9, 1.6, 2.5, 1.6])"
            ]
          },
          "metadata": {
            "tags": []
          },
          "execution_count": 95
        }
      ]
    },
    {
      "cell_type": "markdown",
      "metadata": {
        "id": "_CGzE3mxT3Kh",
        "colab_type": "text"
      },
      "source": [
        "Let's see if they match our stats from the samples."
      ]
    },
    {
      "cell_type": "code",
      "metadata": {
        "id": "b6uHkvE6Cz0J",
        "colab_type": "code",
        "colab": {
          "base_uri": "https://localhost:8080/",
          "height": 35
        },
        "outputId": "8384ed3c-1c35-432c-bb4d-30ffb0f1653b"
      },
      "source": [
        "variance_x = samples.var(axis=0)\n",
        "variance_x"
      ],
      "execution_count": 96,
      "outputs": [
        {
          "output_type": "execute_result",
          "data": {
            "text/plain": [
              "array([0.89030472, 1.58778931, 2.49539718, 1.59867567])"
            ]
          },
          "metadata": {
            "tags": []
          },
          "execution_count": 96
        }
      ]
    },
    {
      "cell_type": "markdown",
      "metadata": {
        "id": "hXYuu-EqT6fK",
        "colab_type": "text"
      },
      "source": [
        "The shape of the covariance matrix for this distribution should be 4 by 4 since $k=4$. Let's get the analytical value of the covariance matrix.\n"
      ]
    },
    {
      "cell_type": "code",
      "metadata": {
        "id": "5wWUDCM1DZLc",
        "colab_type": "code",
        "colab": {
          "base_uri": "https://localhost:8080/",
          "height": 90
        },
        "outputId": "49eab258-051a-4644-9d73-25e1a0d58f83"
      },
      "source": [
        "Cov_x = -n * p.reshape(-1, 1) @ p.reshape(1, -1)\n",
        "np.fill_diagonal(Cov_x, n * p * (1-p))\n",
        "\n",
        "Cov_x"
      ],
      "execution_count": 98,
      "outputs": [
        {
          "output_type": "execute_result",
          "data": {
            "text/plain": [
              "array([[ 0.9, -0.2, -0.5, -0.2],\n",
              "       [-0.2,  1.6, -1. , -0.4],\n",
              "       [-0.5, -1. ,  2.5, -1. ],\n",
              "       [-0.2, -0.4, -1. ,  1.6]])"
            ]
          },
          "metadata": {
            "tags": []
          },
          "execution_count": 98
        }
      ]
    },
    {
      "cell_type": "markdown",
      "metadata": {
        "id": "aWP74ywrUA0Q",
        "colab_type": "text"
      },
      "source": [
        "Let's see if they match our stats from the samples.\n"
      ]
    },
    {
      "cell_type": "code",
      "metadata": {
        "id": "J9909hrBUCLv",
        "colab_type": "code",
        "colab": {
          "base_uri": "https://localhost:8080/",
          "height": 90
        },
        "outputId": "ecde4184-66e1-4fa1-dd9b-66544129bd89"
      },
      "source": [
        "Cov_x = (samples - expectation_x).T @ (samples - expectation_x) / size\n",
        "Cov_x"
      ],
      "execution_count": 99,
      "outputs": [
        {
          "output_type": "execute_result",
          "data": {
            "text/plain": [
              "array([[ 0.89030472, -0.19782709, -0.49507998, -0.19739764],\n",
              "       [-0.19782709,  1.58778931, -0.99450069, -0.39546152],\n",
              "       [-0.49507998, -0.99450069,  2.49539718, -1.00581651],\n",
              "       [-0.19739764, -0.39546152, -1.00581651,  1.59867567]])"
            ]
          },
          "metadata": {
            "tags": []
          },
          "execution_count": 99
        }
      ]
    },
    {
      "cell_type": "markdown",
      "metadata": {
        "id": "6krBbEslUEY0",
        "colab_type": "text"
      },
      "source": [
        "Let's recap!\n",
        "\n"
      ]
    },
    {
      "cell_type": "markdown",
      "metadata": {
        "id": "7Enk0i0hUGuj",
        "colab_type": "text"
      },
      "source": [
        "This is a Bernoulli distribution."
      ]
    },
    {
      "cell_type": "code",
      "metadata": {
        "id": "YG9RN0zHGqZr",
        "colab_type": "code",
        "colab": {
          "base_uri": "https://localhost:8080/",
          "height": 35
        },
        "outputId": "6b2f12b3-ceb2-4cac-976a-1ff60785dcf5"
      },
      "source": [
        "n = 1\n",
        "p = np.array([0.3, 0.7])\n",
        "size = 100000\n",
        "samples = multinomial.rvs(n, p, size)[:,0]\n",
        "samples.mean(), samples.var()"
      ],
      "execution_count": 100,
      "outputs": [
        {
          "output_type": "execute_result",
          "data": {
            "text/plain": [
              "(0.30077, 0.21030740709999995)"
            ]
          },
          "metadata": {
            "tags": []
          },
          "execution_count": 100
        }
      ]
    },
    {
      "cell_type": "markdown",
      "metadata": {
        "id": "FHoO5Wm0UKCK",
        "colab_type": "text"
      },
      "source": [
        "This is a Binomial distribution."
      ]
    },
    {
      "cell_type": "code",
      "metadata": {
        "id": "pmbJslnVIYH4",
        "colab_type": "code",
        "colab": {
          "base_uri": "https://localhost:8080/",
          "height": 35
        },
        "outputId": "f8d6aa99-596b-4c95-ed6b-cc810d89ff57"
      },
      "source": [
        "n = 10\n",
        "p = np.array([0.3, 0.7])\n",
        "size = 100000\n",
        "samples = multinomial.rvs(n, p, size)[:,0]\n",
        "samples.mean(), samples.var()"
      ],
      "execution_count": 101,
      "outputs": [
        {
          "output_type": "execute_result",
          "data": {
            "text/plain": [
              "(2.99624, 2.1095458624)"
            ]
          },
          "metadata": {
            "tags": []
          },
          "execution_count": 101
        }
      ]
    },
    {
      "cell_type": "markdown",
      "metadata": {
        "id": "kQ3Tkwh3UMi5",
        "colab_type": "text"
      },
      "source": [
        "This is a Categorical distribution."
      ]
    },
    {
      "cell_type": "code",
      "metadata": {
        "id": "NAXexMEGIquP",
        "colab_type": "code",
        "colab": {
          "base_uri": "https://localhost:8080/",
          "height": 35
        },
        "outputId": "c5850d6e-9d79-4f3e-e86d-7c158aa88634"
      },
      "source": [
        "n = 1\n",
        "p = np.array([0.2, 0.5, 0.3])\n",
        "size = 100000\n",
        "samples = multinomial.rvs(n, p, size)\n",
        "\n",
        "expectation = (samples.mean(axis=0) * np.array([0, 1, 2])).sum()\n",
        "variance = (samples.mean(axis=0) * np.array([0, 1, 2])**2).sum() - expectation**2\n",
        "\n",
        "expectation, variance"
      ],
      "execution_count": 102,
      "outputs": [
        {
          "output_type": "execute_result",
          "data": {
            "text/plain": [
              "(1.1043500000000002, 0.48672107749999993)"
            ]
          },
          "metadata": {
            "tags": []
          },
          "execution_count": 102
        }
      ]
    },
    {
      "cell_type": "markdown",
      "metadata": {
        "id": "1mp2W5MXKDRr",
        "colab_type": "text"
      },
      "source": [
        "## 3.9.3 Gaussian Distribution"
      ]
    },
    {
      "cell_type": "markdown",
      "metadata": {
        "id": "aLU2m9LP85qb",
        "colab_type": "text"
      },
      "source": [
        "![Tae, next to his friend whose face is Gaussian-blured, is in front of the grave of Carl Friedrich Gauss, in 2015 winter](https://raw.githubusercontent.com/tae898/DeepLearning/master/data/gauss.jpg)"
      ]
    },
    {
      "cell_type": "markdown",
      "metadata": {
        "id": "0Wi3CKNXURv4",
        "colab_type": "text"
      },
      "source": [
        "The Gaussian distribution is the most popular distribution used in science and engineering. One dude even had to visit the grave of Gauss to understand the gravity of it."
      ]
    },
    {
      "cell_type": "code",
      "metadata": {
        "id": "-UUcgJHiifkW",
        "colab_type": "code",
        "colab": {}
      },
      "source": [
        "import numpy as np"
      ],
      "execution_count": 103,
      "outputs": []
    },
    {
      "cell_type": "markdown",
      "metadata": {
        "id": "ldl-3OxSUXLT",
        "colab_type": "text"
      },
      "source": [
        "Let's sample 100000 samples from the standard normal distribution whose mean and std is 0 and 1, respectively."
      ]
    },
    {
      "cell_type": "code",
      "metadata": {
        "id": "bA4vV9GoUZ60",
        "colab_type": "code",
        "colab": {}
      },
      "source": [
        "size = 100000\n",
        "samples = np.random.standard_normal(size)"
      ],
      "execution_count": 104,
      "outputs": []
    },
    {
      "cell_type": "markdown",
      "metadata": {
        "id": "HMDz8oc2UcRX",
        "colab_type": "text"
      },
      "source": [
        "As said above, the histogram of samples can show the pmf or pdf of the source distribution."
      ]
    },
    {
      "cell_type": "code",
      "metadata": {
        "id": "39aAC4pFjIDH",
        "colab_type": "code",
        "colab": {
          "base_uri": "https://localhost:8080/",
          "height": 265
        },
        "outputId": "98660349-b74b-4e46-d6f6-5f495e2923b7"
      },
      "source": [
        "plt.figure();\n",
        "plt.hist(samples);"
      ],
      "execution_count": 105,
      "outputs": [
        {
          "output_type": "display_data",
          "data": {
            "image/png": "[encoded data removed]",
            "text/plain": [
              "<Figure size 432x288 with 1 Axes>"
            ]
          },
          "metadata": {
            "tags": [],
            "needs_background": "light"
          }
        }
      ]
    },
    {
      "cell_type": "markdown",
      "metadata": {
        "id": "2Ak2KSYuUfom",
        "colab_type": "text"
      },
      "source": [
        "Let's increase the number of bins to get a fine grained histogram"
      ]
    },
    {
      "cell_type": "code",
      "metadata": {
        "id": "EEzHWzafjkIK",
        "colab_type": "code",
        "colab": {
          "base_uri": "https://localhost:8080/",
          "height": 265
        },
        "outputId": "7f7bb56b-1486-4f02-bb5f-8433916e309a"
      },
      "source": [
        "plt.figure();\n",
        "plt.hist(samples, bins=100);"
      ],
      "execution_count": 106,
      "outputs": [
        {
          "output_type": "display_data",
          "data": {
            "image/png": "[encoded data removed]",
            "text/plain": [
              "<Figure size 432x288 with 1 Axes>"
            ]
          },
          "metadata": {
            "tags": [],
            "needs_background": "light"
          }
        }
      ]
    },
    {
      "cell_type": "markdown",
      "metadata": {
        "id": "ZCRGpwhKUiR9",
        "colab_type": "text"
      },
      "source": [
        "Let's see if the empirical mean and the standard deviation actually are close to 0 and 1, respectively."
      ]
    },
    {
      "cell_type": "code",
      "metadata": {
        "id": "DfRBIMnvjrDo",
        "colab_type": "code",
        "colab": {
          "base_uri": "https://localhost:8080/",
          "height": 35
        },
        "outputId": "30c7276e-4cb0-4100-c899-883c78273ded"
      },
      "source": [
        "samples.mean()"
      ],
      "execution_count": 107,
      "outputs": [
        {
          "output_type": "execute_result",
          "data": {
            "text/plain": [
              "0.0007508374465830691"
            ]
          },
          "metadata": {
            "tags": []
          },
          "execution_count": 107
        }
      ]
    },
    {
      "cell_type": "code",
      "metadata": {
        "id": "Z4DLJogsUmoc",
        "colab_type": "code",
        "colab": {
          "base_uri": "https://localhost:8080/",
          "height": 35
        },
        "outputId": "9c90d66f-02a8-4c14-f280-441e1ac8b999"
      },
      "source": [
        "samples.std()"
      ],
      "execution_count": 108,
      "outputs": [
        {
          "output_type": "execute_result",
          "data": {
            "text/plain": [
              "0.9984360779488768"
            ]
          },
          "metadata": {
            "tags": []
          },
          "execution_count": 108
        }
      ]
    },
    {
      "cell_type": "markdown",
      "metadata": {
        "id": "bkfiLSeMj-M5",
        "colab_type": "text"
      },
      "source": [
        "### Example 1"
      ]
    },
    {
      "cell_type": "markdown",
      "metadata": {
        "id": "aFJVkOiDUoVM",
        "colab_type": "text"
      },
      "source": [
        "A lot of data we observe come from the combination of many different random variables. According to the central limit theorem, we can then say that the observed data likely follows a Gaussian distribution.\n",
        "\n",
        "This time we will load the breast cancer dataset from scikit learn."
      ]
    },
    {
      "cell_type": "code",
      "metadata": {
        "id": "iS5Ge8g1kDez",
        "colab_type": "code",
        "colab": {}
      },
      "source": [
        "from sklearn.datasets import load_breast_cancer\n",
        "\n",
        "data = load_breast_cancer()['data']"
      ],
      "execution_count": 109,
      "outputs": []
    },
    {
      "cell_type": "markdown",
      "metadata": {
        "id": "UBgZeVeHUuKK",
        "colab_type": "text"
      },
      "source": [
        "`DESCR` show what each variable means.\n"
      ]
    },
    {
      "cell_type": "code",
      "metadata": {
        "id": "4SilewO6Uwny",
        "colab_type": "code",
        "colab": {
          "base_uri": "https://localhost:8080/",
          "height": 145
        },
        "outputId": "b9147d80-cfd2-43d4-ca13-f5493fa36680"
      },
      "source": [
        "features = load_breast_cancer()['DESCR']\n",
        "features"
      ],
      "execution_count": 111,
      "outputs": [
        {
          "output_type": "execute_result",
          "data": {
            "application/vnd.google.colaboratory.intrinsic+json": {
              "type": "string"
            },
            "text/plain": [
              "'.. _breast_cancer_dataset:\\n\\nBreast cancer wisconsin (diagnostic) dataset\\n--------------------------------------------\\n\\n**Data Set Characteristics:**\\n\\n    :Number of Instances: 569\\n\\n    :Number of Attributes: 30 numeric, predictive attributes and the class\\n\\n    :Attribute Information:\\n        - radius (mean of distances from center to points on the perimeter)\\n        - texture (standard deviation of gray-scale values)\\n        - perimeter\\n        - area\\n        - smoothness (local variation in radius lengths)\\n        - compactness (perimeter^2 / area - 1.0)\\n        - concavity (severity of concave portions of the contour)\\n        - concave points (number of concave portions of the contour)\\n        - symmetry \\n        - fractal dimension (\"coastline approximation\" - 1)\\n\\n        The mean, standard error, and \"worst\" or largest (mean of the three\\n        largest values) of these features were computed for each image,\\n        resulting in 30 features.  For instance, field 3 is Mean Radius, field\\n        13 is Radius SE, field 23 is Worst Radius.\\n\\n        - class:\\n                - WDBC-Malignant\\n                - WDBC-Benign\\n\\n    :Summary Statistics:\\n\\n    ===================================== ====== ======\\n                                           Min    Max\\n    ===================================== ====== ======\\n    radius (mean):                        6.981  28.11\\n    texture (mean):                       9.71   39.28\\n    perimeter (mean):                     43.79  188.5\\n    area (mean):                          143.5  2501.0\\n    smoothness (mean):                    0.053  0.163\\n    compactness (mean):                   0.019  0.345\\n    concavity (mean):                     0.0    0.427\\n    concave points (mean):                0.0    0.201\\n    symmetry (mean):                      0.106  0.304\\n    fractal dimension (mean):             0.05   0.097\\n    radius (standard error):              0.112  2.873\\n    texture (standard error):             0.36   4.885\\n    perimeter (standard error):           0.757  21.98\\n    area (standard error):                6.802  542.2\\n    smoothness (standard error):          0.002  0.031\\n    compactness (standard error):         0.002  0.135\\n    concavity (standard error):           0.0    0.396\\n    concave points (standard error):      0.0    0.053\\n    symmetry (standard error):            0.008  0.079\\n    fractal dimension (standard error):   0.001  0.03\\n    radius (worst):                       7.93   36.04\\n    texture (worst):                      12.02  49.54\\n    perimeter (worst):                    50.41  251.2\\n    area (worst):                         185.2  4254.0\\n    smoothness (worst):                   0.071  0.223\\n    compactness (worst):                  0.027  1.058\\n    concavity (worst):                    0.0    1.252\\n    concave points (worst):               0.0    0.291\\n    symmetry (worst):                     0.156  0.664\\n    fractal dimension (worst):            0.055  0.208\\n    ===================================== ====== ======\\n\\n    :Missing Attribute Values: None\\n\\n    :Class Distribution: 212 - Malignant, 357 - Benign\\n\\n    :Creator:  Dr. William H. Wolberg, W. Nick Street, Olvi L. Mangasarian\\n\\n    :Donor: Nick Street\\n\\n    :Date: November, 1995\\n\\nThis is a copy of UCI ML Breast Cancer Wisconsin (Diagnostic) datasets.\\nhttps://goo.gl/U2Uwz2\\n\\nFeatures are computed from a digitized image of a fine needle\\naspirate (FNA) of a breast mass.  They describe\\ncharacteristics of the cell nuclei present in the image.\\n\\nSeparating plane described above was obtained using\\nMultisurface Method-Tree (MSM-T) [K. P. Bennett, \"Decision Tree\\nConstruction Via Linear Programming.\" Proceedings of the 4th\\nMidwest Artificial Intelligence and Cognitive Science Society,\\npp. 97-101, 1992], a classification method which uses linear\\nprogramming to construct a decision tree.  Relevant features\\nwere selected using an exhaustive search in the space of 1-4\\nfeatures and 1-3 separating planes.\\n\\nThe actual linear program used to obtain the separating plane\\nin the 3-dimensional space is that described in:\\n[K. P. Bennett and O. L. Mangasarian: \"Robust Linear\\nProgramming Discrimination of Two Linearly Inseparable Sets\",\\nOptimization Methods and Software 1, 1992, 23-34].\\n\\nThis database is also available through the UW CS ftp server:\\n\\nftp ftp.cs.wisc.edu\\ncd math-prog/cpo-dataset/machine-learn/WDBC/\\n\\n.. topic:: References\\n\\n   - W.N. Street, W.H. Wolberg and O.L. Mangasarian. Nuclear feature extraction \\n     for breast tumor diagnosis. IS&T/SPIE 1993 International Symposium on \\n     Electronic Imaging: Science and Technology, volume 1905, pages 861-870,\\n     San Jose, CA, 1993.\\n   - O.L. Mangasarian, W.N. Street and W.H. Wolberg. Breast cancer diagnosis and \\n     prognosis via linear programming. Operations Research, 43(4), pages 570-577, \\n     July-August 1995.\\n   - W.H. Wolberg, W.N. Street, and O.L. Mangasarian. Machine learning techniques\\n     to diagnose breast cancer from fine-needle aspirates. Cancer Letters 77 (1994) \\n     163-171.'"
            ]
          },
          "metadata": {
            "tags": []
          },
          "execution_count": 111
        }
      ]
    },
    {
      "cell_type": "markdown",
      "metadata": {
        "id": "idTut5UfU4Hj",
        "colab_type": "text"
      },
      "source": [
        "The data has 569 observations with 30 variables"
      ]
    },
    {
      "cell_type": "code",
      "metadata": {
        "id": "5FYES4ShU29X",
        "colab_type": "code",
        "colab": {
          "base_uri": "https://localhost:8080/",
          "height": 35
        },
        "outputId": "61688f72-13c2-4117-fcf6-161dd4b6f1c3"
      },
      "source": [
        "data.shape"
      ],
      "execution_count": 112,
      "outputs": [
        {
          "output_type": "execute_result",
          "data": {
            "text/plain": [
              "(569, 30)"
            ]
          },
          "metadata": {
            "tags": []
          },
          "execution_count": 112
        }
      ]
    },
    {
      "cell_type": "code",
      "metadata": {
        "id": "9O9W4tNVnL1D",
        "colab_type": "code",
        "colab": {
          "base_uri": "https://localhost:8080/",
          "height": 593
        },
        "outputId": "5c6f554b-b9ca-4864-c3f8-33f514b2617b"
      },
      "source": [
        "import matplotlib.pyplot as plt\n",
        "\n",
        "fig, axs = plt.subplots(5, 6, figsize=(12, 10));\n",
        "\n",
        "for i, rows in enumerate(axs):\n",
        "    for j, ax in enumerate(rows):\n",
        "        ax.hist(data[:, i*6 + j], bins=20, density=True);"
      ],
      "execution_count": 113,
      "outputs": [
        {
          "output_type": "display_data",
          "data": {
            "image/png": "[encoded data removed]",
            "text/plain": [
              "<Figure size 864x720 with 30 Axes>"
            ]
          },
          "metadata": {
            "tags": [],
            "needs_background": "light"
          }
        }
      ]
    },
    {
      "cell_type": "markdown",
      "metadata": {
        "id": "OmiyE4lcU8iz",
        "colab_type": "text"
      },
      "source": [
        "They indeed all look like Gaussian distributions!"
      ]
    },
    {
      "cell_type": "markdown",
      "metadata": {
        "id": "lDXggWl5U_Z4",
        "colab_type": "text"
      },
      "source": [
        "Remember, for a univariate Gaussian pdf, we only need two parameters, mean and the variance, to define the function. So what we can try here is that every feature of this data comes from a univaraite Gaussian distribution.\n",
        "\n",
        "Below two lines compute the mean and std per variable."
      ]
    },
    {
      "cell_type": "code",
      "metadata": {
        "id": "bz2h8ZSW_raT",
        "colab_type": "code",
        "colab": {}
      },
      "source": [
        "means = [column.mean() for column in data.T]\n",
        "stds = [column.std() for column in data.T]"
      ],
      "execution_count": 114,
      "outputs": []
    },
    {
      "cell_type": "markdown",
      "metadata": {
        "id": "fO7ZP7XWVFhB",
        "colab_type": "text"
      },
      "source": [
        "There should be 30 of them."
      ]
    },
    {
      "cell_type": "code",
      "metadata": {
        "id": "YN6bFrjLVGi9",
        "colab_type": "code",
        "colab": {
          "base_uri": "https://localhost:8080/",
          "height": 35
        },
        "outputId": "5005e6b5-99a0-47b3-b9f4-5b7642bcc06f"
      },
      "source": [
        "len(means), len(stds)"
      ],
      "execution_count": 115,
      "outputs": [
        {
          "output_type": "execute_result",
          "data": {
            "text/plain": [
              "(30, 30)"
            ]
          },
          "metadata": {
            "tags": []
          },
          "execution_count": 115
        }
      ]
    },
    {
      "cell_type": "code",
      "metadata": {
        "id": "zWF5PIHNA8vL",
        "colab_type": "code",
        "colab": {}
      },
      "source": [
        "import numpy as np"
      ],
      "execution_count": 116,
      "outputs": []
    },
    {
      "cell_type": "markdown",
      "metadata": {
        "id": "o1SqbzjeVMzf",
        "colab_type": "text"
      },
      "source": [
        "Each pair of mean and std allows us to construct the pdf of the Gaussian and sample values from it."
      ]
    },
    {
      "cell_type": "code",
      "metadata": {
        "id": "yN2nK6cBVQBw",
        "colab_type": "code",
        "colab": {}
      },
      "source": [
        "size = 100000\n",
        "samples_all = [np.random.normal(means[i], stds[i], size) \n",
        "               for i in range(len(data.T))]"
      ],
      "execution_count": 117,
      "outputs": []
    },
    {
      "cell_type": "markdown",
      "metadata": {
        "id": "AGQlBOl6VR0m",
        "colab_type": "text"
      },
      "source": [
        "Now let's plot the histograms of them to see if they look like those from the real observed data!"
      ]
    },
    {
      "cell_type": "code",
      "metadata": {
        "id": "-EIsK73hByPJ",
        "colab_type": "code",
        "colab": {
          "base_uri": "https://localhost:8080/",
          "height": 592
        },
        "outputId": "4780a611-a23e-474b-d80c-222464449f38"
      },
      "source": [
        "fig, axs = plt.subplots(5, 6, figsize=(12, 10));\n",
        "\n",
        "for i, rows in enumerate(axs):\n",
        "    for j, ax in enumerate(rows):\n",
        "        ax.hist(samples_all[i*6 + j], bins=20, density=True);"
      ],
      "execution_count": 118,
      "outputs": [
        {
          "output_type": "display_data",
          "data": {
            "image/png": "[encoded data removed]",
            "text/plain": [
              "<Figure size 864x720 with 30 Axes>"
            ]
          },
          "metadata": {
            "tags": [],
            "needs_background": "light"
          }
        }
      ]
    },
    {
      "cell_type": "markdown",
      "metadata": {
        "id": "e8zGfbWpVWU-",
        "colab_type": "text"
      },
      "source": [
        "Well yeah kinda but not really ..."
      ]
    },
    {
      "cell_type": "markdown",
      "metadata": {
        "id": "DO74-hv-sbmw",
        "colab_type": "text"
      },
      "source": [
        "### Multivariate Gaussian Distribution\n",
        "\n"
      ]
    },
    {
      "cell_type": "markdown",
      "metadata": {
        "id": "woU2H1fdVZJX",
        "colab_type": "text"
      },
      "source": [
        "In reality, we use the multivariate Gaussian distribution more often than the one-dimensional one. It's nice that we can just use 1d histograms to see the pmfs or pdfs of one-dimensional distributions, but in reality observations are highly dimensional.\n",
        "\n",
        "Even the toy example we used above has 30 dimensions. If we really want to fit a Gaussian distribution to the data, fitting every dimension separately to a one-dimensional Gaussian distribution like we kinda did above is probably not a good idea.\n",
        "\n",
        "Below cells closely follow [the numpy page](https://numpy.org/doc/stable/reference/random/generated/numpy.random.multivariate_normal.html) "
      ]
    },
    {
      "cell_type": "code",
      "metadata": {
        "id": "d7V0zJbSDVIF",
        "colab_type": "code",
        "colab": {}
      },
      "source": [
        "import matplotlib.pyplot as plt\n",
        "import numpy as np\n",
        "\n",
        "size = 100000"
      ],
      "execution_count": 119,
      "outputs": []
    },
    {
      "cell_type": "markdown",
      "metadata": {
        "id": "lT7E3h7aV3fE",
        "colab_type": "text"
      },
      "source": [
        "Let's say we have two independent probability distributions."
      ]
    },
    {
      "cell_type": "markdown",
      "metadata": {
        "id": "9u2fbjzbV67d",
        "colab_type": "text"
      },
      "source": [
        "random variable $\\mathrm{x}$ follows distribution 1"
      ]
    },
    {
      "cell_type": "code",
      "metadata": {
        "id": "CKEjA1OVWBxR",
        "colab_type": "code",
        "colab": {}
      },
      "source": [
        "mean_x = 0\n",
        "var_x = 1\n",
        "std_x = np.sqrt(var_x)"
      ],
      "execution_count": 120,
      "outputs": []
    },
    {
      "cell_type": "markdown",
      "metadata": {
        "id": "5RbQhDwKWCnn",
        "colab_type": "text"
      },
      "source": [
        "sample from the distribution"
      ]
    },
    {
      "cell_type": "code",
      "metadata": {
        "id": "qX-yyGTnWEtt",
        "colab_type": "code",
        "colab": {}
      },
      "source": [
        "x = np.random.normal(mean_x, std_x, size)"
      ],
      "execution_count": 121,
      "outputs": []
    },
    {
      "cell_type": "markdown",
      "metadata": {
        "id": "iOQKGfXhWGIU",
        "colab_type": "text"
      },
      "source": [
        "random variable $\\mathrm{y}$ follows distribution 2"
      ]
    },
    {
      "cell_type": "code",
      "metadata": {
        "id": "TnLRswQyWLwv",
        "colab_type": "code",
        "colab": {}
      },
      "source": [
        "mean_y = 0\n",
        "var_y = 0.5\n",
        "std_y = np.sqrt(var_y)"
      ],
      "execution_count": 122,
      "outputs": []
    },
    {
      "cell_type": "markdown",
      "metadata": {
        "id": "qbn0RB_kWMup",
        "colab_type": "text"
      },
      "source": [
        "sample from the distribution"
      ]
    },
    {
      "cell_type": "code",
      "metadata": {
        "id": "LWWD2d-_GlBx",
        "colab_type": "code",
        "colab": {}
      },
      "source": [
        "y = np.random.normal(mean_y, std_y, size)"
      ],
      "execution_count": 123,
      "outputs": []
    },
    {
      "cell_type": "markdown",
      "metadata": {
        "id": "fqhTQ4_KWQp0",
        "colab_type": "text"
      },
      "source": [
        "random variable $\\mathrm{x}$ and $\\mathrm{y}$ are independent. Therefore their covariance should be zero. If we plot them together as a scatter plot, it will show us visually that they are not correlated (Remember, if two random variables are independent, then they are not correlated (covariance is 0))"
      ]
    },
    {
      "cell_type": "code",
      "metadata": {
        "id": "7kIa6YLcWYw3",
        "colab_type": "code",
        "colab": {
          "base_uri": "https://localhost:8080/",
          "height": 350
        },
        "outputId": "15c7776c-3601-44d1-a64c-1aa7feed1a9e"
      },
      "source": [
        "plt.figure(figsize=(5, 5));\n",
        "plt.title('samples from the two independent Gaussian distributions, plotted together');\n",
        "plt.plot(x, y, 'x');\n",
        "plt.axis('equal');\n",
        "plt.xlabel('x');\n",
        "plt.ylabel('y');"
      ],
      "execution_count": 124,
      "outputs": [
        {
          "output_type": "display_data",
          "data": {
            "image/png": "[encoded data removed]",
            "text/plain": [
              "<Figure size 360x360 with 1 Axes>"
            ]
          },
          "metadata": {
            "tags": [],
            "needs_background": "light"
          }
        }
      ]
    },
    {
      "cell_type": "markdown",
      "metadata": {
        "id": "IbH8dsu2Wadz",
        "colab_type": "text"
      },
      "source": [
        "This time let's plot their histograms separately, to see that they look like their pdfs."
      ]
    },
    {
      "cell_type": "code",
      "metadata": {
        "id": "Rx884DJQStvE",
        "colab_type": "code",
        "colab": {
          "base_uri": "https://localhost:8080/",
          "height": 336
        },
        "outputId": "6bdb0722-5ec0-45ca-c4a0-9e0851798b7f"
      },
      "source": [
        "fig, axs = plt.subplots(1, 2, figsize=(10, 5));\n",
        "axs[0].hist(x, bins=50);\n",
        "axs[0].set_title('histogram of samples, dimension x');\n",
        "\n",
        "axs[1].hist(y, bins=50);\n",
        "axs[1].set_title('histogram of samples, dimension y');"
      ],
      "execution_count": 126,
      "outputs": [
        {
          "output_type": "display_data",
          "data": {
            "image/png": "[encoded data removed]",
            "text/plain": [
              "<Figure size 720x360 with 2 Axes>"
            ]
          },
          "metadata": {
            "tags": [],
            "needs_background": "light"
          }
        }
      ]
    },
    {
      "cell_type": "markdown",
      "metadata": {
        "id": "L2N1SWamWfZG",
        "colab_type": "text"
      },
      "source": [
        "And they do!"
      ]
    },
    {
      "cell_type": "markdown",
      "metadata": {
        "id": "sU8NHQliWgh5",
        "colab_type": "text"
      },
      "source": [
        "In reality, variables (features) are correlated (their covariance is not zero.) and thus they are dependent on each other. The multivariate Gaussian distribution can cope with this situation since it uses the covariance matrix of the variables!"
      ]
    },
    {
      "cell_type": "markdown",
      "metadata": {
        "id": "8J5iuk_UWnr-",
        "colab_type": "text"
      },
      "source": [
        "Let's sample from the below multivariate Gaussian distribution."
      ]
    },
    {
      "cell_type": "code",
      "metadata": {
        "id": "2knXiAE6Dg_9",
        "colab_type": "code",
        "colab": {
          "base_uri": "https://localhost:8080/",
          "height": 350
        },
        "outputId": "3cba7af5-7198-4fab-fe37-480a5c596662"
      },
      "source": [
        "size = 100000\n",
        "mean = np.array([0, 0])\n",
        "cov = np.array([[1, 3/5],\n",
        "                [3/5, 0.5]])\n",
        "\n",
        "x, y = np.random.multivariate_normal(mean, cov, size).T\n",
        "\n",
        "plt.figure(figsize=(5, 5));\n",
        "plt.title('samples from the multivariate Gaussian distribution')\n",
        "plt.plot(x, y, 'x');\n",
        "plt.axis('equal');\n",
        "plt.xlabel('x');\n",
        "plt.ylabel('y');"
      ],
      "execution_count": 127,
      "outputs": [
        {
          "output_type": "display_data",
          "data": {
            "image/png": "[encoded data removed]",
            "text/plain": [
              "<Figure size 360x360 with 1 Axes>"
            ]
          },
          "metadata": {
            "tags": [],
            "needs_background": "light"
          }
        }
      ]
    },
    {
      "cell_type": "markdown",
      "metadata": {
        "id": "QVV0k7UsWsts",
        "colab_type": "text"
      },
      "source": [
        "It's clear that they are correlated. This happens because off-the-diagonal values of the covariance are not zero (they are 3/5). If they are set to 0, then they will look like the plot from the two cells above."
      ]
    },
    {
      "cell_type": "markdown",
      "metadata": {
        "id": "oGMKHcbWWw0j",
        "colab_type": "text"
      },
      "source": [
        "This time let's plot their histograms separately"
      ]
    },
    {
      "cell_type": "code",
      "metadata": {
        "id": "3_3seXWqI4me",
        "colab_type": "code",
        "colab": {
          "base_uri": "https://localhost:8080/",
          "height": 336
        },
        "outputId": "b0212ce9-7ddd-4cc5-8468-0f36d17e8724"
      },
      "source": [
        "fig, axs = plt.subplots(1, 2, figsize=(10, 5));\n",
        "axs[0].hist(x, bins=50);\n",
        "axs[0].set_title('histogram of samples, dimension x');\n",
        "axs[1].hist(y, bins=50);\n",
        "axs[1].set_title('histogram of samples, dimension y');"
      ],
      "execution_count": 128,
      "outputs": [
        {
          "output_type": "display_data",
          "data": {
            "image/png": "[encoded data removed]",
            "text/plain": [
              "<Figure size 720x360 with 2 Axes>"
            ]
          },
          "metadata": {
            "tags": [],
            "needs_background": "light"
          }
        }
      ]
    },
    {
      "cell_type": "markdown",
      "metadata": {
        "id": "tHm6qnxmWzPM",
        "colab_type": "text"
      },
      "source": [
        "They look the same as the histograms before. This is because plotting a 1d histogram doesn't account for the other variables. Just looking at these two histograms, there is no way we can tell they are correlated or not. "
      ]
    },
    {
      "cell_type": "markdown",
      "metadata": {
        "id": "eZF8Ovt_W8ku",
        "colab_type": "text"
      },
      "source": [
        "Let's load the breast cancer dataset from scikit learn again for practice."
      ]
    },
    {
      "cell_type": "code",
      "metadata": {
        "id": "_ZNo76CxV7fE",
        "colab_type": "code",
        "colab": {}
      },
      "source": [
        "from sklearn.datasets import load_breast_cancer\n",
        "\n",
        "data = load_breast_cancer()['data']"
      ],
      "execution_count": 129,
      "outputs": []
    },
    {
      "cell_type": "markdown",
      "metadata": {
        "id": "bo4d0mP7W_6m",
        "colab_type": "text"
      },
      "source": [
        "The data has 569 observations with 30 variables"
      ]
    },
    {
      "cell_type": "code",
      "metadata": {
        "id": "pvTUuqGRXBNt",
        "colab_type": "code",
        "colab": {
          "base_uri": "https://localhost:8080/",
          "height": 35
        },
        "outputId": "2e3bccf1-2873-48d0-ba4a-4ecca84f09b7"
      },
      "source": [
        "data.shape"
      ],
      "execution_count": 130,
      "outputs": [
        {
          "output_type": "execute_result",
          "data": {
            "text/plain": [
              "(569, 30)"
            ]
          },
          "metadata": {
            "tags": []
          },
          "execution_count": 130
        }
      ]
    },
    {
      "cell_type": "markdown",
      "metadata": {
        "id": "ND2o5iDGXC_7",
        "colab_type": "text"
      },
      "source": [
        "We can 'fit' a multivariate Gaussian distribution to the data, simply by calculating the mean vector and the covariance matrix from the data. We've done this so many times now. It should be easy by now.\n",
        "\n",
        "Always remember to check the shape of the structured data (i.e. is row the observations or features?)."
      ]
    },
    {
      "cell_type": "code",
      "metadata": {
        "id": "VTPh7LcfWPHr",
        "colab_type": "code",
        "colab": {}
      },
      "source": [
        "mean = data.mean(axis=0)\n",
        "cov = np.cov(data.T)"
      ],
      "execution_count": 131,
      "outputs": []
    },
    {
      "cell_type": "markdown",
      "metadata": {
        "id": "d5EvLFCRXH46",
        "colab_type": "text"
      },
      "source": [
        "Now we can sample data from the distribution!"
      ]
    },
    {
      "cell_type": "markdown",
      "metadata": {
        "id": "Iw1h3p6AXJ-o",
        "colab_type": "text"
      },
      "source": [
        "sampling one observation from the distribution"
      ]
    },
    {
      "cell_type": "code",
      "metadata": {
        "id": "I5NMPAhAXJoE",
        "colab_type": "code",
        "colab": {
          "base_uri": "https://localhost:8080/",
          "height": 163
        },
        "outputId": "46a3f17e-5517-45ae-b258-7c36e4b85915"
      },
      "source": [
        "sample = np.random.multivariate_normal(mean, cov, 1).flatten()\n",
        "sample"
      ],
      "execution_count": 132,
      "outputs": [
        {
          "output_type": "execute_result",
          "data": {
            "text/plain": [
              "array([ 1.07593321e+01,  1.24612938e+01,  6.58405664e+01,  3.05685452e+02,\n",
              "        1.02025602e-01, -3.36493665e-03, -3.52119372e-02,  5.90271748e-03,\n",
              "        1.52855957e-01,  5.79599258e-02, -7.83347449e-02,  4.29992635e-01,\n",
              "       -1.05103057e+00, -1.74634989e+01,  6.05668674e-03, -2.34159111e-02,\n",
              "       -2.11978602e-02, -2.45820938e-03,  1.87697283e-02, -2.45525732e-03,\n",
              "        9.49802237e+00,  1.68896342e+01,  5.91577518e+01,  7.95000329e+01,\n",
              "        1.45538937e-01,  7.21517140e-03, -7.47047500e-02,  2.38897909e-02,\n",
              "        2.87892536e-01,  5.65629594e-02])"
            ]
          },
          "metadata": {
            "tags": []
          },
          "execution_count": 132
        }
      ]
    },
    {
      "cell_type": "markdown",
      "metadata": {
        "id": "1gzkEgGlXNXn",
        "colab_type": "text"
      },
      "source": [
        "The sample should be a vector whose length is 30. The original data had 30 dimensions and we fit a multivariate Gaussian distribution to it. So this distribution can only generate the type of data that it has only seen before. "
      ]
    },
    {
      "cell_type": "code",
      "metadata": {
        "id": "Em-CFOEiXQyG",
        "colab_type": "code",
        "colab": {
          "base_uri": "https://localhost:8080/",
          "height": 35
        },
        "outputId": "4106fd8f-bf35-4715-f16d-38aeac719103"
      },
      "source": [
        "sample.shape"
      ],
      "execution_count": 133,
      "outputs": [
        {
          "output_type": "execute_result",
          "data": {
            "text/plain": [
              "(30,)"
            ]
          },
          "metadata": {
            "tags": []
          },
          "execution_count": 133
        }
      ]
    },
    {
      "cell_type": "markdown",
      "metadata": {
        "id": "631x5MEuXUcZ",
        "colab_type": "text"
      },
      "source": [
        "Can we really say this distribution really can generate realistic breast cancer data? Hmm... This is what we will learn later on in this book."
      ]
    },
    {
      "cell_type": "markdown",
      "metadata": {
        "id": "wyudY0lsZLEa",
        "colab_type": "text"
      },
      "source": [
        "## 3.9.4 Exponential and Laplace Distributions"
      ]
    }
  ]
}