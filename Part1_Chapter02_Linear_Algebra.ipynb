{
  "nbformat": 4,
  "nbformat_minor": 0,
  "metadata": {
    "colab": {
      "name": "Part1_Chapter02_Linear_Algebra.ipynb",
      "provenance": [],
      "collapsed_sections": [],
      "authorship_tag": "ABX9TyN9swxpPEeIx7MrmKKmixoS",
      "include_colab_link": true
    },
    "kernelspec": {
      "name": "python3",
      "display_name": "Python 3"
    }
  },
  "cells": [
    {
      "cell_type": "markdown",
      "metadata": {
        "id": "view-in-github",
        "colab_type": "text"
      },
      "source": [
        "<a href=\"https://colab.research.google.com/github/tae898/DeepLearning/blob/master/Part1_Chapter02_Linear_Algebra.ipynb\" target=\"_parent\"><img src=\"https://colab.research.google.com/assets/colab-badge.svg\" alt=\"Open In Colab\"/></a>"
      ]
    },
    {
      "cell_type": "markdown",
      "metadata": {
        "id": "tTVRlcJ6ga-H",
        "colab_type": "text"
      },
      "source": [
        "# 2.1 Scalars, Vectors, Matrices and Tensors\n"
      ]
    },
    {
      "cell_type": "code",
      "metadata": {
        "id": "FfYxqw6nK-XJ",
        "colab_type": "code",
        "colab": {}
      },
      "source": [
        "# numpy package has a lot of useful stuffs for linear algebra. \n",
        "import numpy as np"
      ],
      "execution_count": 0,
      "outputs": []
    },
    {
      "cell_type": "code",
      "metadata": {
        "id": "pd_mo0-IbcfH",
        "colab_type": "code",
        "outputId": "4934cd92-2143-4f9e-f850-0fc113ac68a0",
        "colab": {
          "base_uri": "https://localhost:8080/",
          "height": 35
        }
      },
      "source": [
        "# A scalar is a single number.\n",
        "x = 1\n",
        "\n",
        "print(x)"
      ],
      "execution_count": 2,
      "outputs": [
        {
          "output_type": "stream",
          "text": [
            "1\n"
          ],
          "name": "stdout"
        }
      ]
    },
    {
      "cell_type": "code",
      "metadata": {
        "id": "bnQpC0ekb8G2",
        "colab_type": "code",
        "outputId": "efc8b5a3-8333-488f-fd02-f48015410313",
        "colab": {
          "base_uri": "https://localhost:8080/",
          "height": 35
        }
      },
      "source": [
        "# A vector is an array of numbers.\n",
        "\n",
        "# In Python, we can represent them as a list of numbers.\n",
        "x = [1, 2, 3, 4, 5, 6, 7, 8]\n",
        "\n",
        "print(x)"
      ],
      "execution_count": 3,
      "outputs": [
        {
          "output_type": "stream",
          "text": [
            "[1, 2, 3, 4, 5, 6, 7, 8]\n"
          ],
          "name": "stdout"
        }
      ]
    },
    {
      "cell_type": "code",
      "metadata": {
        "id": "RuQvmbAmcZlI",
        "colab_type": "code",
        "outputId": "ba7324ce-d24e-4251-ee80-4f43109964e7",
        "colab": {
          "base_uri": "https://localhost:8080/",
          "height": 35
        }
      },
      "source": [
        "# Its length (dimension) is the number of elements \n",
        "\n",
        "print(len(x))"
      ],
      "execution_count": 4,
      "outputs": [
        {
          "output_type": "stream",
          "text": [
            "8\n"
          ],
          "name": "stdout"
        }
      ]
    },
    {
      "cell_type": "code",
      "metadata": {
        "id": "hCXmJigAchQf",
        "colab_type": "code",
        "outputId": "edc966af-5386-41bb-e2be-4eecb1b55c2b",
        "colab": {
          "base_uri": "https://localhost:8080/",
          "height": 35
        }
      },
      "source": [
        "# However in Python, it's common and easier to represent a vector in a numpy \n",
        "# array format.\n",
        "\n",
        "x = np.array([1, 2, 3, 4, 5, 6, 7, 8, 9])\n",
        "\n",
        "print(x)"
      ],
      "execution_count": 5,
      "outputs": [
        {
          "output_type": "stream",
          "text": [
            "[1 2 3 4 5 6 7 8 9]\n"
          ],
          "name": "stdout"
        }
      ]
    },
    {
      "cell_type": "code",
      "metadata": {
        "id": "Qxa4BJAxdR3a",
        "colab_type": "code",
        "outputId": "24fdd36a-f651-4d77-8c82-c84244abb1cb",
        "colab": {
          "base_uri": "https://localhost:8080/",
          "height": 35
        }
      },
      "source": [
        "# We can access its elements with square brackets\n",
        "# Note that Python uses zero-based indexing (e.g. its first element is at \n",
        "# index 0)\n",
        "\n",
        "print(x[4])"
      ],
      "execution_count": 6,
      "outputs": [
        {
          "output_type": "stream",
          "text": [
            "5\n"
          ],
          "name": "stdout"
        }
      ]
    },
    {
      "cell_type": "code",
      "metadata": {
        "id": "w_zljPridhW-",
        "colab_type": "code",
        "outputId": "2d06321c-5003-48d8-ab41-7740f3212de7",
        "colab": {
          "base_uri": "https://localhost:8080/",
          "height": 71
        }
      },
      "source": [
        "# A matrix is a 2-D array of numbers\n",
        "# Below line will create a matrix whose height is 3 and width is 4\n",
        "X = np.array([[1, 2, 3, 4], [2, 3, 4, 5], [4, 3, 2, 1]])\n",
        "\n",
        "print(X)"
      ],
      "execution_count": 7,
      "outputs": [
        {
          "output_type": "stream",
          "text": [
            "[[1 2 3 4]\n",
            " [2 3 4 5]\n",
            " [4 3 2 1]]\n"
          ],
          "name": "stdout"
        }
      ]
    },
    {
      "cell_type": "code",
      "metadata": {
        "id": "iEP4HFFVeQYh",
        "colab_type": "code",
        "outputId": "70c9f3cf-3e8b-48c6-e644-74ab01cd2e53",
        "colab": {
          "base_uri": "https://localhost:8080/",
          "height": 35
        }
      },
      "source": [
        "# We can check its height and width with its (numpy array) attribute called \n",
        "# shape. We use the terms \"number of rows\" and \"number of columns\" \n",
        "# interchangeably with height and width, respectively.\n",
        "\n",
        "print(X.shape)"
      ],
      "execution_count": 8,
      "outputs": [
        {
          "output_type": "stream",
          "text": [
            "(3, 4)\n"
          ],
          "name": "stdout"
        }
      ]
    },
    {
      "cell_type": "code",
      "metadata": {
        "id": "SunEAD6Ceufg",
        "colab_type": "code",
        "outputId": "615f9392-8fa9-430b-98b9-1507eecb5380",
        "colab": {
          "base_uri": "https://localhost:8080/",
          "height": 35
        }
      },
      "source": [
        "# Indexing a matrix is similar to vectors\n",
        "# We index row first and then column.\n",
        "# Below will access the element at 1st row and 2nd column.\n",
        "# Keep in mind again that python uses zero-based indexing.\n",
        "\n",
        "print(X[1,2])"
      ],
      "execution_count": 9,
      "outputs": [
        {
          "output_type": "stream",
          "text": [
            "4\n"
          ],
          "name": "stdout"
        }
      ]
    },
    {
      "cell_type": "code",
      "metadata": {
        "id": "zZ4Lp0x6fnOX",
        "colab_type": "code",
        "outputId": "34d9a488-357c-4148-b913-5e8471012460",
        "colab": {
          "base_uri": "https://localhost:8080/",
          "height": 35
        }
      },
      "source": [
        "# Using \":\", we can access row vectors and column vectors\n",
        "# Below line will give you 1st row vector and 2nd column vector and their \n",
        "# lengths\n",
        "\n",
        "print(X[1,:], X[:,2 ], len(X[1,:]), len(X[:,2]))"
      ],
      "execution_count": 10,
      "outputs": [
        {
          "output_type": "stream",
          "text": [
            "[2 3 4 5] [3 4 2] 4 3\n"
          ],
          "name": "stdout"
        }
      ]
    },
    {
      "cell_type": "code",
      "metadata": {
        "id": "U6GffeUsggy9",
        "colab_type": "code",
        "outputId": "ec86c2eb-a783-4f25-e99c-f16beddcaba5",
        "colab": {
          "base_uri": "https://localhost:8080/",
          "height": 143
        }
      },
      "source": [
        "# Tensors described in the book are simply just called multi-dimensional arrays. \n",
        "# They can be created the same way as we create matrices.\n",
        "# Below line will create a \"tensor\" with 3 axes (dimensions).\n",
        "\n",
        "X = np.array( [[[1, 2], [2, 3], [3, 4]],\n",
        "              [[-1, -2], [-2, 8], [-8, 5]]])\n",
        "\n",
        "print(X)"
      ],
      "execution_count": 11,
      "outputs": [
        {
          "output_type": "stream",
          "text": [
            "[[[ 1  2]\n",
            "  [ 2  3]\n",
            "  [ 3  4]]\n",
            "\n",
            " [[-1 -2]\n",
            "  [-2  8]\n",
            "  [-8  5]]]\n"
          ],
          "name": "stdout"
        }
      ]
    },
    {
      "cell_type": "code",
      "metadata": {
        "id": "udDsowkLhh1x",
        "colab_type": "code",
        "outputId": "f4b06ebe-a478-435e-c1de-dbc6addca7f7",
        "colab": {
          "base_uri": "https://localhost:8080/",
          "height": 161
        }
      },
      "source": [
        "# Take a guess what the below lines will print to the console.\n",
        "\n",
        "print(X.shape)\n",
        "print()\n",
        "\n",
        "print(X[0, 0, 0])\n",
        "print()\n",
        "\n",
        "print(X[1, :, :])\n",
        "print()"
      ],
      "execution_count": 12,
      "outputs": [
        {
          "output_type": "stream",
          "text": [
            "(2, 3, 2)\n",
            "\n",
            "1\n",
            "\n",
            "[[-1 -2]\n",
            " [-2  8]\n",
            " [-8  5]]\n",
            "\n"
          ],
          "name": "stdout"
        }
      ]
    },
    {
      "cell_type": "code",
      "metadata": {
        "id": "PpaVPcruJVyy",
        "colab_type": "code",
        "outputId": "7e819390-e4d2-4c4f-f0ea-1a0d73aeae3b",
        "colab": {
          "base_uri": "https://localhost:8080/",
          "height": 233
        }
      },
      "source": [
        "X = np.array([[1, 2, 3, 4], \n",
        "              [2, 3, 4, 5], \n",
        "              [4, 3, 2, 1]])\n",
        "\n",
        "print(X)\n",
        "print()\n",
        "print(X.shape)\n",
        "print()\n",
        "\n",
        "# Transpose of a matrix can be done by calling a function np.transpose()\n",
        "\n",
        "X_transposed = np.transpose(X)\n",
        "print(X_transposed)\n",
        "print()\n",
        "print(X_transposed.shape)"
      ],
      "execution_count": 13,
      "outputs": [
        {
          "output_type": "stream",
          "text": [
            "[[1 2 3 4]\n",
            " [2 3 4 5]\n",
            " [4 3 2 1]]\n",
            "\n",
            "(3, 4)\n",
            "\n",
            "[[1 2 4]\n",
            " [2 3 3]\n",
            " [3 4 2]\n",
            " [4 5 1]]\n",
            "\n",
            "(4, 3)\n"
          ],
          "name": "stdout"
        }
      ]
    },
    {
      "cell_type": "code",
      "metadata": {
        "id": "0SD_Fb6iDfdx",
        "colab_type": "code",
        "colab": {
          "base_uri": "https://localhost:8080/",
          "height": 125
        },
        "outputId": "37fe4557-05bf-4b88-c81e-16ad10d2b9da"
      },
      "source": [
        "# But Python is a highly objective-oriented langauge. Its instantiated object\n",
        "# normally has many attributes and methods that are really handy. \n",
        "\n",
        "# numpy objects have a lot of them too and one of them is .T. It gives you\n",
        "# the transposed matrix.\n",
        "\n",
        "X_transposed = X.T\n",
        "print(X_transposed)\n",
        "print()\n",
        "print(X_transposed.shape)"
      ],
      "execution_count": 14,
      "outputs": [
        {
          "output_type": "stream",
          "text": [
            "[[1 2 4]\n",
            " [2 3 3]\n",
            " [3 4 2]\n",
            " [4 5 1]]\n",
            "\n",
            "(4, 3)\n"
          ],
          "name": "stdout"
        }
      ]
    },
    {
      "cell_type": "code",
      "metadata": {
        "id": "sLBgxaM-IX-H",
        "colab_type": "code",
        "outputId": "a532fd3f-f225-4227-ac6b-332c11d6b6fa",
        "colab": {
          "base_uri": "https://localhost:8080/",
          "height": 71
        }
      },
      "source": [
        "# When you create a numpy vector like below, the vector normally does't really \n",
        "# have a shape. It's more like a list of numbers.\n",
        "\n",
        "x = np.array([1,2,3])\n",
        "print(x)\n",
        "print()\n",
        "print(x.shape)"
      ],
      "execution_count": 15,
      "outputs": [
        {
          "output_type": "stream",
          "text": [
            "[1 2 3]\n",
            "\n",
            "(3,)\n"
          ],
          "name": "stdout"
        }
      ]
    },
    {
      "cell_type": "code",
      "metadata": {
        "id": "FW-qaBE9DnBS",
        "colab_type": "code",
        "colab": {
          "base_uri": "https://localhost:8080/",
          "height": 179
        },
        "outputId": "b572f6c0-fed3-47d5-f41d-529bd4a2a8bd"
      },
      "source": [
        "# We can use the numpy array method reshape() to convert it to a row or\n",
        "# a column vector.\n",
        "\n",
        "x_row = np.array([1,2,3]).reshape(1,3)\n",
        "print(x_row)\n",
        "print()\n",
        "print(x_row.shape)\n",
        "print()\n",
        "\n",
        "x_col = np.array([1,2,3]).reshape(3,1)\n",
        "print(x_col)\n",
        "print()\n",
        "print(x_col.shape)"
      ],
      "execution_count": 16,
      "outputs": [
        {
          "output_type": "stream",
          "text": [
            "[[1 2 3]]\n",
            "\n",
            "(1, 3)\n",
            "\n",
            "[[1]\n",
            " [2]\n",
            " [3]]\n",
            "\n",
            "(3, 1)\n"
          ],
          "name": "stdout"
        }
      ]
    },
    {
      "cell_type": "code",
      "metadata": {
        "id": "aXL7eYsRDps9",
        "colab_type": "code",
        "colab": {
          "base_uri": "https://localhost:8080/",
          "height": 125
        },
        "outputId": "76c16c61-d489-4643-de08-8be50e9d49d4"
      },
      "source": [
        "# reshape() also allows you to use -1, if you don't want to specify the\n",
        "# dimension of that axis. It will figure out itself to find the length of that\n",
        "# dimension. This is pretty handy.\n",
        "\n",
        "x = np.array([1,2,3]).reshape(-1, 1)\n",
        "print(x)\n",
        "print()\n",
        "print(x.shape)\n",
        "print()"
      ],
      "execution_count": 17,
      "outputs": [
        {
          "output_type": "stream",
          "text": [
            "[[1]\n",
            " [2]\n",
            " [3]]\n",
            "\n",
            "(3, 1)\n",
            "\n"
          ],
          "name": "stdout"
        }
      ]
    },
    {
      "cell_type": "code",
      "metadata": {
        "id": "cRhoAmRZD1S9",
        "colab_type": "code",
        "colab": {
          "base_uri": "https://localhost:8080/",
          "height": 71
        },
        "outputId": "935cd2ce-5ffa-405f-b9f9-cfc900ba61af"
      },
      "source": [
        "# Transposing a column vector will give you a row vector.\n",
        "x_transposed = x.T\n",
        "print(x_transposed)\n",
        "print()\n",
        "print(x_transposed.shape)\n",
        "\n",
        "# FYI, in mathematics, it's more common to use column vectors than\n",
        "# row vectors (i.e. In the literatures, you'll see things like x = [1, 2, 3]^T \n",
        "# way more often than x = [1, 2, 3])"
      ],
      "execution_count": 18,
      "outputs": [
        {
          "output_type": "stream",
          "text": [
            "[[1 2 3]]\n",
            "\n",
            "(1, 3)\n"
          ],
          "name": "stdout"
        }
      ]
    },
    {
      "cell_type": "code",
      "metadata": {
        "id": "30mIMLH4QBTG",
        "colab_type": "code",
        "outputId": "7d31f9b4-9be7-4cc8-8277-c7136f8543ec",
        "colab": {
          "base_uri": "https://localhost:8080/",
          "height": 323
        }
      },
      "source": [
        "# In Python, matrix addition can be done easily with the plus arithmetic \n",
        "# operator.\n",
        "\n",
        "A = np.array([[1, 2, 3, 4], [2, 3, 4, 5], [4, 3, 2, 1]])\n",
        "B = np.array([[-1, 2, 3, -4], [3, 3, 2, -5], [-1, -3, -2, -3]])\n",
        "C = A + B\n",
        "\n",
        "print(A)\n",
        "print()\n",
        "print(A.shape)\n",
        "print()\n",
        "print(B)\n",
        "print()\n",
        "print(B.shape)\n",
        "print()\n",
        "print(C)\n",
        "print()\n",
        "print(C.shape)"
      ],
      "execution_count": 19,
      "outputs": [
        {
          "output_type": "stream",
          "text": [
            "[[1 2 3 4]\n",
            " [2 3 4 5]\n",
            " [4 3 2 1]]\n",
            "\n",
            "(3, 4)\n",
            "\n",
            "[[-1  2  3 -4]\n",
            " [ 3  3  2 -5]\n",
            " [-1 -3 -2 -3]]\n",
            "\n",
            "(3, 4)\n",
            "\n",
            "[[ 0  4  6  0]\n",
            " [ 5  6  6  0]\n",
            " [ 3  0  0 -2]]\n",
            "\n",
            "(3, 4)\n"
          ],
          "name": "stdout"
        }
      ]
    },
    {
      "cell_type": "code",
      "metadata": {
        "id": "hqEU2iQAQxXJ",
        "colab_type": "code",
        "outputId": "53e7b67c-7a2e-4c4e-82e0-78ff3ffb0f09",
        "colab": {
          "base_uri": "https://localhost:8080/",
          "height": 208
        }
      },
      "source": [
        "# Obviously matrix addition only works when the two matrices are of the same\n",
        "# shape. Otherwise Python interpretor will throw you an error!\n",
        "\n",
        "A = np.array([[1, 2, 3, 4], \n",
        "              [2, 3, 4, 5], \n",
        "              [4, 3, 2, 1]])\n",
        "\n",
        "B = np.array([[-1, 2, 3, -4], \n",
        "              [3, 3, 2, -5], \n",
        "              [-1, -3, -2, -3]])\n",
        "B_transposed = B.T\n",
        "C = A + B_transposed"
      ],
      "execution_count": 20,
      "outputs": [
        {
          "output_type": "error",
          "ename": "ValueError",
          "evalue": "ignored",
          "traceback": [
            "\u001b[0;31m---------------------------------------------------------------------------\u001b[0m",
            "\u001b[0;31mValueError\u001b[0m                                Traceback (most recent call last)",
            "\u001b[0;32m<ipython-input-20-2a1467fba516>\u001b[0m in \u001b[0;36m<module>\u001b[0;34m()\u001b[0m\n\u001b[1;32m     10\u001b[0m               [-1, -3, -2, -3]])\n\u001b[1;32m     11\u001b[0m \u001b[0mB_transposed\u001b[0m \u001b[0;34m=\u001b[0m \u001b[0mB\u001b[0m\u001b[0;34m.\u001b[0m\u001b[0mT\u001b[0m\u001b[0;34m\u001b[0m\u001b[0;34m\u001b[0m\u001b[0m\n\u001b[0;32m---> 12\u001b[0;31m \u001b[0mC\u001b[0m \u001b[0;34m=\u001b[0m \u001b[0mA\u001b[0m \u001b[0;34m+\u001b[0m \u001b[0mB_transposed\u001b[0m\u001b[0;34m\u001b[0m\u001b[0;34m\u001b[0m\u001b[0m\n\u001b[0m",
            "\u001b[0;31mValueError\u001b[0m: operands could not be broadcast together with shapes (3,4) (4,3) "
          ]
        }
      ]
    },
    {
      "cell_type": "code",
      "metadata": {
        "id": "JYh9xlD0RuGC",
        "colab_type": "code",
        "outputId": "ac2e8dd2-eff1-436f-bd57-c069aa632723",
        "colab": {
          "base_uri": "https://localhost:8080/",
          "height": 89
        }
      },
      "source": [
        "# Adding a scalar to a matrix or multiply a matrix by a scalar is done\n",
        "# in a very straightforward way in Python.\n",
        "\n",
        "a = 2\n",
        "B = np.array([[-1, 2, 3, -4], [3, 3, 2, -5], [-1, -3, -2, -3]])\n",
        "c = -1\n",
        "\n",
        "D = a*B + c\n",
        "\n",
        "print()\n",
        "print(D)"
      ],
      "execution_count": 21,
      "outputs": [
        {
          "output_type": "stream",
          "text": [
            "\n",
            "[[ -3   3   5  -9]\n",
            " [  5   5   3 -11]\n",
            " [ -3  -7  -5  -7]]\n"
          ],
          "name": "stdout"
        }
      ]
    },
    {
      "cell_type": "code",
      "metadata": {
        "id": "uVMxU0PJSTNp",
        "colab_type": "code",
        "outputId": "ca31c752-5b36-406b-d5bd-0fbed76d5b30",
        "colab": {
          "base_uri": "https://localhost:8080/",
          "height": 233
        }
      },
      "source": [
        "# Broadcasting in Python is very straightforward as well. The only thing you\n",
        "# have to worry about is if the shapes match or not.\n",
        "\n",
        "A = np.array([[1, 2, 3, 4], [2, 3, 4, 5], [4, 3, 2, 1]])\n",
        "print(A)\n",
        "print()\n",
        "\n",
        "# row vector\n",
        "row = np.array([4, 3, 2, 1]).reshape(1, -1)\n",
        "\n",
        "# column vector\n",
        "col = np.array([4, 3, 2]).reshape(-1, 1)\n",
        "\n",
        "C = A + row\n",
        "print(C)\n",
        "print()\n",
        "\n",
        "C = A + col\n",
        "print(C)\n",
        "print()"
      ],
      "execution_count": 22,
      "outputs": [
        {
          "output_type": "stream",
          "text": [
            "[[1 2 3 4]\n",
            " [2 3 4 5]\n",
            " [4 3 2 1]]\n",
            "\n",
            "[[5 5 5 5]\n",
            " [6 6 6 6]\n",
            " [8 6 4 2]]\n",
            "\n",
            "[[5 6 7 8]\n",
            " [5 6 7 8]\n",
            " [6 5 4 3]]\n",
            "\n"
          ],
          "name": "stdout"
        }
      ]
    },
    {
      "cell_type": "markdown",
      "metadata": {
        "id": "j0_R2G2QXbEd",
        "colab_type": "text"
      },
      "source": [
        "# 2.2 Multiplying Matrices and Vectors"
      ]
    },
    {
      "cell_type": "code",
      "metadata": {
        "id": "bRzR4jvkLjSx",
        "colab_type": "code",
        "colab": {}
      },
      "source": [
        "# numpy package has a lot of useful stuffs for linear algebra.  \n",
        "import numpy as np"
      ],
      "execution_count": 0,
      "outputs": []
    },
    {
      "cell_type": "code",
      "metadata": {
        "id": "S53FUDdFXhyk",
        "colab_type": "code",
        "outputId": "2401b396-6bb8-43fe-9c28-5a7ef8480aae",
        "colab": {
          "base_uri": "https://localhost:8080/",
          "height": 323
        }
      },
      "source": [
        "# The matrix product of two matrices can be done using the arithmetic operator\n",
        "# \"@\" (from python 3.5). You can also use the numpy function such as \n",
        "# np.matmul() or np.dot()\n",
        "\n",
        "A = np.array([[1, 2, 3, 4], [2, 3, 4, 5], [4, 3, 2, 1]])\n",
        "B = np.array([[-1, 2, 3, -4], [3, 3, 2, -5], [-1, -3, -2, -3]]).T\n",
        "\n",
        "C1 = A @ B\n",
        "C2 = np.matmul(A, B)\n",
        "C3 = np.dot(A, B)\n",
        "\n",
        "print(A.shape)\n",
        "print()\n",
        "print(B.shape)\n",
        "print()\n",
        "print(C1)\n",
        "print()\n",
        "print(C2)\n",
        "print()\n",
        "print(C3)\n",
        "print()\n",
        "print(C1.shape, C2.shape, C3.shape)"
      ],
      "execution_count": 24,
      "outputs": [
        {
          "output_type": "stream",
          "text": [
            "(3, 4)\n",
            "\n",
            "(4, 3)\n",
            "\n",
            "[[ -4  -5 -25]\n",
            " [ -4  -2 -34]\n",
            " [  4  20 -20]]\n",
            "\n",
            "[[ -4  -5 -25]\n",
            " [ -4  -2 -34]\n",
            " [  4  20 -20]]\n",
            "\n",
            "[[ -4  -5 -25]\n",
            " [ -4  -2 -34]\n",
            " [  4  20 -20]]\n",
            "\n",
            "(3, 3) (3, 3) (3, 3)\n"
          ],
          "name": "stdout"
        }
      ]
    },
    {
      "cell_type": "code",
      "metadata": {
        "id": "MKYjHCe8vmZ7",
        "colab_type": "code",
        "outputId": "4c519b91-cd85-418b-b3ae-53405eef0cac",
        "colab": {
          "base_uri": "https://localhost:8080/",
          "height": 143
        }
      },
      "source": [
        "# The element-wise product of two matrices can be done using the arithmetic \n",
        "# \"*\". You can also use the numpy function such as np.multiply()\n",
        "\n",
        "A = np.array([[1, 2, 3, 4], [2, 3, 4, 5], [4, 3, 2, 1]])\n",
        "B = np.array([[-1, 2, 3, -4], [3, 3, 2, -5], [-1, -3, -2, -3]])\n",
        "\n",
        "C1 = A * B\n",
        "C2 = np.multiply(A, B)\n",
        "\n",
        "print(C1)\n",
        "print()\n",
        "print(C2)"
      ],
      "execution_count": 25,
      "outputs": [
        {
          "output_type": "stream",
          "text": [
            "[[ -1   4   9 -16]\n",
            " [  6   9   8 -25]\n",
            " [ -4  -9  -4  -3]]\n",
            "\n",
            "[[ -1   4   9 -16]\n",
            " [  6   9   8 -25]\n",
            " [ -4  -9  -4  -3]]\n"
          ],
          "name": "stdout"
        }
      ]
    },
    {
      "cell_type": "code",
      "metadata": {
        "id": "uRZ2uBoAycEf",
        "colab_type": "code",
        "outputId": "e93a0591-7da4-46da-edf1-2dc7f6b407cf",
        "colab": {
          "base_uri": "https://localhost:8080/",
          "height": 215
        }
      },
      "source": [
        "# Each of the below lines create a 3 by 3 matrix with random values.\n",
        "A = np.random.randint(low=0, high=10, size=(3, 3))\n",
        "B = np.random.randint(low=0, high=10, size=(3, 3))\n",
        "C = np.random.randint(low=0, high=10, size=(3, 3))\n",
        "\n",
        "print(A)\n",
        "print()\n",
        "print(B)\n",
        "print()\n",
        "print(C)"
      ],
      "execution_count": 26,
      "outputs": [
        {
          "output_type": "stream",
          "text": [
            "[[6 3 7]\n",
            " [0 8 6]\n",
            " [6 9 6]]\n",
            "\n",
            "[[2 2 3]\n",
            " [2 8 3]\n",
            " [4 6 7]]\n",
            "\n",
            "[[2 2 3]\n",
            " [9 7 6]\n",
            " [0 1 0]]\n"
          ],
          "name": "stdout"
        }
      ]
    },
    {
      "cell_type": "code",
      "metadata": {
        "id": "jkglPvIk0d_y",
        "colab_type": "code",
        "outputId": "dc405d09-ce64-4d6f-e74c-41431f8e1755",
        "colab": {
          "base_uri": "https://localhost:8080/",
          "height": 143
        }
      },
      "source": [
        "# matrix multiplication is distributive\n",
        "\n",
        "print(A@(B+C))\n",
        "print()\n",
        "print(A@B + A@C)"
      ],
      "execution_count": 27,
      "outputs": [
        {
          "output_type": "stream",
          "text": [
            "[[ 85 118 112]\n",
            " [112 162 114]\n",
            " [147 201 159]]\n",
            "\n",
            "[[ 85 118 112]\n",
            " [112 162 114]\n",
            " [147 201 159]]\n"
          ],
          "name": "stdout"
        }
      ]
    },
    {
      "cell_type": "code",
      "metadata": {
        "id": "O4_ksVZIGb7h",
        "colab_type": "code",
        "colab": {
          "base_uri": "https://localhost:8080/",
          "height": 107
        },
        "outputId": "7040013f-98e5-4854-ba85-b9c4216e1258"
      },
      "source": [
        "# Below line compares element-wise\n",
        "print(A@(B+C) == (A@B + A@C))\n",
        "print()\n",
        "# Below line returns True only when all of the elements are True.\n",
        "print(np.all(A@(B+C) == (A@B + A@C)))"
      ],
      "execution_count": 28,
      "outputs": [
        {
          "output_type": "stream",
          "text": [
            "[[ True  True  True]\n",
            " [ True  True  True]\n",
            " [ True  True  True]]\n",
            "\n",
            "True\n"
          ],
          "name": "stdout"
        }
      ]
    },
    {
      "cell_type": "code",
      "metadata": {
        "id": "JqvdUQ-J0xu9",
        "colab_type": "code",
        "outputId": "c40ba55a-8a3c-4767-db5c-ead8215187ea",
        "colab": {
          "base_uri": "https://localhost:8080/",
          "height": 179
        }
      },
      "source": [
        "# matrix multiplication is associative\n",
        "\n",
        "print(A@(B@C))\n",
        "print()\n",
        "print((A@B)@C)\n",
        "print()\n",
        "\n",
        "# Below line returns True only when all of the elements are True.\n",
        "print(np.all((A@(B@C)) == ((A@B)@C)))"
      ],
      "execution_count": 29,
      "outputs": [
        {
          "output_type": "stream",
          "text": [
            "[[ 794  714  606]\n",
            " [ 980  846  720]\n",
            " [1188 1035  882]]\n",
            "\n",
            "[[ 794  714  606]\n",
            " [ 980  846  720]\n",
            " [1188 1035  882]]\n",
            "\n",
            "True\n"
          ],
          "name": "stdout"
        }
      ]
    },
    {
      "cell_type": "code",
      "metadata": {
        "id": "8wZHCfP71abs",
        "colab_type": "code",
        "outputId": "dba8841a-2a4f-4523-b2a7-5b783dddb7f0",
        "colab": {
          "base_uri": "https://localhost:8080/",
          "height": 179
        }
      },
      "source": [
        "# Matrix multiplication is not commutative\n",
        "\n",
        "print(A@B)\n",
        "print()\n",
        "print(B@A)\n",
        "print()\n",
        "# Below line returns True only when all of the elements are True.\n",
        "print(np.all(A@B == B@A))"
      ],
      "execution_count": 30,
      "outputs": [
        {
          "output_type": "stream",
          "text": [
            "[[ 46  78  76]\n",
            " [ 40 100  66]\n",
            " [ 54 120  87]]\n",
            "\n",
            "[[ 30  49  44]\n",
            " [ 30  97  80]\n",
            " [ 66 123 106]]\n",
            "\n",
            "False\n"
          ],
          "name": "stdout"
        }
      ]
    },
    {
      "cell_type": "code",
      "metadata": {
        "id": "LU00v5mh11ZU",
        "colab_type": "code",
        "outputId": "517e50db-8ec3-463b-df26-bbde21118f19",
        "colab": {
          "base_uri": "https://localhost:8080/",
          "height": 179
        }
      },
      "source": [
        "# The transpose of a matrix product has a simple form\n",
        "\n",
        "print((A@B).T)\n",
        "print()\n",
        "print((B.T)@(A.T))\n",
        "print()\n",
        "\n",
        "# Below line returns True only when all of the elements are True.\n",
        "print(np.all((A@B).T == (B.T)@(A.T)))"
      ],
      "execution_count": 31,
      "outputs": [
        {
          "output_type": "stream",
          "text": [
            "[[ 46  40  54]\n",
            " [ 78 100 120]\n",
            " [ 76  66  87]]\n",
            "\n",
            "[[ 46  40  54]\n",
            " [ 78 100 120]\n",
            " [ 76  66  87]]\n",
            "\n",
            "True\n"
          ],
          "name": "stdout"
        }
      ]
    },
    {
      "cell_type": "code",
      "metadata": {
        "id": "PL9sbLe62f_O",
        "colab_type": "code",
        "outputId": "ffcc4856-8956-47a1-e8b4-8165cc9687b4",
        "colab": {
          "base_uri": "https://localhost:8080/",
          "height": 71
        }
      },
      "source": [
        "# numpy is very powerful. It can also solve the system of linear equations easeily.\n",
        "# Below code is from https://docs.scipy.org/doc/numpy/reference/generated/numpy.linalg.solve.html\n",
        "\n",
        "# Solve the system of equations 3 * x0 + x1 = 9 and x0 + 2 * x1 = 8:\n",
        "\n",
        "A = np.array([[3,1], [1,2]])\n",
        "b = np.array([9,8])\n",
        "x = np.linalg.solve(A, b)\n",
        "\n",
        "# Below line returns True only when all of the elements are True.\n",
        "print(np.all(A@x == b))\n",
        "print()\n",
        "\n",
        "# Below line does kinda the same thing but in a bit more relaxed way.\n",
        "print(np.allclose(A@x, b))"
      ],
      "execution_count": 32,
      "outputs": [
        {
          "output_type": "stream",
          "text": [
            "True\n",
            "\n",
            "True\n"
          ],
          "name": "stdout"
        }
      ]
    },
    {
      "cell_type": "markdown",
      "metadata": {
        "id": "vpoFsoQu4Of2",
        "colab_type": "text"
      },
      "source": [
        "# 2.3 Identity and Inverse Matrices\n"
      ]
    },
    {
      "cell_type": "code",
      "metadata": {
        "id": "aOEarG2A4QQG",
        "colab_type": "code",
        "colab": {}
      },
      "source": [
        "# numpy package has a lot of useful stuffs for linear algebra. \n",
        "import numpy as np"
      ],
      "execution_count": 0,
      "outputs": []
    },
    {
      "cell_type": "code",
      "metadata": {
        "id": "iR8Jd0m2L4LD",
        "colab_type": "code",
        "outputId": "18cd7b9e-e3cc-4e12-8a3c-d7c0ef123a90",
        "colab": {
          "base_uri": "https://localhost:8080/",
          "height": 179
        }
      },
      "source": [
        "# numpy has a funciton identity() to make identity matrices. Its usage is very\n",
        "# straightforward\n",
        "I3 = np.identity(3)\n",
        "I5 = np.identity(5)\n",
        "\n",
        "print(I3)\n",
        "print()\n",
        "print(I5)"
      ],
      "execution_count": 34,
      "outputs": [
        {
          "output_type": "stream",
          "text": [
            "[[1. 0. 0.]\n",
            " [0. 1. 0.]\n",
            " [0. 0. 1.]]\n",
            "\n",
            "[[1. 0. 0. 0. 0.]\n",
            " [0. 1. 0. 0. 0.]\n",
            " [0. 0. 1. 0. 0.]\n",
            " [0. 0. 0. 1. 0.]\n",
            " [0. 0. 0. 0. 1.]]\n"
          ],
          "name": "stdout"
        }
      ]
    },
    {
      "cell_type": "code",
      "metadata": {
        "id": "KWtdzEywMNWy",
        "colab_type": "code",
        "outputId": "c0d3c85d-5cdf-4229-a0b1-09fd48faaf47",
        "colab": {
          "base_uri": "https://localhost:8080/",
          "height": 143
        }
      },
      "source": [
        "# Multiplying an identity matrix with a vector will result in the same vector.\n",
        "# Of course the number of columns of the identity matrix has to be the same as\n",
        "# that of elements in the vector.\n",
        "\n",
        "x = np.random.randint(low=0, high=10, size=(3, 1))\n",
        "\n",
        "print(x)\n",
        "print()\n",
        "\n",
        "print(I3@x)"
      ],
      "execution_count": 35,
      "outputs": [
        {
          "output_type": "stream",
          "text": [
            "[[4]\n",
            " [8]\n",
            " [3]]\n",
            "\n",
            "[[4.]\n",
            " [8.]\n",
            " [3.]]\n"
          ],
          "name": "stdout"
        }
      ]
    },
    {
      "cell_type": "code",
      "metadata": {
        "id": "HyvNDdZ8NUmp",
        "colab_type": "code",
        "outputId": "a037cc9e-ebcd-4511-9ec2-b8fd2baee7fd",
        "colab": {
          "base_uri": "https://localhost:8080/",
          "height": 71
        }
      },
      "source": [
        "# As said in the book, obtaining an inverse matrix is not always easy. I'll\n",
        "# take a toy example here, where the the shape of the matrix is 2 by 2.\n",
        "\n",
        "A = np.array([[3,1], \n",
        "              [1,2]])\n",
        "\n",
        "# We can use the below function to get the inverse matrix of A. The shape of\n",
        "# the inverse matrix has to be the same as the original matrix.\n",
        "A_inv = np.linalg.inv(A)\n",
        "print(A_inv)\n",
        "print()"
      ],
      "execution_count": 36,
      "outputs": [
        {
          "output_type": "stream",
          "text": [
            "[[ 0.4 -0.2]\n",
            " [-0.2  0.6]]\n",
            "\n"
          ],
          "name": "stdout"
        }
      ]
    },
    {
      "cell_type": "code",
      "metadata": {
        "id": "gWioomixHCJ2",
        "colab_type": "code",
        "colab": {
          "base_uri": "https://localhost:8080/",
          "height": 107
        },
        "outputId": "4e44b736-f3a1-487a-89e4-2a78680adc1a"
      },
      "source": [
        "# A matrix multipled with its inverse matrix will give you an identitiy matrix.\n",
        "# In this case, the matrix multiplication is actually commutative!\n",
        "\n",
        "print(A @ A_inv)\n",
        "print()\n",
        "print(A_inv @ A)"
      ],
      "execution_count": 37,
      "outputs": [
        {
          "output_type": "stream",
          "text": [
            "[[1. 0.]\n",
            " [0. 1.]]\n",
            "\n",
            "[[1. 0.]\n",
            " [0. 1.]]\n"
          ],
          "name": "stdout"
        }
      ]
    },
    {
      "cell_type": "code",
      "metadata": {
        "id": "lN9iR4mIPQj3",
        "colab_type": "code",
        "outputId": "f35a10f0-80cd-45e0-a42c-02d908f3e98d",
        "colab": {
          "base_uri": "https://localhost:8080/",
          "height": 53
        }
      },
      "source": [
        "# Inverse matrices can be used to solve a system of linear equations. As said\n",
        "# in the book, this is more of a theoretical tool.\n",
        "\n",
        "A = np.array([[3,1], [1,2]])\n",
        "b = np.array([2,3]).reshape(-1, 1)\n",
        "\n",
        "x = np.linalg.inv(A) @ b\n",
        "\n",
        "print(A @ x)"
      ],
      "execution_count": 38,
      "outputs": [
        {
          "output_type": "stream",
          "text": [
            "[[2.]\n",
            " [3.]]\n"
          ],
          "name": "stdout"
        }
      ]
    },
    {
      "cell_type": "markdown",
      "metadata": {
        "id": "HZhOjnUPQpFF",
        "colab_type": "text"
      },
      "source": [
        "# 2.4 Linear Dependence and Span\n"
      ]
    },
    {
      "cell_type": "code",
      "metadata": {
        "id": "L8baFwV2y8cs",
        "colab_type": "code",
        "colab": {}
      },
      "source": [
        "# numpy package has a lot of useful stuffs for linear algebra. \n",
        "import numpy as np"
      ],
      "execution_count": 0,
      "outputs": []
    },
    {
      "cell_type": "code",
      "metadata": {
        "id": "XNuvoScBP7SX",
        "colab_type": "code",
        "outputId": "00d38f4a-903f-4f8e-e3fa-f944ad2d5926",
        "colab": {
          "base_uri": "https://localhost:8080/",
          "height": 179
        }
      },
      "source": [
        "# Ax, matrix A multipled by vector x can be seen as a linear combination.\n",
        "\n",
        "A = np.array([[1, 2, 3, 4], [2, 3, 4, 5], [4, 3, 2, 1]])\n",
        "x = np.array([[0.1, 0.5, 0.2, 0.2]]).T\n",
        "\n",
        "print(A)\n",
        "print()\n",
        "print(x)\n",
        "print()"
      ],
      "execution_count": 40,
      "outputs": [
        {
          "output_type": "stream",
          "text": [
            "[[1 2 3 4]\n",
            " [2 3 4 5]\n",
            " [4 3 2 1]]\n",
            "\n",
            "[[0.1]\n",
            " [0.5]\n",
            " [0.2]\n",
            " [0.2]]\n",
            "\n"
          ],
          "name": "stdout"
        }
      ]
    },
    {
      "cell_type": "code",
      "metadata": {
        "id": "vZ5zEgU_Hc7_",
        "colab_type": "code",
        "colab": {
          "base_uri": "https://localhost:8080/",
          "height": 107
        },
        "outputId": "99fc4e49-aeae-4c02-e637-0007c5336a7b"
      },
      "source": [
        "# Try to think why below two lines have the same values.\n",
        "\n",
        "print(A@x)\n",
        "print()\n",
        "print(np.sum([A[:, i] * x[i, :] for i in range(A.shape[1])], axis=0))"
      ],
      "execution_count": 41,
      "outputs": [
        {
          "output_type": "stream",
          "text": [
            "[[2.5]\n",
            " [3.5]\n",
            " [2.5]]\n",
            "\n",
            "[2.5 3.5 2.5]\n"
          ],
          "name": "stdout"
        }
      ]
    },
    {
      "cell_type": "markdown",
      "metadata": {
        "id": "cK9jC9-wtdmC",
        "colab_type": "text"
      },
      "source": [
        "# 2.5 Norms\n"
      ]
    },
    {
      "cell_type": "code",
      "metadata": {
        "id": "NELehKAJte94",
        "colab_type": "code",
        "colab": {}
      },
      "source": [
        "# numpy package has a lot of useful stuffs for linear algebra.\n",
        "import numpy as np"
      ],
      "execution_count": 0,
      "outputs": []
    },
    {
      "cell_type": "code",
      "metadata": {
        "id": "i0RLT9UutrEM",
        "colab_type": "code",
        "outputId": "802665ff-9a55-4771-bf25-0c6925e1db2e",
        "colab": {
          "base_uri": "https://localhost:8080/",
          "height": 71
        }
      },
      "source": [
        "# https://numpy.org/doc/stable/reference/generated/numpy.linalg.norm.html\n",
        "# Above link shows the norm functions implemented by numpy.\n",
        "\n",
        "x = np.array([0, 1, -1, 2, 3, -4])\n",
        "\n",
        "l2_x = np.linalg.norm(x, 2)\n",
        "\n",
        "print(l2_x)\n",
        "print()\n",
        "\n",
        "# Let's confirm it with our calculation\n",
        "# ** in python allows you to write superscript with which you can specify the\n",
        "# exponent. It's equivalent to ^ in some other mathematical languages. \n",
        "\n",
        "l2_x_ = (x @ x) **(1/2)\n",
        "print(l2_x_)"
      ],
      "execution_count": 43,
      "outputs": [
        {
          "output_type": "stream",
          "text": [
            "5.5677643628300215\n",
            "\n",
            "5.5677643628300215\n"
          ],
          "name": "stdout"
        }
      ]
    },
    {
      "cell_type": "code",
      "metadata": {
        "id": "-Q5tfBGvvC4b",
        "colab_type": "code",
        "outputId": "26f84c44-fcf4-45b7-d44f-1c5f3fb32304",
        "colab": {
          "base_uri": "https://localhost:8080/",
          "height": 89
        }
      },
      "source": [
        "# Let's test l1 norm\n",
        "\n",
        "print(np.linalg.norm(x, 1))\n",
        "print()\n",
        "print(np.abs(x).sum())\n",
        "print()"
      ],
      "execution_count": 44,
      "outputs": [
        {
          "output_type": "stream",
          "text": [
            "11.0\n",
            "\n",
            "11\n",
            "\n"
          ],
          "name": "stdout"
        }
      ]
    },
    {
      "cell_type": "code",
      "metadata": {
        "id": "dqH_V4xgvV51",
        "colab_type": "code",
        "outputId": "363c33ce-e77e-4f80-9264-23bb6c4fe924",
        "colab": {
          "base_uri": "https://localhost:8080/",
          "height": 71
        }
      },
      "source": [
        "# Let's test l0 norm\n",
        "\n",
        "print(np.linalg.norm(x, 0))\n",
        "print()\n",
        "print(len(x[x != 0]))"
      ],
      "execution_count": 45,
      "outputs": [
        {
          "output_type": "stream",
          "text": [
            "5.0\n",
            "\n",
            "5\n"
          ],
          "name": "stdout"
        }
      ]
    },
    {
      "cell_type": "code",
      "metadata": {
        "id": "b4x-pgskwIyy",
        "colab_type": "code",
        "outputId": "4efa6789-8c36-4bc1-d905-092c55f64931",
        "colab": {
          "base_uri": "https://localhost:8080/",
          "height": 71
        }
      },
      "source": [
        "# Let's test Frobenius norm\n",
        "\n",
        "X = np.array([[0, 1, -2], [-1, 0, 2], [2, 3, 0]])\n",
        "print(np.linalg.norm(X, 'fro'))\n",
        "print()\n",
        "print((X * X).sum()**(1/2))"
      ],
      "execution_count": 46,
      "outputs": [
        {
          "output_type": "stream",
          "text": [
            "4.795831523312719\n",
            "\n",
            "4.795831523312719\n"
          ],
          "name": "stdout"
        }
      ]
    },
    {
      "cell_type": "markdown",
      "metadata": {
        "id": "wxI_7ZFAyGP7",
        "colab_type": "text"
      },
      "source": [
        "# 2.6 Special Kinds of Matrices and Vectors\n"
      ]
    },
    {
      "cell_type": "code",
      "metadata": {
        "id": "sA0J8mhbyIUG",
        "colab_type": "code",
        "colab": {}
      },
      "source": [
        "# numpy package has a lot of useful stuffs for linear algebra.\n",
        "import numpy as np"
      ],
      "execution_count": 0,
      "outputs": []
    },
    {
      "cell_type": "code",
      "metadata": {
        "id": "ZM6jY1o4yK5m",
        "colab_type": "code",
        "outputId": "26a396bd-bb9f-47ed-a0a4-6facc0e17e2e",
        "colab": {
          "base_uri": "https://localhost:8080/",
          "height": 71
        }
      },
      "source": [
        "# The simplest diagonal matrices are identity matrices.\n",
        "# Example:\n",
        "\n",
        "print(np.identity(3))"
      ],
      "execution_count": 48,
      "outputs": [
        {
          "output_type": "stream",
          "text": [
            "[[1. 0. 0.]\n",
            " [0. 1. 0.]\n",
            " [0. 0. 1.]]\n"
          ],
          "name": "stdout"
        }
      ]
    },
    {
      "cell_type": "code",
      "metadata": {
        "id": "9MKUjSTPyhiv",
        "colab_type": "code",
        "outputId": "5bef5a0c-08b8-4a83-e4bb-a3b3f587c6cb",
        "colab": {
          "base_uri": "https://localhost:8080/",
          "height": 89
        }
      },
      "source": [
        "# The diag() function converts a vector into a diagonal matrix.\n",
        "\n",
        "print(np.diag([1,2,3]))\n",
        "print()"
      ],
      "execution_count": 49,
      "outputs": [
        {
          "output_type": "stream",
          "text": [
            "[[1 0 0]\n",
            " [0 2 0]\n",
            " [0 0 3]]\n",
            "\n"
          ],
          "name": "stdout"
        }
      ]
    },
    {
      "cell_type": "code",
      "metadata": {
        "id": "a7XnEpuxH4VK",
        "colab_type": "code",
        "colab": {
          "base_uri": "https://localhost:8080/",
          "height": 107
        },
        "outputId": "eafdfd2c-f08d-4ccc-a98b-221fdca4b90a"
      },
      "source": [
        "# If a matrix is given as an input instead of a vector, then it outputs\n",
        "# a vector whose elements are the diagonal of the matrix.\n",
        "\n",
        "A = np.random.randint(low=0, high=10, size=(3, 3))\n",
        "print(A)\n",
        "print()\n",
        "print(np.diag(A))"
      ],
      "execution_count": 50,
      "outputs": [
        {
          "output_type": "stream",
          "text": [
            "[[4 4 6]\n",
            " [5 2 6]\n",
            " [3 5 9]]\n",
            "\n",
            "[4 2 9]\n"
          ],
          "name": "stdout"
        }
      ]
    },
    {
      "cell_type": "code",
      "metadata": {
        "id": "R7PbAeojDAbW",
        "colab_type": "code",
        "colab": {}
      },
      "source": [
        "# Let's see how diagonal matrix product can save computation time.\n",
        "# Ipython (Jupyter) has some nice magic commands. One of them is called timeit,\n",
        "# which can be used to measure cell execution time. \n",
        "\n",
        "a = np.random.randint(low=-5, high=5, size=100)\n",
        "A = np.diag(a)\n",
        "x = np.random.randint(low=-5, high=5, size=100)"
      ],
      "execution_count": 0,
      "outputs": []
    },
    {
      "cell_type": "code",
      "metadata": {
        "id": "6gR2G5dPCh58",
        "colab_type": "code",
        "outputId": "8d589648-8cfd-4363-9ed4-2fadcf0328bc",
        "colab": {
          "base_uri": "https://localhost:8080/",
          "height": 35
        }
      },
      "source": [
        "%%timeit -n 100 -r 10\n",
        "A @ x"
      ],
      "execution_count": 52,
      "outputs": [
        {
          "output_type": "stream",
          "text": [
            "100 loops, best of 10: 11.8 µs per loop\n"
          ],
          "name": "stdout"
        }
      ]
    },
    {
      "cell_type": "code",
      "metadata": {
        "id": "aAUzRD7WErPT",
        "colab_type": "code",
        "outputId": "f55c577e-3f8d-4ced-9bdc-4ae5abc400b0",
        "colab": {
          "base_uri": "https://localhost:8080/",
          "height": 35
        }
      },
      "source": [
        "%%timeit -n 100 -r 10\n",
        "a @ x"
      ],
      "execution_count": 53,
      "outputs": [
        {
          "output_type": "stream",
          "text": [
            "100 loops, best of 10: 1.89 µs per loop\n"
          ],
          "name": "stdout"
        }
      ]
    },
    {
      "cell_type": "code",
      "metadata": {
        "id": "GtI7hUVqDgin",
        "colab_type": "code",
        "outputId": "44fc5b7f-4b4b-44ff-b713-6fe8e5468d8d",
        "colab": {
          "base_uri": "https://localhost:8080/",
          "height": 35
        }
      },
      "source": [
        "# This cell still takes less time to execute although it includes converting\n",
        "# a matrix into a diagonal vector.\n",
        "\n",
        "%%timeit -n 100 -r 10\n",
        "np.diag(A) @ x"
      ],
      "execution_count": 54,
      "outputs": [
        {
          "output_type": "stream",
          "text": [
            "100 loops, best of 10: 4.42 µs per loop\n"
          ],
          "name": "stdout"
        }
      ]
    },
    {
      "cell_type": "code",
      "metadata": {
        "id": "H7z-CBeYE0eb",
        "colab_type": "code",
        "outputId": "8e04764d-c176-4615-8e76-f1932bc91c80",
        "colab": {
          "base_uri": "https://localhost:8080/",
          "height": 448
        }
      },
      "source": [
        "# A square diagonal matrix has its inverse exists only if every diagonal entry \n",
        "# is nonzero\n",
        "\n",
        "A = np.array([[1, 0, 0], [0, -2, 0], [0, 0, 3]])\n",
        "print(np.linalg.inv(A))\n",
        "\n",
        "A = np.array([[1, 0, 0], [0, 0, 0], [0, 0, 3]])\n",
        "print(np.linalg.inv(A))"
      ],
      "execution_count": 55,
      "outputs": [
        {
          "output_type": "stream",
          "text": [
            "[[ 1.          0.          0.        ]\n",
            " [-0.         -0.5        -0.        ]\n",
            " [ 0.          0.          0.33333333]]\n"
          ],
          "name": "stdout"
        },
        {
          "output_type": "error",
          "ename": "LinAlgError",
          "evalue": "ignored",
          "traceback": [
            "\u001b[0;31m---------------------------------------------------------------------------\u001b[0m",
            "\u001b[0;31mLinAlgError\u001b[0m                               Traceback (most recent call last)",
            "\u001b[0;32m<ipython-input-55-587554dda795>\u001b[0m in \u001b[0;36m<module>\u001b[0;34m()\u001b[0m\n\u001b[1;32m      6\u001b[0m \u001b[0;34m\u001b[0m\u001b[0m\n\u001b[1;32m      7\u001b[0m \u001b[0mA\u001b[0m \u001b[0;34m=\u001b[0m \u001b[0mnp\u001b[0m\u001b[0;34m.\u001b[0m\u001b[0marray\u001b[0m\u001b[0;34m(\u001b[0m\u001b[0;34m[\u001b[0m\u001b[0;34m[\u001b[0m\u001b[0;36m1\u001b[0m\u001b[0;34m,\u001b[0m \u001b[0;36m0\u001b[0m\u001b[0;34m,\u001b[0m \u001b[0;36m0\u001b[0m\u001b[0;34m]\u001b[0m\u001b[0;34m,\u001b[0m \u001b[0;34m[\u001b[0m\u001b[0;36m0\u001b[0m\u001b[0;34m,\u001b[0m \u001b[0;36m0\u001b[0m\u001b[0;34m,\u001b[0m \u001b[0;36m0\u001b[0m\u001b[0;34m]\u001b[0m\u001b[0;34m,\u001b[0m \u001b[0;34m[\u001b[0m\u001b[0;36m0\u001b[0m\u001b[0;34m,\u001b[0m \u001b[0;36m0\u001b[0m\u001b[0;34m,\u001b[0m \u001b[0;36m3\u001b[0m\u001b[0;34m]\u001b[0m\u001b[0;34m]\u001b[0m\u001b[0;34m)\u001b[0m\u001b[0;34m\u001b[0m\u001b[0;34m\u001b[0m\u001b[0m\n\u001b[0;32m----> 8\u001b[0;31m \u001b[0mprint\u001b[0m\u001b[0;34m(\u001b[0m\u001b[0mnp\u001b[0m\u001b[0;34m.\u001b[0m\u001b[0mlinalg\u001b[0m\u001b[0;34m.\u001b[0m\u001b[0minv\u001b[0m\u001b[0;34m(\u001b[0m\u001b[0mA\u001b[0m\u001b[0;34m)\u001b[0m\u001b[0;34m)\u001b[0m\u001b[0;34m\u001b[0m\u001b[0;34m\u001b[0m\u001b[0m\n\u001b[0m",
            "\u001b[0;32m<__array_function__ internals>\u001b[0m in \u001b[0;36minv\u001b[0;34m(*args, **kwargs)\u001b[0m\n",
            "\u001b[0;32m/usr/local/lib/python3.6/dist-packages/numpy/linalg/linalg.py\u001b[0m in \u001b[0;36minv\u001b[0;34m(a)\u001b[0m\n\u001b[1;32m    545\u001b[0m     \u001b[0msignature\u001b[0m \u001b[0;34m=\u001b[0m \u001b[0;34m'D->D'\u001b[0m \u001b[0;32mif\u001b[0m \u001b[0misComplexType\u001b[0m\u001b[0;34m(\u001b[0m\u001b[0mt\u001b[0m\u001b[0;34m)\u001b[0m \u001b[0;32melse\u001b[0m \u001b[0;34m'd->d'\u001b[0m\u001b[0;34m\u001b[0m\u001b[0;34m\u001b[0m\u001b[0m\n\u001b[1;32m    546\u001b[0m     \u001b[0mextobj\u001b[0m \u001b[0;34m=\u001b[0m \u001b[0mget_linalg_error_extobj\u001b[0m\u001b[0;34m(\u001b[0m\u001b[0m_raise_linalgerror_singular\u001b[0m\u001b[0;34m)\u001b[0m\u001b[0;34m\u001b[0m\u001b[0;34m\u001b[0m\u001b[0m\n\u001b[0;32m--> 547\u001b[0;31m     \u001b[0mainv\u001b[0m \u001b[0;34m=\u001b[0m \u001b[0m_umath_linalg\u001b[0m\u001b[0;34m.\u001b[0m\u001b[0minv\u001b[0m\u001b[0;34m(\u001b[0m\u001b[0ma\u001b[0m\u001b[0;34m,\u001b[0m \u001b[0msignature\u001b[0m\u001b[0;34m=\u001b[0m\u001b[0msignature\u001b[0m\u001b[0;34m,\u001b[0m \u001b[0mextobj\u001b[0m\u001b[0;34m=\u001b[0m\u001b[0mextobj\u001b[0m\u001b[0;34m)\u001b[0m\u001b[0;34m\u001b[0m\u001b[0;34m\u001b[0m\u001b[0m\n\u001b[0m\u001b[1;32m    548\u001b[0m     \u001b[0;32mreturn\u001b[0m \u001b[0mwrap\u001b[0m\u001b[0;34m(\u001b[0m\u001b[0mainv\u001b[0m\u001b[0;34m.\u001b[0m\u001b[0mastype\u001b[0m\u001b[0;34m(\u001b[0m\u001b[0mresult_t\u001b[0m\u001b[0;34m,\u001b[0m \u001b[0mcopy\u001b[0m\u001b[0;34m=\u001b[0m\u001b[0;32mFalse\u001b[0m\u001b[0;34m)\u001b[0m\u001b[0;34m)\u001b[0m\u001b[0;34m\u001b[0m\u001b[0;34m\u001b[0m\u001b[0m\n\u001b[1;32m    549\u001b[0m \u001b[0;34m\u001b[0m\u001b[0m\n",
            "\u001b[0;32m/usr/local/lib/python3.6/dist-packages/numpy/linalg/linalg.py\u001b[0m in \u001b[0;36m_raise_linalgerror_singular\u001b[0;34m(err, flag)\u001b[0m\n\u001b[1;32m     95\u001b[0m \u001b[0;34m\u001b[0m\u001b[0m\n\u001b[1;32m     96\u001b[0m \u001b[0;32mdef\u001b[0m \u001b[0m_raise_linalgerror_singular\u001b[0m\u001b[0;34m(\u001b[0m\u001b[0merr\u001b[0m\u001b[0;34m,\u001b[0m \u001b[0mflag\u001b[0m\u001b[0;34m)\u001b[0m\u001b[0;34m:\u001b[0m\u001b[0;34m\u001b[0m\u001b[0;34m\u001b[0m\u001b[0m\n\u001b[0;32m---> 97\u001b[0;31m     \u001b[0;32mraise\u001b[0m \u001b[0mLinAlgError\u001b[0m\u001b[0;34m(\u001b[0m\u001b[0;34m\"Singular matrix\"\u001b[0m\u001b[0;34m)\u001b[0m\u001b[0;34m\u001b[0m\u001b[0;34m\u001b[0m\u001b[0m\n\u001b[0m\u001b[1;32m     98\u001b[0m \u001b[0;34m\u001b[0m\u001b[0m\n\u001b[1;32m     99\u001b[0m \u001b[0;32mdef\u001b[0m \u001b[0m_raise_linalgerror_nonposdef\u001b[0m\u001b[0;34m(\u001b[0m\u001b[0merr\u001b[0m\u001b[0;34m,\u001b[0m \u001b[0mflag\u001b[0m\u001b[0;34m)\u001b[0m\u001b[0;34m:\u001b[0m\u001b[0;34m\u001b[0m\u001b[0;34m\u001b[0m\u001b[0m\n",
            "\u001b[0;31mLinAlgError\u001b[0m: Singular matrix"
          ]
        }
      ]
    },
    {
      "cell_type": "code",
      "metadata": {
        "id": "l1nOfNVKFtTl",
        "colab_type": "code",
        "outputId": "f12f1da1-f562-4d0a-c218-857b266f8bd2",
        "colab": {
          "base_uri": "https://localhost:8080/",
          "height": 35
        }
      },
      "source": [
        "# Let's create a symmetric matrix using a simple function.\n",
        "\n",
        "# x is a vector whose element is the location from the origin.\n",
        "x = np.random.randint(low=-5, high=5, size=3)\n",
        "print(x)"
      ],
      "execution_count": 56,
      "outputs": [
        {
          "output_type": "stream",
          "text": [
            "[ 2 -4  3]\n"
          ],
          "name": "stdout"
        }
      ]
    },
    {
      "cell_type": "code",
      "metadata": {
        "id": "nGbeK1hZIWJ4",
        "colab_type": "code",
        "colab": {
          "base_uri": "https://localhost:8080/",
          "height": 179
        },
        "outputId": "40530d28-00ed-4f3f-b11c-50077dcb2179"
      },
      "source": [
        "# We'll create a zero matrix A, and fill in the numbers.\n",
        "A = np.zeros(shape=(3,3))\n",
        "\n",
        "# We'll loop over the rows and columns of the matrix.\n",
        "for i in range(3):\n",
        "    for j in range(3):\n",
        "        A[i, j] = np.abs(x[i] - x[j])\n",
        "\n",
        "print(A)\n",
        "print()\n",
        "print(A.T)\n",
        "print()\n",
        "print(np.allclose(A, A.T))"
      ],
      "execution_count": 57,
      "outputs": [
        {
          "output_type": "stream",
          "text": [
            "[[0. 6. 1.]\n",
            " [6. 0. 7.]\n",
            " [1. 7. 0.]]\n",
            "\n",
            "[[0. 6. 1.]\n",
            " [6. 0. 7.]\n",
            " [1. 7. 0.]]\n",
            "\n",
            "True\n"
          ],
          "name": "stdout"
        }
      ]
    },
    {
      "cell_type": "code",
      "metadata": {
        "id": "EfmFKwv6H1-T",
        "colab_type": "code",
        "outputId": "d08be6bf-3fb9-4554-8238-4ac1532965e4",
        "colab": {
          "base_uri": "https://localhost:8080/",
          "height": 125
        }
      },
      "source": [
        "# any vector can be converted into a unit vector by dividing every element by\n",
        "# the l2 norm of the vector.\n",
        "\n",
        "x = np.random.standard_normal(size=10)\n",
        "print(x)\n",
        "print()\n",
        "\n",
        "l2 = np.linalg.norm(x, 2)\n",
        "print(l2)\n",
        "print()\n",
        "\n",
        "x = x / l2\n",
        "print(np.linalg.norm(x, 2))"
      ],
      "execution_count": 58,
      "outputs": [
        {
          "output_type": "stream",
          "text": [
            "[-0.23417268  0.22684231 -0.61527444 -0.8256196   0.0473599   0.52761654\n",
            "  0.21748433 -2.15277447 -1.22581134  0.22883678]\n",
            "\n",
            "2.771974729477541\n",
            "\n",
            "0.9999999999999998\n"
          ],
          "name": "stdout"
        }
      ]
    },
    {
      "cell_type": "code",
      "metadata": {
        "id": "--d1kR-CImhA",
        "colab_type": "code",
        "outputId": "4e42d3bf-28c0-4a62-c24c-a05176700400",
        "colab": {
          "base_uri": "https://localhost:8080/",
          "height": 342
        }
      },
      "source": [
        "# Orthogonality can be easily explained by plotting vectors in the vector space.\n",
        "# We need python package \"matplotlib\" for plotting.\n",
        "\n",
        "# One of the amazing things about Jupyter notebooks is that it can handle GUI\n",
        "# backends very nicely without you having to worry about them. \n",
        "import matplotlib.pyplot as plt\n",
        "\n",
        "a = 0.8*np.array([1/np.sqrt(2), 1/np.sqrt(2)])\n",
        "b = 1.3*np.array([1/-np.sqrt(2), 1/np.sqrt(2)])\n",
        "\n",
        "plt.figure(figsize=(5,5))\n",
        "\n",
        "plt.ylim(-1, 1)\n",
        "plt.xlim(-1, 1)\n",
        "\n",
        "plt.plot([0, a[0]], [0, a[1]], 'r-')\n",
        "plt.plot([0, b[0]], [0, b[1]], 'b-')\n",
        "\n",
        "# vector a (red) and vector (b) are orthogonal since they are at a 90 \n",
        "# degree angle to eachother.\")"
      ],
      "execution_count": 59,
      "outputs": [
        {
          "output_type": "execute_result",
          "data": {
            "text/plain": [
              "[<matplotlib.lines.Line2D at 0x7fac546c6eb8>]"
            ]
          },
          "metadata": {
            "tags": []
          },
          "execution_count": 59
        },
        {
          "output_type": "display_data",
          "data": {
            "image/png": "[encoded data removed]",
            "text/plain": [
              "<Figure size 360x360 with 1 Axes>"
            ]
          },
          "metadata": {
            "tags": [],
            "needs_background": "light"
          }
        }
      ]
    },
    {
      "cell_type": "code",
      "metadata": {
        "id": "gWhfR6D-Ivms",
        "colab_type": "code",
        "colab": {
          "base_uri": "https://localhost:8080/",
          "height": 35
        },
        "outputId": "e791c0f7-9755-4692-e95c-4fbc7bd931cb"
      },
      "source": [
        "# Also becuase their dot product is zero\n",
        "print(a @ b)"
      ],
      "execution_count": 60,
      "outputs": [
        {
          "output_type": "stream",
          "text": [
            "0.0\n"
          ],
          "name": "stdout"
        }
      ]
    },
    {
      "cell_type": "code",
      "metadata": {
        "id": "URS-79AnXCrT",
        "colab_type": "code",
        "outputId": "8dfba6ac-8351-4d8d-8928-75496a69ea72",
        "colab": {
          "base_uri": "https://localhost:8080/",
          "height": 342
        }
      },
      "source": [
        "# If the vectors not only are orthogonal but also have unit norm, \n",
        "# we call them orthonormal.\n",
        "\n",
        "a = np.array([1/np.sqrt(2), 1/np.sqrt(2)])\n",
        "b = np.array([1/-np.sqrt(2), 1/np.sqrt(2)])\n",
        "\n",
        "plt.figure(figsize=(5,5))\n",
        "\n",
        "plt.ylim(-1, 1)\n",
        "plt.xlim(-1, 1)\n",
        "\n",
        "plt.plot([0, a[0]], [0, a[1]], 'r-')\n",
        "plt.plot([0, b[0]], [0, b[1]], 'b-')"
      ],
      "execution_count": 61,
      "outputs": [
        {
          "output_type": "execute_result",
          "data": {
            "text/plain": [
              "[<matplotlib.lines.Line2D at 0x7fac546a5e10>]"
            ]
          },
          "metadata": {
            "tags": []
          },
          "execution_count": 61
        },
        {
          "output_type": "display_data",
          "data": {
            "image/png": "[encoded data removed]",
            "text/plain": [
              "<Figure size 360x360 with 1 Axes>"
            ]
          },
          "metadata": {
            "tags": [],
            "needs_background": "light"
          }
        }
      ]
    },
    {
      "cell_type": "code",
      "metadata": {
        "id": "u6PMTe-AIyWY",
        "colab_type": "code",
        "colab": {
          "base_uri": "https://localhost:8080/",
          "height": 107
        },
        "outputId": "191499b4-1168-4b7f-b6a2-0aa6a752b010"
      },
      "source": [
        "print(np.linalg.norm(a, 2))\n",
        "print()\n",
        "\n",
        "print(np.linalg.norm(b, 2))\n",
        "print()\n",
        "\n",
        "print(a@b)"
      ],
      "execution_count": 62,
      "outputs": [
        {
          "output_type": "stream",
          "text": [
            "0.9999999999999999\n",
            "\n",
            "0.9999999999999999\n",
            "\n",
            "0.0\n"
          ],
          "name": "stdout"
        }
      ]
    },
    {
      "cell_type": "code",
      "metadata": {
        "id": "rBmxFr-HXYg4",
        "colab_type": "code",
        "outputId": "a918507e-09c1-4cc3-c204-922d1044238c",
        "colab": {
          "base_uri": "https://localhost:8080/",
          "height": 377
        }
      },
      "source": [
        "# Here's a sample orthogonal matrix. If you remember the definition, \n",
        "# it's not that difficult to create one.\n",
        "\n",
        "A = np.array([[0, 1, 0], [-1, 0, 0], [0, 0, -1]])\n",
        "\n",
        "print(A)\n",
        "print()\n",
        "\n",
        "print(A @ A.T)\n",
        "print()\n",
        "\n",
        "print(A.T @ A)\n",
        "print()\n",
        "\n",
        "print(np.linalg.inv(A))\n",
        "print()\n",
        "\n",
        "print(A.T)\n",
        "print()"
      ],
      "execution_count": 63,
      "outputs": [
        {
          "output_type": "stream",
          "text": [
            "[[ 0  1  0]\n",
            " [-1  0  0]\n",
            " [ 0  0 -1]]\n",
            "\n",
            "[[1 0 0]\n",
            " [0 1 0]\n",
            " [0 0 1]]\n",
            "\n",
            "[[1 0 0]\n",
            " [0 1 0]\n",
            " [0 0 1]]\n",
            "\n",
            "[[-0. -1. -0.]\n",
            " [ 1.  0.  0.]\n",
            " [-0. -0. -1.]]\n",
            "\n",
            "[[ 0 -1  0]\n",
            " [ 1  0  0]\n",
            " [ 0  0 -1]]\n",
            "\n"
          ],
          "name": "stdout"
        }
      ]
    },
    {
      "cell_type": "markdown",
      "metadata": {
        "id": "HfbRKG_KZSbj",
        "colab_type": "text"
      },
      "source": [
        "# 2.7 Eigendecomposition"
      ]
    },
    {
      "cell_type": "code",
      "metadata": {
        "id": "ZKI-UoW3fYrA",
        "colab_type": "code",
        "colab": {}
      },
      "source": [
        "# numpy package has a lot of useful stuffs for linear algebra.\n",
        "import numpy as np"
      ],
      "execution_count": 0,
      "outputs": []
    },
    {
      "cell_type": "code",
      "metadata": {
        "id": "SXF1bOmPfZze",
        "colab_type": "code",
        "outputId": "8fdcc697-a9ab-4f1e-807a-fc71e207b6e6",
        "colab": {
          "base_uri": "https://localhost:8080/",
          "height": 389
        }
      },
      "source": [
        "import matplotlib.pyplot as plt\n",
        "\n",
        "# We will create eigendecomposition with the below example.\n",
        "\n",
        "v1 = np.array([1/np.sqrt(2), 1/np.sqrt(2)])\n",
        "v2 = np.array([1/np.sqrt(2), -1/np.sqrt(2)])\n",
        "\n",
        "fig, (ax1, ax2) = plt.subplots(1, 2, figsize=(10, 5))\n",
        "fig.suptitle('Effect of eigenvectors and eigenvalues')\n",
        "\n",
        "ax1.set_title('Before multiplication')\n",
        "ax1.axis(xmin=-2, xmax=2, ymin=-2, ymax=2)\n",
        "ax1.plot([0, v1[0]], [0, v1[1]], 'k-')\n",
        "ax1.plot([0, v2[0]], [0, v2[1]], 'k-')\n",
        "ax1.set(xlabel='x_0', ylabel='x_1')\n",
        "\n",
        "ld1 = 2.5\n",
        "ld2 = 0.5\n",
        "\n",
        "v1_ = ld1 * v1\n",
        "v2_ = ld2 * v2\n",
        "\n",
        "ax2.set_title('After multiplication')\n",
        "ax2.axis(xmin=-2, xmax=2, ymin=-2, ymax=2)\n",
        "ax2.plot([0, v1_[0]], [0, v1_[1]], 'k-')\n",
        "ax2.plot([0, v2_[0]], [0, v2_[1]], 'k-')\n",
        "ax2.set(xlabel='x_0', ylabel='x_1')\n"
      ],
      "execution_count": 65,
      "outputs": [
        {
          "output_type": "execute_result",
          "data": {
            "text/plain": [
              "[Text(0, 0.5, 'x_1'), Text(0.5, 0, 'x_0')]"
            ]
          },
          "metadata": {
            "tags": []
          },
          "execution_count": 65
        },
        {
          "output_type": "display_data",
          "data": {
            "image/png": "[encoded data removed]",
            "text/plain": [
              "<Figure size 720x360 with 2 Axes>"
            ]
          },
          "metadata": {
            "tags": [],
            "needs_background": "light"
          }
        }
      ]
    },
    {
      "cell_type": "code",
      "metadata": {
        "id": "Jn98TFy_nGyb",
        "colab_type": "code",
        "outputId": "c3f9d2c1-13b5-4c04-e038-db93fff967b3",
        "colab": {
          "base_uri": "https://localhost:8080/",
          "height": 143
        }
      },
      "source": [
        "V = np.stack([v1, v2], axis=1)\n",
        "A = V @ np.diag([ld1, ld2]) @ V.T\n",
        "\n",
        "print(ld1, ld2)\n",
        "print()\n",
        "print(V)\n",
        "print()\n",
        "print(A)"
      ],
      "execution_count": 66,
      "outputs": [
        {
          "output_type": "stream",
          "text": [
            "2.5 0.5\n",
            "\n",
            "[[ 0.70710678  0.70710678]\n",
            " [ 0.70710678 -0.70710678]]\n",
            "\n",
            "[[1.5 1. ]\n",
            " [1.  1.5]]\n"
          ],
          "name": "stdout"
        }
      ]
    },
    {
      "cell_type": "code",
      "metadata": {
        "id": "zorI4sxWJsrO",
        "colab_type": "code",
        "colab": {
          "base_uri": "https://localhost:8080/",
          "height": 89
        },
        "outputId": "ba781474-f523-4bf7-ee0f-62a17fcb6491"
      },
      "source": [
        "# numpy has a built in function that does eigendecomposition.\n",
        "(ld1_, ld2_), V_ = np.linalg.eig(A)\n",
        "\n",
        "# Let's see if the eigenvalues and the eigenvectors correspond to what we \n",
        "# started with.\n",
        "\n",
        "print(ld1_, ld2_)\n",
        "print()\n",
        "print(V_)\n",
        "\n",
        "# Note that floating point numbers can not be represented exactly in computers.\n",
        "# https://en.wikipedia.org/wiki/IEEE_754"
      ],
      "execution_count": 67,
      "outputs": [
        {
          "output_type": "stream",
          "text": [
            "2.4999999999999996 0.5\n",
            "\n",
            "[[ 0.70710678 -0.70710678]\n",
            " [ 0.70710678  0.70710678]]\n"
          ],
          "name": "stdout"
        }
      ]
    },
    {
      "cell_type": "markdown",
      "metadata": {
        "id": "Ct12K8rspbnF",
        "colab_type": "text"
      },
      "source": [
        "# 2.8 Singular Value Decomposition\n"
      ]
    },
    {
      "cell_type": "code",
      "metadata": {
        "id": "PG9NKRYApcgy",
        "colab_type": "code",
        "colab": {}
      },
      "source": [
        "# numpy package has a lot of useful stuffs for linear algebra.\n",
        "import numpy as np"
      ],
      "execution_count": 0,
      "outputs": []
    },
    {
      "cell_type": "code",
      "metadata": {
        "id": "YFnBM0kDtx63",
        "colab_type": "code",
        "outputId": "b1e0123e-a7c7-4572-bf5e-9df88c00d0d7",
        "colab": {
          "base_uri": "https://localhost:8080/",
          "height": 233
        }
      },
      "source": [
        "# Below is the example from https://en.wikipedia.org/wiki/Singular_value_decomposition\n",
        "\n",
        "M = np.array([[1, 0, 0, 0, 2],\n",
        "              [0, 0, 3, 0, 0],\n",
        "              [0, 0, 0, 0, 0],\n",
        "              [0, 2, 0, 0, 0]])\n",
        "\n",
        "U, S, V_transposed = np.linalg.svd(M)\n",
        "V = V_transposed.T\n",
        "\n",
        "print(U)\n",
        "print()\n",
        "print(S)\n",
        "print()\n",
        "print(V)"
      ],
      "execution_count": 69,
      "outputs": [
        {
          "output_type": "stream",
          "text": [
            "[[ 0.  1.  0.  0.]\n",
            " [ 1.  0.  0.  0.]\n",
            " [ 0.  0.  0. -1.]\n",
            " [ 0.  0.  1.  0.]]\n",
            "\n",
            "[3.         2.23606798 2.         0.        ]\n",
            "\n",
            "[[-0.          0.4472136  -0.          0.         -0.89442719]\n",
            " [ 0.          0.          1.          0.          0.        ]\n",
            " [ 1.          0.          0.          0.          0.        ]\n",
            " [-0.          0.         -0.          1.          0.        ]\n",
            " [ 0.          0.89442719  0.          0.          0.4472136 ]]\n"
          ],
          "name": "stdout"
        }
      ]
    },
    {
      "cell_type": "code",
      "metadata": {
        "id": "_IAHEnmXJ9g2",
        "colab_type": "code",
        "colab": {
          "base_uri": "https://localhost:8080/",
          "height": 107
        },
        "outputId": "e6e27fb2-69f3-40b7-9323-23501191cdf5"
      },
      "source": [
        "# Check if U is an orthogonal matrix.\n",
        "print(np.allclose(U@U.T, np.identity(4)))\n",
        "print(np.allclose(U.T@U, np.identity(4)))\n",
        "print()\n",
        "\n",
        "# Check if V is an orthogonal matrix.\n",
        "print(np.allclose(V@V.T, np.identity(5)))\n",
        "print(np.allclose(V.T@V, np.identity(5)))"
      ],
      "execution_count": 70,
      "outputs": [
        {
          "output_type": "stream",
          "text": [
            "True\n",
            "True\n",
            "\n",
            "True\n",
            "True\n"
          ],
          "name": "stdout"
        }
      ]
    },
    {
      "cell_type": "markdown",
      "metadata": {
        "id": "anE8xXcUvqL3",
        "colab_type": "text"
      },
      "source": [
        "# 2.9 The Moore-Penrose Pseudoinverse\n"
      ]
    },
    {
      "cell_type": "code",
      "metadata": {
        "id": "6x-NC9xavrNY",
        "colab_type": "code",
        "colab": {}
      },
      "source": [
        "# numpy package has a lot of useful stuffs for linear algebra.\n",
        "import numpy as np"
      ],
      "execution_count": 0,
      "outputs": []
    },
    {
      "cell_type": "code",
      "metadata": {
        "id": "fhSCWVHmrs8o",
        "colab_type": "code",
        "outputId": "846c8f39-387f-48b8-84c5-3133d30f5cf4",
        "colab": {
          "base_uri": "https://localhost:8080/",
          "height": 107
        }
      },
      "source": [
        "# numpy.linalg package has the function pinv() to compute Moore-Penrose \n",
        "# Psuedoinverse.\n",
        "\n",
        "# We want to solve the linear equation Ax = b for x.\n",
        "\n",
        "# This cell is a case where the matrix A has more columns than rows.\n",
        "\n",
        "A = np.array([[1, -1, 2], \n",
        "              [1, 2, 1]])\n",
        "\n",
        "b = np.array([2, -1])\n",
        "\n",
        "A_pinv = np.linalg.pinv(A)\n",
        "\n",
        "x = A_pinv @ b\n",
        "\n",
        "# See that x found by the psuedoinverse satisfies Ax = b \n",
        "print(A @ x)\n",
        "print()\n",
        "\n",
        "# Note that x_my below also satisfies the equation.\n",
        "x_my = np.array([1, -1, 0])\n",
        "print(A @ x_my)\n",
        "print()\n",
        "\n",
        "# However this has the biggger l2 norm value than that of the x found by SVD. \n",
        "print(np.linalg.norm(x, 2), np.linalg.norm(x_my, 2))"
      ],
      "execution_count": 72,
      "outputs": [
        {
          "output_type": "stream",
          "text": [
            "[ 2. -1.]\n",
            "\n",
            "[ 2 -1]\n",
            "\n",
            "0.9856107606091625 1.4142135623730951\n"
          ],
          "name": "stdout"
        }
      ]
    },
    {
      "cell_type": "code",
      "metadata": {
        "id": "uu7mYPiPwpgw",
        "colab_type": "code",
        "outputId": "937a8247-093d-454e-ce6e-c03d84b827ea",
        "colab": {
          "base_uri": "https://localhost:8080/",
          "height": 71
        }
      },
      "source": [
        "# This cell is a case where the matrix A has more columns than rows.\n",
        "# But all of the columns of A are linearly dependent.\n",
        "\n",
        "A = np.array([[1, 3, -1], \n",
        "              [1, 3, -1]])\n",
        "\n",
        "b = np.array([2, -1])\n",
        "\n",
        "A_pinv = np.linalg.pinv(A)\n",
        "\n",
        "x = A_pinv @ b\n",
        "\n",
        "# See that x found by the psuedoinverse does NOT satisfies Ax = b \n",
        "print(A @ x)\n",
        "print()\n",
        "print(b)\n",
        "\n",
        "# This is becuase the linear sum of the columns of A cannot make b.\n",
        "# Unless b happens to be in the same line"
      ],
      "execution_count": 73,
      "outputs": [
        {
          "output_type": "stream",
          "text": [
            "[0.5 0.5]\n",
            "\n",
            "[ 2 -1]\n"
          ],
          "name": "stdout"
        }
      ]
    },
    {
      "cell_type": "code",
      "metadata": {
        "id": "zzzX-9Ntuq6D",
        "colab_type": "code",
        "outputId": "2a53e9de-ed72-4b26-8e6b-02f83179f69a",
        "colab": {
          "base_uri": "https://localhost:8080/",
          "height": 71
        }
      },
      "source": [
        "# This cell is a case where the matrix A has more rows than columns.\n",
        "# But all of the columns of A are linearly dependent.\n",
        "\n",
        "A = np.array([[1, 3], \n",
        "              [1, 3],\n",
        "              [1, -1]])\n",
        "\n",
        "b = np.array([2, -1, 3])\n",
        "\n",
        "A_pinv = np.linalg.pinv(A)\n",
        "\n",
        "x = A_pinv @ b\n",
        "\n",
        "# See that x found by the psuedoinverse does NOT satisfies Ax = b \n",
        "print(A @ x)\n",
        "print()\n",
        "print(b)\n",
        "\n",
        "# This is becuase the linear sum of the columns of A cannot make b.\n",
        "# In this case, using the pseudoinverse gives us the x for which Ax is as \n",
        "# close as possible to b in terms of Euclidean norm ||Ax − b||2"
      ],
      "execution_count": 74,
      "outputs": [
        {
          "output_type": "stream",
          "text": [
            "[0.5 0.5 3. ]\n",
            "\n",
            "[ 2 -1  3]\n"
          ],
          "name": "stdout"
        }
      ]
    },
    {
      "cell_type": "markdown",
      "metadata": {
        "id": "msPl1Iwqzhxi",
        "colab_type": "text"
      },
      "source": [
        "# 2.10 The Trace Operator\n"
      ]
    },
    {
      "cell_type": "code",
      "metadata": {
        "id": "wSGHn69eziwf",
        "colab_type": "code",
        "colab": {}
      },
      "source": [
        "# numpy package has a lot of useful stuffs for linear algebra.\n",
        "import numpy as np"
      ],
      "execution_count": 0,
      "outputs": []
    },
    {
      "cell_type": "code",
      "metadata": {
        "id": "I0Ub2kEZl1ta",
        "colab_type": "code",
        "outputId": "275e22ff-2e7d-4a07-83d2-d9b850e333ff",
        "colab": {
          "base_uri": "https://localhost:8080/",
          "height": 107
        }
      },
      "source": [
        "# Let's create a random matrix.\n",
        "A = np.random.randint(low=0, high=10, size=(3, 4))\n",
        "\n",
        "print(A)\n",
        "print()\n",
        "\n",
        "# numpy has a trace() function.\n",
        "print(np.trace(A))"
      ],
      "execution_count": 76,
      "outputs": [
        {
          "output_type": "stream",
          "text": [
            "[[6 5 7 2]\n",
            " [9 6 6 4]\n",
            " [3 6 6 9]]\n",
            "\n",
            "18\n"
          ],
          "name": "stdout"
        }
      ]
    },
    {
      "cell_type": "code",
      "metadata": {
        "id": "OPWnEoPIpN2I",
        "colab_type": "code",
        "outputId": "96ae1d70-fbe4-4b97-84f7-310b19a7a027",
        "colab": {
          "base_uri": "https://localhost:8080/",
          "height": 71
        }
      },
      "source": [
        "# the traceoperator is invariant to the transposed\n",
        "\n",
        "print(np.trace(A))\n",
        "print()\n",
        "print(np.trace(A.T))"
      ],
      "execution_count": 77,
      "outputs": [
        {
          "output_type": "stream",
          "text": [
            "18\n",
            "\n",
            "18\n"
          ],
          "name": "stdout"
        }
      ]
    },
    {
      "cell_type": "code",
      "metadata": {
        "id": "j2Du0JEumMaI",
        "colab_type": "code",
        "outputId": "4040bab2-87e6-4b83-8b52-e7cf5fd651d2",
        "colab": {
          "base_uri": "https://localhost:8080/",
          "height": 107
        }
      },
      "source": [
        "# Frobenius norm of a matrix is the square root of the trace of A @ A.T\n",
        "\n",
        "print(np.linalg.norm(A, 'fro'))\n",
        "print()\n",
        "print(np.sqrt(np.trace(A @ A.T)))\n",
        "print()\n",
        "print(np.sqrt(np.trace(A.T @ A)))"
      ],
      "execution_count": 78,
      "outputs": [
        {
          "output_type": "stream",
          "text": [
            "21.095023109728988\n",
            "\n",
            "21.095023109728988\n",
            "\n",
            "21.095023109728988\n"
          ],
          "name": "stdout"
        }
      ]
    },
    {
      "cell_type": "code",
      "metadata": {
        "id": "fyMpaQOKpWwG",
        "colab_type": "code",
        "outputId": "788ec0c9-0787-45ea-ff6d-7bf653dbd06d",
        "colab": {
          "base_uri": "https://localhost:8080/",
          "height": 71
        }
      },
      "source": [
        "# The trace of a square matrix composed of many factors is also invariant to \n",
        "# moving the last factor into the ﬁrst position,\n",
        "\n",
        "A = np.random.standard_normal(size=(3,4))\n",
        "B = np.random.standard_normal(size=(4,5))\n",
        "C = np.random.standard_normal(size=(5,3))\n",
        "\n",
        "print(np.trace(A@B@C))\n",
        "print(np.trace(C@A@B))\n",
        "print(np.trace(B@C@A))"
      ],
      "execution_count": 79,
      "outputs": [
        {
          "output_type": "stream",
          "text": [
            "2.592448122595413\n",
            "2.592448122595414\n",
            "2.5924481225954126\n"
          ],
          "name": "stdout"
        }
      ]
    },
    {
      "cell_type": "markdown",
      "metadata": {
        "id": "dtkuqXQ-q3Ux",
        "colab_type": "text"
      },
      "source": [
        "# 2.11 The Determinant"
      ]
    },
    {
      "cell_type": "code",
      "metadata": {
        "id": "JD3rs5hcrrbG",
        "colab_type": "code",
        "colab": {}
      },
      "source": [
        "# numpy package has a lot of useful stuffs for linear algebra.\n",
        "import numpy as np"
      ],
      "execution_count": 0,
      "outputs": []
    },
    {
      "cell_type": "code",
      "metadata": {
        "id": "a_5yeaG9q3--",
        "colab_type": "code",
        "colab": {}
      },
      "source": [
        "# Determinant of a matrix is only defined when the matrix is square.\n",
        "\n",
        "A = np.random.standard_normal(size=(3,3))\n",
        "\n",
        "det_A = np.linalg.det(A)"
      ],
      "execution_count": 0,
      "outputs": []
    },
    {
      "cell_type": "code",
      "metadata": {
        "id": "J_K9friOrHWm",
        "colab_type": "code",
        "outputId": "6dc1b3ea-dea4-4245-a7b1-858ecbbc6507",
        "colab": {
          "base_uri": "https://localhost:8080/",
          "height": 394
        }
      },
      "source": [
        "# Otherwise numpy will throw a warning\n",
        "\n",
        "A = np.random.standard_normal(size=(3,4))\n",
        "\n",
        "det_A = np.linalg.det(A)"
      ],
      "execution_count": 82,
      "outputs": [
        {
          "output_type": "error",
          "ename": "LinAlgError",
          "evalue": "ignored",
          "traceback": [
            "\u001b[0;31m---------------------------------------------------------------------------\u001b[0m",
            "\u001b[0;31mLinAlgError\u001b[0m                               Traceback (most recent call last)",
            "\u001b[0;32m<ipython-input-82-ea3d66215f1f>\u001b[0m in \u001b[0;36m<module>\u001b[0;34m()\u001b[0m\n\u001b[1;32m      3\u001b[0m \u001b[0mA\u001b[0m \u001b[0;34m=\u001b[0m \u001b[0mnp\u001b[0m\u001b[0;34m.\u001b[0m\u001b[0mrandom\u001b[0m\u001b[0;34m.\u001b[0m\u001b[0mstandard_normal\u001b[0m\u001b[0;34m(\u001b[0m\u001b[0msize\u001b[0m\u001b[0;34m=\u001b[0m\u001b[0;34m(\u001b[0m\u001b[0;36m3\u001b[0m\u001b[0;34m,\u001b[0m\u001b[0;36m4\u001b[0m\u001b[0;34m)\u001b[0m\u001b[0;34m)\u001b[0m\u001b[0;34m\u001b[0m\u001b[0;34m\u001b[0m\u001b[0m\n\u001b[1;32m      4\u001b[0m \u001b[0;34m\u001b[0m\u001b[0m\n\u001b[0;32m----> 5\u001b[0;31m \u001b[0mdet_A\u001b[0m \u001b[0;34m=\u001b[0m \u001b[0mnp\u001b[0m\u001b[0;34m.\u001b[0m\u001b[0mlinalg\u001b[0m\u001b[0;34m.\u001b[0m\u001b[0mdet\u001b[0m\u001b[0;34m(\u001b[0m\u001b[0mA\u001b[0m\u001b[0;34m)\u001b[0m\u001b[0;34m\u001b[0m\u001b[0;34m\u001b[0m\u001b[0m\n\u001b[0m",
            "\u001b[0;32m<__array_function__ internals>\u001b[0m in \u001b[0;36mdet\u001b[0;34m(*args, **kwargs)\u001b[0m\n",
            "\u001b[0;32m/usr/local/lib/python3.6/dist-packages/numpy/linalg/linalg.py\u001b[0m in \u001b[0;36mdet\u001b[0;34m(a)\u001b[0m\n\u001b[1;32m   2111\u001b[0m     \u001b[0ma\u001b[0m \u001b[0;34m=\u001b[0m \u001b[0masarray\u001b[0m\u001b[0;34m(\u001b[0m\u001b[0ma\u001b[0m\u001b[0;34m)\u001b[0m\u001b[0;34m\u001b[0m\u001b[0;34m\u001b[0m\u001b[0m\n\u001b[1;32m   2112\u001b[0m     \u001b[0m_assert_stacked_2d\u001b[0m\u001b[0;34m(\u001b[0m\u001b[0ma\u001b[0m\u001b[0;34m)\u001b[0m\u001b[0;34m\u001b[0m\u001b[0;34m\u001b[0m\u001b[0m\n\u001b[0;32m-> 2113\u001b[0;31m     \u001b[0m_assert_stacked_square\u001b[0m\u001b[0;34m(\u001b[0m\u001b[0ma\u001b[0m\u001b[0;34m)\u001b[0m\u001b[0;34m\u001b[0m\u001b[0;34m\u001b[0m\u001b[0m\n\u001b[0m\u001b[1;32m   2114\u001b[0m     \u001b[0mt\u001b[0m\u001b[0;34m,\u001b[0m \u001b[0mresult_t\u001b[0m \u001b[0;34m=\u001b[0m \u001b[0m_commonType\u001b[0m\u001b[0;34m(\u001b[0m\u001b[0ma\u001b[0m\u001b[0;34m)\u001b[0m\u001b[0;34m\u001b[0m\u001b[0;34m\u001b[0m\u001b[0m\n\u001b[1;32m   2115\u001b[0m     \u001b[0msignature\u001b[0m \u001b[0;34m=\u001b[0m \u001b[0;34m'D->D'\u001b[0m \u001b[0;32mif\u001b[0m \u001b[0misComplexType\u001b[0m\u001b[0;34m(\u001b[0m\u001b[0mt\u001b[0m\u001b[0;34m)\u001b[0m \u001b[0;32melse\u001b[0m \u001b[0;34m'd->d'\u001b[0m\u001b[0;34m\u001b[0m\u001b[0;34m\u001b[0m\u001b[0m\n",
            "\u001b[0;32m/usr/local/lib/python3.6/dist-packages/numpy/linalg/linalg.py\u001b[0m in \u001b[0;36m_assert_stacked_square\u001b[0;34m(*arrays)\u001b[0m\n\u001b[1;32m    211\u001b[0m         \u001b[0mm\u001b[0m\u001b[0;34m,\u001b[0m \u001b[0mn\u001b[0m \u001b[0;34m=\u001b[0m \u001b[0ma\u001b[0m\u001b[0;34m.\u001b[0m\u001b[0mshape\u001b[0m\u001b[0;34m[\u001b[0m\u001b[0;34m-\u001b[0m\u001b[0;36m2\u001b[0m\u001b[0;34m:\u001b[0m\u001b[0;34m]\u001b[0m\u001b[0;34m\u001b[0m\u001b[0;34m\u001b[0m\u001b[0m\n\u001b[1;32m    212\u001b[0m         \u001b[0;32mif\u001b[0m \u001b[0mm\u001b[0m \u001b[0;34m!=\u001b[0m \u001b[0mn\u001b[0m\u001b[0;34m:\u001b[0m\u001b[0;34m\u001b[0m\u001b[0;34m\u001b[0m\u001b[0m\n\u001b[0;32m--> 213\u001b[0;31m             \u001b[0;32mraise\u001b[0m \u001b[0mLinAlgError\u001b[0m\u001b[0;34m(\u001b[0m\u001b[0;34m'Last 2 dimensions of the array must be square'\u001b[0m\u001b[0;34m)\u001b[0m\u001b[0;34m\u001b[0m\u001b[0;34m\u001b[0m\u001b[0m\n\u001b[0m\u001b[1;32m    214\u001b[0m \u001b[0;34m\u001b[0m\u001b[0m\n\u001b[1;32m    215\u001b[0m \u001b[0;32mdef\u001b[0m \u001b[0m_assert_finite\u001b[0m\u001b[0;34m(\u001b[0m\u001b[0;34m*\u001b[0m\u001b[0marrays\u001b[0m\u001b[0;34m)\u001b[0m\u001b[0;34m:\u001b[0m\u001b[0;34m\u001b[0m\u001b[0;34m\u001b[0m\u001b[0m\n",
            "\u001b[0;31mLinAlgError\u001b[0m: Last 2 dimensions of the array must be square"
          ]
        }
      ]
    },
    {
      "cell_type": "code",
      "metadata": {
        "id": "oS2YgyilrLOp",
        "colab_type": "code",
        "outputId": "dfc57399-487d-4357-9702-561a10317386",
        "colab": {
          "base_uri": "https://localhost:8080/",
          "height": 53
        }
      },
      "source": [
        "# The determinant of a matrix is equal to the product of all the eigen values \n",
        "# of the matrix.\n",
        "\n",
        "A = np.random.standard_normal(size=(5,5))\n",
        "\n",
        "w, V = np.linalg.eig(A)\n",
        "\n",
        "print(np.linalg.det(A))\n",
        "print(np.prod(w))"
      ],
      "execution_count": 83,
      "outputs": [
        {
          "output_type": "stream",
          "text": [
            "7.330524280689136\n",
            "(7.330524280689129-4.440892098500626e-16j)\n"
          ],
          "name": "stdout"
        }
      ]
    },
    {
      "cell_type": "markdown",
      "metadata": {
        "id": "RjpLaDEItUF4",
        "colab_type": "text"
      },
      "source": [
        "# 2.12 Example: Principal Components Analysis\n",
        "\n",
        "### The mathematical derviation of PCA is not that easy (especially the reason why we use SVD or eigendecomposition on the covariance matrix, although the intuition behind it and getting their values are pretty easy. This is a great explanation of PCA by Andrew Ng: `https://www.youtube.com/watch?v=rng04VJxUt4`"
      ]
    },
    {
      "cell_type": "code",
      "metadata": {
        "id": "illEifzLqHjr",
        "colab_type": "code",
        "colab": {}
      },
      "source": [
        "# numpy package has a lot of useful stuffs for linear algebra.\n",
        "import numpy as np"
      ],
      "execution_count": 0,
      "outputs": []
    },
    {
      "cell_type": "code",
      "metadata": {
        "id": "KxoyAgE7cIuQ",
        "colab_type": "code",
        "outputId": "02266746-657a-4e21-e0c7-6e9e5a18646f",
        "colab": {
          "base_uri": "https://localhost:8080/",
          "height": 35
        }
      },
      "source": [
        "# we'll use boston house-prices dataset as a toy example.\n",
        "from sklearn.datasets import load_boston\n",
        "X_original = load_boston()['data']\n",
        "\n",
        "# The data has 506 samples and each sample has 13 features.\n",
        "# In machine learning, we call this type of data \"structured\" data, where every\n",
        "# data sample has a fixed dimensionaltiy (e.g. 13) and the features are \n",
        "# somewhat self-explanatory.\n",
        "\n",
        "print(X_original.shape)"
      ],
      "execution_count": 85,
      "outputs": [
        {
          "output_type": "stream",
          "text": [
            "(506, 13)\n"
          ],
          "name": "stdout"
        }
      ]
    },
    {
      "cell_type": "code",
      "metadata": {
        "id": "cEogLFIert6W",
        "colab_type": "code",
        "outputId": "09d1c226-076a-443c-f530-fb5e5f6e2c52",
        "colab": {
          "base_uri": "https://localhost:8080/",
          "height": 125
        }
      },
      "source": [
        "# Let's try reducing the original number of dimensions (13) to something smaller,\n",
        "# using with PCA\n",
        "\n",
        "# First step for PCA is to have every feature dimension be zero-mean and \n",
        "# optionally feature scaling can be done. \n",
        "\n",
        "# I normally do feature scaling too, to avoid some features from \n",
        "# dominating the variance.\n",
        "\n",
        "mean = X_original.mean(axis=0)\n",
        "sigma = X_original.std(axis=0)\n",
        "\n",
        "X = (X_original -mean) / sigma          # z-scaling\n",
        "\n",
        "print(X.mean(axis=0))\n",
        "print()\n",
        "print(X.std(axis=0))"
      ],
      "execution_count": 86,
      "outputs": [
        {
          "output_type": "stream",
          "text": [
            "[-8.78743718e-17 -6.34319123e-16 -2.68291099e-15  4.70199198e-16\n",
            "  2.49032240e-15 -1.14523016e-14 -1.40785495e-15  9.21090169e-16\n",
            "  5.44140929e-16 -8.86861950e-16 -9.20563581e-15  8.16310129e-15\n",
            " -3.37016317e-16]\n",
            "\n",
            "[1. 1. 1. 1. 1. 1. 1. 1. 1. 1. 1. 1. 1.]\n"
          ],
          "name": "stdout"
        }
      ]
    },
    {
      "cell_type": "code",
      "metadata": {
        "id": "HsoHPsm7kpNl",
        "colab_type": "code",
        "outputId": "c7826fe1-05cc-4a31-dab5-e12c28b614c1",
        "colab": {
          "base_uri": "https://localhost:8080/",
          "height": 35
        }
      },
      "source": [
        "X_original.shape, mean.shape, sigma.shape"
      ],
      "execution_count": 87,
      "outputs": [
        {
          "output_type": "execute_result",
          "data": {
            "text/plain": [
              "((506, 13), (13,), (13,))"
            ]
          },
          "metadata": {
            "tags": []
          },
          "execution_count": 87
        }
      ]
    },
    {
      "cell_type": "code",
      "metadata": {
        "id": "KaB1KKiTsgfO",
        "colab_type": "code",
        "outputId": "bd2894c2-5222-4f8d-8489-04a478d8e3e1",
        "colab": {
          "base_uri": "https://localhost:8080/",
          "height": 35
        }
      },
      "source": [
        "# When the mean value of each feature is 0, the covariance matrix is nothing but\n",
        "# the matrix product of its transposed and itself.\n",
        "\n",
        "cov_X = (X.T @ X) \n",
        "print(cov_X.shape)"
      ],
      "execution_count": 88,
      "outputs": [
        {
          "output_type": "stream",
          "text": [
            "(13, 13)\n"
          ],
          "name": "stdout"
        }
      ]
    },
    {
      "cell_type": "code",
      "metadata": {
        "id": "MzkvneY_s8Hr",
        "colab_type": "code",
        "colab": {}
      },
      "source": [
        "# The principal components can be found by computing the eigenvectors of the\n",
        "# covariance matrix. You can use both eigendecomposition and SVD to achieve this.\n",
        "# I'll use SVD.\n",
        "\n",
        "# Let's say that the SVD of X gives us U @ D @ V.T. Then the SVD of the \n",
        "# covariance matrix, X.T @ X, will give us X.T @ X = V @ (D.T @ D) @ V.T\n",
        "# This looks a lot like the eigenvalue decomposition. We can now consider V and\n",
        "# D_squared as the the eigenvectors and squared eigenvalues corresopnding to\n",
        "# their eigenvectors. \n",
        "\n",
        "# The proportion of the variance that each eigenvector represents can be \n",
        "# calculated by dividing the eigenvalue corresponding to that eigenvector \n",
        "# by the sum of all eigenvalues.\n",
        "\n",
        "V, D_squared, V_transposed = np.linalg.svd(cov_X)"
      ],
      "execution_count": 0,
      "outputs": []
    },
    {
      "cell_type": "code",
      "metadata": {
        "id": "ExhZn2f6lo3G",
        "colab_type": "code",
        "outputId": "92f257be-4d11-4ba3-ff6c-4e54ec3f3034",
        "colab": {
          "base_uri": "https://localhost:8080/",
          "height": 355
        }
      },
      "source": [
        "# We can plot the square root of D_squared to get the eigenvalues, which explains\n",
        "# the variance.\n",
        "\n",
        "eigenvalues = D_squared\n",
        "print(eigenvalues / eigenvalues.sum())\n",
        "print()\n",
        "plt.plot(eigenvalues / eigenvalues.sum())\n",
        "\n",
        "# This means that first the new axis can already explain about 47% of the variance.\n",
        "# As a practice, when normalizing the original data, try removing the \n",
        "# feature scaling and see what happens when we plot the eigenvalues. "
      ],
      "execution_count": 90,
      "outputs": [
        {
          "output_type": "stream",
          "text": [
            "[0.47129606 0.11025193 0.0955859  0.06596732 0.06421661 0.05056978\n",
            " 0.04118124 0.03046902 0.02130333 0.01694137 0.0143088  0.01302331\n",
            " 0.00488533]\n",
            "\n"
          ],
          "name": "stdout"
        },
        {
          "output_type": "execute_result",
          "data": {
            "text/plain": [
              "[<matplotlib.lines.Line2D at 0x7fac485a86a0>]"
            ]
          },
          "metadata": {
            "tags": []
          },
          "execution_count": 90
        },
        {
          "output_type": "display_data",
          "data": {
            "image/png": "[encoded data removed]",
            "text/plain": [
              "<Figure size 432x288 with 1 Axes>"
            ]
          },
          "metadata": {
            "tags": [],
            "needs_background": "light"
          }
        }
      ]
    },
    {
      "cell_type": "code",
      "metadata": {
        "id": "jBMg4snmmX9R",
        "colab_type": "code",
        "outputId": "51ae534f-6f01-404f-c17d-a7ec7c95f041",
        "colab": {
          "base_uri": "https://localhost:8080/",
          "height": 71
        }
      },
      "source": [
        "# The \"encoding\" of the original data can be simply done by matrix multiplication.\n",
        "\n",
        "# We can create the encoder by taking the column vectors (eigenvectors of the covariance matrix.)\n",
        "# Below encoder will take the first 5 columns, which explains about 80% of the variances.\n",
        "\n",
        "num_features = 5\n",
        "\n",
        "Encoder = V[:, :num_features]\n",
        "\n",
        "print((eigenvalues / eigenvalues.sum())[:num_features].sum())\n",
        "print()\n",
        "\n",
        "print(Encoder.shape)"
      ],
      "execution_count": 91,
      "outputs": [
        {
          "output_type": "stream",
          "text": [
            "0.8073178205045908\n",
            "\n",
            "(13, 5)\n"
          ],
          "name": "stdout"
        }
      ]
    },
    {
      "cell_type": "code",
      "metadata": {
        "id": "xoaaUULLnuzR",
        "colab_type": "code",
        "outputId": "65f1399b-0e92-46ce-d5b6-16cacc8ae5ef",
        "colab": {
          "base_uri": "https://localhost:8080/",
          "height": 35
        }
      },
      "source": [
        "# Below line will encode the data so that the number of features is reduced to 5\n",
        "# This means that every 13 dimensional data point will now have 5 dimensions. \n",
        "\n",
        "X_encoded = X @ Encoder\n",
        "print(X_encoded.shape)"
      ],
      "execution_count": 92,
      "outputs": [
        {
          "output_type": "stream",
          "text": [
            "(506, 5)\n"
          ],
          "name": "stdout"
        }
      ]
    },
    {
      "cell_type": "code",
      "metadata": {
        "id": "VnmKssG9qHFS",
        "colab_type": "code",
        "outputId": "d6320888-6a6d-4834-8ae2-fb11d61988db",
        "colab": {
          "base_uri": "https://localhost:8080/",
          "height": 35
        }
      },
      "source": [
        "# Reconstruction (decoding) can be done by below line.\n",
        "\n",
        "Decoder = Encoder.T\n",
        "X_decoded = X_encoded @ Decoder\n",
        "print(X_decoded.shape)"
      ],
      "execution_count": 93,
      "outputs": [
        {
          "output_type": "stream",
          "text": [
            "(506, 13)\n"
          ],
          "name": "stdout"
        }
      ]
    },
    {
      "cell_type": "code",
      "metadata": {
        "id": "gFiYIF0JqjyW",
        "colab_type": "code",
        "outputId": "eb8e2818-371c-4118-cf2c-a8addc4329b2",
        "colab": {
          "base_uri": "https://localhost:8080/",
          "height": 143
        }
      },
      "source": [
        "# Since the encoding has reduced the dimension, the decoding cannot 100% \n",
        "# reconstruct the original data. See and compare.\n",
        "\n",
        "print(X_decoded[0, :])\n",
        "print()\n",
        "print(X[0, :])\n",
        "\n",
        "# Try changing the num_features to 13 and see what happens to the reconstruction."
      ],
      "execution_count": 94,
      "outputs": [
        {
          "output_type": "stream",
          "text": [
            "[-0.70606548  0.410191   -0.66451474 -0.25059474 -0.33627395  0.78730855\n",
            " -0.25973608  0.23735887 -0.98681299 -0.96697646 -1.27655518  0.21091877\n",
            " -0.69396824]\n",
            "\n",
            "[-0.41978194  0.28482986 -1.2879095  -0.27259857 -0.14421743  0.41367189\n",
            " -0.12001342  0.1402136  -0.98284286 -0.66660821 -1.45900038  0.44105193\n",
            " -1.0755623 ]\n"
          ],
          "name": "stdout"
        }
      ]
    },
    {
      "cell_type": "code",
      "metadata": {
        "id": "vXIfHeIirl6Q",
        "colab_type": "code",
        "colab": {}
      },
      "source": [
        "# PCA is very simple yet important concept in machine learning. It might not be\n",
        "# as powerful as other encoder-decoders since it's only a linear transformation.\n",
        "# But the core concept and the reason why we do it already tells us a lot what and\n",
        "# why we do machine learning. "
      ],
      "execution_count": 0,
      "outputs": []
    },
    {
      "cell_type": "code",
      "metadata": {
        "id": "s9lOk6Z6sKU9",
        "colab_type": "code",
        "outputId": "1f22ba27-e54b-4635-b4b1-cfe2de3d7e3b",
        "colab": {
          "base_uri": "https://localhost:8080/",
          "height": 179
        }
      },
      "source": [
        "# PCA is already well implemented in many machine learning libraries.\n",
        "# I'll show you how simple it is by using scikit-learn.\n",
        "# The below codes are from https://scikit-learn.org/stable/modules/generated/sklearn.preprocessing.StandardScaler.html and\n",
        "# https://scikit-learn.org/stable/modules/generated/sklearn.decomposition.PCA.html\n",
        "\n",
        "# we'll use boston house-prices dataset as a toy example.\n",
        "from sklearn.datasets import load_boston\n",
        "X_original = load_boston()['data']\n",
        "\n",
        "# z-scaling\n",
        "from sklearn.preprocessing import StandardScaler\n",
        "scaler = StandardScaler()\n",
        "scaler.fit(X_original)\n",
        "X = scaler.transform(X_original)\n",
        "print(X.mean(axis=0))\n",
        "print()\n",
        "print(X.std(axis=0))\n",
        "print()\n",
        "\n",
        "# PCA\n",
        "from sklearn.decomposition import PCA\n",
        "num_features = 5\n",
        "pca = PCA(n_components=num_features)\n",
        "pca.fit(X)\n",
        "\n",
        "print(pca.explained_variance_ratio_.sum())\n",
        "print()"
      ],
      "execution_count": 96,
      "outputs": [
        {
          "output_type": "stream",
          "text": [
            "[-8.78743718e-17 -6.34319123e-16 -2.68291099e-15  4.70199198e-16\n",
            "  2.49032240e-15 -1.14523016e-14 -1.40785495e-15  9.21090169e-16\n",
            "  5.44140929e-16 -8.86861950e-16 -9.20563581e-15  8.16310129e-15\n",
            " -3.37016317e-16]\n",
            "\n",
            "[1. 1. 1. 1. 1. 1. 1. 1. 1. 1. 1. 1. 1.]\n",
            "\n",
            "0.8073178205045917\n",
            "\n"
          ],
          "name": "stdout"
        }
      ]
    }
  ]
}